{
 "cells": [
  {
   "cell_type": "markdown",
   "metadata": {},
   "source": [
    "# DATASET"
   ]
  },
  {
   "cell_type": "code",
   "execution_count": 1,
   "metadata": {},
   "outputs": [],
   "source": [
    "from monty.serialization import loadfn, MontyDecoder,MontyEncoder\n",
    "import matplotlib.pyplot as plt\n",
    "plt.switch_backend('agg')\n",
    "import json,math,os\n",
    "import numpy as np\n",
    "import pandas as pd\n",
    "import pprint"
   ]
  },
  {
   "cell_type": "code",
   "execution_count": 2,
   "metadata": {},
   "outputs": [],
   "source": [
    "dat_3d = loadfn('jdft_3d-12-12-2022.json',cls=MontyDecoder)"
   ]
  },
  {
   "cell_type": "code",
   "execution_count": 3,
   "metadata": {},
   "outputs": [
    {
     "name": "stdout",
     "output_type": "stream",
     "text": [
      "75993\n"
     ]
    }
   ],
   "source": [
    "print(len(dat_3d))"
   ]
  },
  {
   "cell_type": "code",
   "execution_count": 4,
   "metadata": {},
   "outputs": [
    {
     "data": {
      "text/plain": [
       "{'jid': 'JVASP-90856',\n",
       " 'spg_number': '129',\n",
       " 'spg_symbol': 'P4/nmm',\n",
       " 'formula': 'TiCuSiAs',\n",
       " 'formation_energy_peratom': -0.42762,\n",
       " 'func': 'OptB88vdW',\n",
       " 'optb88vdw_bandgap': 0.0,\n",
       " 'atoms': {'lattice_mat': [[3.566933224304235, 0.0, -0.0],\n",
       "   [0.0, 3.566933224304235, -0.0],\n",
       "   [-0.0, -0.0, 9.397075454186664]],\n",
       "  'coords': [[2.6751975000000003, 2.6751975000000003, 7.376101754328542],\n",
       "   [0.8917325, 0.8917325, 2.0209782456714573],\n",
       "   [0.8917325, 2.6751975000000003, 4.69854],\n",
       "   [2.6751975000000003, 0.8917325, 4.69854],\n",
       "   [0.8917325, 2.6751975000000003, 0.0],\n",
       "   [2.6751975000000003, 0.8917325, 0.0],\n",
       "   [2.6751975000000003, 2.6751975000000003, 2.8894795605846353],\n",
       "   [0.8917325, 0.8917325, 6.507600439415366]],\n",
       "  'elements': ['Ti', 'Ti', 'Cu', 'Cu', 'Si', 'Si', 'As', 'As'],\n",
       "  'abc': [3.56693, 3.56693, 9.39708],\n",
       "  'angles': [90.0, 90.0, 90.0],\n",
       "  'cartesian': True,\n",
       "  'props': ['', '', '', '', '', '', '', '']},\n",
       " 'slme': 'na',\n",
       " 'magmom_oszicar': 0.0,\n",
       " 'spillage': 'na',\n",
       " 'elastic_tensor': 'na',\n",
       " 'effective_masses_300K': {'p': 'na', 'n': 'na'},\n",
       " 'kpoint_length_unit': 60,\n",
       " 'maxdiff_mesh': 'na',\n",
       " 'maxdiff_bz': 'na',\n",
       " 'encut': 650,\n",
       " 'optb88vdw_total_energy': -3.37474,\n",
       " 'epsx': 76.23,\n",
       " 'epsy': 76.23,\n",
       " 'epsz': 54.0402,\n",
       " 'mepsx': 'na',\n",
       " 'mepsy': 'na',\n",
       " 'mepsz': 'na',\n",
       " 'modes': 'na',\n",
       " 'magmom_outcar': 0.0,\n",
       " 'max_efg': 'na',\n",
       " 'avg_elec_mass': 'na',\n",
       " 'avg_hole_mass': 'na',\n",
       " 'icsd': '',\n",
       " 'dfpt_piezo_max_eij': 'na',\n",
       " 'dfpt_piezo_max_dij': 'na',\n",
       " 'dfpt_piezo_max_dielectric': 'na',\n",
       " 'dfpt_piezo_max_dielectric_electronic': 'na',\n",
       " 'dfpt_piezo_max_dielectric_ionic': 'na',\n",
       " 'max_ir_mode': 'na',\n",
       " 'min_ir_mode': 'na',\n",
       " 'n-Seebeck': 'na',\n",
       " 'p-Seebeck': 'na',\n",
       " 'n-powerfact': 'na',\n",
       " 'p-powerfact': 'na',\n",
       " 'ncond': 'na',\n",
       " 'pcond': 'na',\n",
       " 'nkappa': 'na',\n",
       " 'pkappa': 'na',\n",
       " 'ehull': 0.0423,\n",
       " 'Tc_supercon': 'na',\n",
       " 'dimensionality': '3D-bulk',\n",
       " 'efg': [],\n",
       " 'xml_data_link': \"<a href=https://www.ctcms.nist.gov/~knc6/static/JARVIS-DFT/JVASP-90856.xml target='_blank' >JVASP-90856</a>\",\n",
       " 'typ': 'bulk',\n",
       " 'exfoliation_energy': 'na',\n",
       " 'spg': '129',\n",
       " 'crys': 'tetragonal',\n",
       " 'density': 5.956,\n",
       " 'poisson': 'na',\n",
       " 'raw_files': [],\n",
       " 'nat': 8,\n",
       " 'bulk_modulus_kv': 'na',\n",
       " 'shear_modulus_gv': 'na',\n",
       " 'mbj_bandgap': 'na',\n",
       " 'hse_gap': 'na',\n",
       " 'reference': 'mp-1080455',\n",
       " 'search': '-As-Cu-Si-Ti'}"
      ]
     },
     "execution_count": 4,
     "metadata": {},
     "output_type": "execute_result"
    }
   ],
   "source": [
    "dat_3d[0]"
   ]
  },
  {
   "cell_type": "markdown",
   "metadata": {},
   "source": [
    "\n",
    "\n",
    "**form_enp**: formation energy per atom (eV/atom),\n",
    "\n",
    "**op_gap**  : OptB88vdW functional based bandgap (eV),\n",
    "\n",
    "**mbj_ga**p : TBmBJ functional based bandgap (eV),\n",
    "\n",
    "**kv**      : Voigt bulk mod. (GPa),\n",
    "\n",
    "**gv**      : Shear bulk mod. (GPa),\n",
    "\n",
    "**elastic** : elastic tensor instring format, use the function 'get_et' to convert into pymatgen elastictensor object,\n",
    "\n",
    "**epsx**    : Static dielctric function value in x-direction based on OptB88vdW (no unit),\n",
    "\n",
    "**mepsx**   : Static dielctric function value in x-direction based on TBmBJ (no unit),\n",
    "\n",
    "**magmom**  : Magnetic moment (Bohr magneton) (from OUTCAR and from OSZICAR), generally OSZICAR value is preferred, no DFT+U,\n",
    "\n",
    "**kp_len**  : Kpoint automatic line density obtained after automatic convergence (Angstrom), substract 25 because 5 extra points,\n",
    "\n",
    "**encut**   : Plane wave cut-off value obtained after automatic convergence,\n",
    "\n",
    "**exfoliation_en**: exfoliation energy,\n",
    "\n",
    "**phi**     : 2D work-function related values,\n",
    "\n",
    "**final_str**: final structure after relaxation with OptB88vdW,\n",
    "\n",
    "**eff_mass**: effective mass with BoltzTrap at 300K,\n",
    "\n",
    "**spillage**: spin-orbit spillage as measure of band-inversion.\n",
    "Here 'na' signifies non-available data# Each element in the data is a key-value pair based dictionary.\n",
    "\n",
    "\n"
   ]
  },
  {
   "cell_type": "code",
   "execution_count": 5,
   "metadata": {},
   "outputs": [],
   "source": [
    "jid, formula, ehull, optb88vdw_bandgap, atoms, url =[],[],[],[],[],[]\n",
    "\n",
    "for idx,i in enumerate(dat_3d):\n",
    "    if idx<7000:\n",
    "      jid.append(i['jid'])\n",
    "      formula.append(i['formula'])\n",
    "      ehull.append(float(i['ehull']))\n",
    "      optb88vdw_bandgap.append(float(i['optb88vdw_bandgap']))\n",
    "      atoms.append(i['atoms'])\n",
    "      url.append(str(\"https://www.ctcms.nist.gov/~knc6/jsmol/\")+str(i['jid'])+str(\".html\"))"
   ]
  },
  {
   "cell_type": "code",
   "execution_count": 6,
   "metadata": {},
   "outputs": [],
   "source": [
    "df = pd.DataFrame([jid, formula, ehull, optb88vdw_bandgap, atoms, url])\n",
    "df = df.transpose()\n",
    "headers = ['jid', 'formula', 'ehull', 'optb88vdw_bandgap', 'atoms', 'url']\n",
    "df.columns = headers"
   ]
  },
  {
   "cell_type": "code",
   "execution_count": 7,
   "metadata": {},
   "outputs": [
    {
     "data": {
      "text/html": [
       "<div>\n",
       "<style scoped>\n",
       "    .dataframe tbody tr th:only-of-type {\n",
       "        vertical-align: middle;\n",
       "    }\n",
       "\n",
       "    .dataframe tbody tr th {\n",
       "        vertical-align: top;\n",
       "    }\n",
       "\n",
       "    .dataframe thead th {\n",
       "        text-align: right;\n",
       "    }\n",
       "</style>\n",
       "<table border=\"1\" class=\"dataframe\">\n",
       "  <thead>\n",
       "    <tr style=\"text-align: right;\">\n",
       "      <th></th>\n",
       "      <th>jid</th>\n",
       "      <th>formula</th>\n",
       "      <th>ehull</th>\n",
       "      <th>optb88vdw_bandgap</th>\n",
       "      <th>atoms</th>\n",
       "      <th>url</th>\n",
       "    </tr>\n",
       "  </thead>\n",
       "  <tbody>\n",
       "    <tr>\n",
       "      <th>0</th>\n",
       "      <td>JVASP-90856</td>\n",
       "      <td>TiCuSiAs</td>\n",
       "      <td>0.0423</td>\n",
       "      <td>0.0</td>\n",
       "      <td>{'lattice_mat': [[3.566933224304235, 0.0, -0.0...</td>\n",
       "      <td>https://www.ctcms.nist.gov/~knc6/jsmol/JVASP-9...</td>\n",
       "    </tr>\n",
       "    <tr>\n",
       "      <th>1</th>\n",
       "      <td>JVASP-86097</td>\n",
       "      <td>DyB6</td>\n",
       "      <td>0.0456</td>\n",
       "      <td>0.0</td>\n",
       "      <td>{'lattice_mat': [[4.089078911208881, 0.0, 0.0]...</td>\n",
       "      <td>https://www.ctcms.nist.gov/~knc6/jsmol/JVASP-8...</td>\n",
       "    </tr>\n",
       "    <tr>\n",
       "      <th>2</th>\n",
       "      <td>JVASP-64906</td>\n",
       "      <td>Be2OsRu</td>\n",
       "      <td>0.3183</td>\n",
       "      <td>0.0</td>\n",
       "      <td>{'lattice_mat': [[-1.833590720595598, 1.833590...</td>\n",
       "      <td>https://www.ctcms.nist.gov/~knc6/jsmol/JVASP-6...</td>\n",
       "    </tr>\n",
       "    <tr>\n",
       "      <th>3</th>\n",
       "      <td>JVASP-98225</td>\n",
       "      <td>KBi</td>\n",
       "      <td>0.0</td>\n",
       "      <td>0.472</td>\n",
       "      <td>{'lattice_mat': [[7.2963518353359165, 0.0, 0.0...</td>\n",
       "      <td>https://www.ctcms.nist.gov/~knc6/jsmol/JVASP-9...</td>\n",
       "    </tr>\n",
       "    <tr>\n",
       "      <th>4</th>\n",
       "      <td>JVASP-10</td>\n",
       "      <td>VSe2</td>\n",
       "      <td>0.0156</td>\n",
       "      <td>0.0</td>\n",
       "      <td>{'lattice_mat': [[1.6777483798834445, -2.90594...</td>\n",
       "      <td>https://www.ctcms.nist.gov/~knc6/jsmol/JVASP-1...</td>\n",
       "    </tr>\n",
       "  </tbody>\n",
       "</table>\n",
       "</div>"
      ],
      "text/plain": [
       "           jid   formula   ehull optb88vdw_bandgap  \\\n",
       "0  JVASP-90856  TiCuSiAs  0.0423               0.0   \n",
       "1  JVASP-86097      DyB6  0.0456               0.0   \n",
       "2  JVASP-64906   Be2OsRu  0.3183               0.0   \n",
       "3  JVASP-98225       KBi     0.0             0.472   \n",
       "4     JVASP-10      VSe2  0.0156               0.0   \n",
       "\n",
       "                                               atoms  \\\n",
       "0  {'lattice_mat': [[3.566933224304235, 0.0, -0.0...   \n",
       "1  {'lattice_mat': [[4.089078911208881, 0.0, 0.0]...   \n",
       "2  {'lattice_mat': [[-1.833590720595598, 1.833590...   \n",
       "3  {'lattice_mat': [[7.2963518353359165, 0.0, 0.0...   \n",
       "4  {'lattice_mat': [[1.6777483798834445, -2.90594...   \n",
       "\n",
       "                                                 url  \n",
       "0  https://www.ctcms.nist.gov/~knc6/jsmol/JVASP-9...  \n",
       "1  https://www.ctcms.nist.gov/~knc6/jsmol/JVASP-8...  \n",
       "2  https://www.ctcms.nist.gov/~knc6/jsmol/JVASP-6...  \n",
       "3  https://www.ctcms.nist.gov/~knc6/jsmol/JVASP-9...  \n",
       "4  https://www.ctcms.nist.gov/~knc6/jsmol/JVASP-1...  "
      ]
     },
     "execution_count": 7,
     "metadata": {},
     "output_type": "execute_result"
    }
   ],
   "source": [
    "df.head()"
   ]
  },
  {
   "cell_type": "code",
   "execution_count": 8,
   "metadata": {},
   "outputs": [
    {
     "data": {
      "text/html": [
       "<div>\n",
       "<style scoped>\n",
       "    .dataframe tbody tr th:only-of-type {\n",
       "        vertical-align: middle;\n",
       "    }\n",
       "\n",
       "    .dataframe tbody tr th {\n",
       "        vertical-align: top;\n",
       "    }\n",
       "\n",
       "    .dataframe thead th {\n",
       "        text-align: right;\n",
       "    }\n",
       "</style>\n",
       "<table border=\"1\" class=\"dataframe\">\n",
       "  <thead>\n",
       "    <tr style=\"text-align: right;\">\n",
       "      <th></th>\n",
       "      <th>jid</th>\n",
       "      <th>formula</th>\n",
       "      <th>ehull</th>\n",
       "      <th>optb88vdw_bandgap</th>\n",
       "      <th>atoms</th>\n",
       "      <th>url</th>\n",
       "    </tr>\n",
       "  </thead>\n",
       "  <tbody>\n",
       "    <tr>\n",
       "      <th>0</th>\n",
       "      <td>JVASP-90856</td>\n",
       "      <td>TiCuSiAs</td>\n",
       "      <td>-0.617188</td>\n",
       "      <td>-0.445312</td>\n",
       "      <td>{'lattice_mat': [[3.566933224304235, 0.0, -0.0...</td>\n",
       "      <td>https://www.ctcms.nist.gov/~knc6/jsmol/JVASP-9...</td>\n",
       "    </tr>\n",
       "    <tr>\n",
       "      <th>1</th>\n",
       "      <td>JVASP-86097</td>\n",
       "      <td>DyB6</td>\n",
       "      <td>-0.609863</td>\n",
       "      <td>-0.445312</td>\n",
       "      <td>{'lattice_mat': [[4.089078911208881, 0.0, 0.0]...</td>\n",
       "      <td>https://www.ctcms.nist.gov/~knc6/jsmol/JVASP-8...</td>\n",
       "    </tr>\n",
       "    <tr>\n",
       "      <th>2</th>\n",
       "      <td>JVASP-64906</td>\n",
       "      <td>Be2OsRu</td>\n",
       "      <td>-0.032471</td>\n",
       "      <td>-0.445312</td>\n",
       "      <td>{'lattice_mat': [[-1.833590720595598, 1.833590...</td>\n",
       "      <td>https://www.ctcms.nist.gov/~knc6/jsmol/JVASP-6...</td>\n",
       "    </tr>\n",
       "    <tr>\n",
       "      <th>3</th>\n",
       "      <td>JVASP-98225</td>\n",
       "      <td>KBi</td>\n",
       "      <td>-0.706543</td>\n",
       "      <td>-0.103760</td>\n",
       "      <td>{'lattice_mat': [[7.2963518353359165, 0.0, 0.0...</td>\n",
       "      <td>https://www.ctcms.nist.gov/~knc6/jsmol/JVASP-9...</td>\n",
       "    </tr>\n",
       "    <tr>\n",
       "      <th>4</th>\n",
       "      <td>JVASP-10</td>\n",
       "      <td>VSe2</td>\n",
       "      <td>-0.673340</td>\n",
       "      <td>-0.445312</td>\n",
       "      <td>{'lattice_mat': [[1.6777483798834445, -2.90594...</td>\n",
       "      <td>https://www.ctcms.nist.gov/~knc6/jsmol/JVASP-1...</td>\n",
       "    </tr>\n",
       "  </tbody>\n",
       "</table>\n",
       "</div>"
      ],
      "text/plain": [
       "           jid   formula     ehull  optb88vdw_bandgap  \\\n",
       "0  JVASP-90856  TiCuSiAs -0.617188          -0.445312   \n",
       "1  JVASP-86097      DyB6 -0.609863          -0.445312   \n",
       "2  JVASP-64906   Be2OsRu -0.032471          -0.445312   \n",
       "3  JVASP-98225       KBi -0.706543          -0.103760   \n",
       "4     JVASP-10      VSe2 -0.673340          -0.445312   \n",
       "\n",
       "                                               atoms  \\\n",
       "0  {'lattice_mat': [[3.566933224304235, 0.0, -0.0...   \n",
       "1  {'lattice_mat': [[4.089078911208881, 0.0, 0.0]...   \n",
       "2  {'lattice_mat': [[-1.833590720595598, 1.833590...   \n",
       "3  {'lattice_mat': [[7.2963518353359165, 0.0, 0.0...   \n",
       "4  {'lattice_mat': [[1.6777483798834445, -2.90594...   \n",
       "\n",
       "                                                 url  \n",
       "0  https://www.ctcms.nist.gov/~knc6/jsmol/JVASP-9...  \n",
       "1  https://www.ctcms.nist.gov/~knc6/jsmol/JVASP-8...  \n",
       "2  https://www.ctcms.nist.gov/~knc6/jsmol/JVASP-6...  \n",
       "3  https://www.ctcms.nist.gov/~knc6/jsmol/JVASP-9...  \n",
       "4  https://www.ctcms.nist.gov/~knc6/jsmol/JVASP-1...  "
      ]
     },
     "execution_count": 8,
     "metadata": {},
     "output_type": "execute_result"
    }
   ],
   "source": [
    "from sklearn.preprocessing import StandardScaler\n",
    "\n",
    "cols = ['jid','formula','atoms','url']\n",
    "\n",
    "def clean_data(df,cols):\n",
    "    df_dropped = df.drop(columns=cols).astype('float16')\n",
    "    scaler = StandardScaler()\n",
    "    standard = scaler.fit_transform(df_dropped)\n",
    "    df_std = pd.DataFrame(standard, columns = df_dropped.columns, index= df_dropped.index )\n",
    "    return df_std, scaler.mean_, scaler.scale_\n",
    "\n",
    "df_clean, mean, scale = clean_data(df.copy(),cols)\n",
    "df_non_numeric = df[cols]  \n",
    "df_final = pd.concat([df_clean, df_non_numeric], axis=1)\n",
    "\n",
    "df_final = df_final[df.columns]\n",
    "df_final.head()"
   ]
  },
  {
   "cell_type": "code",
   "execution_count": 9,
   "metadata": {},
   "outputs": [
    {
     "name": "stdout",
     "output_type": "stream",
     "text": [
      "ehull - Skewness: 0.6491199223703258, Kurtosis: -1.0354592591748184\n"
     ]
    },
    {
     "data": {
      "image/png": "[encoded data removed]",
      "text/plain": [
       "<Figure size 800x400 with 1 Axes>"
      ]
     },
     "metadata": {},
     "output_type": "display_data"
    },
    {
     "name": "stdout",
     "output_type": "stream",
     "text": [
      "optb88vdw_bandgap - Skewness: 1.762853137027173, Kurtosis: 1.6699896218554953\n"
     ]
    },
    {
     "data": {
      "image/png": "[encoded data removed]",
      "text/plain": [
       "<Figure size 800x400 with 1 Axes>"
      ]
     },
     "metadata": {},
     "output_type": "display_data"
    }
   ],
   "source": [
    "import seaborn as sns\n",
    "%matplotlib inline\n",
    "import matplotlib.pyplot as plt\n",
    "from scipy.stats import skew, kurtosis\n",
    "\n",
    "for column in df_final[[\"ehull\",\"optb88vdw_bandgap\"]]:\n",
    "    col_kurtosis = kurtosis(np.log1p(df_final[column]))\n",
    "    col_skew = skew(np.log1p(df_final[column]))\n",
    "    print(f\"{column} - Skewness: {col_skew}, Kurtosis: {col_kurtosis}\")\n",
    "\n",
    "    plt.figure(figsize=[8,4])\n",
    "    sns.violinplot(x=np.log1p(df_final[column]))\n",
    "    plt.title(f'Violin plot of {column}')\n",
    "    plt.xlabel(column)\n",
    "    plt.show()\n",
    "\n"
   ]
  },
  {
   "cell_type": "markdown",
   "metadata": {},
   "source": [
    "## atoms to graphs"
   ]
  },
  {
   "cell_type": "code",
   "execution_count": 10,
   "metadata": {},
   "outputs": [
    {
     "name": "stdout",
     "output_type": "stream",
     "text": [
      "System\n",
      "1.0\n",
      "3.566933224304235 0.0 -0.0\n",
      "0.0 3.566933224304235 -0.0\n",
      "-0.0 -0.0 9.397075454186664\n",
      "Ti Cu Si As \n",
      "2 2 2 2 \n",
      "direct\n",
      "0.7500000000000001 0.7500000000000001 0.784935507022239 Ti\n",
      "0.25 0.25 0.2150644929777609 Ti\n",
      "0.25 0.7500000000000001 0.5 Cu\n",
      "0.7500000000000001 0.25 0.5 Cu\n",
      "0.25 0.7500000000000001 0.0 Si\n",
      "0.7500000000000001 0.25 0.0 Si\n",
      "0.7500000000000001 0.7500000000000001 0.3074869598412097 As\n",
      "0.25 0.25 0.6925130401587904 As\n",
      "\n"
     ]
    }
   ],
   "source": [
    "from jarvis.core.atoms import Atoms\n",
    "a = Atoms.from_dict(df_final[\"atoms\"][0])\n",
    "print(a)"
   ]
  },
  {
   "cell_type": "code",
   "execution_count": 11,
   "metadata": {},
   "outputs": [
    {
     "data": {
      "text/plain": [
       "(2.9000000000000004,\n",
       " 3.4000000000000004,\n",
       " array([list([[0, 0, 3.566933224304235, (-1.0, 0.0, 0.0)], [0, 3, 4.80344636496686, (-1.0, 0.0, 0.0)], [0, 5, 4.470804707028549, (-1.0, 0.0, 1.0)], [0, 3, 4.803447562115282, (-1.0, 1.0, 0.0)], [0, 5, 4.470805993248481, (-1.0, 1.0, 1.0)], [0, 0, 3.566933224304235, (0.0, -1.0, 0.0)], [0, 2, 4.80344636496686, (0.0, -1.0, 0.0)], [0, 4, 4.470804707028549, (0.0, -1.0, 1.0)], [0, 2, 3.217154698560195, (0.0, 0.0, 0.0)], [0, 3, 3.217154698560195, (0.0, 0.0, 0.0)], [0, 6, 4.486622193743907, (0.0, 0.0, 0.0)], [0, 7, 2.667543691573939, (0.0, 0.0, 0.0)], [0, 1, 4.764333147715466, (0.0, 0.0, 1.0)], [0, 4, 2.695381624509455, (0.0, 0.0, 1.0)], [0, 5, 2.695381624509455, (0.0, 0.0, 1.0)], [0, 6, 4.910453260442757, (0.0, 0.0, 1.0)], [0, 0, 3.5669332243042353, (0.0, 1.0, 0.0)], [0, 2, 4.80344636496686, (0.0, 1.0, 0.0)], [0, 3, 3.217156485989738, (0.0, 1.0, 0.0)], [0, 7, 2.6675458472786957, (0.0, 1.0, 0.0)], [0, 1, 4.764334354691981, (0.0, 1.0, 1.0)], [0, 4, 4.47080470702855, (0.0, 1.0, 1.0)], [0, 5, 2.695383757950086, (0.0, 1.0, 1.0)], [0, 2, 4.803447562115282, (1.0, -1.0, 0.0)], [0, 4, 4.470805993248481, (1.0, -1.0, 1.0)], [0, 0, 3.5669332243042353, (1.0, 0.0, 0.0)], [0, 2, 3.217156485989738, (1.0, 0.0, 0.0)], [0, 3, 4.80344636496686, (1.0, 0.0, 0.0)], [0, 7, 2.6675458472786957, (1.0, 0.0, 0.0)], [0, 1, 4.764334354691981, (1.0, 0.0, 1.0)], [0, 4, 2.695383757950086, (1.0, 0.0, 1.0)], [0, 5, 4.47080470702855, (1.0, 0.0, 1.0)], [0, 2, 4.803447562115283, (1.0, 1.0, 0.0)], [0, 3, 4.803447562115283, (1.0, 1.0, 0.0)], [0, 7, 2.6675480029817114, (1.0, 1.0, 0.0)], [0, 1, 4.764335561668191, (1.0, 1.0, 1.0)], [0, 4, 4.470805993248481, (1.0, 1.0, 1.0)], [0, 5, 4.470805993248481, (1.0, 1.0, 1.0)]]),\n",
       "        list([[1, 0, 4.76433556166819, (-1.0, -1.0, -1.0)], [1, 2, 4.803447562115283, (-1.0, -1.0, 0.0)], [1, 3, 4.803447562115283, (-1.0, -1.0, 0.0)], [1, 4, 4.470808048130179, (-1.0, -1.0, 0.0)], [1, 5, 4.470808048130179, (-1.0, -1.0, 0.0)], [1, 6, 2.667548002981712, (-1.0, -1.0, 0.0)], [1, 0, 4.7643343546919805, (-1.0, 0.0, -1.0)], [1, 1, 3.5669332243042344, (-1.0, 0.0, 0.0)], [1, 2, 4.80344636496686, (-1.0, 0.0, 0.0)], [1, 3, 3.217156485989739, (-1.0, 0.0, 0.0)], [1, 4, 4.470806761910839, (-1.0, 0.0, 0.0)], [1, 5, 2.6953871663603692, (-1.0, 0.0, 0.0)], [1, 6, 2.6675458472786966, (-1.0, 0.0, 0.0)], [1, 3, 4.803447562115283, (-1.0, 1.0, 0.0)], [1, 5, 4.47080804813018, (-1.0, 1.0, 0.0)], [1, 0, 4.7643343546919805, (0.0, -1.0, -1.0)], [1, 1, 3.5669332243042344, (0.0, -1.0, 0.0)], [1, 2, 3.217156485989739, (0.0, -1.0, 0.0)], [1, 3, 4.80344636496686, (0.0, -1.0, 0.0)], [1, 4, 2.6953871663603692, (0.0, -1.0, 0.0)], [1, 5, 4.470806761910839, (0.0, -1.0, 0.0)], [1, 6, 2.6675458472786966, (0.0, -1.0, 0.0)], [1, 0, 4.7643331477154645, (0.0, 0.0, -1.0)], [1, 7, 4.910453260442756, (0.0, 0.0, -1.0)], [1, 2, 3.217154698560196, (0.0, 0.0, 0.0)], [1, 3, 3.217154698560196, (0.0, 0.0, 0.0)], [1, 4, 2.695385032922436, (0.0, 0.0, 0.0)], [1, 5, 2.695385032922436, (0.0, 0.0, 0.0)], [1, 6, 2.6675436915739397, (0.0, 0.0, 0.0)], [1, 7, 4.486622193743909, (0.0, 0.0, 0.0)], [1, 1, 3.5669332243042353, (0.0, 1.0, 0.0)], [1, 3, 4.803446364966861, (0.0, 1.0, 0.0)], [1, 5, 4.47080676191084, (0.0, 1.0, 0.0)], [1, 2, 4.803447562115283, (1.0, -1.0, 0.0)], [1, 4, 4.47080804813018, (1.0, -1.0, 0.0)], [1, 1, 3.5669332243042353, (1.0, 0.0, 0.0)], [1, 2, 4.803446364966861, (1.0, 0.0, 0.0)], [1, 4, 4.47080676191084, (1.0, 0.0, 0.0)]]),\n",
       "        list([[2, 0, 4.803447562115282, (-1.0, -1.0, 0.0)], [2, 6, 4.3790947931286, (-1.0, -1.0, 0.0)], [2, 0, 3.217156485989738, (-1.0, 0.0, 0.0)], [2, 1, 4.80344636496686, (-1.0, 0.0, 0.0)], [2, 2, 3.5669332243042344, (-1.0, 0.0, 0.0)], [2, 3, 2.5222026709461516, (-1.0, 0.0, 0.0)], [2, 6, 2.540365835969421, (-1.0, 0.0, 0.0)], [2, 7, 4.37909347997141, (-1.0, 0.0, 0.0)], [2, 0, 4.803447562115283, (-1.0, 1.0, 0.0)], [2, 1, 4.803447562115283, (-1.0, 1.0, 0.0)], [2, 3, 2.52220495087251, (-1.0, 1.0, 0.0)], [2, 6, 4.3790947931286, (-1.0, 1.0, 0.0)], [2, 7, 4.3790947931286, (-1.0, 1.0, 0.0)], [2, 0, 4.80344636496686, (0.0, -1.0, 0.0)], [2, 2, 3.566933224304235, (0.0, -1.0, 0.0)], [2, 6, 4.37909347997141, (0.0, -1.0, 0.0)], [2, 0, 3.217154698560195, (0.0, 0.0, 0.0)], [2, 1, 3.217154698560196, (0.0, 0.0, 0.0)], [2, 3, 2.522200391017732, (0.0, 0.0, 0.0)], [2, 4, 4.69854, (0.0, 0.0, 0.0)], [2, 6, 2.5403635723420996, (0.0, 0.0, 0.0)], [2, 7, 2.5403635723421005, (0.0, 0.0, 0.0)], [2, 4, 4.698535454186664, (0.0, 0.0, 1.0)], [2, 0, 4.80344636496686, (0.0, 1.0, 0.0)], [2, 1, 3.217156485989739, (0.0, 1.0, 0.0)], [2, 2, 3.5669332243042353, (0.0, 1.0, 0.0)], [2, 3, 2.5222026709461516, (0.0, 1.0, 0.0)], [2, 6, 4.379093479971411, (0.0, 1.0, 0.0)], [2, 7, 2.5403658359694217, (0.0, 1.0, 0.0)], [2, 1, 4.803446364966861, (1.0, 0.0, 0.0)], [2, 2, 3.5669332243042353, (1.0, 0.0, 0.0)], [2, 7, 4.379093479971411, (1.0, 0.0, 0.0)], [2, 1, 4.803447562115283, (1.0, 1.0, 0.0)], [2, 7, 4.379094793128601, (1.0, 1.0, 0.0)]]),\n",
       "        list([[3, 0, 4.803447562115282, (-1.0, -1.0, 0.0)], [3, 6, 4.3790947931286, (-1.0, -1.0, 0.0)], [3, 0, 4.80344636496686, (-1.0, 0.0, 0.0)], [3, 3, 3.566933224304235, (-1.0, 0.0, 0.0)], [3, 6, 4.37909347997141, (-1.0, 0.0, 0.0)], [3, 0, 3.217156485989738, (0.0, -1.0, 0.0)], [3, 1, 4.80344636496686, (0.0, -1.0, 0.0)], [3, 2, 2.5222026709461516, (0.0, -1.0, 0.0)], [3, 3, 3.5669332243042344, (0.0, -1.0, 0.0)], [3, 6, 2.540365835969421, (0.0, -1.0, 0.0)], [3, 7, 4.37909347997141, (0.0, -1.0, 0.0)], [3, 0, 3.217154698560195, (0.0, 0.0, 0.0)], [3, 1, 3.217154698560196, (0.0, 0.0, 0.0)], [3, 2, 2.522200391017732, (0.0, 0.0, 0.0)], [3, 5, 4.69854, (0.0, 0.0, 0.0)], [3, 6, 2.5403635723420996, (0.0, 0.0, 0.0)], [3, 7, 2.5403635723421005, (0.0, 0.0, 0.0)], [3, 5, 4.698535454186664, (0.0, 0.0, 1.0)], [3, 1, 4.803446364966861, (0.0, 1.0, 0.0)], [3, 3, 3.5669332243042353, (0.0, 1.0, 0.0)], [3, 7, 4.379093479971411, (0.0, 1.0, 0.0)], [3, 0, 4.803447562115283, (1.0, -1.0, 0.0)], [3, 1, 4.803447562115283, (1.0, -1.0, 0.0)], [3, 2, 2.52220495087251, (1.0, -1.0, 0.0)], [3, 6, 4.3790947931286, (1.0, -1.0, 0.0)], [3, 7, 4.3790947931286, (1.0, -1.0, 0.0)], [3, 0, 4.80344636496686, (1.0, 0.0, 0.0)], [3, 1, 3.217156485989739, (1.0, 0.0, 0.0)], [3, 2, 2.5222026709461516, (1.0, 0.0, 0.0)], [3, 3, 3.5669332243042353, (1.0, 0.0, 0.0)], [3, 6, 4.379093479971411, (1.0, 0.0, 0.0)], [3, 7, 2.5403658359694217, (1.0, 0.0, 0.0)], [3, 1, 4.803447562115283, (1.0, 1.0, 0.0)], [3, 7, 4.379094793128601, (1.0, 1.0, 0.0)]]),\n",
       "        list([[4, 0, 4.470805993248481, (-1.0, -1.0, -1.0)], [4, 6, 4.924719653420353, (-1.0, -1.0, 0.0)], [4, 0, 2.695383757950086, (-1.0, 0.0, -1.0)], [4, 7, 4.924715818588723, (-1.0, 0.0, -1.0)], [4, 1, 4.470806761910839, (-1.0, 0.0, 0.0)], [4, 4, 3.5669332243042344, (-1.0, 0.0, 0.0)], [4, 5, 2.5222026709461516, (-1.0, 0.0, 0.0)], [4, 6, 3.3955634345627055, (-1.0, 0.0, 0.0)], [4, 0, 4.470805993248481, (-1.0, 1.0, -1.0)], [4, 7, 4.924716986257778, (-1.0, 1.0, -1.0)], [4, 1, 4.470808048130179, (-1.0, 1.0, 0.0)], [4, 5, 2.52220495087251, (-1.0, 1.0, 0.0)], [4, 6, 4.924719653420353, (-1.0, 1.0, 0.0)], [4, 0, 4.470804707028549, (0.0, -1.0, -1.0)], [4, 4, 3.566933224304235, (0.0, -1.0, 0.0)], [4, 6, 4.92471848575193, (0.0, -1.0, 0.0)], [4, 0, 2.695381624509455, (0.0, 0.0, -1.0)], [4, 2, 4.698535454186664, (0.0, 0.0, -1.0)], [4, 7, 3.395557872752663, (0.0, 0.0, -1.0)], [4, 1, 2.695385032922436, (0.0, 0.0, 0.0)], [4, 2, 4.69854, (0.0, 0.0, 0.0)], [4, 5, 2.522200391017732, (0.0, 0.0, 0.0)], [4, 6, 3.3955617410468886, (0.0, 0.0, 0.0)], [4, 0, 4.47080470702855, (0.0, 1.0, -1.0)], [4, 7, 3.3955595662704097, (0.0, 1.0, -1.0)], [4, 1, 2.6953871663603692, (0.0, 1.0, 0.0)], [4, 4, 3.5669332243042353, (0.0, 1.0, 0.0)], [4, 5, 2.5222026709461516, (0.0, 1.0, 0.0)], [4, 6, 4.924718485751931, (0.0, 1.0, 0.0)], [4, 7, 4.924715818588724, (1.0, 0.0, -1.0)], [4, 1, 4.47080676191084, (1.0, 0.0, 0.0)], [4, 4, 3.5669332243042353, (1.0, 0.0, 0.0)], [4, 7, 4.924716986257779, (1.0, 1.0, -1.0)], [4, 1, 4.47080804813018, (1.0, 1.0, 0.0)]]),\n",
       "        list([[5, 0, 4.470805993248481, (-1.0, -1.0, -1.0)], [5, 6, 4.924719653420353, (-1.0, -1.0, 0.0)], [5, 0, 4.470804707028549, (-1.0, 0.0, -1.0)], [5, 5, 3.566933224304235, (-1.0, 0.0, 0.0)], [5, 6, 4.92471848575193, (-1.0, 0.0, 0.0)], [5, 0, 2.695383757950086, (0.0, -1.0, -1.0)], [5, 7, 4.924715818588723, (0.0, -1.0, -1.0)], [5, 1, 4.470806761910839, (0.0, -1.0, 0.0)], [5, 4, 2.5222026709461516, (0.0, -1.0, 0.0)], [5, 5, 3.5669332243042344, (0.0, -1.0, 0.0)], [5, 6, 3.3955634345627055, (0.0, -1.0, 0.0)], [5, 0, 2.695381624509455, (0.0, 0.0, -1.0)], [5, 3, 4.698535454186664, (0.0, 0.0, -1.0)], [5, 7, 3.395557872752663, (0.0, 0.0, -1.0)], [5, 1, 2.695385032922436, (0.0, 0.0, 0.0)], [5, 3, 4.69854, (0.0, 0.0, 0.0)], [5, 4, 2.522200391017732, (0.0, 0.0, 0.0)], [5, 6, 3.3955617410468886, (0.0, 0.0, 0.0)], [5, 7, 4.924715818588724, (0.0, 1.0, -1.0)], [5, 1, 4.47080676191084, (0.0, 1.0, 0.0)], [5, 5, 3.5669332243042353, (0.0, 1.0, 0.0)], [5, 0, 4.470805993248481, (1.0, -1.0, -1.0)], [5, 7, 4.924716986257778, (1.0, -1.0, -1.0)], [5, 1, 4.470808048130179, (1.0, -1.0, 0.0)], [5, 4, 2.52220495087251, (1.0, -1.0, 0.0)], [5, 6, 4.924719653420353, (1.0, -1.0, 0.0)], [5, 0, 4.47080470702855, (1.0, 0.0, -1.0)], [5, 7, 3.3955595662704097, (1.0, 0.0, -1.0)], [5, 1, 2.6953871663603692, (1.0, 0.0, 0.0)], [5, 4, 2.5222026709461516, (1.0, 0.0, 0.0)], [5, 5, 3.5669332243042353, (1.0, 0.0, 0.0)], [5, 6, 4.924718485751931, (1.0, 0.0, 0.0)], [5, 7, 4.924716986257779, (1.0, 1.0, -1.0)], [5, 1, 4.47080804813018, (1.0, 1.0, 0.0)]]),\n",
       "        list([[6, 3, 4.37909347997141, (-1.0, 0.0, 0.0)], [6, 5, 4.92471848575193, (-1.0, 0.0, 0.0)], [6, 6, 3.566933224304235, (-1.0, 0.0, 0.0)], [6, 3, 4.3790947931286, (-1.0, 1.0, 0.0)], [6, 5, 4.924719653420353, (-1.0, 1.0, 0.0)], [6, 2, 4.37909347997141, (0.0, -1.0, 0.0)], [6, 4, 4.92471848575193, (0.0, -1.0, 0.0)], [6, 6, 3.566933224304235, (0.0, -1.0, 0.0)], [6, 0, 4.9104532604427575, (0.0, 0.0, -1.0)], [6, 0, 4.486622193743907, (0.0, 0.0, 0.0)], [6, 1, 2.6675436915739397, (0.0, 0.0, 0.0)], [6, 2, 2.5403635723420996, (0.0, 0.0, 0.0)], [6, 3, 2.5403635723420996, (0.0, 0.0, 0.0)], [6, 4, 3.3955617410468886, (0.0, 0.0, 0.0)], [6, 5, 3.3955617410468886, (0.0, 0.0, 0.0)], [6, 7, 4.410475428599605, (0.0, 0.0, 0.0)], [6, 1, 2.6675458472786966, (0.0, 1.0, 0.0)], [6, 2, 4.379093479971411, (0.0, 1.0, 0.0)], [6, 3, 2.540365835969421, (0.0, 1.0, 0.0)], [6, 4, 4.924718485751931, (0.0, 1.0, 0.0)], [6, 5, 3.3955634345627055, (0.0, 1.0, 0.0)], [6, 6, 3.5669332243042353, (0.0, 1.0, 0.0)], [6, 7, 4.410476732413262, (0.0, 1.0, 0.0)], [6, 2, 4.3790947931286, (1.0, -1.0, 0.0)], [6, 4, 4.924719653420353, (1.0, -1.0, 0.0)], [6, 1, 2.6675458472786966, (1.0, 0.0, 0.0)], [6, 2, 2.540365835969421, (1.0, 0.0, 0.0)], [6, 3, 4.379093479971411, (1.0, 0.0, 0.0)], [6, 4, 3.3955634345627055, (1.0, 0.0, 0.0)], [6, 5, 4.924718485751931, (1.0, 0.0, 0.0)], [6, 6, 3.5669332243042353, (1.0, 0.0, 0.0)], [6, 7, 4.410476732413262, (1.0, 0.0, 0.0)], [6, 1, 2.6675480029817122, (1.0, 1.0, 0.0)], [6, 2, 4.3790947931286, (1.0, 1.0, 0.0)], [6, 3, 4.3790947931286, (1.0, 1.0, 0.0)], [6, 4, 4.924719653420353, (1.0, 1.0, 0.0)], [6, 5, 4.924719653420353, (1.0, 1.0, 0.0)], [6, 7, 4.410478036226534, (1.0, 1.0, 0.0)]]),\n",
       "        list([[7, 0, 2.667548002981711, (-1.0, -1.0, 0.0)], [7, 2, 4.3790947931286, (-1.0, -1.0, 0.0)], [7, 3, 4.3790947931286, (-1.0, -1.0, 0.0)], [7, 6, 4.410478036226533, (-1.0, -1.0, 0.0)], [7, 4, 4.924716986257778, (-1.0, -1.0, 1.0)], [7, 5, 4.924716986257778, (-1.0, -1.0, 1.0)], [7, 0, 2.6675458472786957, (-1.0, 0.0, 0.0)], [7, 2, 4.37909347997141, (-1.0, 0.0, 0.0)], [7, 3, 2.5403658359694212, (-1.0, 0.0, 0.0)], [7, 6, 4.410476732413262, (-1.0, 0.0, 0.0)], [7, 7, 3.5669332243042344, (-1.0, 0.0, 0.0)], [7, 4, 4.924715818588723, (-1.0, 0.0, 1.0)], [7, 5, 3.3955595662704097, (-1.0, 0.0, 1.0)], [7, 3, 4.379094793128601, (-1.0, 1.0, 0.0)], [7, 5, 4.924716986257779, (-1.0, 1.0, 1.0)], [7, 0, 2.6675458472786957, (0.0, -1.0, 0.0)], [7, 2, 2.5403658359694212, (0.0, -1.0, 0.0)], [7, 3, 4.37909347997141, (0.0, -1.0, 0.0)], [7, 6, 4.410476732413262, (0.0, -1.0, 0.0)], [7, 7, 3.5669332243042344, (0.0, -1.0, 0.0)], [7, 4, 3.3955595662704097, (0.0, -1.0, 1.0)], [7, 5, 4.924715818588723, (0.0, -1.0, 1.0)], [7, 0, 2.667543691573939, (0.0, 0.0, 0.0)], [7, 1, 4.486622193743909, (0.0, 0.0, 0.0)], [7, 2, 2.5403635723421005, (0.0, 0.0, 0.0)], [7, 3, 2.5403635723421005, (0.0, 0.0, 0.0)], [7, 6, 4.410475428599605, (0.0, 0.0, 0.0)], [7, 1, 4.910453260442756, (0.0, 0.0, 1.0)], [7, 4, 3.395557872752663, (0.0, 0.0, 1.0)], [7, 5, 3.395557872752663, (0.0, 0.0, 1.0)], [7, 3, 4.379093479971411, (0.0, 1.0, 0.0)], [7, 7, 3.5669332243042353, (0.0, 1.0, 0.0)], [7, 5, 4.924715818588724, (0.0, 1.0, 1.0)], [7, 2, 4.379094793128601, (1.0, -1.0, 0.0)], [7, 4, 4.924716986257779, (1.0, -1.0, 1.0)], [7, 2, 4.379093479971411, (1.0, 0.0, 0.0)], [7, 7, 3.5669332243042353, (1.0, 0.0, 0.0)], [7, 4, 4.924715818588724, (1.0, 0.0, 1.0)]])],\n",
       "       dtype=object))"
      ]
     },
     "execution_count": 11,
     "metadata": {},
     "output_type": "execute_result"
    }
   ],
   "source": [
    "neigh = a.get_neighbors_cutoffs()\n",
    "neigh"
   ]
  },
  {
   "cell_type": "code",
   "execution_count": null,
   "metadata": {},
   "outputs": [
    {
     "name": "stderr",
     "output_type": "stream",
     "text": [
      "/Users/dariomss/Documents/GitHub/Graph_Project/PyG/lib/python3.9/site-packages/torch_geometric/typing.py:68: UserWarning: An issue occurred while importing 'pyg-lib'. Disabling its usage. Stacktrace: dlopen(/Users/dariomss/Documents/GitHub/Graph_Project/PyG/lib/python3.9/site-packages/libpyg.so, 0x0006): Symbol not found: __ZN2at23SavedTensorDefaultHooks11set_tracingEb\n",
      "  Referenced from: <099A1A6E-770C-3A11-8544-8953391DDF70> /Users/dariomss/Documents/GitHub/Graph_Project/PyG/lib/python3.9/site-packages/libpyg.so\n",
      "  Expected in:     <1D55FADC-C183-3A6D-AF55-078C17E034B1> /Users/dariomss/Documents/GitHub/Graph_Project/PyG/lib/python3.9/site-packages/torch/lib/libtorch_cpu.dylib\n",
      "  warnings.warn(f\"An issue occurred while importing 'pyg-lib'. \"\n",
      "/Users/dariomss/Documents/GitHub/Graph_Project/PyG/lib/python3.9/site-packages/torch_geometric/typing.py:86: UserWarning: An issue occurred while importing 'torch-scatter'. Disabling its usage. Stacktrace: dlopen(/Users/dariomss/Documents/GitHub/Graph_Project/PyG/lib/python3.9/site-packages/torch_scatter/_scatter_cpu.so, 0x0006): Symbol not found: __ZN2at23SavedTensorDefaultHooks11set_tracingEb\n",
      "  Referenced from: <31CBB60F-AF61-3E7E-A4DA-5C1E9773B92B> /Users/dariomss/Documents/GitHub/Graph_Project/PyG/lib/python3.9/site-packages/torch_scatter/_scatter_cpu.so\n",
      "  Expected in:     <1D55FADC-C183-3A6D-AF55-078C17E034B1> /Users/dariomss/Documents/GitHub/Graph_Project/PyG/lib/python3.9/site-packages/torch/lib/libtorch_cpu.dylib\n",
      "  warnings.warn(f\"An issue occurred while importing 'torch-scatter'. \"\n",
      "/Users/dariomss/Documents/GitHub/Graph_Project/PyG/lib/python3.9/site-packages/torch_geometric/typing.py:113: UserWarning: An issue occurred while importing 'torch-spline-conv'. Disabling its usage. Stacktrace: dlopen(/Users/dariomss/Documents/GitHub/Graph_Project/PyG/lib/python3.9/site-packages/torch_spline_conv/_basis_cpu.so, 0x0006): Symbol not found: __ZN2at23SavedTensorDefaultHooks11set_tracingEb\n",
      "  Referenced from: <B1441CC5-881F-3F94-AED8-630AB9DA05DC> /Users/dariomss/Documents/GitHub/Graph_Project/PyG/lib/python3.9/site-packages/torch_spline_conv/_basis_cpu.so\n",
      "  Expected in:     <1D55FADC-C183-3A6D-AF55-078C17E034B1> /Users/dariomss/Documents/GitHub/Graph_Project/PyG/lib/python3.9/site-packages/torch/lib/libtorch_cpu.dylib\n",
      "  warnings.warn(\n",
      "/Users/dariomss/Documents/GitHub/Graph_Project/PyG/lib/python3.9/site-packages/torch_geometric/typing.py:124: UserWarning: An issue occurred while importing 'torch-sparse'. Disabling its usage. Stacktrace: dlopen(/Users/dariomss/Documents/GitHub/Graph_Project/PyG/lib/python3.9/site-packages/torch_sparse/_spmm_cpu.so, 0x0006): Symbol not found: __ZN2at23SavedTensorDefaultHooks11set_tracingEb\n",
      "  Referenced from: <08443D3F-3F6B-30BD-95BA-A66302469AB9> /Users/dariomss/Documents/GitHub/Graph_Project/PyG/lib/python3.9/site-packages/torch_sparse/_spmm_cpu.so\n",
      "  Expected in:     <1D55FADC-C183-3A6D-AF55-078C17E034B1> /Users/dariomss/Documents/GitHub/Graph_Project/PyG/lib/python3.9/site-packages/torch/lib/libtorch_cpu.dylib\n",
      "  warnings.warn(f\"An issue occurred while importing 'torch-sparse'. \"\n"
     ]
    },
    {
     "name": "stdout",
     "output_type": "stream",
     "text": [
      "Skipping row 45 due to no edges.\n",
      "Skipping row 74 due to no edges.\n",
      "Skipping row 164 due to no edges.\n",
      "Skipping row 282 due to no edges.\n",
      "Skipping row 296 due to no edges.\n",
      "Skipping row 339 due to no edges.\n",
      "Skipping row 404 due to no edges.\n",
      "Skipping row 509 due to no edges.\n",
      "Skipping row 516 due to no edges.\n",
      "Skipping row 518 due to no edges.\n",
      "Skipping row 543 due to no edges.\n",
      "Skipping row 641 due to no edges.\n",
      "Skipping row 669 due to no edges.\n",
      "Skipping row 759 due to no edges.\n",
      "Skipping row 827 due to no edges.\n",
      "Skipping row 855 due to no edges.\n",
      "Skipping row 863 due to no edges.\n",
      "Skipping row 913 due to no edges.\n",
      "Skipping row 975 due to no edges.\n",
      "Skipping row 1151 due to no edges.\n",
      "Skipping row 1235 due to no edges.\n",
      "Skipping row 1414 due to no edges.\n",
      "Skipping row 1415 due to no edges.\n",
      "Skipping row 1431 due to no edges.\n",
      "Skipping row 1443 due to no edges.\n",
      "Skipping row 1673 due to no edges.\n",
      "Skipping row 1676 due to no edges.\n",
      "Skipping row 1707 due to no edges.\n",
      "Skipping row 2049 due to no edges.\n",
      "Skipping row 2095 due to no edges.\n",
      "Skipping row 2189 due to no edges.\n",
      "Skipping row 2330 due to no edges.\n",
      "Skipping row 2350 due to no edges.\n",
      "Skipping row 2435 due to no edges.\n",
      "Skipping row 2502 due to no edges.\n",
      "Skipping row 2555 due to no edges.\n",
      "Skipping row 2578 due to no edges.\n",
      "Skipping row 2607 due to no edges.\n",
      "Skipping row 2631 due to no edges.\n",
      "Skipping row 2663 due to no edges.\n",
      "Skipping row 2776 due to no edges.\n",
      "Skipping row 2850 due to no edges.\n",
      "Skipping row 2960 due to no edges.\n",
      "Skipping row 2993 due to no edges.\n",
      "Skipping row 3000 due to no edges.\n",
      "Skipping row 3074 due to no edges.\n",
      "Skipping row 3291 due to no edges.\n",
      "Skipping row 3451 due to no edges.\n",
      "Skipping row 3577 due to no edges.\n",
      "Skipping row 3612 due to no edges.\n",
      "Skipping row 3650 due to no edges.\n",
      "Skipping row 3670 due to no edges.\n",
      "Skipping row 3687 due to no edges.\n",
      "Skipping row 3935 due to no edges.\n",
      "Skipping row 3994 due to no edges.\n",
      "Skipping row 4239 due to no edges.\n",
      "Skipping row 4341 due to no edges.\n",
      "Skipping row 5199 due to no edges.\n",
      "Done, failed entries: 58\n"
     ]
    }
   ],
   "source": [
    "import torch\n",
    "from torch_geometric.data import Data\n",
    "from ase import Atoms\n",
    "from ase import neighborlist\n",
    "from ase.neighborlist import neighbor_list\n",
    "from jarvis.core.atoms import Atoms\n",
    "\n",
    "data_list = []\n",
    "fails = 0\n",
    "\n",
    "for kk, row in df_final.iterrows():  \n",
    "    a = Atoms.from_dict(row[\"atoms\"])  \n",
    "    atoms = a.ase_converter(pbc=True)\n",
    "    nl = neighborlist.NeighborList(neighborlist.natural_cutoffs(atoms))\n",
    "    nl.update(atoms)\n",
    "\n",
    "    atomic_numbers = atoms.get_atomic_numbers()\n",
    "\n",
    "    try:\n",
    "        temp_x = torch.tensor(atomic_numbers, dtype=torch.float).unsqueeze(1)\n",
    "        temp_y = torch.tensor(np.log1p(row[\"ehull\"]), dtype=torch.float)\n",
    "        temp_pos = torch.tensor(atoms.get_positions(), dtype=torch.float)\n",
    "\n",
    "        edge_index_list = []\n",
    "        for i in range(len(atoms)):\n",
    "            neighbors, offsets = nl.get_neighbors(i)\n",
    "            for neighbor in neighbors:\n",
    "                if neighbor != i:\n",
    "                    edge_index_list.append([i, neighbor])\n",
    "\n",
    "        # Ensure edge_index_list is not empty\n",
    "        if len(edge_index_list) > 0:\n",
    "            temp_edge_index = torch.tensor(edge_index_list, dtype=torch.long).t().contiguous()\n",
    "        else:\n",
    "            #temp_edge_index = torch.empty((2, 0), dtype=torch.long)\n",
    "            fails += 1\n",
    "            print(f\"Skipping row {kk} due to no edges.\")\n",
    "            continue  # Skip this data point entirely\n",
    "\n",
    "        # Ensure valid edge_index before calculating distances\n",
    "        if temp_edge_index.shape[1] > 0:\n",
    "            edge_vectors = temp_pos[temp_edge_index[0]] - temp_pos[temp_edge_index[1]]\n",
    "            temp_edge_attr = torch.norm(edge_vectors, dim=1).unsqueeze(1)\n",
    "        else:\n",
    "            #temp_edge_attr = torch.empty((0, 1), dtype=torch.float)\n",
    "            #fails += 1\n",
    "            #print(f\"Skipping row {kk} due to no edges.\")\n",
    "            continue  # Skip this data point entirely\n",
    "\n",
    "    except Exception as e:\n",
    "        fails += 1  # Count the failed samples\n",
    "        print(f\"Skipping row {kk} due to error: {e}\")  # Debugging\n",
    "\n",
    "    # edge_attr - fancier \n",
    "    data_list.append(Data(x=temp_x, pos=temp_pos, edge_index=temp_edge_index, edge_attr=temp_edge_attr, y=temp_y))\n",
    "\n",
    "print(f\"Done, failed entries: {fails}\")\n"
   ]
  },
  {
   "cell_type": "code",
   "execution_count": 13,
   "metadata": {},
   "outputs": [
    {
     "name": "stdout",
     "output_type": "stream",
     "text": [
      "Number of nodes: 8\n",
      "Number of edges: 40\n",
      "Average node degree: 5.00\n",
      "Has isolated nodes: False\n",
      "Has self-loops: False\n",
      "Is undirected: False\n"
     ]
    }
   ],
   "source": [
    "data_point = data_list[0]\n",
    "print(f'Number of nodes: {data_point.num_nodes}')\n",
    "print(f'Number of edges: {data_point.num_edges}')\n",
    "print(f'Average node degree: {data_point.num_edges / data_point.num_nodes:.2f}')\n",
    "print(f'Has isolated nodes: {data_point.has_isolated_nodes()}')\n",
    "print(f'Has self-loops: {data_point.has_self_loops()}')\n",
    "print(f'Is undirected: {data_point.is_undirected()}')"
   ]
  },
  {
   "cell_type": "code",
   "execution_count": 14,
   "metadata": {},
   "outputs": [
    {
     "name": "stdout",
     "output_type": "stream",
     "text": [
      "Dataset contains 6942 graphs.\n"
     ]
    },
    {
     "name": "stderr",
     "output_type": "stream",
     "text": [
      "/Users/dariomss/Documents/GitHub/Graph_Project/PyG/lib/python3.9/site-packages/torch_geometric/deprecation.py:26: UserWarning: 'data.DataLoader' is deprecated, use 'loader.DataLoader' instead\n",
      "  warnings.warn(out)\n"
     ]
    }
   ],
   "source": [
    "from torch_geometric.data import Dataset, DataLoader\n",
    "from torch.utils.data import random_split\n",
    "\n",
    "class JarvisDataset(Dataset):\n",
    "    def __init__(self,data_list,transform=None,pre_transform=None):\n",
    "        super().__init__(transform,pre_transform)\n",
    "        self.data_list = data_list \n",
    "\n",
    "    def len(self):\n",
    "        return len(self.data_list)\n",
    "    def get(self,idx):\n",
    "        return self.data_list[idx]\n",
    "\n",
    "dataset = JarvisDataset(data_list)\n",
    "torch.manual_seed(176432)\n",
    "train_size = int(0.75*len(dataset))\n",
    "test_size = len(dataset)-train_size\n",
    "\n",
    "train_dataset = JarvisDataset(dataset[:train_size])\n",
    "test_dataset = JarvisDataset(dataset[train_size:])\n",
    "\n",
    "train_loader = DataLoader(train_dataset, batch_size=32, shuffle=True) # Shuffle for training\n",
    "test_loader = DataLoader(test_dataset, batch_size=32, shuffle=False) # Shuffle for training\n",
    "\n",
    "print(f\"Dataset contains {len(dataset)} graphs.\")\n",
    "\n",
    "# for step, data in enumerate(train_loader):\n",
    "#         print(f'Step {step + 1}:')\n",
    "#         print('=======')\n",
    "#         print(f'Number of graphs in the current batch: {data.num_graphs}')\n",
    "#         print(data)\n",
    "#         print()"
   ]
  },
  {
   "cell_type": "markdown",
   "metadata": {},
   "source": [
    "# MODEL"
   ]
  },
  {
   "cell_type": "code",
   "execution_count": 74,
   "metadata": {},
   "outputs": [
    {
     "name": "stdout",
     "output_type": "stream",
     "text": [
      "GCN(\n",
      "  (conv1): GCNConv(1, 16)\n",
      "  (conv2): GCNConv(16, 16)\n",
      "  (conv3): GCNConv(16, 16)\n",
      "  (lin): Linear(in_features=16, out_features=1, bias=True)\n",
      ")\n"
     ]
    }
   ],
   "source": [
    "from torch_geometric.nn import GCNConv,global_mean_pool\n",
    "import torch.nn.functional as F\n",
    "from torch.nn import Linear\n",
    "\n",
    "class GCN(torch.nn.Module):\n",
    "    def __init__(self,hidden_channels):\n",
    "        super(GCN,self).__init__()\n",
    "        torch.manual_seed(176432)\n",
    "        self.conv1 = GCNConv(dataset.num_features,hidden_channels)\n",
    "        self.conv2 = GCNConv(hidden_channels,hidden_channels)\n",
    "        self.conv3 = GCNConv(hidden_channels,hidden_channels)\n",
    "        self.lin = Linear(hidden_channels,1)\n",
    "    \n",
    "    def forward(self,x,edge_index,batch):\n",
    "        x = self.conv1(x,edge_index)\n",
    "        x = x.relu()\n",
    "        x = self.conv2(x,edge_index)\n",
    "        x = x.relu()\n",
    "        x = self.conv3(x,edge_index)\n",
    "        x = global_mean_pool(x,batch)\n",
    "        x = F.dropout(x,p=0.5,training=self.training)\n",
    "        x = self.lin(x)\n",
    "        return x\n",
    "\n",
    "model = GCN(hidden_channels = 16)\n",
    "optimizer = torch.optim.Adam(model.parameters(),lr=0.001,weight_decay=5e-4)\n",
    "criterion = torch.nn.MSELoss()\n",
    "\n",
    "def train():\n",
    "    model.train()\n",
    "\n",
    "    for data in train_loader:\n",
    "        optimizer.zero_grad()\n",
    "        out = model(data.x,data.edge_index,data.batch)\n",
    "        loss = criterion(out,data.y)\n",
    "        loss.backward()\n",
    "        optimizer.step()\n",
    "        return loss\n",
    "\n",
    "def test(loader):\n",
    "    model.eval()\n",
    "\n",
    "    for data in loader:\n",
    "        out = model(data.x,data.edge_index,data.batch)\n",
    "        loss = criterion(out,data.y)\n",
    "        return loss \n",
    "\n",
    "print(model)"
   ]
  },
  {
   "cell_type": "markdown",
   "metadata": {},
   "source": [
    "# TRAINING"
   ]
  },
  {
   "cell_type": "code",
   "execution_count": 75,
   "metadata": {},
   "outputs": [
    {
     "name": "stderr",
     "output_type": "stream",
     "text": [
      "/Users/dariomss/Documents/GitHub/Graph_Project/PyG/lib/python3.9/site-packages/torch/nn/modules/loss.py:538: UserWarning: Using a target size (torch.Size([32])) that is different to the input size (torch.Size([32, 1])). This will likely lead to incorrect results due to broadcasting. Please ensure they have the same size.\n",
      "  return F.mse_loss(input, target, reduction=self.reduction)\n"
     ]
    },
    {
     "name": "stdout",
     "output_type": "stream",
     "text": [
      "Epoch: 001, Train loss: 71.2278, Test loss: 97.5400\n",
      "Epoch: 002, Train loss: 53.2517, Test loss: 85.8140\n",
      "Epoch: 003, Train loss: 26.3770, Test loss: 75.8852\n",
      "Epoch: 004, Train loss: 46.1084, Test loss: 66.6417\n",
      "Epoch: 005, Train loss: 37.5924, Test loss: 58.1809\n",
      "Epoch: 006, Train loss: 46.5401, Test loss: 51.0650\n",
      "Epoch: 007, Train loss: 29.1796, Test loss: 44.4059\n",
      "Epoch: 008, Train loss: 26.8608, Test loss: 38.5197\n",
      "Epoch: 009, Train loss: 27.2670, Test loss: 33.3494\n",
      "Epoch: 010, Train loss: 14.0490, Test loss: 28.5173\n",
      "Epoch: 011, Train loss: 12.2048, Test loss: 24.2845\n",
      "Epoch: 012, Train loss: 13.1761, Test loss: 20.5492\n",
      "Epoch: 013, Train loss: 14.4040, Test loss: 17.3019\n",
      "Epoch: 014, Train loss: 10.5933, Test loss: 14.5886\n",
      "Epoch: 015, Train loss: 5.8018, Test loss: 12.2549\n",
      "Epoch: 016, Train loss: 6.1656, Test loss: 10.2357\n",
      "Epoch: 017, Train loss: 4.0078, Test loss: 8.5313\n",
      "Epoch: 018, Train loss: 3.2901, Test loss: 7.0733\n",
      "Epoch: 019, Train loss: 4.3382, Test loss: 5.7792\n",
      "Epoch: 020, Train loss: 2.2336, Test loss: 4.6890\n",
      "Epoch: 021, Train loss: 1.8768, Test loss: 3.7905\n",
      "Epoch: 022, Train loss: 1.7720, Test loss: 3.0362\n",
      "Epoch: 023, Train loss: 2.1707, Test loss: 2.4405\n",
      "Epoch: 024, Train loss: 1.4582, Test loss: 1.9501\n",
      "Epoch: 025, Train loss: 1.0526, Test loss: 1.5748\n",
      "Epoch: 026, Train loss: 1.2177, Test loss: 1.3047\n",
      "Epoch: 027, Train loss: 0.6802, Test loss: 1.1087\n",
      "Epoch: 028, Train loss: 0.7579, Test loss: 0.9727\n",
      "Epoch: 029, Train loss: 0.8542, Test loss: 0.8925\n",
      "Epoch: 030, Train loss: 0.8843, Test loss: 0.8524\n",
      "Epoch: 031, Train loss: 0.8650, Test loss: 0.8391\n",
      "Epoch: 032, Train loss: 0.6322, Test loss: 0.8489\n",
      "Epoch: 033, Train loss: 0.9590, Test loss: 0.8730\n",
      "Epoch: 034, Train loss: 1.1461, Test loss: 0.8998\n",
      "Epoch: 035, Train loss: 1.1592, Test loss: 0.9189\n",
      "Epoch: 036, Train loss: 1.0438, Test loss: 0.9324\n",
      "Epoch: 037, Train loss: 0.9863, Test loss: 0.9410\n",
      "Epoch: 038, Train loss: 1.2281, Test loss: 0.9509\n",
      "Epoch: 039, Train loss: 0.8794, Test loss: 0.9492\n",
      "Epoch: 040, Train loss: 1.0199, Test loss: 0.9566\n",
      "Epoch: 041, Train loss: 0.8647, Test loss: 0.9585\n",
      "Epoch: 042, Train loss: 1.0533, Test loss: 0.9477\n",
      "Epoch: 043, Train loss: 1.1045, Test loss: 0.9248\n",
      "Epoch: 044, Train loss: 1.1589, Test loss: 0.9019\n",
      "Epoch: 045, Train loss: 1.0968, Test loss: 0.8836\n",
      "Epoch: 046, Train loss: 0.9798, Test loss: 0.8704\n",
      "Epoch: 047, Train loss: 0.9803, Test loss: 0.8583\n",
      "Epoch: 048, Train loss: 0.9703, Test loss: 0.8489\n",
      "Epoch: 049, Train loss: 0.9309, Test loss: 0.8424\n",
      "Epoch: 050, Train loss: 0.7804, Test loss: 0.8395\n",
      "Epoch: 051, Train loss: 0.8473, Test loss: 0.8386\n",
      "Epoch: 052, Train loss: 0.9419, Test loss: 0.8391\n",
      "Epoch: 053, Train loss: 0.7604, Test loss: 0.8407\n",
      "Epoch: 054, Train loss: 0.7522, Test loss: 0.8442\n",
      "Epoch: 055, Train loss: 0.7930, Test loss: 0.8477\n",
      "Epoch: 056, Train loss: 0.7300, Test loss: 0.8522\n",
      "Epoch: 057, Train loss: 0.7202, Test loss: 0.8565\n",
      "Epoch: 058, Train loss: 0.9453, Test loss: 0.8599\n",
      "Epoch: 059, Train loss: 0.6588, Test loss: 0.8618\n",
      "Epoch: 060, Train loss: 0.8076, Test loss: 0.8638\n",
      "Epoch: 061, Train loss: 0.9902, Test loss: 0.8656\n",
      "Epoch: 062, Train loss: 0.8771, Test loss: 0.8662\n",
      "Epoch: 063, Train loss: 0.7676, Test loss: 0.8648\n",
      "Epoch: 064, Train loss: 0.7430, Test loss: 0.8656\n",
      "Epoch: 065, Train loss: 0.9138, Test loss: 0.8651\n",
      "Epoch: 066, Train loss: 0.8839, Test loss: 0.8629\n",
      "Epoch: 067, Train loss: 0.6128, Test loss: 0.8612\n",
      "Epoch: 068, Train loss: 0.9242, Test loss: 0.8613\n",
      "Epoch: 069, Train loss: 0.8225, Test loss: 0.8605\n",
      "Epoch: 070, Train loss: 0.7922, Test loss: 0.8594\n",
      "Epoch: 071, Train loss: 0.8421, Test loss: 0.8597\n",
      "Epoch: 072, Train loss: 0.8130, Test loss: 0.8581\n",
      "Epoch: 073, Train loss: 0.9168, Test loss: 0.8563\n",
      "Epoch: 074, Train loss: 0.9266, Test loss: 0.8536\n",
      "Epoch: 075, Train loss: 0.7549, Test loss: 0.8513\n",
      "Epoch: 076, Train loss: 0.7435, Test loss: 0.8498\n",
      "Epoch: 077, Train loss: 0.9568, Test loss: 0.8475\n",
      "Epoch: 078, Train loss: 0.8338, Test loss: 0.8449\n",
      "Epoch: 079, Train loss: 0.9216, Test loss: 0.8432\n",
      "Epoch: 080, Train loss: 0.7752, Test loss: 0.8425\n",
      "Epoch: 081, Train loss: 0.8082, Test loss: 0.8419\n",
      "Epoch: 082, Train loss: 0.7001, Test loss: 0.8422\n",
      "Epoch: 083, Train loss: 0.8986, Test loss: 0.8433\n",
      "Epoch: 084, Train loss: 0.8233, Test loss: 0.8454\n",
      "Epoch: 085, Train loss: 0.8842, Test loss: 0.8486\n",
      "Epoch: 086, Train loss: 0.9752, Test loss: 0.8519\n",
      "Epoch: 087, Train loss: 0.7095, Test loss: 0.8556\n",
      "Epoch: 088, Train loss: 0.8374, Test loss: 0.8593\n",
      "Epoch: 089, Train loss: 0.8782, Test loss: 0.8643\n",
      "Epoch: 090, Train loss: 0.8257, Test loss: 0.8693\n",
      "Epoch: 091, Train loss: 0.7819, Test loss: 0.8745\n",
      "Epoch: 092, Train loss: 0.6585, Test loss: 0.8788\n",
      "Epoch: 093, Train loss: 0.8782, Test loss: 0.8829\n",
      "Epoch: 094, Train loss: 0.6878, Test loss: 0.8891\n",
      "Epoch: 095, Train loss: 0.7288, Test loss: 0.8953\n",
      "Epoch: 096, Train loss: 0.6883, Test loss: 0.8998\n",
      "Epoch: 097, Train loss: 0.9163, Test loss: 0.9030\n",
      "Epoch: 098, Train loss: 0.6953, Test loss: 0.9056\n",
      "Epoch: 099, Train loss: 0.9923, Test loss: 0.9103\n",
      "Epoch: 100, Train loss: 0.9702, Test loss: 0.9170\n",
      "Epoch: 101, Train loss: 0.9846, Test loss: 0.9236\n",
      "Epoch: 102, Train loss: 0.7962, Test loss: 0.9265\n",
      "Epoch: 103, Train loss: 1.0120, Test loss: 0.9303\n",
      "Epoch: 104, Train loss: 0.5560, Test loss: 0.9344\n",
      "Epoch: 105, Train loss: 0.8333, Test loss: 0.9411\n",
      "Epoch: 106, Train loss: 0.9443, Test loss: 0.9475\n",
      "Epoch: 107, Train loss: 0.7151, Test loss: 0.9526\n",
      "Epoch: 108, Train loss: 0.7705, Test loss: 0.9571\n",
      "Epoch: 109, Train loss: 0.7797, Test loss: 0.9631\n",
      "Epoch: 110, Train loss: 0.8680, Test loss: 0.9701\n",
      "Epoch: 111, Train loss: 0.9785, Test loss: 0.9736\n",
      "Epoch: 112, Train loss: 0.8822, Test loss: 0.9764\n",
      "Epoch: 113, Train loss: 0.7453, Test loss: 0.9788\n",
      "Epoch: 114, Train loss: 0.5486, Test loss: 0.9804\n",
      "Epoch: 115, Train loss: 0.8075, Test loss: 0.9837\n",
      "Epoch: 116, Train loss: 1.0033, Test loss: 0.9887\n",
      "Epoch: 117, Train loss: 0.7174, Test loss: 0.9867\n",
      "Epoch: 118, Train loss: 0.7937, Test loss: 0.9824\n",
      "Epoch: 119, Train loss: 0.7441, Test loss: 0.9785\n",
      "Epoch: 120, Train loss: 0.8602, Test loss: 0.9730\n",
      "Epoch: 121, Train loss: 0.7197, Test loss: 0.9706\n",
      "Epoch: 122, Train loss: 1.0604, Test loss: 0.9653\n",
      "Epoch: 123, Train loss: 0.7035, Test loss: 0.9558\n",
      "Epoch: 124, Train loss: 0.9326, Test loss: 0.9419\n",
      "Epoch: 125, Train loss: 0.7253, Test loss: 0.9270\n",
      "Epoch: 126, Train loss: 0.6952, Test loss: 0.9125\n",
      "Epoch: 127, Train loss: 0.7536, Test loss: 0.9011\n",
      "Epoch: 128, Train loss: 0.8661, Test loss: 0.8918\n",
      "Epoch: 129, Train loss: 0.9470, Test loss: 0.8821\n",
      "Epoch: 130, Train loss: 0.7592, Test loss: 0.8749\n",
      "Epoch: 131, Train loss: 0.6602, Test loss: 0.8697\n",
      "Epoch: 132, Train loss: 0.6929, Test loss: 0.8668\n",
      "Epoch: 133, Train loss: 0.8333, Test loss: 0.8641\n",
      "Epoch: 134, Train loss: 0.7933, Test loss: 0.8618\n",
      "Epoch: 135, Train loss: 0.9648, Test loss: 0.8612\n",
      "Epoch: 136, Train loss: 0.8749, Test loss: 0.8604\n",
      "Epoch: 137, Train loss: 0.8694, Test loss: 0.8587\n",
      "Epoch: 138, Train loss: 0.8251, Test loss: 0.8577\n",
      "Epoch: 139, Train loss: 0.7544, Test loss: 0.8576\n",
      "Epoch: 140, Train loss: 0.8071, Test loss: 0.8578\n",
      "Epoch: 141, Train loss: 1.0209, Test loss: 0.8583\n",
      "Epoch: 142, Train loss: 0.6915, Test loss: 0.8587\n",
      "Epoch: 143, Train loss: 0.8147, Test loss: 0.8593\n",
      "Epoch: 144, Train loss: 0.8438, Test loss: 0.8603\n",
      "Epoch: 145, Train loss: 0.8903, Test loss: 0.8648\n",
      "Epoch: 146, Train loss: 0.7727, Test loss: 0.8693\n",
      "Epoch: 147, Train loss: 0.8897, Test loss: 0.8732\n",
      "Epoch: 148, Train loss: 0.6855, Test loss: 0.8765\n",
      "Epoch: 149, Train loss: 0.7257, Test loss: 0.8799\n"
     ]
    }
   ],
   "source": [
    "for epoch in range(1,150):\n",
    "    train()\n",
    "    train_loss = test(train_loader)\n",
    "    test_loss = test(test_loader)\n",
    "    print(f'Epoch: {epoch:03d}, Train loss: {train_loss:.4f}, Test loss: {test_loss:.4f}')"
   ]
  },
  {
   "cell_type": "code",
   "execution_count": null,
   "metadata": {},
   "outputs": [],
   "source": []
  },
  {
   "cell_type": "markdown",
   "metadata": {},
   "source": [
    "# WANDB"
   ]
  },
  {
   "cell_type": "code",
   "execution_count": null,
   "metadata": {},
   "outputs": [],
   "source": [
    "from torch_geometric.nn import GCNConv,global_mean_pool\n",
    "import torch.nn.functional as F\n",
    "from torch.nn import Linear\n",
    "import tqdm\n",
    "\n",
    "enable_wandb = True\n",
    "if enable_wandb:\n",
    "    import wandb\n",
    "wandb.login()\n",
    "\n",
    "assert enable_wandb, \"W&B not enabled. Please, enable W&B and restart the notebook\"\n",
    "\n",
    "class GCN(torch.nn.Module):\n",
    "    def __init__(self,hidden_channels):\n",
    "        super(GCN,self).__init__()\n",
    "        torch.manual_seed(176432)\n",
    "\n",
    "        #automatize change in number of layers\n",
    "        #GCNConv no edges\n",
    "\n",
    "        self.conv1 = GCNConv(dataset.num_features,hidden_channels)\n",
    "        self.conv2 = GCNConv(hidden_channels,hidden_channels)\n",
    "        self.conv3 = GCNConv(hidden_channels,hidden_channels)\n",
    "        self.lin = Linear(hidden_channels,1)\n",
    "    \n",
    "    def forward(self,x,edge_index,batch):\n",
    "        x = self.conv1(x,edge_index)\n",
    "        x = x.relu()\n",
    "        x = self.conv2(x,edge_index)\n",
    "        x = x.relu()\n",
    "        x = self.conv3(x,edge_index)\n",
    "        x = global_mean_pool(x,batch)\n",
    "        x = F.dropout(x,p=0.5,training=self.training)\n",
    "        x = self.lin(x)\n",
    "        return x\n",
    "\n",
    "\n",
    "def agent_fn():\n",
    "    wandb.init()\n",
    "\n",
    "    model = GCN(hidden_channels = wandb.config.hidden_channels)\n",
    "    wandb.watch(model)\n",
    "\n",
    "    #with torch.no_grad():\n",
    "        #out = model(data.x, data.edge_index, data.batch)\n",
    "        #embedding_to_wandb(out, color=data.y, key=\"gcn_jarvis/embedding/init\")\n",
    "\n",
    "    optimizer = torch.optim.Adam(model.parameters(), lr=wandb.config.lr, weight_decay=wandb.config.weight_decay)\n",
    "    criterion = torch.nn.MSELoss()\n",
    "\n",
    "    def train():\n",
    "        model.train()\n",
    "        \n",
    "        for data in train_loader:\n",
    "            optimizer.zero_grad()\n",
    "            out = model(data.x,data.edge_index,data.batch)\n",
    "            loss = criterion(out,data.y)\n",
    "            loss.backward()\n",
    "            optimizer.step()\n",
    "           # return loss\n",
    "\n",
    "    def test(loader):\n",
    "        model.eval()\n",
    "\n",
    "        for data in loader:\n",
    "            out = model(data.x,data.edge_index,data.batch)\n",
    "            loss = criterion(out,data.y)\n",
    "            return loss \n",
    "\n",
    "    for epoch in tqdm.tqdm(range(1,750)):\n",
    "        train()\n",
    "        train_loss = test(train_loader)\n",
    "        test_loss = test(test_loader)\n",
    "        \n",
    "        train_mse_loss_original = train_loss.detach() * (scale ** 2)\n",
    "        train_rmse_loss_original = torch.sqrt(train_mse_loss_original.mean())\n",
    "        \n",
    "        test_mse_loss_original = test_loss.detach() * (scale ** 2)\n",
    "        test_rmse_loss_original = torch.sqrt(test_mse_loss_original.mean())\n",
    "\n",
    "        wandb.log({\"gcn_jarvis/train_RMSE\": train_rmse_loss_original.item()})\n",
    "        wandb.log({\"gcn_jarvis/test_RMSE\": test_rmse_loss_original.item()})\n",
    "\n",
    "    #model.eval()\n",
    "    #out = model(data.x, data.edge_index,data.batch)\n",
    "    #test_loss = test(test_loader)\n",
    "    #test_mse_loss_original = test_loss.detach() * (scale ** 2)\n",
    "    #test_rmse_loss_original = torch.sqrt(test_mse_loss_original.mean())\n",
    "    #wandb.summary[\"gcn_jarvis/test_RMSE\"] = test_rmse_loss_original.item()\n",
    "    #embedding_to_wandb(out, color=data.y, key=\"gcn_jarvis/embedding/trained\")\n",
    "    wandb.finish()"
   ]
  },
  {
   "cell_type": "code",
   "execution_count": 28,
   "metadata": {},
   "outputs": [
    {
     "name": "stdout",
     "output_type": "stream",
     "text": [
      "Create sweep with ID: usktbhjs\n",
      "Sweep URL: https://wandb.ai/d-massa/jarvis-node-regression/sweeps/usktbhjs\n"
     ]
    }
   ],
   "source": [
    "sweep_config = {\n",
    "    \"name\": \"gcn_jarvis-1\",\n",
    "    \"method\": \"bayes\",\n",
    "    \"metric\": {\n",
    "        \"name\": \"gcn_jarvis/test_RMSE\",\n",
    "        \"goal\": \"minimize\",\n",
    "    },\n",
    "    \"parameters\": {\n",
    "        \"hidden_channels\": {\n",
    "            \"values\": [8, 16, 32, 64]\n",
    "        },\n",
    "        \"weight_decay\": {\n",
    "            \"distribution\": \"normal\",\n",
    "            \"mu\": 5e-4,\n",
    "            \"sigma\": 5e-5\n",
    "        },\n",
    "        \"lr\": {\n",
    "            \"min\": 1e-5,\n",
    "            \"max\": 5e-4\n",
    "        }\n",
    "    }\n",
    "}\n",
    "\n",
    "# Register the Sweep with W&B\n",
    "sweep_id = wandb.sweep(sweep_config, project=\"jarvis-node-regression\")"
   ]
  },
  {
   "cell_type": "code",
   "execution_count": 29,
   "metadata": {},
   "outputs": [
    {
     "name": "stderr",
     "output_type": "stream",
     "text": [
      "\u001b[34m\u001b[1mwandb\u001b[0m: Agent Starting Run: e5xts2j1 with config:\n",
      "\u001b[34m\u001b[1mwandb\u001b[0m: \thidden_channels: 64\n",
      "\u001b[34m\u001b[1mwandb\u001b[0m: \tlr: 0.00014343883252415342\n",
      "\u001b[34m\u001b[1mwandb\u001b[0m: \tweight_decay: 0.0003989612838430339\n"
     ]
    },
    {
     "data": {
      "text/html": [
       "Tracking run with wandb version 0.19.7"
      ],
      "text/plain": [
       "<IPython.core.display.HTML object>"
      ]
     },
     "metadata": {},
     "output_type": "display_data"
    },
    {
     "data": {
      "text/html": [
       "Run data is saved locally in <code>/Users/dariomss/Documents/GitHub/Graph_Project/wandb/run-20250227_125508-e5xts2j1</code>"
      ],
      "text/plain": [
       "<IPython.core.display.HTML object>"
      ]
     },
     "metadata": {},
     "output_type": "display_data"
    },
    {
     "data": {
      "text/html": [
       "Syncing run <strong><a href='https://wandb.ai/d-massa/jarvis-node-regression/runs/e5xts2j1' target=\"_blank\">daily-sweep-1</a></strong> to <a href='https://wandb.ai/d-massa/jarvis-node-regression' target=\"_blank\">Weights & Biases</a> (<a href='https://wandb.me/developer-guide' target=\"_blank\">docs</a>)<br>Sweep page: <a href='https://wandb.ai/d-massa/jarvis-node-regression/sweeps/usktbhjs' target=\"_blank\">https://wandb.ai/d-massa/jarvis-node-regression/sweeps/usktbhjs</a>"
      ],
      "text/plain": [
       "<IPython.core.display.HTML object>"
      ]
     },
     "metadata": {},
     "output_type": "display_data"
    },
    {
     "data": {
      "text/html": [
       " View project at <a href='https://wandb.ai/d-massa/jarvis-node-regression' target=\"_blank\">https://wandb.ai/d-massa/jarvis-node-regression</a>"
      ],
      "text/plain": [
       "<IPython.core.display.HTML object>"
      ]
     },
     "metadata": {},
     "output_type": "display_data"
    },
    {
     "data": {
      "text/html": [
       " View sweep at <a href='https://wandb.ai/d-massa/jarvis-node-regression/sweeps/usktbhjs' target=\"_blank\">https://wandb.ai/d-massa/jarvis-node-regression/sweeps/usktbhjs</a>"
      ],
      "text/plain": [
       "<IPython.core.display.HTML object>"
      ]
     },
     "metadata": {},
     "output_type": "display_data"
    },
    {
     "data": {
      "text/html": [
       " View run at <a href='https://wandb.ai/d-massa/jarvis-node-regression/runs/e5xts2j1' target=\"_blank\">https://wandb.ai/d-massa/jarvis-node-regression/runs/e5xts2j1</a>"
      ],
      "text/plain": [
       "<IPython.core.display.HTML object>"
      ]
     },
     "metadata": {},
     "output_type": "display_data"
    },
    {
     "name": "stderr",
     "output_type": "stream",
     "text": [
      "  0%|          | 0/749 [00:00<?, ?it/s]/Users/dariomss/Documents/GitHub/Graph_Project/PyG/lib/python3.9/site-packages/torch/nn/modules/loss.py:538: UserWarning: Using a target size (torch.Size([32])) that is different to the input size (torch.Size([32, 1])). This will likely lead to incorrect results due to broadcasting. Please ensure they have the same size.\n",
      "  return F.mse_loss(input, target, reduction=self.reduction)\n",
      "/Users/dariomss/Documents/GitHub/Graph_Project/PyG/lib/python3.9/site-packages/torch/nn/modules/loss.py:538: UserWarning: Using a target size (torch.Size([22])) that is different to the input size (torch.Size([22, 1])). This will likely lead to incorrect results due to broadcasting. Please ensure they have the same size.\n",
      "  return F.mse_loss(input, target, reduction=self.reduction)\n",
      "100%|██████████| 749/749 [09:06<00:00,  1.37it/s]\n"
     ]
    },
    {
     "data": {
      "text/html": [],
      "text/plain": [
       "<IPython.core.display.HTML object>"
      ]
     },
     "metadata": {},
     "output_type": "display_data"
    },
    {
     "data": {
      "text/html": [
       "<br>    <style><br>        .wandb-row {<br>            display: flex;<br>            flex-direction: row;<br>            flex-wrap: wrap;<br>            justify-content: flex-start;<br>            width: 100%;<br>        }<br>        .wandb-col {<br>            display: flex;<br>            flex-direction: column;<br>            flex-basis: 100%;<br>            flex: 1;<br>            padding: 10px;<br>        }<br>    </style><br><div class=\"wandb-row\"><div class=\"wandb-col\"><h3>Run history:</h3><br/><table class=\"wandb\"><tr><td>gcn_jarvis/test_RMSE</td><td>▇▂▇▁▆█▅▆▆▆▆▆▆▆▆▆▆▆▆▆▆▆▆▆▆▆▆▆▆▆▆▆▆▆▆▆▆▆▆▆</td></tr><tr><td>gcn_jarvis/train_RMSE</td><td>▃▂▄▇▄▄▃▃▃▆▁▂▄▅▄▃▃▂▄▆▄▃▃▅▃▃▄▆▃▅▃▃▂▂▃█▂▅▅▃</td></tr></table><br/></div><div class=\"wandb-col\"><h3>Run summary:</h3><br/><table class=\"wandb\"><tr><td>gcn_jarvis/test_RMSE</td><td>0.95993</td></tr><tr><td>gcn_jarvis/train_RMSE</td><td>0.94849</td></tr></table><br/></div></div>"
      ],
      "text/plain": [
       "<IPython.core.display.HTML object>"
      ]
     },
     "metadata": {},
     "output_type": "display_data"
    },
    {
     "data": {
      "text/html": [
       " View run <strong style=\"color:#cdcd00\">daily-sweep-1</strong> at: <a href='https://wandb.ai/d-massa/jarvis-node-regression/runs/e5xts2j1' target=\"_blank\">https://wandb.ai/d-massa/jarvis-node-regression/runs/e5xts2j1</a><br> View project at: <a href='https://wandb.ai/d-massa/jarvis-node-regression' target=\"_blank\">https://wandb.ai/d-massa/jarvis-node-regression</a><br>Synced 5 W&B file(s), 0 media file(s), 0 artifact file(s) and 0 other file(s)"
      ],
      "text/plain": [
       "<IPython.core.display.HTML object>"
      ]
     },
     "metadata": {},
     "output_type": "display_data"
    },
    {
     "data": {
      "text/html": [
       "Find logs at: <code>./wandb/run-20250227_125508-e5xts2j1/logs</code>"
      ],
      "text/plain": [
       "<IPython.core.display.HTML object>"
      ]
     },
     "metadata": {},
     "output_type": "display_data"
    },
    {
     "name": "stderr",
     "output_type": "stream",
     "text": [
      "\u001b[34m\u001b[1mwandb\u001b[0m: Agent Starting Run: a6zxt74i with config:\n",
      "\u001b[34m\u001b[1mwandb\u001b[0m: \thidden_channels: 8\n",
      "\u001b[34m\u001b[1mwandb\u001b[0m: \tlr: 0.0001130950530343612\n",
      "\u001b[34m\u001b[1mwandb\u001b[0m: \tweight_decay: 0.0004601434987730988\n"
     ]
    },
    {
     "data": {
      "text/html": [
       "Tracking run with wandb version 0.19.7"
      ],
      "text/plain": [
       "<IPython.core.display.HTML object>"
      ]
     },
     "metadata": {},
     "output_type": "display_data"
    },
    {
     "data": {
      "text/html": [
       "Run data is saved locally in <code>/Users/dariomss/Documents/GitHub/Graph_Project/wandb/run-20250227_130422-a6zxt74i</code>"
      ],
      "text/plain": [
       "<IPython.core.display.HTML object>"
      ]
     },
     "metadata": {},
     "output_type": "display_data"
    },
    {
     "data": {
      "text/html": [
       "Syncing run <strong><a href='https://wandb.ai/d-massa/jarvis-node-regression/runs/a6zxt74i' target=\"_blank\">glamorous-sweep-2</a></strong> to <a href='https://wandb.ai/d-massa/jarvis-node-regression' target=\"_blank\">Weights & Biases</a> (<a href='https://wandb.me/developer-guide' target=\"_blank\">docs</a>)<br>Sweep page: <a href='https://wandb.ai/d-massa/jarvis-node-regression/sweeps/usktbhjs' target=\"_blank\">https://wandb.ai/d-massa/jarvis-node-regression/sweeps/usktbhjs</a>"
      ],
      "text/plain": [
       "<IPython.core.display.HTML object>"
      ]
     },
     "metadata": {},
     "output_type": "display_data"
    },
    {
     "data": {
      "text/html": [
       " View project at <a href='https://wandb.ai/d-massa/jarvis-node-regression' target=\"_blank\">https://wandb.ai/d-massa/jarvis-node-regression</a>"
      ],
      "text/plain": [
       "<IPython.core.display.HTML object>"
      ]
     },
     "metadata": {},
     "output_type": "display_data"
    },
    {
     "data": {
      "text/html": [
       " View sweep at <a href='https://wandb.ai/d-massa/jarvis-node-regression/sweeps/usktbhjs' target=\"_blank\">https://wandb.ai/d-massa/jarvis-node-regression/sweeps/usktbhjs</a>"
      ],
      "text/plain": [
       "<IPython.core.display.HTML object>"
      ]
     },
     "metadata": {},
     "output_type": "display_data"
    },
    {
     "data": {
      "text/html": [
       " View run at <a href='https://wandb.ai/d-massa/jarvis-node-regression/runs/a6zxt74i' target=\"_blank\">https://wandb.ai/d-massa/jarvis-node-regression/runs/a6zxt74i</a>"
      ],
      "text/plain": [
       "<IPython.core.display.HTML object>"
      ]
     },
     "metadata": {},
     "output_type": "display_data"
    },
    {
     "name": "stderr",
     "output_type": "stream",
     "text": [
      "  0%|          | 0/749 [00:00<?, ?it/s]/Users/dariomss/Documents/GitHub/Graph_Project/PyG/lib/python3.9/site-packages/torch/nn/modules/loss.py:538: UserWarning: Using a target size (torch.Size([32])) that is different to the input size (torch.Size([32, 1])). This will likely lead to incorrect results due to broadcasting. Please ensure they have the same size.\n",
      "  return F.mse_loss(input, target, reduction=self.reduction)\n",
      "/Users/dariomss/Documents/GitHub/Graph_Project/PyG/lib/python3.9/site-packages/torch/nn/modules/loss.py:538: UserWarning: Using a target size (torch.Size([22])) that is different to the input size (torch.Size([22, 1])). This will likely lead to incorrect results due to broadcasting. Please ensure they have the same size.\n",
      "  return F.mse_loss(input, target, reduction=self.reduction)\n",
      "100%|██████████| 749/749 [06:29<00:00,  1.92it/s]\n"
     ]
    },
    {
     "data": {
      "text/html": [],
      "text/plain": [
       "<IPython.core.display.HTML object>"
      ]
     },
     "metadata": {},
     "output_type": "display_data"
    },
    {
     "data": {
      "text/html": [
       "<br>    <style><br>        .wandb-row {<br>            display: flex;<br>            flex-direction: row;<br>            flex-wrap: wrap;<br>            justify-content: flex-start;<br>            width: 100%;<br>        }<br>        .wandb-col {<br>            display: flex;<br>            flex-direction: column;<br>            flex-basis: 100%;<br>            flex: 1;<br>            padding: 10px;<br>        }<br>    </style><br><div class=\"wandb-row\"><div class=\"wandb-col\"><h3>Run history:</h3><br/><table class=\"wandb\"><tr><td>gcn_jarvis/test_RMSE</td><td>▃▄▁▅▂▃▅█▄▃▂▂▃▄▄▄▄▄▄▄▄▄▄▄▄▄▄▄▄▄▄▄▄▄▄▄▄▄▄▄</td></tr><tr><td>gcn_jarvis/train_RMSE</td><td>▅▂▄▄▁▄▇▅▅▇█▄▄▃▆▃▄█▅▆▃▆▃▄█▅▅▇▅▂▅▅▇▅▅▂▆▄▄▆</td></tr></table><br/></div><div class=\"wandb-col\"><h3>Run summary:</h3><br/><table class=\"wandb\"><tr><td>gcn_jarvis/test_RMSE</td><td>0.96016</td></tr><tr><td>gcn_jarvis/train_RMSE</td><td>1.00024</td></tr></table><br/></div></div>"
      ],
      "text/plain": [
       "<IPython.core.display.HTML object>"
      ]
     },
     "metadata": {},
     "output_type": "display_data"
    },
    {
     "data": {
      "text/html": [
       " View run <strong style=\"color:#cdcd00\">glamorous-sweep-2</strong> at: <a href='https://wandb.ai/d-massa/jarvis-node-regression/runs/a6zxt74i' target=\"_blank\">https://wandb.ai/d-massa/jarvis-node-regression/runs/a6zxt74i</a><br> View project at: <a href='https://wandb.ai/d-massa/jarvis-node-regression' target=\"_blank\">https://wandb.ai/d-massa/jarvis-node-regression</a><br>Synced 5 W&B file(s), 0 media file(s), 0 artifact file(s) and 0 other file(s)"
      ],
      "text/plain": [
       "<IPython.core.display.HTML object>"
      ]
     },
     "metadata": {},
     "output_type": "display_data"
    },
    {
     "data": {
      "text/html": [
       "Find logs at: <code>./wandb/run-20250227_130422-a6zxt74i/logs</code>"
      ],
      "text/plain": [
       "<IPython.core.display.HTML object>"
      ]
     },
     "metadata": {},
     "output_type": "display_data"
    },
    {
     "name": "stderr",
     "output_type": "stream",
     "text": [
      "\u001b[34m\u001b[1mwandb\u001b[0m: Agent Starting Run: otwtkbpa with config:\n",
      "\u001b[34m\u001b[1mwandb\u001b[0m: \thidden_channels: 64\n",
      "\u001b[34m\u001b[1mwandb\u001b[0m: \tlr: 7.756725665422095e-05\n",
      "\u001b[34m\u001b[1mwandb\u001b[0m: \tweight_decay: 0.0004457822768592305\n"
     ]
    },
    {
     "data": {
      "text/html": [
       "Tracking run with wandb version 0.19.7"
      ],
      "text/plain": [
       "<IPython.core.display.HTML object>"
      ]
     },
     "metadata": {},
     "output_type": "display_data"
    },
    {
     "data": {
      "text/html": [
       "Run data is saved locally in <code>/Users/dariomss/Documents/GitHub/Graph_Project/wandb/run-20250227_131058-otwtkbpa</code>"
      ],
      "text/plain": [
       "<IPython.core.display.HTML object>"
      ]
     },
     "metadata": {},
     "output_type": "display_data"
    },
    {
     "data": {
      "text/html": [
       "Syncing run <strong><a href='https://wandb.ai/d-massa/jarvis-node-regression/runs/otwtkbpa' target=\"_blank\">trim-sweep-3</a></strong> to <a href='https://wandb.ai/d-massa/jarvis-node-regression' target=\"_blank\">Weights & Biases</a> (<a href='https://wandb.me/developer-guide' target=\"_blank\">docs</a>)<br>Sweep page: <a href='https://wandb.ai/d-massa/jarvis-node-regression/sweeps/usktbhjs' target=\"_blank\">https://wandb.ai/d-massa/jarvis-node-regression/sweeps/usktbhjs</a>"
      ],
      "text/plain": [
       "<IPython.core.display.HTML object>"
      ]
     },
     "metadata": {},
     "output_type": "display_data"
    },
    {
     "data": {
      "text/html": [
       " View project at <a href='https://wandb.ai/d-massa/jarvis-node-regression' target=\"_blank\">https://wandb.ai/d-massa/jarvis-node-regression</a>"
      ],
      "text/plain": [
       "<IPython.core.display.HTML object>"
      ]
     },
     "metadata": {},
     "output_type": "display_data"
    },
    {
     "data": {
      "text/html": [
       " View sweep at <a href='https://wandb.ai/d-massa/jarvis-node-regression/sweeps/usktbhjs' target=\"_blank\">https://wandb.ai/d-massa/jarvis-node-regression/sweeps/usktbhjs</a>"
      ],
      "text/plain": [
       "<IPython.core.display.HTML object>"
      ]
     },
     "metadata": {},
     "output_type": "display_data"
    },
    {
     "data": {
      "text/html": [
       " View run at <a href='https://wandb.ai/d-massa/jarvis-node-regression/runs/otwtkbpa' target=\"_blank\">https://wandb.ai/d-massa/jarvis-node-regression/runs/otwtkbpa</a>"
      ],
      "text/plain": [
       "<IPython.core.display.HTML object>"
      ]
     },
     "metadata": {},
     "output_type": "display_data"
    },
    {
     "name": "stderr",
     "output_type": "stream",
     "text": [
      "  0%|          | 0/749 [00:00<?, ?it/s]/Users/dariomss/Documents/GitHub/Graph_Project/PyG/lib/python3.9/site-packages/torch/nn/modules/loss.py:538: UserWarning: Using a target size (torch.Size([32])) that is different to the input size (torch.Size([32, 1])). This will likely lead to incorrect results due to broadcasting. Please ensure they have the same size.\n",
      "  return F.mse_loss(input, target, reduction=self.reduction)\n",
      "/Users/dariomss/Documents/GitHub/Graph_Project/PyG/lib/python3.9/site-packages/torch/nn/modules/loss.py:538: UserWarning: Using a target size (torch.Size([22])) that is different to the input size (torch.Size([22, 1])). This will likely lead to incorrect results due to broadcasting. Please ensure they have the same size.\n",
      "  return F.mse_loss(input, target, reduction=self.reduction)\n",
      "100%|██████████| 749/749 [10:25<00:00,  1.20it/s]\n"
     ]
    },
    {
     "data": {
      "text/html": [],
      "text/plain": [
       "<IPython.core.display.HTML object>"
      ]
     },
     "metadata": {},
     "output_type": "display_data"
    },
    {
     "data": {
      "text/html": [
       "<br>    <style><br>        .wandb-row {<br>            display: flex;<br>            flex-direction: row;<br>            flex-wrap: wrap;<br>            justify-content: flex-start;<br>            width: 100%;<br>        }<br>        .wandb-col {<br>            display: flex;<br>            flex-direction: column;<br>            flex-basis: 100%;<br>            flex: 1;<br>            padding: 10px;<br>        }<br>    </style><br><div class=\"wandb-row\"><div class=\"wandb-col\"><h3>Run history:</h3><br/><table class=\"wandb\"><tr><td>gcn_jarvis/test_RMSE</td><td>█▁▆▄▃▃▇▄▂▃▄▄▄▅▄▄▄▄▅▄▄▄▅▄▄▄▄▄▄▅▄▄▄▄▄▄▄▅▅▄</td></tr><tr><td>gcn_jarvis/train_RMSE</td><td>▅▄▆█▆▃▅▇▆▄▄▅▃▄▂▄▁▃▄▅▅▃▄▄▆▄▄▆▄▅▄▄▄▅▅▃▅▃▅▅</td></tr></table><br/></div><div class=\"wandb-col\"><h3>Run summary:</h3><br/><table class=\"wandb\"><tr><td>gcn_jarvis/test_RMSE</td><td>0.95978</td></tr><tr><td>gcn_jarvis/train_RMSE</td><td>0.94845</td></tr></table><br/></div></div>"
      ],
      "text/plain": [
       "<IPython.core.display.HTML object>"
      ]
     },
     "metadata": {},
     "output_type": "display_data"
    },
    {
     "data": {
      "text/html": [
       " View run <strong style=\"color:#cdcd00\">trim-sweep-3</strong> at: <a href='https://wandb.ai/d-massa/jarvis-node-regression/runs/otwtkbpa' target=\"_blank\">https://wandb.ai/d-massa/jarvis-node-regression/runs/otwtkbpa</a><br> View project at: <a href='https://wandb.ai/d-massa/jarvis-node-regression' target=\"_blank\">https://wandb.ai/d-massa/jarvis-node-regression</a><br>Synced 5 W&B file(s), 0 media file(s), 0 artifact file(s) and 0 other file(s)"
      ],
      "text/plain": [
       "<IPython.core.display.HTML object>"
      ]
     },
     "metadata": {},
     "output_type": "display_data"
    },
    {
     "data": {
      "text/html": [
       "Find logs at: <code>./wandb/run-20250227_131058-otwtkbpa/logs</code>"
      ],
      "text/plain": [
       "<IPython.core.display.HTML object>"
      ]
     },
     "metadata": {},
     "output_type": "display_data"
    },
    {
     "name": "stderr",
     "output_type": "stream",
     "text": [
      "\u001b[34m\u001b[1mwandb\u001b[0m: Agent Starting Run: xduzp7h6 with config:\n",
      "\u001b[34m\u001b[1mwandb\u001b[0m: \thidden_channels: 64\n",
      "\u001b[34m\u001b[1mwandb\u001b[0m: \tlr: 6.646898051877903e-05\n",
      "\u001b[34m\u001b[1mwandb\u001b[0m: \tweight_decay: 0.00044930929988142606\n"
     ]
    },
    {
     "data": {
      "text/html": [
       "Tracking run with wandb version 0.19.7"
      ],
      "text/plain": [
       "<IPython.core.display.HTML object>"
      ]
     },
     "metadata": {},
     "output_type": "display_data"
    },
    {
     "data": {
      "text/html": [
       "Run data is saved locally in <code>/Users/dariomss/Documents/GitHub/Graph_Project/wandb/run-20250227_132133-xduzp7h6</code>"
      ],
      "text/plain": [
       "<IPython.core.display.HTML object>"
      ]
     },
     "metadata": {},
     "output_type": "display_data"
    },
    {
     "data": {
      "text/html": [
       "Syncing run <strong><a href='https://wandb.ai/d-massa/jarvis-node-regression/runs/xduzp7h6' target=\"_blank\">pretty-sweep-4</a></strong> to <a href='https://wandb.ai/d-massa/jarvis-node-regression' target=\"_blank\">Weights & Biases</a> (<a href='https://wandb.me/developer-guide' target=\"_blank\">docs</a>)<br>Sweep page: <a href='https://wandb.ai/d-massa/jarvis-node-regression/sweeps/usktbhjs' target=\"_blank\">https://wandb.ai/d-massa/jarvis-node-regression/sweeps/usktbhjs</a>"
      ],
      "text/plain": [
       "<IPython.core.display.HTML object>"
      ]
     },
     "metadata": {},
     "output_type": "display_data"
    },
    {
     "data": {
      "text/html": [
       " View project at <a href='https://wandb.ai/d-massa/jarvis-node-regression' target=\"_blank\">https://wandb.ai/d-massa/jarvis-node-regression</a>"
      ],
      "text/plain": [
       "<IPython.core.display.HTML object>"
      ]
     },
     "metadata": {},
     "output_type": "display_data"
    },
    {
     "data": {
      "text/html": [
       " View sweep at <a href='https://wandb.ai/d-massa/jarvis-node-regression/sweeps/usktbhjs' target=\"_blank\">https://wandb.ai/d-massa/jarvis-node-regression/sweeps/usktbhjs</a>"
      ],
      "text/plain": [
       "<IPython.core.display.HTML object>"
      ]
     },
     "metadata": {},
     "output_type": "display_data"
    },
    {
     "data": {
      "text/html": [
       " View run at <a href='https://wandb.ai/d-massa/jarvis-node-regression/runs/xduzp7h6' target=\"_blank\">https://wandb.ai/d-massa/jarvis-node-regression/runs/xduzp7h6</a>"
      ],
      "text/plain": [
       "<IPython.core.display.HTML object>"
      ]
     },
     "metadata": {},
     "output_type": "display_data"
    },
    {
     "name": "stderr",
     "output_type": "stream",
     "text": [
      "  0%|          | 0/749 [00:00<?, ?it/s]/Users/dariomss/Documents/GitHub/Graph_Project/PyG/lib/python3.9/site-packages/torch/nn/modules/loss.py:538: UserWarning: Using a target size (torch.Size([32])) that is different to the input size (torch.Size([32, 1])). This will likely lead to incorrect results due to broadcasting. Please ensure they have the same size.\n",
      "  return F.mse_loss(input, target, reduction=self.reduction)\n",
      "/Users/dariomss/Documents/GitHub/Graph_Project/PyG/lib/python3.9/site-packages/torch/nn/modules/loss.py:538: UserWarning: Using a target size (torch.Size([22])) that is different to the input size (torch.Size([22, 1])). This will likely lead to incorrect results due to broadcasting. Please ensure they have the same size.\n",
      "  return F.mse_loss(input, target, reduction=self.reduction)\n",
      "100%|██████████| 749/749 [09:48<00:00,  1.27it/s]\n"
     ]
    },
    {
     "data": {
      "text/html": [],
      "text/plain": [
       "<IPython.core.display.HTML object>"
      ]
     },
     "metadata": {},
     "output_type": "display_data"
    },
    {
     "data": {
      "text/html": [
       "<br>    <style><br>        .wandb-row {<br>            display: flex;<br>            flex-direction: row;<br>            flex-wrap: wrap;<br>            justify-content: flex-start;<br>            width: 100%;<br>        }<br>        .wandb-col {<br>            display: flex;<br>            flex-direction: column;<br>            flex-basis: 100%;<br>            flex: 1;<br>            padding: 10px;<br>        }<br>    </style><br><div class=\"wandb-row\"><div class=\"wandb-col\"><h3>Run history:</h3><br/><table class=\"wandb\"><tr><td>gcn_jarvis/test_RMSE</td><td>▇▄▁▆▅▆█▅▆▃▄▇▇▅▆▄▇▅▆▆▆▆▆▆▆▆▆▆▆▆▆▆▆▆▆▆▆▆▆▆</td></tr><tr><td>gcn_jarvis/train_RMSE</td><td>▄▄▆▅▄█▆▆▅▁▃▅▂▅▄▅▅▄▄▅▃▄▄▅▄▅▄▄▄▄▄▅▅▂▅▄▃▃▄▅</td></tr></table><br/></div><div class=\"wandb-col\"><h3>Run summary:</h3><br/><table class=\"wandb\"><tr><td>gcn_jarvis/test_RMSE</td><td>0.95975</td></tr><tr><td>gcn_jarvis/train_RMSE</td><td>0.94844</td></tr></table><br/></div></div>"
      ],
      "text/plain": [
       "<IPython.core.display.HTML object>"
      ]
     },
     "metadata": {},
     "output_type": "display_data"
    },
    {
     "data": {
      "text/html": [
       " View run <strong style=\"color:#cdcd00\">pretty-sweep-4</strong> at: <a href='https://wandb.ai/d-massa/jarvis-node-regression/runs/xduzp7h6' target=\"_blank\">https://wandb.ai/d-massa/jarvis-node-regression/runs/xduzp7h6</a><br> View project at: <a href='https://wandb.ai/d-massa/jarvis-node-regression' target=\"_blank\">https://wandb.ai/d-massa/jarvis-node-regression</a><br>Synced 5 W&B file(s), 0 media file(s), 0 artifact file(s) and 0 other file(s)"
      ],
      "text/plain": [
       "<IPython.core.display.HTML object>"
      ]
     },
     "metadata": {},
     "output_type": "display_data"
    },
    {
     "data": {
      "text/html": [
       "Find logs at: <code>./wandb/run-20250227_132133-xduzp7h6/logs</code>"
      ],
      "text/plain": [
       "<IPython.core.display.HTML object>"
      ]
     },
     "metadata": {},
     "output_type": "display_data"
    },
    {
     "name": "stderr",
     "output_type": "stream",
     "text": [
      "\u001b[34m\u001b[1mwandb\u001b[0m: Agent Starting Run: 0g8x10hi with config:\n",
      "\u001b[34m\u001b[1mwandb\u001b[0m: \thidden_channels: 64\n",
      "\u001b[34m\u001b[1mwandb\u001b[0m: \tlr: 3.148994503347147e-05\n",
      "\u001b[34m\u001b[1mwandb\u001b[0m: \tweight_decay: 0.0004620816166935936\n"
     ]
    },
    {
     "data": {
      "text/html": [
       "Tracking run with wandb version 0.19.7"
      ],
      "text/plain": [
       "<IPython.core.display.HTML object>"
      ]
     },
     "metadata": {},
     "output_type": "display_data"
    },
    {
     "data": {
      "text/html": [
       "Run data is saved locally in <code>/Users/dariomss/Documents/GitHub/Graph_Project/wandb/run-20250227_133130-0g8x10hi</code>"
      ],
      "text/plain": [
       "<IPython.core.display.HTML object>"
      ]
     },
     "metadata": {},
     "output_type": "display_data"
    },
    {
     "data": {
      "text/html": [
       "Syncing run <strong><a href='https://wandb.ai/d-massa/jarvis-node-regression/runs/0g8x10hi' target=\"_blank\">wobbly-sweep-5</a></strong> to <a href='https://wandb.ai/d-massa/jarvis-node-regression' target=\"_blank\">Weights & Biases</a> (<a href='https://wandb.me/developer-guide' target=\"_blank\">docs</a>)<br>Sweep page: <a href='https://wandb.ai/d-massa/jarvis-node-regression/sweeps/usktbhjs' target=\"_blank\">https://wandb.ai/d-massa/jarvis-node-regression/sweeps/usktbhjs</a>"
      ],
      "text/plain": [
       "<IPython.core.display.HTML object>"
      ]
     },
     "metadata": {},
     "output_type": "display_data"
    },
    {
     "data": {
      "text/html": [
       " View project at <a href='https://wandb.ai/d-massa/jarvis-node-regression' target=\"_blank\">https://wandb.ai/d-massa/jarvis-node-regression</a>"
      ],
      "text/plain": [
       "<IPython.core.display.HTML object>"
      ]
     },
     "metadata": {},
     "output_type": "display_data"
    },
    {
     "data": {
      "text/html": [
       " View sweep at <a href='https://wandb.ai/d-massa/jarvis-node-regression/sweeps/usktbhjs' target=\"_blank\">https://wandb.ai/d-massa/jarvis-node-regression/sweeps/usktbhjs</a>"
      ],
      "text/plain": [
       "<IPython.core.display.HTML object>"
      ]
     },
     "metadata": {},
     "output_type": "display_data"
    },
    {
     "data": {
      "text/html": [
       " View run at <a href='https://wandb.ai/d-massa/jarvis-node-regression/runs/0g8x10hi' target=\"_blank\">https://wandb.ai/d-massa/jarvis-node-regression/runs/0g8x10hi</a>"
      ],
      "text/plain": [
       "<IPython.core.display.HTML object>"
      ]
     },
     "metadata": {},
     "output_type": "display_data"
    },
    {
     "name": "stderr",
     "output_type": "stream",
     "text": [
      "  0%|          | 0/749 [00:00<?, ?it/s]/Users/dariomss/Documents/GitHub/Graph_Project/PyG/lib/python3.9/site-packages/torch/nn/modules/loss.py:538: UserWarning: Using a target size (torch.Size([32])) that is different to the input size (torch.Size([32, 1])). This will likely lead to incorrect results due to broadcasting. Please ensure they have the same size.\n",
      "  return F.mse_loss(input, target, reduction=self.reduction)\n",
      "/Users/dariomss/Documents/GitHub/Graph_Project/PyG/lib/python3.9/site-packages/torch/nn/modules/loss.py:538: UserWarning: Using a target size (torch.Size([22])) that is different to the input size (torch.Size([22, 1])). This will likely lead to incorrect results due to broadcasting. Please ensure they have the same size.\n",
      "  return F.mse_loss(input, target, reduction=self.reduction)\n",
      "100%|██████████| 749/749 [13:30<00:00,  1.08s/it]\n"
     ]
    },
    {
     "data": {
      "text/html": [],
      "text/plain": [
       "<IPython.core.display.HTML object>"
      ]
     },
     "metadata": {},
     "output_type": "display_data"
    },
    {
     "data": {
      "text/html": [
       "<br>    <style><br>        .wandb-row {<br>            display: flex;<br>            flex-direction: row;<br>            flex-wrap: wrap;<br>            justify-content: flex-start;<br>            width: 100%;<br>        }<br>        .wandb-col {<br>            display: flex;<br>            flex-direction: column;<br>            flex-basis: 100%;<br>            flex: 1;<br>            padding: 10px;<br>        }<br>    </style><br><div class=\"wandb-row\"><div class=\"wandb-col\"><h3>Run history:</h3><br/><table class=\"wandb\"><tr><td>gcn_jarvis/test_RMSE</td><td>█▄▂▃▂▂▅▃▆▆▆▆▂▁▆▄▂▂▅▅▃▄▄▂▄▄▄▄▄▃▄▂▄▃▄▃▄▃▃▃</td></tr><tr><td>gcn_jarvis/train_RMSE</td><td>▅▅▄▃▅▄▁▇▂▇▃▃▃▅▂▆▄▅▅▆▃▃▂▅▆▄▅▄▃▁▂▂▆▃▄▅▂▄▂█</td></tr></table><br/></div><div class=\"wandb-col\"><h3>Run summary:</h3><br/><table class=\"wandb\"><tr><td>gcn_jarvis/test_RMSE</td><td>0.95863</td></tr><tr><td>gcn_jarvis/train_RMSE</td><td>0.94797</td></tr></table><br/></div></div>"
      ],
      "text/plain": [
       "<IPython.core.display.HTML object>"
      ]
     },
     "metadata": {},
     "output_type": "display_data"
    },
    {
     "data": {
      "text/html": [
       " View run <strong style=\"color:#cdcd00\">wobbly-sweep-5</strong> at: <a href='https://wandb.ai/d-massa/jarvis-node-regression/runs/0g8x10hi' target=\"_blank\">https://wandb.ai/d-massa/jarvis-node-regression/runs/0g8x10hi</a><br> View project at: <a href='https://wandb.ai/d-massa/jarvis-node-regression' target=\"_blank\">https://wandb.ai/d-massa/jarvis-node-regression</a><br>Synced 5 W&B file(s), 0 media file(s), 0 artifact file(s) and 0 other file(s)"
      ],
      "text/plain": [
       "<IPython.core.display.HTML object>"
      ]
     },
     "metadata": {},
     "output_type": "display_data"
    },
    {
     "data": {
      "text/html": [
       "Find logs at: <code>./wandb/run-20250227_133130-0g8x10hi/logs</code>"
      ],
      "text/plain": [
       "<IPython.core.display.HTML object>"
      ]
     },
     "metadata": {},
     "output_type": "display_data"
    },
    {
     "name": "stderr",
     "output_type": "stream",
     "text": [
      "\u001b[34m\u001b[1mwandb\u001b[0m: Agent Starting Run: yw26lwxz with config:\n",
      "\u001b[34m\u001b[1mwandb\u001b[0m: \thidden_channels: 16\n",
      "\u001b[34m\u001b[1mwandb\u001b[0m: \tlr: 0.00020302923122587297\n",
      "\u001b[34m\u001b[1mwandb\u001b[0m: \tweight_decay: 0.0005342382485322213\n"
     ]
    },
    {
     "data": {
      "text/html": [
       "Tracking run with wandb version 0.19.7"
      ],
      "text/plain": [
       "<IPython.core.display.HTML object>"
      ]
     },
     "metadata": {},
     "output_type": "display_data"
    },
    {
     "data": {
      "text/html": [
       "Run data is saved locally in <code>/Users/dariomss/Documents/GitHub/Graph_Project/wandb/run-20250227_134508-yw26lwxz</code>"
      ],
      "text/plain": [
       "<IPython.core.display.HTML object>"
      ]
     },
     "metadata": {},
     "output_type": "display_data"
    },
    {
     "data": {
      "text/html": [
       "Syncing run <strong><a href='https://wandb.ai/d-massa/jarvis-node-regression/runs/yw26lwxz' target=\"_blank\">pious-sweep-6</a></strong> to <a href='https://wandb.ai/d-massa/jarvis-node-regression' target=\"_blank\">Weights & Biases</a> (<a href='https://wandb.me/developer-guide' target=\"_blank\">docs</a>)<br>Sweep page: <a href='https://wandb.ai/d-massa/jarvis-node-regression/sweeps/usktbhjs' target=\"_blank\">https://wandb.ai/d-massa/jarvis-node-regression/sweeps/usktbhjs</a>"
      ],
      "text/plain": [
       "<IPython.core.display.HTML object>"
      ]
     },
     "metadata": {},
     "output_type": "display_data"
    },
    {
     "data": {
      "text/html": [
       " View project at <a href='https://wandb.ai/d-massa/jarvis-node-regression' target=\"_blank\">https://wandb.ai/d-massa/jarvis-node-regression</a>"
      ],
      "text/plain": [
       "<IPython.core.display.HTML object>"
      ]
     },
     "metadata": {},
     "output_type": "display_data"
    },
    {
     "data": {
      "text/html": [
       " View sweep at <a href='https://wandb.ai/d-massa/jarvis-node-regression/sweeps/usktbhjs' target=\"_blank\">https://wandb.ai/d-massa/jarvis-node-regression/sweeps/usktbhjs</a>"
      ],
      "text/plain": [
       "<IPython.core.display.HTML object>"
      ]
     },
     "metadata": {},
     "output_type": "display_data"
    },
    {
     "data": {
      "text/html": [
       " View run at <a href='https://wandb.ai/d-massa/jarvis-node-regression/runs/yw26lwxz' target=\"_blank\">https://wandb.ai/d-massa/jarvis-node-regression/runs/yw26lwxz</a>"
      ],
      "text/plain": [
       "<IPython.core.display.HTML object>"
      ]
     },
     "metadata": {},
     "output_type": "display_data"
    },
    {
     "name": "stderr",
     "output_type": "stream",
     "text": [
      "  0%|          | 0/749 [00:00<?, ?it/s]/Users/dariomss/Documents/GitHub/Graph_Project/PyG/lib/python3.9/site-packages/torch/nn/modules/loss.py:538: UserWarning: Using a target size (torch.Size([32])) that is different to the input size (torch.Size([32, 1])). This will likely lead to incorrect results due to broadcasting. Please ensure they have the same size.\n",
      "  return F.mse_loss(input, target, reduction=self.reduction)\n",
      "/Users/dariomss/Documents/GitHub/Graph_Project/PyG/lib/python3.9/site-packages/torch/nn/modules/loss.py:538: UserWarning: Using a target size (torch.Size([22])) that is different to the input size (torch.Size([22, 1])). This will likely lead to incorrect results due to broadcasting. Please ensure they have the same size.\n",
      "  return F.mse_loss(input, target, reduction=self.reduction)\n",
      "100%|██████████| 749/749 [10:15<00:00,  1.22it/s]\n"
     ]
    },
    {
     "data": {
      "text/html": [],
      "text/plain": [
       "<IPython.core.display.HTML object>"
      ]
     },
     "metadata": {},
     "output_type": "display_data"
    },
    {
     "data": {
      "text/html": [
       "<br>    <style><br>        .wandb-row {<br>            display: flex;<br>            flex-direction: row;<br>            flex-wrap: wrap;<br>            justify-content: flex-start;<br>            width: 100%;<br>        }<br>        .wandb-col {<br>            display: flex;<br>            flex-direction: column;<br>            flex-basis: 100%;<br>            flex: 1;<br>            padding: 10px;<br>        }<br>    </style><br><div class=\"wandb-row\"><div class=\"wandb-col\"><h3>Run history:</h3><br/><table class=\"wandb\"><tr><td>gcn_jarvis/test_RMSE</td><td>▃█▁▃▄▄▄▃▄▄▄▄▄▄▅▄▄▃▄▄▄▄▄▄▄▄▄▄▄▄▄▄▄▄▄▄▄▄▄▄</td></tr><tr><td>gcn_jarvis/train_RMSE</td><td>▆▅▆█▃▄▅▁█▆▃▂▅▆▄▆▇█▃▄▇▅▅▄▄▆▄▆▆▄▄▅▆▄█▅▅▆▇▃</td></tr></table><br/></div><div class=\"wandb-col\"><h3>Run summary:</h3><br/><table class=\"wandb\"><tr><td>gcn_jarvis/test_RMSE</td><td>0.96016</td></tr><tr><td>gcn_jarvis/train_RMSE</td><td>0.8392</td></tr></table><br/></div></div>"
      ],
      "text/plain": [
       "<IPython.core.display.HTML object>"
      ]
     },
     "metadata": {},
     "output_type": "display_data"
    },
    {
     "data": {
      "text/html": [
       " View run <strong style=\"color:#cdcd00\">pious-sweep-6</strong> at: <a href='https://wandb.ai/d-massa/jarvis-node-regression/runs/yw26lwxz' target=\"_blank\">https://wandb.ai/d-massa/jarvis-node-regression/runs/yw26lwxz</a><br> View project at: <a href='https://wandb.ai/d-massa/jarvis-node-regression' target=\"_blank\">https://wandb.ai/d-massa/jarvis-node-regression</a><br>Synced 5 W&B file(s), 0 media file(s), 0 artifact file(s) and 0 other file(s)"
      ],
      "text/plain": [
       "<IPython.core.display.HTML object>"
      ]
     },
     "metadata": {},
     "output_type": "display_data"
    },
    {
     "data": {
      "text/html": [
       "Find logs at: <code>./wandb/run-20250227_134508-yw26lwxz/logs</code>"
      ],
      "text/plain": [
       "<IPython.core.display.HTML object>"
      ]
     },
     "metadata": {},
     "output_type": "display_data"
    },
    {
     "name": "stderr",
     "output_type": "stream",
     "text": [
      "\u001b[34m\u001b[1mwandb\u001b[0m: Agent Starting Run: n9qrydyb with config:\n",
      "\u001b[34m\u001b[1mwandb\u001b[0m: \thidden_channels: 8\n",
      "\u001b[34m\u001b[1mwandb\u001b[0m: \tlr: 8.038258585441644e-05\n",
      "\u001b[34m\u001b[1mwandb\u001b[0m: \tweight_decay: 0.0004814681607807107\n"
     ]
    },
    {
     "data": {
      "text/html": [
       "Tracking run with wandb version 0.19.7"
      ],
      "text/plain": [
       "<IPython.core.display.HTML object>"
      ]
     },
     "metadata": {},
     "output_type": "display_data"
    },
    {
     "data": {
      "text/html": [
       "Run data is saved locally in <code>/Users/dariomss/Documents/GitHub/Graph_Project/wandb/run-20250227_135531-n9qrydyb</code>"
      ],
      "text/plain": [
       "<IPython.core.display.HTML object>"
      ]
     },
     "metadata": {},
     "output_type": "display_data"
    },
    {
     "data": {
      "text/html": [
       "Syncing run <strong><a href='https://wandb.ai/d-massa/jarvis-node-regression/runs/n9qrydyb' target=\"_blank\">wobbly-sweep-7</a></strong> to <a href='https://wandb.ai/d-massa/jarvis-node-regression' target=\"_blank\">Weights & Biases</a> (<a href='https://wandb.me/developer-guide' target=\"_blank\">docs</a>)<br>Sweep page: <a href='https://wandb.ai/d-massa/jarvis-node-regression/sweeps/usktbhjs' target=\"_blank\">https://wandb.ai/d-massa/jarvis-node-regression/sweeps/usktbhjs</a>"
      ],
      "text/plain": [
       "<IPython.core.display.HTML object>"
      ]
     },
     "metadata": {},
     "output_type": "display_data"
    },
    {
     "data": {
      "text/html": [
       " View project at <a href='https://wandb.ai/d-massa/jarvis-node-regression' target=\"_blank\">https://wandb.ai/d-massa/jarvis-node-regression</a>"
      ],
      "text/plain": [
       "<IPython.core.display.HTML object>"
      ]
     },
     "metadata": {},
     "output_type": "display_data"
    },
    {
     "data": {
      "text/html": [
       " View sweep at <a href='https://wandb.ai/d-massa/jarvis-node-regression/sweeps/usktbhjs' target=\"_blank\">https://wandb.ai/d-massa/jarvis-node-regression/sweeps/usktbhjs</a>"
      ],
      "text/plain": [
       "<IPython.core.display.HTML object>"
      ]
     },
     "metadata": {},
     "output_type": "display_data"
    },
    {
     "data": {
      "text/html": [
       " View run at <a href='https://wandb.ai/d-massa/jarvis-node-regression/runs/n9qrydyb' target=\"_blank\">https://wandb.ai/d-massa/jarvis-node-regression/runs/n9qrydyb</a>"
      ],
      "text/plain": [
       "<IPython.core.display.HTML object>"
      ]
     },
     "metadata": {},
     "output_type": "display_data"
    },
    {
     "name": "stderr",
     "output_type": "stream",
     "text": [
      "  0%|          | 0/749 [00:00<?, ?it/s]/Users/dariomss/Documents/GitHub/Graph_Project/PyG/lib/python3.9/site-packages/torch/nn/modules/loss.py:538: UserWarning: Using a target size (torch.Size([32])) that is different to the input size (torch.Size([32, 1])). This will likely lead to incorrect results due to broadcasting. Please ensure they have the same size.\n",
      "  return F.mse_loss(input, target, reduction=self.reduction)\n",
      "/Users/dariomss/Documents/GitHub/Graph_Project/PyG/lib/python3.9/site-packages/torch/nn/modules/loss.py:538: UserWarning: Using a target size (torch.Size([22])) that is different to the input size (torch.Size([22, 1])). This will likely lead to incorrect results due to broadcasting. Please ensure they have the same size.\n",
      "  return F.mse_loss(input, target, reduction=self.reduction)\n",
      "100%|██████████| 749/749 [06:27<00:00,  1.93it/s]\n"
     ]
    },
    {
     "data": {
      "text/html": [],
      "text/plain": [
       "<IPython.core.display.HTML object>"
      ]
     },
     "metadata": {},
     "output_type": "display_data"
    },
    {
     "data": {
      "text/html": [
       "<br>    <style><br>        .wandb-row {<br>            display: flex;<br>            flex-direction: row;<br>            flex-wrap: wrap;<br>            justify-content: flex-start;<br>            width: 100%;<br>        }<br>        .wandb-col {<br>            display: flex;<br>            flex-direction: column;<br>            flex-basis: 100%;<br>            flex: 1;<br>            padding: 10px;<br>        }<br>    </style><br><div class=\"wandb-row\"><div class=\"wandb-col\"><h3>Run history:</h3><br/><table class=\"wandb\"><tr><td>gcn_jarvis/test_RMSE</td><td>▂▅▄▄▁▆█▅▇▅█▅██▆▆▆▅▆▆▇▆▇▇▇▇▇▇▇▇▇▇▇▇▇▇▇▇▇▇</td></tr><tr><td>gcn_jarvis/train_RMSE</td><td>▇▄▃▇▂▃▅▇▆▆▆▄▃█▆▅▃▆▄█▆▅▄▂▄█▅▄▁▄▃▃▃▅▅▅▆▄▄▄</td></tr></table><br/></div><div class=\"wandb-col\"><h3>Run summary:</h3><br/><table class=\"wandb\"><tr><td>gcn_jarvis/test_RMSE</td><td>0.9602</td></tr><tr><td>gcn_jarvis/train_RMSE</td><td>1.00026</td></tr></table><br/></div></div>"
      ],
      "text/plain": [
       "<IPython.core.display.HTML object>"
      ]
     },
     "metadata": {},
     "output_type": "display_data"
    },
    {
     "data": {
      "text/html": [
       " View run <strong style=\"color:#cdcd00\">wobbly-sweep-7</strong> at: <a href='https://wandb.ai/d-massa/jarvis-node-regression/runs/n9qrydyb' target=\"_blank\">https://wandb.ai/d-massa/jarvis-node-regression/runs/n9qrydyb</a><br> View project at: <a href='https://wandb.ai/d-massa/jarvis-node-regression' target=\"_blank\">https://wandb.ai/d-massa/jarvis-node-regression</a><br>Synced 5 W&B file(s), 0 media file(s), 0 artifact file(s) and 0 other file(s)"
      ],
      "text/plain": [
       "<IPython.core.display.HTML object>"
      ]
     },
     "metadata": {},
     "output_type": "display_data"
    },
    {
     "data": {
      "text/html": [
       "Find logs at: <code>./wandb/run-20250227_135531-n9qrydyb/logs</code>"
      ],
      "text/plain": [
       "<IPython.core.display.HTML object>"
      ]
     },
     "metadata": {},
     "output_type": "display_data"
    },
    {
     "name": "stderr",
     "output_type": "stream",
     "text": [
      "\u001b[34m\u001b[1mwandb\u001b[0m: Agent Starting Run: nh7mug5p with config:\n",
      "\u001b[34m\u001b[1mwandb\u001b[0m: \thidden_channels: 16\n",
      "\u001b[34m\u001b[1mwandb\u001b[0m: \tlr: 0.00010181018223721635\n",
      "\u001b[34m\u001b[1mwandb\u001b[0m: \tweight_decay: 0.000468892438406752\n"
     ]
    },
    {
     "data": {
      "text/html": [
       "creating run (1.5s)"
      ],
      "text/plain": [
       "<IPython.core.display.HTML object>"
      ]
     },
     "metadata": {},
     "output_type": "display_data"
    },
    {
     "data": {
      "text/html": [
       "Tracking run with wandb version 0.19.7"
      ],
      "text/plain": [
       "<IPython.core.display.HTML object>"
      ]
     },
     "metadata": {},
     "output_type": "display_data"
    },
    {
     "data": {
      "text/html": [
       "Run data is saved locally in <code>/Users/dariomss/Documents/GitHub/Graph_Project/wandb/run-20250227_140208-nh7mug5p</code>"
      ],
      "text/plain": [
       "<IPython.core.display.HTML object>"
      ]
     },
     "metadata": {},
     "output_type": "display_data"
    },
    {
     "data": {
      "text/html": [
       "Syncing run <strong><a href='https://wandb.ai/d-massa/jarvis-node-regression/runs/nh7mug5p' target=\"_blank\">daily-sweep-8</a></strong> to <a href='https://wandb.ai/d-massa/jarvis-node-regression' target=\"_blank\">Weights & Biases</a> (<a href='https://wandb.me/developer-guide' target=\"_blank\">docs</a>)<br>Sweep page: <a href='https://wandb.ai/d-massa/jarvis-node-regression/sweeps/usktbhjs' target=\"_blank\">https://wandb.ai/d-massa/jarvis-node-regression/sweeps/usktbhjs</a>"
      ],
      "text/plain": [
       "<IPython.core.display.HTML object>"
      ]
     },
     "metadata": {},
     "output_type": "display_data"
    },
    {
     "data": {
      "text/html": [
       " View project at <a href='https://wandb.ai/d-massa/jarvis-node-regression' target=\"_blank\">https://wandb.ai/d-massa/jarvis-node-regression</a>"
      ],
      "text/plain": [
       "<IPython.core.display.HTML object>"
      ]
     },
     "metadata": {},
     "output_type": "display_data"
    },
    {
     "data": {
      "text/html": [
       " View sweep at <a href='https://wandb.ai/d-massa/jarvis-node-regression/sweeps/usktbhjs' target=\"_blank\">https://wandb.ai/d-massa/jarvis-node-regression/sweeps/usktbhjs</a>"
      ],
      "text/plain": [
       "<IPython.core.display.HTML object>"
      ]
     },
     "metadata": {},
     "output_type": "display_data"
    },
    {
     "data": {
      "text/html": [
       " View run at <a href='https://wandb.ai/d-massa/jarvis-node-regression/runs/nh7mug5p' target=\"_blank\">https://wandb.ai/d-massa/jarvis-node-regression/runs/nh7mug5p</a>"
      ],
      "text/plain": [
       "<IPython.core.display.HTML object>"
      ]
     },
     "metadata": {},
     "output_type": "display_data"
    },
    {
     "name": "stderr",
     "output_type": "stream",
     "text": [
      "  0%|          | 0/749 [00:00<?, ?it/s]/Users/dariomss/Documents/GitHub/Graph_Project/PyG/lib/python3.9/site-packages/torch/nn/modules/loss.py:538: UserWarning: Using a target size (torch.Size([32])) that is different to the input size (torch.Size([32, 1])). This will likely lead to incorrect results due to broadcasting. Please ensure they have the same size.\n",
      "  return F.mse_loss(input, target, reduction=self.reduction)\n",
      "/Users/dariomss/Documents/GitHub/Graph_Project/PyG/lib/python3.9/site-packages/torch/nn/modules/loss.py:538: UserWarning: Using a target size (torch.Size([22])) that is different to the input size (torch.Size([22, 1])). This will likely lead to incorrect results due to broadcasting. Please ensure they have the same size.\n",
      "  return F.mse_loss(input, target, reduction=self.reduction)\n",
      "100%|██████████| 749/749 [06:44<00:00,  1.85it/s]\n"
     ]
    },
    {
     "data": {
      "text/html": [],
      "text/plain": [
       "<IPython.core.display.HTML object>"
      ]
     },
     "metadata": {},
     "output_type": "display_data"
    },
    {
     "data": {
      "text/html": [
       "<br>    <style><br>        .wandb-row {<br>            display: flex;<br>            flex-direction: row;<br>            flex-wrap: wrap;<br>            justify-content: flex-start;<br>            width: 100%;<br>        }<br>        .wandb-col {<br>            display: flex;<br>            flex-direction: column;<br>            flex-basis: 100%;<br>            flex: 1;<br>            padding: 10px;<br>        }<br>    </style><br><div class=\"wandb-row\"><div class=\"wandb-col\"><h3>Run history:</h3><br/><table class=\"wandb\"><tr><td>gcn_jarvis/test_RMSE</td><td>▆▁█▃▆▃▆▆▅▇▇▃▅▆▆▆▆▆▆▆▆▆▆▆▆▆▆▆▆▆▆▆▆▆▆▆▆▆▆▆</td></tr><tr><td>gcn_jarvis/train_RMSE</td><td>▃▆▁▄█▅▄▅▆▅▃▃▅▄▆▅▆▄▅▃▆▂▅▆▄▄▁▅▄▂▄▃▆▆▃▅▄▄▅▅</td></tr></table><br/></div><div class=\"wandb-col\"><h3>Run summary:</h3><br/><table class=\"wandb\"><tr><td>gcn_jarvis/test_RMSE</td><td>0.96011</td></tr><tr><td>gcn_jarvis/train_RMSE</td><td>0.83917</td></tr></table><br/></div></div>"
      ],
      "text/plain": [
       "<IPython.core.display.HTML object>"
      ]
     },
     "metadata": {},
     "output_type": "display_data"
    },
    {
     "data": {
      "text/html": [
       " View run <strong style=\"color:#cdcd00\">daily-sweep-8</strong> at: <a href='https://wandb.ai/d-massa/jarvis-node-regression/runs/nh7mug5p' target=\"_blank\">https://wandb.ai/d-massa/jarvis-node-regression/runs/nh7mug5p</a><br> View project at: <a href='https://wandb.ai/d-massa/jarvis-node-regression' target=\"_blank\">https://wandb.ai/d-massa/jarvis-node-regression</a><br>Synced 5 W&B file(s), 0 media file(s), 0 artifact file(s) and 0 other file(s)"
      ],
      "text/plain": [
       "<IPython.core.display.HTML object>"
      ]
     },
     "metadata": {},
     "output_type": "display_data"
    },
    {
     "data": {
      "text/html": [
       "Find logs at: <code>./wandb/run-20250227_140208-nh7mug5p/logs</code>"
      ],
      "text/plain": [
       "<IPython.core.display.HTML object>"
      ]
     },
     "metadata": {},
     "output_type": "display_data"
    },
    {
     "name": "stderr",
     "output_type": "stream",
     "text": [
      "\u001b[34m\u001b[1mwandb\u001b[0m: Sweep Agent: Waiting for job.\n",
      "\u001b[34m\u001b[1mwandb\u001b[0m: Job received.\n",
      "\u001b[34m\u001b[1mwandb\u001b[0m: Agent Starting Run: ppsdngy1 with config:\n",
      "\u001b[34m\u001b[1mwandb\u001b[0m: \thidden_channels: 8\n",
      "\u001b[34m\u001b[1mwandb\u001b[0m: \tlr: 0.00022649664297711333\n",
      "\u001b[34m\u001b[1mwandb\u001b[0m: \tweight_decay: 0.0005188244929534632\n"
     ]
    },
    {
     "data": {
      "text/html": [
       "Tracking run with wandb version 0.19.7"
      ],
      "text/plain": [
       "<IPython.core.display.HTML object>"
      ]
     },
     "metadata": {},
     "output_type": "display_data"
    },
    {
     "data": {
      "text/html": [
       "Run data is saved locally in <code>/Users/dariomss/Documents/GitHub/Graph_Project/wandb/run-20250227_140910-ppsdngy1</code>"
      ],
      "text/plain": [
       "<IPython.core.display.HTML object>"
      ]
     },
     "metadata": {},
     "output_type": "display_data"
    },
    {
     "data": {
      "text/html": [
       "Syncing run <strong><a href='https://wandb.ai/d-massa/jarvis-node-regression/runs/ppsdngy1' target=\"_blank\">dauntless-sweep-9</a></strong> to <a href='https://wandb.ai/d-massa/jarvis-node-regression' target=\"_blank\">Weights & Biases</a> (<a href='https://wandb.me/developer-guide' target=\"_blank\">docs</a>)<br>Sweep page: <a href='https://wandb.ai/d-massa/jarvis-node-regression/sweeps/usktbhjs' target=\"_blank\">https://wandb.ai/d-massa/jarvis-node-regression/sweeps/usktbhjs</a>"
      ],
      "text/plain": [
       "<IPython.core.display.HTML object>"
      ]
     },
     "metadata": {},
     "output_type": "display_data"
    },
    {
     "data": {
      "text/html": [
       " View project at <a href='https://wandb.ai/d-massa/jarvis-node-regression' target=\"_blank\">https://wandb.ai/d-massa/jarvis-node-regression</a>"
      ],
      "text/plain": [
       "<IPython.core.display.HTML object>"
      ]
     },
     "metadata": {},
     "output_type": "display_data"
    },
    {
     "data": {
      "text/html": [
       " View sweep at <a href='https://wandb.ai/d-massa/jarvis-node-regression/sweeps/usktbhjs' target=\"_blank\">https://wandb.ai/d-massa/jarvis-node-regression/sweeps/usktbhjs</a>"
      ],
      "text/plain": [
       "<IPython.core.display.HTML object>"
      ]
     },
     "metadata": {},
     "output_type": "display_data"
    },
    {
     "data": {
      "text/html": [
       " View run at <a href='https://wandb.ai/d-massa/jarvis-node-regression/runs/ppsdngy1' target=\"_blank\">https://wandb.ai/d-massa/jarvis-node-regression/runs/ppsdngy1</a>"
      ],
      "text/plain": [
       "<IPython.core.display.HTML object>"
      ]
     },
     "metadata": {},
     "output_type": "display_data"
    },
    {
     "name": "stderr",
     "output_type": "stream",
     "text": [
      "  0%|          | 0/749 [00:00<?, ?it/s]/Users/dariomss/Documents/GitHub/Graph_Project/PyG/lib/python3.9/site-packages/torch/nn/modules/loss.py:538: UserWarning: Using a target size (torch.Size([32])) that is different to the input size (torch.Size([32, 1])). This will likely lead to incorrect results due to broadcasting. Please ensure they have the same size.\n",
      "  return F.mse_loss(input, target, reduction=self.reduction)\n",
      "/Users/dariomss/Documents/GitHub/Graph_Project/PyG/lib/python3.9/site-packages/torch/nn/modules/loss.py:538: UserWarning: Using a target size (torch.Size([22])) that is different to the input size (torch.Size([22, 1])). This will likely lead to incorrect results due to broadcasting. Please ensure they have the same size.\n",
      "  return F.mse_loss(input, target, reduction=self.reduction)\n",
      "100%|██████████| 749/749 [06:33<00:00,  1.90it/s]\n"
     ]
    },
    {
     "data": {
      "text/html": [],
      "text/plain": [
       "<IPython.core.display.HTML object>"
      ]
     },
     "metadata": {},
     "output_type": "display_data"
    },
    {
     "data": {
      "text/html": [
       "<br>    <style><br>        .wandb-row {<br>            display: flex;<br>            flex-direction: row;<br>            flex-wrap: wrap;<br>            justify-content: flex-start;<br>            width: 100%;<br>        }<br>        .wandb-col {<br>            display: flex;<br>            flex-direction: column;<br>            flex-basis: 100%;<br>            flex: 1;<br>            padding: 10px;<br>        }<br>    </style><br><div class=\"wandb-row\"><div class=\"wandb-col\"><h3>Run history:</h3><br/><table class=\"wandb\"><tr><td>gcn_jarvis/test_RMSE</td><td>█▃▁█▅▆▅▆▅▅▆▆▆▆▆▆▆▅▅▆▆▅▅▆▅▅▅▆▆▆▅▆▆▅▆▆▆▅▆▅</td></tr><tr><td>gcn_jarvis/train_RMSE</td><td>▄▅▄▄▅█▅▃▂▄▅▄▅▅▂▅▆▃▂▅▇▃▂▁▄▂▄▄▆▄▄▄▄▂▃▂▄▄▃▃</td></tr></table><br/></div><div class=\"wandb-col\"><h3>Run summary:</h3><br/><table class=\"wandb\"><tr><td>gcn_jarvis/test_RMSE</td><td>0.9601</td></tr><tr><td>gcn_jarvis/train_RMSE</td><td>1.00018</td></tr></table><br/></div></div>"
      ],
      "text/plain": [
       "<IPython.core.display.HTML object>"
      ]
     },
     "metadata": {},
     "output_type": "display_data"
    },
    {
     "data": {
      "text/html": [
       " View run <strong style=\"color:#cdcd00\">dauntless-sweep-9</strong> at: <a href='https://wandb.ai/d-massa/jarvis-node-regression/runs/ppsdngy1' target=\"_blank\">https://wandb.ai/d-massa/jarvis-node-regression/runs/ppsdngy1</a><br> View project at: <a href='https://wandb.ai/d-massa/jarvis-node-regression' target=\"_blank\">https://wandb.ai/d-massa/jarvis-node-regression</a><br>Synced 5 W&B file(s), 0 media file(s), 0 artifact file(s) and 0 other file(s)"
      ],
      "text/plain": [
       "<IPython.core.display.HTML object>"
      ]
     },
     "metadata": {},
     "output_type": "display_data"
    },
    {
     "data": {
      "text/html": [
       "Find logs at: <code>./wandb/run-20250227_140910-ppsdngy1/logs</code>"
      ],
      "text/plain": [
       "<IPython.core.display.HTML object>"
      ]
     },
     "metadata": {},
     "output_type": "display_data"
    },
    {
     "name": "stderr",
     "output_type": "stream",
     "text": [
      "\u001b[34m\u001b[1mwandb\u001b[0m: Agent Starting Run: bsi3w8h2 with config:\n",
      "\u001b[34m\u001b[1mwandb\u001b[0m: \thidden_channels: 16\n",
      "\u001b[34m\u001b[1mwandb\u001b[0m: \tlr: 0.00033267817900249635\n",
      "\u001b[34m\u001b[1mwandb\u001b[0m: \tweight_decay: 0.0004705557833147158\n"
     ]
    },
    {
     "data": {
      "text/html": [],
      "text/plain": [
       "<IPython.core.display.HTML object>"
      ]
     },
     "metadata": {},
     "output_type": "display_data"
    },
    {
     "data": {
      "text/html": [
       "Tracking run with wandb version 0.19.7"
      ],
      "text/plain": [
       "<IPython.core.display.HTML object>"
      ]
     },
     "metadata": {},
     "output_type": "display_data"
    },
    {
     "data": {
      "text/html": [
       "Run data is saved locally in <code>/Users/dariomss/Documents/GitHub/Graph_Project/wandb/run-20250227_141554-bsi3w8h2</code>"
      ],
      "text/plain": [
       "<IPython.core.display.HTML object>"
      ]
     },
     "metadata": {},
     "output_type": "display_data"
    },
    {
     "data": {
      "text/html": [
       "Syncing run <strong><a href='https://wandb.ai/d-massa/jarvis-node-regression/runs/bsi3w8h2' target=\"_blank\">wandering-sweep-10</a></strong> to <a href='https://wandb.ai/d-massa/jarvis-node-regression' target=\"_blank\">Weights & Biases</a> (<a href='https://wandb.me/developer-guide' target=\"_blank\">docs</a>)<br>Sweep page: <a href='https://wandb.ai/d-massa/jarvis-node-regression/sweeps/usktbhjs' target=\"_blank\">https://wandb.ai/d-massa/jarvis-node-regression/sweeps/usktbhjs</a>"
      ],
      "text/plain": [
       "<IPython.core.display.HTML object>"
      ]
     },
     "metadata": {},
     "output_type": "display_data"
    },
    {
     "data": {
      "text/html": [
       " View project at <a href='https://wandb.ai/d-massa/jarvis-node-regression' target=\"_blank\">https://wandb.ai/d-massa/jarvis-node-regression</a>"
      ],
      "text/plain": [
       "<IPython.core.display.HTML object>"
      ]
     },
     "metadata": {},
     "output_type": "display_data"
    },
    {
     "data": {
      "text/html": [
       " View sweep at <a href='https://wandb.ai/d-massa/jarvis-node-regression/sweeps/usktbhjs' target=\"_blank\">https://wandb.ai/d-massa/jarvis-node-regression/sweeps/usktbhjs</a>"
      ],
      "text/plain": [
       "<IPython.core.display.HTML object>"
      ]
     },
     "metadata": {},
     "output_type": "display_data"
    },
    {
     "data": {
      "text/html": [
       " View run at <a href='https://wandb.ai/d-massa/jarvis-node-regression/runs/bsi3w8h2' target=\"_blank\">https://wandb.ai/d-massa/jarvis-node-regression/runs/bsi3w8h2</a>"
      ],
      "text/plain": [
       "<IPython.core.display.HTML object>"
      ]
     },
     "metadata": {},
     "output_type": "display_data"
    },
    {
     "name": "stderr",
     "output_type": "stream",
     "text": [
      "  0%|          | 0/749 [00:00<?, ?it/s]/Users/dariomss/Documents/GitHub/Graph_Project/PyG/lib/python3.9/site-packages/torch/nn/modules/loss.py:538: UserWarning: Using a target size (torch.Size([32])) that is different to the input size (torch.Size([32, 1])). This will likely lead to incorrect results due to broadcasting. Please ensure they have the same size.\n",
      "  return F.mse_loss(input, target, reduction=self.reduction)\n",
      "/Users/dariomss/Documents/GitHub/Graph_Project/PyG/lib/python3.9/site-packages/torch/nn/modules/loss.py:538: UserWarning: Using a target size (torch.Size([22])) that is different to the input size (torch.Size([22, 1])). This will likely lead to incorrect results due to broadcasting. Please ensure they have the same size.\n",
      "  return F.mse_loss(input, target, reduction=self.reduction)\n",
      "100%|██████████| 749/749 [07:28<00:00,  1.67it/s]\n"
     ]
    },
    {
     "data": {
      "text/html": [],
      "text/plain": [
       "<IPython.core.display.HTML object>"
      ]
     },
     "metadata": {},
     "output_type": "display_data"
    },
    {
     "data": {
      "text/html": [
       "<br>    <style><br>        .wandb-row {<br>            display: flex;<br>            flex-direction: row;<br>            flex-wrap: wrap;<br>            justify-content: flex-start;<br>            width: 100%;<br>        }<br>        .wandb-col {<br>            display: flex;<br>            flex-direction: column;<br>            flex-basis: 100%;<br>            flex: 1;<br>            padding: 10px;<br>        }<br>    </style><br><div class=\"wandb-row\"><div class=\"wandb-col\"><h3>Run history:</h3><br/><table class=\"wandb\"><tr><td>gcn_jarvis/test_RMSE</td><td>█▇▄▁▃▃▃▂▂▂▂▂▂▂▂▂▂▂▂▂▂▂▂▂▂▂▂▂▂▂▂▂▂▂▂▂▂▂▂▂</td></tr><tr><td>gcn_jarvis/train_RMSE</td><td>█▆▄▄▆▁▅▂▇▆▆▃█▄▆▇▄▃▆▄▆▂▄▄▆▄▅▄▃▄▃▆▆▇██▂▄▆▇</td></tr></table><br/></div><div class=\"wandb-col\"><h3>Run summary:</h3><br/><table class=\"wandb\"><tr><td>gcn_jarvis/test_RMSE</td><td>0.96019</td></tr><tr><td>gcn_jarvis/train_RMSE</td><td>0.83921</td></tr></table><br/></div></div>"
      ],
      "text/plain": [
       "<IPython.core.display.HTML object>"
      ]
     },
     "metadata": {},
     "output_type": "display_data"
    },
    {
     "data": {
      "text/html": [
       " View run <strong style=\"color:#cdcd00\">wandering-sweep-10</strong> at: <a href='https://wandb.ai/d-massa/jarvis-node-regression/runs/bsi3w8h2' target=\"_blank\">https://wandb.ai/d-massa/jarvis-node-regression/runs/bsi3w8h2</a><br> View project at: <a href='https://wandb.ai/d-massa/jarvis-node-regression' target=\"_blank\">https://wandb.ai/d-massa/jarvis-node-regression</a><br>Synced 5 W&B file(s), 0 media file(s), 0 artifact file(s) and 0 other file(s)"
      ],
      "text/plain": [
       "<IPython.core.display.HTML object>"
      ]
     },
     "metadata": {},
     "output_type": "display_data"
    },
    {
     "data": {
      "text/html": [
       "Find logs at: <code>./wandb/run-20250227_141554-bsi3w8h2/logs</code>"
      ],
      "text/plain": [
       "<IPython.core.display.HTML object>"
      ]
     },
     "metadata": {},
     "output_type": "display_data"
    }
   ],
   "source": [
    "# Run the Sweeps agent\n",
    "wandb.agent(sweep_id, project=\"jarvis-node-regression\", function=agent_fn, count=10)"
   ]
  },
  {
   "cell_type": "code",
   "execution_count": null,
   "metadata": {},
   "outputs": [],
   "source": []
  }
 ],
 "metadata": {
  "kernelspec": {
   "display_name": "PyG",
   "language": "python",
   "name": "python3"
  },
  "language_info": {
   "codemirror_mode": {
    "name": "ipython",
    "version": 3
   },
   "file_extension": ".py",
   "mimetype": "text/x-python",
   "name": "python",
   "nbconvert_exporter": "python",
   "pygments_lexer": "ipython3",
   "version": "3.9.13"
  }
 },
 "nbformat": 4,
 "nbformat_minor": 2
}
