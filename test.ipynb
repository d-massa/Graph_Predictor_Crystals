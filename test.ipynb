{
 "cells": [
  {
   "cell_type": "markdown",
   "metadata": {},
   "source": [
    "# DATASET"
   ]
  },
  {
   "cell_type": "code",
   "execution_count": 1,
   "metadata": {},
   "outputs": [],
   "source": [
    "from monty.serialization import loadfn, MontyDecoder,MontyEncoder\n",
    "import matplotlib.pyplot as plt\n",
    "plt.switch_backend('agg')\n",
    "import json,math,os\n",
    "import numpy as np\n",
    "import pandas as pd\n",
    "import pprint"
   ]
  },
  {
   "cell_type": "code",
   "execution_count": 2,
   "metadata": {},
   "outputs": [],
   "source": [
    "dat_3d = loadfn('jdft_3d-12-12-2022.json',cls=MontyDecoder)"
   ]
  },
  {
   "cell_type": "code",
   "execution_count": 3,
   "metadata": {},
   "outputs": [
    {
     "name": "stdout",
     "output_type": "stream",
     "text": [
      "75993\n"
     ]
    }
   ],
   "source": [
    "print(len(dat_3d))"
   ]
  },
  {
   "cell_type": "code",
   "execution_count": 4,
   "metadata": {},
   "outputs": [
    {
     "data": {
      "text/plain": [
       "{'jid': 'JVASP-90856',\n",
       " 'spg_number': '129',\n",
       " 'spg_symbol': 'P4/nmm',\n",
       " 'formula': 'TiCuSiAs',\n",
       " 'formation_energy_peratom': -0.42762,\n",
       " 'func': 'OptB88vdW',\n",
       " 'optb88vdw_bandgap': 0.0,\n",
       " 'atoms': {'lattice_mat': [[3.566933224304235, 0.0, -0.0],\n",
       "   [0.0, 3.566933224304235, -0.0],\n",
       "   [-0.0, -0.0, 9.397075454186664]],\n",
       "  'coords': [[2.6751975000000003, 2.6751975000000003, 7.376101754328542],\n",
       "   [0.8917325, 0.8917325, 2.0209782456714573],\n",
       "   [0.8917325, 2.6751975000000003, 4.69854],\n",
       "   [2.6751975000000003, 0.8917325, 4.69854],\n",
       "   [0.8917325, 2.6751975000000003, 0.0],\n",
       "   [2.6751975000000003, 0.8917325, 0.0],\n",
       "   [2.6751975000000003, 2.6751975000000003, 2.8894795605846353],\n",
       "   [0.8917325, 0.8917325, 6.507600439415366]],\n",
       "  'elements': ['Ti', 'Ti', 'Cu', 'Cu', 'Si', 'Si', 'As', 'As'],\n",
       "  'abc': [3.56693, 3.56693, 9.39708],\n",
       "  'angles': [90.0, 90.0, 90.0],\n",
       "  'cartesian': True,\n",
       "  'props': ['', '', '', '', '', '', '', '']},\n",
       " 'slme': 'na',\n",
       " 'magmom_oszicar': 0.0,\n",
       " 'spillage': 'na',\n",
       " 'elastic_tensor': 'na',\n",
       " 'effective_masses_300K': {'p': 'na', 'n': 'na'},\n",
       " 'kpoint_length_unit': 60,\n",
       " 'maxdiff_mesh': 'na',\n",
       " 'maxdiff_bz': 'na',\n",
       " 'encut': 650,\n",
       " 'optb88vdw_total_energy': -3.37474,\n",
       " 'epsx': 76.23,\n",
       " 'epsy': 76.23,\n",
       " 'epsz': 54.0402,\n",
       " 'mepsx': 'na',\n",
       " 'mepsy': 'na',\n",
       " 'mepsz': 'na',\n",
       " 'modes': 'na',\n",
       " 'magmom_outcar': 0.0,\n",
       " 'max_efg': 'na',\n",
       " 'avg_elec_mass': 'na',\n",
       " 'avg_hole_mass': 'na',\n",
       " 'icsd': '',\n",
       " 'dfpt_piezo_max_eij': 'na',\n",
       " 'dfpt_piezo_max_dij': 'na',\n",
       " 'dfpt_piezo_max_dielectric': 'na',\n",
       " 'dfpt_piezo_max_dielectric_electronic': 'na',\n",
       " 'dfpt_piezo_max_dielectric_ionic': 'na',\n",
       " 'max_ir_mode': 'na',\n",
       " 'min_ir_mode': 'na',\n",
       " 'n-Seebeck': 'na',\n",
       " 'p-Seebeck': 'na',\n",
       " 'n-powerfact': 'na',\n",
       " 'p-powerfact': 'na',\n",
       " 'ncond': 'na',\n",
       " 'pcond': 'na',\n",
       " 'nkappa': 'na',\n",
       " 'pkappa': 'na',\n",
       " 'ehull': 0.0423,\n",
       " 'Tc_supercon': 'na',\n",
       " 'dimensionality': '3D-bulk',\n",
       " 'efg': [],\n",
       " 'xml_data_link': \"<a href=https://www.ctcms.nist.gov/~knc6/static/JARVIS-DFT/JVASP-90856.xml target='_blank' >JVASP-90856</a>\",\n",
       " 'typ': 'bulk',\n",
       " 'exfoliation_energy': 'na',\n",
       " 'spg': '129',\n",
       " 'crys': 'tetragonal',\n",
       " 'density': 5.956,\n",
       " 'poisson': 'na',\n",
       " 'raw_files': [],\n",
       " 'nat': 8,\n",
       " 'bulk_modulus_kv': 'na',\n",
       " 'shear_modulus_gv': 'na',\n",
       " 'mbj_bandgap': 'na',\n",
       " 'hse_gap': 'na',\n",
       " 'reference': 'mp-1080455',\n",
       " 'search': '-As-Cu-Si-Ti'}"
      ]
     },
     "execution_count": 4,
     "metadata": {},
     "output_type": "execute_result"
    }
   ],
   "source": [
    "dat_3d[0]"
   ]
  },
  {
   "cell_type": "markdown",
   "metadata": {},
   "source": [
    "\n",
    "\n",
    "**form_enp**: formation energy per atom (eV/atom),\n",
    "\n",
    "**op_gap**  : OptB88vdW functional based bandgap (eV),\n",
    "\n",
    "**mbj_ga**p : TBmBJ functional based bandgap (eV),\n",
    "\n",
    "**kv**      : Voigt bulk mod. (GPa),\n",
    "\n",
    "**gv**      : Shear bulk mod. (GPa),\n",
    "\n",
    "**elastic** : elastic tensor instring format, use the function 'get_et' to convert into pymatgen elastictensor object,\n",
    "\n",
    "**epsx**    : Static dielctric function value in x-direction based on OptB88vdW (no unit),\n",
    "\n",
    "**mepsx**   : Static dielctric function value in x-direction based on TBmBJ (no unit),\n",
    "\n",
    "**magmom**  : Magnetic moment (Bohr magneton) (from OUTCAR and from OSZICAR), generally OSZICAR value is preferred, no DFT+U,\n",
    "\n",
    "**kp_len**  : Kpoint automatic line density obtained after automatic convergence (Angstrom), substract 25 because 5 extra points,\n",
    "\n",
    "**encut**   : Plane wave cut-off value obtained after automatic convergence,\n",
    "\n",
    "**exfoliation_en**: exfoliation energy,\n",
    "\n",
    "**phi**     : 2D work-function related values,\n",
    "\n",
    "**final_str**: final structure after relaxation with OptB88vdW,\n",
    "\n",
    "**eff_mass**: effective mass with BoltzTrap at 300K,\n",
    "\n",
    "**spillage**: spin-orbit spillage as measure of band-inversion.\n",
    "Here 'na' signifies non-available data# Each element in the data is a key-value pair based dictionary.\n",
    "\n",
    "\n"
   ]
  },
  {
   "cell_type": "code",
   "execution_count": 5,
   "metadata": {},
   "outputs": [],
   "source": [
    "jid, formula, ehull, optb88vdw_bandgap, atoms, url =[],[],[],[],[],[]\n",
    "\n",
    "for idx,i in enumerate(dat_3d):\n",
    "    if idx<8000:\n",
    "      jid.append(i['jid'])\n",
    "      formula.append(i['formula'])\n",
    "      ehull.append(float(i['ehull']))\n",
    "      optb88vdw_bandgap.append(float(i['optb88vdw_bandgap']))\n",
    "      atoms.append(i['atoms'])\n",
    "      url.append(str(\"https://www.ctcms.nist.gov/~knc6/jsmol/\")+str(i['jid'])+str(\".html\"))"
   ]
  },
  {
   "cell_type": "code",
   "execution_count": 6,
   "metadata": {},
   "outputs": [],
   "source": [
    "df = pd.DataFrame([jid, formula, ehull, optb88vdw_bandgap, atoms, url])\n",
    "df = df.transpose()\n",
    "headers = ['jid', 'formula', 'ehull', 'optb88vdw_bandgap', 'atoms', 'url']\n",
    "df.columns = headers"
   ]
  },
  {
   "cell_type": "code",
   "execution_count": 7,
   "metadata": {},
   "outputs": [
    {
     "data": {
      "application/vnd.microsoft.datawrangler.viewer.v0+json": {
       "columns": [
        {
         "name": "index",
         "rawType": "int64",
         "type": "integer"
        },
        {
         "name": "jid",
         "rawType": "object",
         "type": "string"
        },
        {
         "name": "formula",
         "rawType": "object",
         "type": "string"
        },
        {
         "name": "ehull",
         "rawType": "object",
         "type": "unknown"
        },
        {
         "name": "optb88vdw_bandgap",
         "rawType": "object",
         "type": "unknown"
        },
        {
         "name": "atoms",
         "rawType": "object",
         "type": "unknown"
        },
        {
         "name": "url",
         "rawType": "object",
         "type": "string"
        }
       ],
       "conversionMethod": "pd.DataFrame",
       "ref": "b69b4df9-09a5-49b9-a037-7b9cbfcd2081",
       "rows": [
        [
         "0",
         "JVASP-90856",
         "TiCuSiAs",
         "0.0423",
         "0.0",
         "{'lattice_mat': [[3.566933224304235, 0.0, -0.0], [0.0, 3.566933224304235, -0.0], [-0.0, -0.0, 9.397075454186664]], 'coords': [[2.6751975000000003, 2.6751975000000003, 7.376101754328542], [0.8917325, 0.8917325, 2.0209782456714573], [0.8917325, 2.6751975000000003, 4.69854], [2.6751975000000003, 0.8917325, 4.69854], [0.8917325, 2.6751975000000003, 0.0], [2.6751975000000003, 0.8917325, 0.0], [2.6751975000000003, 2.6751975000000003, 2.8894795605846353], [0.8917325, 0.8917325, 6.507600439415366]], 'elements': ['Ti', 'Ti', 'Cu', 'Cu', 'Si', 'Si', 'As', 'As'], 'abc': [3.56693, 3.56693, 9.39708], 'angles': [90.0, 90.0, 90.0], 'cartesian': True, 'props': ['', '', '', '', '', '', '', '']}",
         "https://www.ctcms.nist.gov/~knc6/jsmol/JVASP-90856.html"
        ],
        [
         "1",
         "JVASP-86097",
         "DyB6",
         "0.0456",
         "0.0",
         "{'lattice_mat': [[4.089078911208881, 0.0, 0.0], [-0.0, 4.089078911208881, -0.0], [0.0, -0.0, 4.089078911208881]], 'coords': [[0.0, 0.0, 0.0], [0.8121488741123271, 2.04454, 2.04454], [2.04454, 3.276931125887674, 2.04454], [2.04454, 0.8121488741123271, 2.04454], [3.276931125887674, 2.04454, 2.04454], [2.04454, 2.04454, 0.8121488741123271], [2.04454, 2.04454, 3.276931125887674]], 'elements': ['Dy', 'B', 'B', 'B', 'B', 'B', 'B'], 'abc': [4.08908, 4.08908, 4.08908], 'angles': [90.0, 90.0, 90.0], 'cartesian': True, 'props': ['', '', '', '', '', '', '']}",
         "https://www.ctcms.nist.gov/~knc6/jsmol/JVASP-86097.html"
        ],
        [
         "2",
         "JVASP-64906",
         "Be2OsRu",
         "0.3183",
         "0.0",
         "{'lattice_mat': [[-1.833590720595598, 1.833590720595598, 3.4849681632445244], [1.833590720595598, -1.833590720595598, 3.4849681632445244], [1.833590720595598, 1.833590720595598, -3.4849681632445244]], 'coords': [[0.0, 0.0, 0.0], [1.83359, 0.0, 1.742485], [0.0, 0.0, 3.48497], [0.0, 1.83359, 1.742485]], 'elements': ['Be', 'Be', 'Os', 'Ru'], 'abc': [4.34386, 4.34386, 4.34386], 'angles': [130.0642, 130.0642, 73.3042], 'cartesian': True, 'props': ['', '', '', '']}",
         "https://www.ctcms.nist.gov/~knc6/jsmol/JVASP-64906.html"
        ],
        [
         "3",
         "JVASP-98225",
         "KBi",
         "0.0",
         "0.472",
         "{'lattice_mat': [[7.2963518353359165, 0.0, 0.0], [0.0, 12.357041682775112, -5.2845586858227165], [0.0, -0.0387593429993432, 14.224638121809875]], 'coords': [[0.915242849989437, 6.855852122669934, 9.072691488805011], [4.624926092686879, 4.410242674901673, 10.692815115124906], [6.319598907313122, 10.588762674901673, 8.050535115124907], [2.6714239073131205, 7.908037325098326, -1.7527351151248998], [2.160203276580653, 0.46740047015408986, 5.445837057504562], [5.808378276580651, 5.672359529845909, 6.136522942495441], [5.136146723419349, 11.850879529845914, 3.4942429424954384], [1.4879717234193466, 6.645920470154087, 2.8035570575045634], [0.9767510926868789, 1.7295173250983271, 0.8895448848751], [4.149189130241182, 3.7835217605140947, 3.289715069117776], [6.795335869758818, 9.962041760514095, 0.6474350691177748], [3.147160869758816, 8.534758239485901, 5.650364930882219], [2.732932150010564, 0.6773321226699319, 11.714971488805013], [6.3811071500105605, 5.462427877330069, -0.13261148880500784], [4.56341784998944, 11.640947877330065, -2.774891488805006], [0.5010141302411835, 2.3562382394859105, 8.292644930882215], [2.57977406359738, 10.129401145455988, 8.824521146549861], [6.227949063597383, 8.367398854544012, -2.5267211465498614], [2.8191403695947996, 4.588088605622105, -0.30548283747092936], [6.467315369594803, 1.5516713943778946, 11.887842837470933], [4.477209630405198, 7.730191394377894, 9.245562837470933], [0.8290346304051991, 10.766608605622105, -2.947762837470929], [0.44432405371819356, 3.3442489732904943, 4.068158750100403], [3.2038509462818063, 9.5227689732905, 1.4258787501003996], [6.852025946281809, 8.974031026709499, 4.871921249899597], [2.125497471695336, 4.814663054405411, 6.181902909761823], [5.773672471695338, 1.3250969455945911, 5.40045709023818], [5.170852528304662, 7.503616945594589, 2.7581770902381804], [1.5226775283046639, 10.99318305440541, 3.5396229097618233], [1.0684009364026184, 3.950881145455989, 11.46680114654986], [4.092499053718192, 2.7955110267095065, 7.514201249899595], [4.716575936402617, 2.188878854544011, 0.11555885345013912]], 'elements': ['K', 'K', 'K', 'K', 'K', 'K', 'K', 'K', 'K', 'K', 'K', 'K', 'K', 'K', 'K', 'K', 'Bi', 'Bi', 'Bi', 'Bi', 'Bi', 'Bi', 'Bi', 'Bi', 'Bi', 'Bi', 'Bi', 'Bi', 'Bi', 'Bi', 'Bi', 'Bi'], 'abc': [7.29635, 13.439606, 14.224693], 'angles': [113.3104, 90.0, 90.0], 'cartesian': True, 'props': ['', '', '', '', '', '', '', '', '', '', '', '', '', '', '', '', '', '', '', '', '', '', '', '', '', '', '', '', '', '', '', '']}",
         "https://www.ctcms.nist.gov/~knc6/jsmol/JVASP-98225.html"
        ],
        [
         "4",
         "JVASP-10",
         "VSe2",
         "0.0156",
         "0.0",
         "{'lattice_mat': [[1.6777483798834445, -2.9059452409270157, -1.1e-15], [1.6777483798834438, 2.9059452409270126, -7e-16], [-6.5e-15, -8e-16, 6.220805465667012]], 'coords': [[0.0, 0.0, 0.0], [1.67775, -0.9686519372999812, 4.6529213966213625], [1.67775, 0.9686519372999813, 1.5678886033786343]], 'elements': ['V', 'Se', 'Se'], 'abc': [3.355502, 3.355502, 6.22081], 'angles': [90.0, 90.0, 120.0], 'cartesian': True, 'props': ['', '', '']}",
         "https://www.ctcms.nist.gov/~knc6/jsmol/JVASP-10.html"
        ]
       ],
       "shape": {
        "columns": 6,
        "rows": 5
       }
      },
      "text/html": [
       "<div>\n",
       "<style scoped>\n",
       "    .dataframe tbody tr th:only-of-type {\n",
       "        vertical-align: middle;\n",
       "    }\n",
       "\n",
       "    .dataframe tbody tr th {\n",
       "        vertical-align: top;\n",
       "    }\n",
       "\n",
       "    .dataframe thead th {\n",
       "        text-align: right;\n",
       "    }\n",
       "</style>\n",
       "<table border=\"1\" class=\"dataframe\">\n",
       "  <thead>\n",
       "    <tr style=\"text-align: right;\">\n",
       "      <th></th>\n",
       "      <th>jid</th>\n",
       "      <th>formula</th>\n",
       "      <th>ehull</th>\n",
       "      <th>optb88vdw_bandgap</th>\n",
       "      <th>atoms</th>\n",
       "      <th>url</th>\n",
       "    </tr>\n",
       "  </thead>\n",
       "  <tbody>\n",
       "    <tr>\n",
       "      <th>0</th>\n",
       "      <td>JVASP-90856</td>\n",
       "      <td>TiCuSiAs</td>\n",
       "      <td>0.0423</td>\n",
       "      <td>0.0</td>\n",
       "      <td>{'lattice_mat': [[3.566933224304235, 0.0, -0.0...</td>\n",
       "      <td>https://www.ctcms.nist.gov/~knc6/jsmol/JVASP-9...</td>\n",
       "    </tr>\n",
       "    <tr>\n",
       "      <th>1</th>\n",
       "      <td>JVASP-86097</td>\n",
       "      <td>DyB6</td>\n",
       "      <td>0.0456</td>\n",
       "      <td>0.0</td>\n",
       "      <td>{'lattice_mat': [[4.089078911208881, 0.0, 0.0]...</td>\n",
       "      <td>https://www.ctcms.nist.gov/~knc6/jsmol/JVASP-8...</td>\n",
       "    </tr>\n",
       "    <tr>\n",
       "      <th>2</th>\n",
       "      <td>JVASP-64906</td>\n",
       "      <td>Be2OsRu</td>\n",
       "      <td>0.3183</td>\n",
       "      <td>0.0</td>\n",
       "      <td>{'lattice_mat': [[-1.833590720595598, 1.833590...</td>\n",
       "      <td>https://www.ctcms.nist.gov/~knc6/jsmol/JVASP-6...</td>\n",
       "    </tr>\n",
       "    <tr>\n",
       "      <th>3</th>\n",
       "      <td>JVASP-98225</td>\n",
       "      <td>KBi</td>\n",
       "      <td>0.0</td>\n",
       "      <td>0.472</td>\n",
       "      <td>{'lattice_mat': [[7.2963518353359165, 0.0, 0.0...</td>\n",
       "      <td>https://www.ctcms.nist.gov/~knc6/jsmol/JVASP-9...</td>\n",
       "    </tr>\n",
       "    <tr>\n",
       "      <th>4</th>\n",
       "      <td>JVASP-10</td>\n",
       "      <td>VSe2</td>\n",
       "      <td>0.0156</td>\n",
       "      <td>0.0</td>\n",
       "      <td>{'lattice_mat': [[1.6777483798834445, -2.90594...</td>\n",
       "      <td>https://www.ctcms.nist.gov/~knc6/jsmol/JVASP-1...</td>\n",
       "    </tr>\n",
       "  </tbody>\n",
       "</table>\n",
       "</div>"
      ],
      "text/plain": [
       "           jid   formula   ehull optb88vdw_bandgap  \\\n",
       "0  JVASP-90856  TiCuSiAs  0.0423               0.0   \n",
       "1  JVASP-86097      DyB6  0.0456               0.0   \n",
       "2  JVASP-64906   Be2OsRu  0.3183               0.0   \n",
       "3  JVASP-98225       KBi     0.0             0.472   \n",
       "4     JVASP-10      VSe2  0.0156               0.0   \n",
       "\n",
       "                                               atoms  \\\n",
       "0  {'lattice_mat': [[3.566933224304235, 0.0, -0.0...   \n",
       "1  {'lattice_mat': [[4.089078911208881, 0.0, 0.0]...   \n",
       "2  {'lattice_mat': [[-1.833590720595598, 1.833590...   \n",
       "3  {'lattice_mat': [[7.2963518353359165, 0.0, 0.0...   \n",
       "4  {'lattice_mat': [[1.6777483798834445, -2.90594...   \n",
       "\n",
       "                                                 url  \n",
       "0  https://www.ctcms.nist.gov/~knc6/jsmol/JVASP-9...  \n",
       "1  https://www.ctcms.nist.gov/~knc6/jsmol/JVASP-8...  \n",
       "2  https://www.ctcms.nist.gov/~knc6/jsmol/JVASP-6...  \n",
       "3  https://www.ctcms.nist.gov/~knc6/jsmol/JVASP-9...  \n",
       "4  https://www.ctcms.nist.gov/~knc6/jsmol/JVASP-1...  "
      ]
     },
     "execution_count": 7,
     "metadata": {},
     "output_type": "execute_result"
    }
   ],
   "source": [
    "df.head()"
   ]
  },
  {
   "cell_type": "code",
   "execution_count": 8,
   "metadata": {},
   "outputs": [
    {
     "data": {
      "application/vnd.microsoft.datawrangler.viewer.v0+json": {
       "columns": [
        {
         "name": "index",
         "rawType": "int64",
         "type": "integer"
        },
        {
         "name": "jid",
         "rawType": "object",
         "type": "string"
        },
        {
         "name": "formula",
         "rawType": "object",
         "type": "string"
        },
        {
         "name": "ehull",
         "rawType": "float16",
         "type": "float"
        },
        {
         "name": "optb88vdw_bandgap",
         "rawType": "float16",
         "type": "float"
        },
        {
         "name": "atoms",
         "rawType": "object",
         "type": "unknown"
        },
        {
         "name": "url",
         "rawType": "object",
         "type": "string"
        }
       ],
       "conversionMethod": "pd.DataFrame",
       "ref": "3bcb1c6a-fb19-4173-aca1-d7350734d9de",
       "rows": [
        [
         "0",
         "JVASP-90856",
         "TiCuSiAs",
         "-0.627",
         "-0.4348",
         "{'lattice_mat': [[3.566933224304235, 0.0, -0.0], [0.0, 3.566933224304235, -0.0], [-0.0, -0.0, 9.397075454186664]], 'coords': [[2.6751975000000003, 2.6751975000000003, 7.376101754328542], [0.8917325, 0.8917325, 2.0209782456714573], [0.8917325, 2.6751975000000003, 4.69854], [2.6751975000000003, 0.8917325, 4.69854], [0.8917325, 2.6751975000000003, 0.0], [2.6751975000000003, 0.8917325, 0.0], [2.6751975000000003, 2.6751975000000003, 2.8894795605846353], [0.8917325, 0.8917325, 6.507600439415366]], 'elements': ['Ti', 'Ti', 'Cu', 'Cu', 'Si', 'Si', 'As', 'As'], 'abc': [3.56693, 3.56693, 9.39708], 'angles': [90.0, 90.0, 90.0], 'cartesian': True, 'props': ['', '', '', '', '', '', '', '']}",
         "https://www.ctcms.nist.gov/~knc6/jsmol/JVASP-90856.html"
        ],
        [
         "1",
         "JVASP-86097",
         "DyB6",
         "-0.62",
         "-0.4348",
         "{'lattice_mat': [[4.089078911208881, 0.0, 0.0], [-0.0, 4.089078911208881, -0.0], [0.0, -0.0, 4.089078911208881]], 'coords': [[0.0, 0.0, 0.0], [0.8121488741123271, 2.04454, 2.04454], [2.04454, 3.276931125887674, 2.04454], [2.04454, 0.8121488741123271, 2.04454], [3.276931125887674, 2.04454, 2.04454], [2.04454, 2.04454, 0.8121488741123271], [2.04454, 2.04454, 3.276931125887674]], 'elements': ['Dy', 'B', 'B', 'B', 'B', 'B', 'B'], 'abc': [4.08908, 4.08908, 4.08908], 'angles': [90.0, 90.0, 90.0], 'cartesian': True, 'props': ['', '', '', '', '', '', '']}",
         "https://www.ctcms.nist.gov/~knc6/jsmol/JVASP-86097.html"
        ],
        [
         "2",
         "JVASP-64906",
         "Be2OsRu",
         "-0.02736",
         "-0.4348",
         "{'lattice_mat': [[-1.833590720595598, 1.833590720595598, 3.4849681632445244], [1.833590720595598, -1.833590720595598, 3.4849681632445244], [1.833590720595598, 1.833590720595598, -3.4849681632445244]], 'coords': [[0.0, 0.0, 0.0], [1.83359, 0.0, 1.742485], [0.0, 0.0, 3.48497], [0.0, 1.83359, 1.742485]], 'elements': ['Be', 'Be', 'Os', 'Ru'], 'abc': [4.34386, 4.34386, 4.34386], 'angles': [130.0642, 130.0642, 73.3042], 'cartesian': True, 'props': ['', '', '', '']}",
         "https://www.ctcms.nist.gov/~knc6/jsmol/JVASP-64906.html"
        ],
        [
         "3",
         "JVASP-98225",
         "KBi",
         "-0.719",
         "-0.0879",
         "{'lattice_mat': [[7.2963518353359165, 0.0, 0.0], [0.0, 12.357041682775112, -5.2845586858227165], [0.0, -0.0387593429993432, 14.224638121809875]], 'coords': [[0.915242849989437, 6.855852122669934, 9.072691488805011], [4.624926092686879, 4.410242674901673, 10.692815115124906], [6.319598907313122, 10.588762674901673, 8.050535115124907], [2.6714239073131205, 7.908037325098326, -1.7527351151248998], [2.160203276580653, 0.46740047015408986, 5.445837057504562], [5.808378276580651, 5.672359529845909, 6.136522942495441], [5.136146723419349, 11.850879529845914, 3.4942429424954384], [1.4879717234193466, 6.645920470154087, 2.8035570575045634], [0.9767510926868789, 1.7295173250983271, 0.8895448848751], [4.149189130241182, 3.7835217605140947, 3.289715069117776], [6.795335869758818, 9.962041760514095, 0.6474350691177748], [3.147160869758816, 8.534758239485901, 5.650364930882219], [2.732932150010564, 0.6773321226699319, 11.714971488805013], [6.3811071500105605, 5.462427877330069, -0.13261148880500784], [4.56341784998944, 11.640947877330065, -2.774891488805006], [0.5010141302411835, 2.3562382394859105, 8.292644930882215], [2.57977406359738, 10.129401145455988, 8.824521146549861], [6.227949063597383, 8.367398854544012, -2.5267211465498614], [2.8191403695947996, 4.588088605622105, -0.30548283747092936], [6.467315369594803, 1.5516713943778946, 11.887842837470933], [4.477209630405198, 7.730191394377894, 9.245562837470933], [0.8290346304051991, 10.766608605622105, -2.947762837470929], [0.44432405371819356, 3.3442489732904943, 4.068158750100403], [3.2038509462818063, 9.5227689732905, 1.4258787501003996], [6.852025946281809, 8.974031026709499, 4.871921249899597], [2.125497471695336, 4.814663054405411, 6.181902909761823], [5.773672471695338, 1.3250969455945911, 5.40045709023818], [5.170852528304662, 7.503616945594589, 2.7581770902381804], [1.5226775283046639, 10.99318305440541, 3.5396229097618233], [1.0684009364026184, 3.950881145455989, 11.46680114654986], [4.092499053718192, 2.7955110267095065, 7.514201249899595], [4.716575936402617, 2.188878854544011, 0.11555885345013912]], 'elements': ['K', 'K', 'K', 'K', 'K', 'K', 'K', 'K', 'K', 'K', 'K', 'K', 'K', 'K', 'K', 'K', 'Bi', 'Bi', 'Bi', 'Bi', 'Bi', 'Bi', 'Bi', 'Bi', 'Bi', 'Bi', 'Bi', 'Bi', 'Bi', 'Bi', 'Bi', 'Bi'], 'abc': [7.29635, 13.439606, 14.224693], 'angles': [113.3104, 90.0, 90.0], 'cartesian': True, 'props': ['', '', '', '', '', '', '', '', '', '', '', '', '', '', '', '', '', '', '', '', '', '', '', '', '', '', '', '', '', '', '', '']}",
         "https://www.ctcms.nist.gov/~knc6/jsmol/JVASP-98225.html"
        ],
        [
         "4",
         "JVASP-10",
         "VSe2",
         "-0.6855",
         "-0.4348",
         "{'lattice_mat': [[1.6777483798834445, -2.9059452409270157, -1.1e-15], [1.6777483798834438, 2.9059452409270126, -7e-16], [-6.5e-15, -8e-16, 6.220805465667012]], 'coords': [[0.0, 0.0, 0.0], [1.67775, -0.9686519372999812, 4.6529213966213625], [1.67775, 0.9686519372999813, 1.5678886033786343]], 'elements': ['V', 'Se', 'Se'], 'abc': [3.355502, 3.355502, 6.22081], 'angles': [90.0, 90.0, 120.0], 'cartesian': True, 'props': ['', '', '']}",
         "https://www.ctcms.nist.gov/~knc6/jsmol/JVASP-10.html"
        ]
       ],
       "shape": {
        "columns": 6,
        "rows": 5
       }
      },
      "text/html": [
       "<div>\n",
       "<style scoped>\n",
       "    .dataframe tbody tr th:only-of-type {\n",
       "        vertical-align: middle;\n",
       "    }\n",
       "\n",
       "    .dataframe tbody tr th {\n",
       "        vertical-align: top;\n",
       "    }\n",
       "\n",
       "    .dataframe thead th {\n",
       "        text-align: right;\n",
       "    }\n",
       "</style>\n",
       "<table border=\"1\" class=\"dataframe\">\n",
       "  <thead>\n",
       "    <tr style=\"text-align: right;\">\n",
       "      <th></th>\n",
       "      <th>jid</th>\n",
       "      <th>formula</th>\n",
       "      <th>ehull</th>\n",
       "      <th>optb88vdw_bandgap</th>\n",
       "      <th>atoms</th>\n",
       "      <th>url</th>\n",
       "    </tr>\n",
       "  </thead>\n",
       "  <tbody>\n",
       "    <tr>\n",
       "      <th>0</th>\n",
       "      <td>JVASP-90856</td>\n",
       "      <td>TiCuSiAs</td>\n",
       "      <td>-0.626953</td>\n",
       "      <td>-0.434814</td>\n",
       "      <td>{'lattice_mat': [[3.566933224304235, 0.0, -0.0...</td>\n",
       "      <td>https://www.ctcms.nist.gov/~knc6/jsmol/JVASP-9...</td>\n",
       "    </tr>\n",
       "    <tr>\n",
       "      <th>1</th>\n",
       "      <td>JVASP-86097</td>\n",
       "      <td>DyB6</td>\n",
       "      <td>-0.620117</td>\n",
       "      <td>-0.434814</td>\n",
       "      <td>{'lattice_mat': [[4.089078911208881, 0.0, 0.0]...</td>\n",
       "      <td>https://www.ctcms.nist.gov/~knc6/jsmol/JVASP-8...</td>\n",
       "    </tr>\n",
       "    <tr>\n",
       "      <th>2</th>\n",
       "      <td>JVASP-64906</td>\n",
       "      <td>Be2OsRu</td>\n",
       "      <td>-0.027359</td>\n",
       "      <td>-0.434814</td>\n",
       "      <td>{'lattice_mat': [[-1.833590720595598, 1.833590...</td>\n",
       "      <td>https://www.ctcms.nist.gov/~knc6/jsmol/JVASP-6...</td>\n",
       "    </tr>\n",
       "    <tr>\n",
       "      <th>3</th>\n",
       "      <td>JVASP-98225</td>\n",
       "      <td>KBi</td>\n",
       "      <td>-0.719238</td>\n",
       "      <td>-0.087891</td>\n",
       "      <td>{'lattice_mat': [[7.2963518353359165, 0.0, 0.0...</td>\n",
       "      <td>https://www.ctcms.nist.gov/~knc6/jsmol/JVASP-9...</td>\n",
       "    </tr>\n",
       "    <tr>\n",
       "      <th>4</th>\n",
       "      <td>JVASP-10</td>\n",
       "      <td>VSe2</td>\n",
       "      <td>-0.685547</td>\n",
       "      <td>-0.434814</td>\n",
       "      <td>{'lattice_mat': [[1.6777483798834445, -2.90594...</td>\n",
       "      <td>https://www.ctcms.nist.gov/~knc6/jsmol/JVASP-1...</td>\n",
       "    </tr>\n",
       "  </tbody>\n",
       "</table>\n",
       "</div>"
      ],
      "text/plain": [
       "           jid   formula     ehull  optb88vdw_bandgap  \\\n",
       "0  JVASP-90856  TiCuSiAs -0.626953          -0.434814   \n",
       "1  JVASP-86097      DyB6 -0.620117          -0.434814   \n",
       "2  JVASP-64906   Be2OsRu -0.027359          -0.434814   \n",
       "3  JVASP-98225       KBi -0.719238          -0.087891   \n",
       "4     JVASP-10      VSe2 -0.685547          -0.434814   \n",
       "\n",
       "                                               atoms  \\\n",
       "0  {'lattice_mat': [[3.566933224304235, 0.0, -0.0...   \n",
       "1  {'lattice_mat': [[4.089078911208881, 0.0, 0.0]...   \n",
       "2  {'lattice_mat': [[-1.833590720595598, 1.833590...   \n",
       "3  {'lattice_mat': [[7.2963518353359165, 0.0, 0.0...   \n",
       "4  {'lattice_mat': [[1.6777483798834445, -2.90594...   \n",
       "\n",
       "                                                 url  \n",
       "0  https://www.ctcms.nist.gov/~knc6/jsmol/JVASP-9...  \n",
       "1  https://www.ctcms.nist.gov/~knc6/jsmol/JVASP-8...  \n",
       "2  https://www.ctcms.nist.gov/~knc6/jsmol/JVASP-6...  \n",
       "3  https://www.ctcms.nist.gov/~knc6/jsmol/JVASP-9...  \n",
       "4  https://www.ctcms.nist.gov/~knc6/jsmol/JVASP-1...  "
      ]
     },
     "execution_count": 8,
     "metadata": {},
     "output_type": "execute_result"
    }
   ],
   "source": [
    "from sklearn.preprocessing import StandardScaler\n",
    "\n",
    "cols = ['jid','formula','atoms','url']\n",
    "\n",
    "def clean_data(df,cols):\n",
    "    df_dropped = df.drop(columns=cols).astype('float16')\n",
    "    scaler = StandardScaler()\n",
    "    standard = scaler.fit_transform(df_dropped)\n",
    "    df_std = pd.DataFrame(standard, columns = df_dropped.columns, index= df_dropped.index )\n",
    "    return df_std, scaler.mean_, scaler.scale_\n",
    "\n",
    "df_clean, mean, scale = clean_data(df.copy(),cols)\n",
    "df_non_numeric = df[cols]  \n",
    "df_final = pd.concat([df_clean, df_non_numeric], axis=1)\n",
    "\n",
    "df_final = df_final[df.columns]\n",
    "df_final.head()"
   ]
  },
  {
   "cell_type": "code",
   "execution_count": 9,
   "metadata": {},
   "outputs": [
    {
     "name": "stdout",
     "output_type": "stream",
     "text": [
      "ehull - Skewness: 0.5921109298816734, Kurtosis: -1.077819265062945\n"
     ]
    },
    {
     "data": {
      "image/png": "[encoded data removed]",
      "text/plain": [
       "<Figure size 800x400 with 1 Axes>"
      ]
     },
     "metadata": {},
     "output_type": "display_data"
    },
    {
     "name": "stdout",
     "output_type": "stream",
     "text": [
      "optb88vdw_bandgap - Skewness: 1.8250094404035857, Kurtosis: 1.9055110981222319\n"
     ]
    },
    {
     "data": {
      "image/png": "[encoded data removed]",
      "text/plain": [
       "<Figure size 800x400 with 1 Axes>"
      ]
     },
     "metadata": {},
     "output_type": "display_data"
    }
   ],
   "source": [
    "import seaborn as sns\n",
    "%matplotlib inline\n",
    "import matplotlib.pyplot as plt\n",
    "from scipy.stats import skew, kurtosis\n",
    "\n",
    "for column in df_final[[\"ehull\",\"optb88vdw_bandgap\"]]:\n",
    "    col_kurtosis = kurtosis(np.log1p(df_final[column]))\n",
    "    col_skew = skew(np.log1p(df_final[column]))\n",
    "    print(f\"{column} - Skewness: {col_skew}, Kurtosis: {col_kurtosis}\")\n",
    "\n",
    "    plt.figure(figsize=[8,4])\n",
    "    sns.violinplot(x=np.log1p(df_final[column]))\n",
    "    plt.title(f'Violin plot of {column}')\n",
    "    plt.xlabel(column)\n",
    "    plt.show()\n",
    "\n"
   ]
  },
  {
   "cell_type": "markdown",
   "metadata": {},
   "source": [
    "## atoms to graphs"
   ]
  },
  {
   "cell_type": "code",
   "execution_count": 10,
   "metadata": {},
   "outputs": [
    {
     "name": "stdout",
     "output_type": "stream",
     "text": [
      "System\n",
      "1.0\n",
      "3.566933224304235 0.0 -0.0\n",
      "0.0 3.566933224304235 -0.0\n",
      "-0.0 -0.0 9.397075454186664\n",
      "Ti Cu Si As \n",
      "2 2 2 2 \n",
      "direct\n",
      "0.7500000000000001 0.7500000000000001 0.784935507022239 Ti\n",
      "0.25 0.25 0.2150644929777609 Ti\n",
      "0.25 0.7500000000000001 0.5 Cu\n",
      "0.7500000000000001 0.25 0.5 Cu\n",
      "0.25 0.7500000000000001 0.0 Si\n",
      "0.7500000000000001 0.25 0.0 Si\n",
      "0.7500000000000001 0.7500000000000001 0.3074869598412097 As\n",
      "0.25 0.25 0.6925130401587904 As\n",
      "\n"
     ]
    }
   ],
   "source": [
    "from jarvis.core.atoms import Atoms\n",
    "a = Atoms.from_dict(df_final[\"atoms\"][0])\n",
    "print(a)"
   ]
  },
  {
   "cell_type": "code",
   "execution_count": 11,
   "metadata": {},
   "outputs": [
    {
     "data": {
      "text/plain": [
       "(2.9000000000000004,\n",
       " 3.4000000000000004,\n",
       " array([list([[0, 0, 3.566933224304235, (-1.0, 0.0, 0.0)], [0, 3, 4.80344636496686, (-1.0, 0.0, 0.0)], [0, 5, 4.470804707028549, (-1.0, 0.0, 1.0)], [0, 3, 4.803447562115282, (-1.0, 1.0, 0.0)], [0, 5, 4.470805993248481, (-1.0, 1.0, 1.0)], [0, 0, 3.566933224304235, (0.0, -1.0, 0.0)], [0, 2, 4.80344636496686, (0.0, -1.0, 0.0)], [0, 4, 4.470804707028549, (0.0, -1.0, 1.0)], [0, 2, 3.217154698560195, (0.0, 0.0, 0.0)], [0, 3, 3.217154698560195, (0.0, 0.0, 0.0)], [0, 6, 4.486622193743907, (0.0, 0.0, 0.0)], [0, 7, 2.667543691573939, (0.0, 0.0, 0.0)], [0, 1, 4.764333147715466, (0.0, 0.0, 1.0)], [0, 4, 2.695381624509455, (0.0, 0.0, 1.0)], [0, 5, 2.695381624509455, (0.0, 0.0, 1.0)], [0, 6, 4.910453260442757, (0.0, 0.0, 1.0)], [0, 0, 3.5669332243042353, (0.0, 1.0, 0.0)], [0, 2, 4.80344636496686, (0.0, 1.0, 0.0)], [0, 3, 3.217156485989738, (0.0, 1.0, 0.0)], [0, 7, 2.6675458472786957, (0.0, 1.0, 0.0)], [0, 1, 4.764334354691981, (0.0, 1.0, 1.0)], [0, 4, 4.47080470702855, (0.0, 1.0, 1.0)], [0, 5, 2.695383757950086, (0.0, 1.0, 1.0)], [0, 2, 4.803447562115282, (1.0, -1.0, 0.0)], [0, 4, 4.470805993248481, (1.0, -1.0, 1.0)], [0, 0, 3.5669332243042353, (1.0, 0.0, 0.0)], [0, 2, 3.217156485989738, (1.0, 0.0, 0.0)], [0, 3, 4.80344636496686, (1.0, 0.0, 0.0)], [0, 7, 2.6675458472786957, (1.0, 0.0, 0.0)], [0, 1, 4.764334354691981, (1.0, 0.0, 1.0)], [0, 4, 2.695383757950086, (1.0, 0.0, 1.0)], [0, 5, 4.47080470702855, (1.0, 0.0, 1.0)], [0, 2, 4.803447562115283, (1.0, 1.0, 0.0)], [0, 3, 4.803447562115283, (1.0, 1.0, 0.0)], [0, 7, 2.6675480029817114, (1.0, 1.0, 0.0)], [0, 1, 4.764335561668191, (1.0, 1.0, 1.0)], [0, 4, 4.470805993248481, (1.0, 1.0, 1.0)], [0, 5, 4.470805993248481, (1.0, 1.0, 1.0)]]),\n",
       "        list([[1, 0, 4.76433556166819, (-1.0, -1.0, -1.0)], [1, 2, 4.803447562115283, (-1.0, -1.0, 0.0)], [1, 3, 4.803447562115283, (-1.0, -1.0, 0.0)], [1, 4, 4.470808048130179, (-1.0, -1.0, 0.0)], [1, 5, 4.470808048130179, (-1.0, -1.0, 0.0)], [1, 6, 2.667548002981712, (-1.0, -1.0, 0.0)], [1, 0, 4.7643343546919805, (-1.0, 0.0, -1.0)], [1, 1, 3.5669332243042344, (-1.0, 0.0, 0.0)], [1, 2, 4.80344636496686, (-1.0, 0.0, 0.0)], [1, 3, 3.217156485989739, (-1.0, 0.0, 0.0)], [1, 4, 4.470806761910839, (-1.0, 0.0, 0.0)], [1, 5, 2.6953871663603692, (-1.0, 0.0, 0.0)], [1, 6, 2.6675458472786966, (-1.0, 0.0, 0.0)], [1, 3, 4.803447562115283, (-1.0, 1.0, 0.0)], [1, 5, 4.47080804813018, (-1.0, 1.0, 0.0)], [1, 0, 4.7643343546919805, (0.0, -1.0, -1.0)], [1, 1, 3.5669332243042344, (0.0, -1.0, 0.0)], [1, 2, 3.217156485989739, (0.0, -1.0, 0.0)], [1, 3, 4.80344636496686, (0.0, -1.0, 0.0)], [1, 4, 2.6953871663603692, (0.0, -1.0, 0.0)], [1, 5, 4.470806761910839, (0.0, -1.0, 0.0)], [1, 6, 2.6675458472786966, (0.0, -1.0, 0.0)], [1, 0, 4.7643331477154645, (0.0, 0.0, -1.0)], [1, 7, 4.910453260442756, (0.0, 0.0, -1.0)], [1, 2, 3.217154698560196, (0.0, 0.0, 0.0)], [1, 3, 3.217154698560196, (0.0, 0.0, 0.0)], [1, 4, 2.695385032922436, (0.0, 0.0, 0.0)], [1, 5, 2.695385032922436, (0.0, 0.0, 0.0)], [1, 6, 2.6675436915739397, (0.0, 0.0, 0.0)], [1, 7, 4.486622193743909, (0.0, 0.0, 0.0)], [1, 1, 3.5669332243042353, (0.0, 1.0, 0.0)], [1, 3, 4.803446364966861, (0.0, 1.0, 0.0)], [1, 5, 4.47080676191084, (0.0, 1.0, 0.0)], [1, 2, 4.803447562115283, (1.0, -1.0, 0.0)], [1, 4, 4.47080804813018, (1.0, -1.0, 0.0)], [1, 1, 3.5669332243042353, (1.0, 0.0, 0.0)], [1, 2, 4.803446364966861, (1.0, 0.0, 0.0)], [1, 4, 4.47080676191084, (1.0, 0.0, 0.0)]]),\n",
       "        list([[2, 0, 4.803447562115282, (-1.0, -1.0, 0.0)], [2, 6, 4.3790947931286, (-1.0, -1.0, 0.0)], [2, 0, 3.217156485989738, (-1.0, 0.0, 0.0)], [2, 1, 4.80344636496686, (-1.0, 0.0, 0.0)], [2, 2, 3.5669332243042344, (-1.0, 0.0, 0.0)], [2, 3, 2.5222026709461516, (-1.0, 0.0, 0.0)], [2, 6, 2.540365835969421, (-1.0, 0.0, 0.0)], [2, 7, 4.37909347997141, (-1.0, 0.0, 0.0)], [2, 0, 4.803447562115283, (-1.0, 1.0, 0.0)], [2, 1, 4.803447562115283, (-1.0, 1.0, 0.0)], [2, 3, 2.52220495087251, (-1.0, 1.0, 0.0)], [2, 6, 4.3790947931286, (-1.0, 1.0, 0.0)], [2, 7, 4.3790947931286, (-1.0, 1.0, 0.0)], [2, 0, 4.80344636496686, (0.0, -1.0, 0.0)], [2, 2, 3.566933224304235, (0.0, -1.0, 0.0)], [2, 6, 4.37909347997141, (0.0, -1.0, 0.0)], [2, 0, 3.217154698560195, (0.0, 0.0, 0.0)], [2, 1, 3.217154698560196, (0.0, 0.0, 0.0)], [2, 3, 2.522200391017732, (0.0, 0.0, 0.0)], [2, 4, 4.69854, (0.0, 0.0, 0.0)], [2, 6, 2.5403635723420996, (0.0, 0.0, 0.0)], [2, 7, 2.5403635723421005, (0.0, 0.0, 0.0)], [2, 4, 4.698535454186664, (0.0, 0.0, 1.0)], [2, 0, 4.80344636496686, (0.0, 1.0, 0.0)], [2, 1, 3.217156485989739, (0.0, 1.0, 0.0)], [2, 2, 3.5669332243042353, (0.0, 1.0, 0.0)], [2, 3, 2.5222026709461516, (0.0, 1.0, 0.0)], [2, 6, 4.379093479971411, (0.0, 1.0, 0.0)], [2, 7, 2.5403658359694217, (0.0, 1.0, 0.0)], [2, 1, 4.803446364966861, (1.0, 0.0, 0.0)], [2, 2, 3.5669332243042353, (1.0, 0.0, 0.0)], [2, 7, 4.379093479971411, (1.0, 0.0, 0.0)], [2, 1, 4.803447562115283, (1.0, 1.0, 0.0)], [2, 7, 4.379094793128601, (1.0, 1.0, 0.0)]]),\n",
       "        list([[3, 0, 4.803447562115282, (-1.0, -1.0, 0.0)], [3, 6, 4.3790947931286, (-1.0, -1.0, 0.0)], [3, 0, 4.80344636496686, (-1.0, 0.0, 0.0)], [3, 3, 3.566933224304235, (-1.0, 0.0, 0.0)], [3, 6, 4.37909347997141, (-1.0, 0.0, 0.0)], [3, 0, 3.217156485989738, (0.0, -1.0, 0.0)], [3, 1, 4.80344636496686, (0.0, -1.0, 0.0)], [3, 2, 2.5222026709461516, (0.0, -1.0, 0.0)], [3, 3, 3.5669332243042344, (0.0, -1.0, 0.0)], [3, 6, 2.540365835969421, (0.0, -1.0, 0.0)], [3, 7, 4.37909347997141, (0.0, -1.0, 0.0)], [3, 0, 3.217154698560195, (0.0, 0.0, 0.0)], [3, 1, 3.217154698560196, (0.0, 0.0, 0.0)], [3, 2, 2.522200391017732, (0.0, 0.0, 0.0)], [3, 5, 4.69854, (0.0, 0.0, 0.0)], [3, 6, 2.5403635723420996, (0.0, 0.0, 0.0)], [3, 7, 2.5403635723421005, (0.0, 0.0, 0.0)], [3, 5, 4.698535454186664, (0.0, 0.0, 1.0)], [3, 1, 4.803446364966861, (0.0, 1.0, 0.0)], [3, 3, 3.5669332243042353, (0.0, 1.0, 0.0)], [3, 7, 4.379093479971411, (0.0, 1.0, 0.0)], [3, 0, 4.803447562115283, (1.0, -1.0, 0.0)], [3, 1, 4.803447562115283, (1.0, -1.0, 0.0)], [3, 2, 2.52220495087251, (1.0, -1.0, 0.0)], [3, 6, 4.3790947931286, (1.0, -1.0, 0.0)], [3, 7, 4.3790947931286, (1.0, -1.0, 0.0)], [3, 0, 4.80344636496686, (1.0, 0.0, 0.0)], [3, 1, 3.217156485989739, (1.0, 0.0, 0.0)], [3, 2, 2.5222026709461516, (1.0, 0.0, 0.0)], [3, 3, 3.5669332243042353, (1.0, 0.0, 0.0)], [3, 6, 4.379093479971411, (1.0, 0.0, 0.0)], [3, 7, 2.5403658359694217, (1.0, 0.0, 0.0)], [3, 1, 4.803447562115283, (1.0, 1.0, 0.0)], [3, 7, 4.379094793128601, (1.0, 1.0, 0.0)]]),\n",
       "        list([[4, 0, 4.470805993248481, (-1.0, -1.0, -1.0)], [4, 6, 4.924719653420353, (-1.0, -1.0, 0.0)], [4, 0, 2.695383757950086, (-1.0, 0.0, -1.0)], [4, 7, 4.924715818588723, (-1.0, 0.0, -1.0)], [4, 1, 4.470806761910839, (-1.0, 0.0, 0.0)], [4, 4, 3.5669332243042344, (-1.0, 0.0, 0.0)], [4, 5, 2.5222026709461516, (-1.0, 0.0, 0.0)], [4, 6, 3.3955634345627055, (-1.0, 0.0, 0.0)], [4, 0, 4.470805993248481, (-1.0, 1.0, -1.0)], [4, 7, 4.924716986257778, (-1.0, 1.0, -1.0)], [4, 1, 4.470808048130179, (-1.0, 1.0, 0.0)], [4, 5, 2.52220495087251, (-1.0, 1.0, 0.0)], [4, 6, 4.924719653420353, (-1.0, 1.0, 0.0)], [4, 0, 4.470804707028549, (0.0, -1.0, -1.0)], [4, 4, 3.566933224304235, (0.0, -1.0, 0.0)], [4, 6, 4.92471848575193, (0.0, -1.0, 0.0)], [4, 0, 2.695381624509455, (0.0, 0.0, -1.0)], [4, 2, 4.698535454186664, (0.0, 0.0, -1.0)], [4, 7, 3.395557872752663, (0.0, 0.0, -1.0)], [4, 1, 2.695385032922436, (0.0, 0.0, 0.0)], [4, 2, 4.69854, (0.0, 0.0, 0.0)], [4, 5, 2.522200391017732, (0.0, 0.0, 0.0)], [4, 6, 3.3955617410468886, (0.0, 0.0, 0.0)], [4, 0, 4.47080470702855, (0.0, 1.0, -1.0)], [4, 7, 3.3955595662704097, (0.0, 1.0, -1.0)], [4, 1, 2.6953871663603692, (0.0, 1.0, 0.0)], [4, 4, 3.5669332243042353, (0.0, 1.0, 0.0)], [4, 5, 2.5222026709461516, (0.0, 1.0, 0.0)], [4, 6, 4.924718485751931, (0.0, 1.0, 0.0)], [4, 7, 4.924715818588724, (1.0, 0.0, -1.0)], [4, 1, 4.47080676191084, (1.0, 0.0, 0.0)], [4, 4, 3.5669332243042353, (1.0, 0.0, 0.0)], [4, 7, 4.924716986257779, (1.0, 1.0, -1.0)], [4, 1, 4.47080804813018, (1.0, 1.0, 0.0)]]),\n",
       "        list([[5, 0, 4.470805993248481, (-1.0, -1.0, -1.0)], [5, 6, 4.924719653420353, (-1.0, -1.0, 0.0)], [5, 0, 4.470804707028549, (-1.0, 0.0, -1.0)], [5, 5, 3.566933224304235, (-1.0, 0.0, 0.0)], [5, 6, 4.92471848575193, (-1.0, 0.0, 0.0)], [5, 0, 2.695383757950086, (0.0, -1.0, -1.0)], [5, 7, 4.924715818588723, (0.0, -1.0, -1.0)], [5, 1, 4.470806761910839, (0.0, -1.0, 0.0)], [5, 4, 2.5222026709461516, (0.0, -1.0, 0.0)], [5, 5, 3.5669332243042344, (0.0, -1.0, 0.0)], [5, 6, 3.3955634345627055, (0.0, -1.0, 0.0)], [5, 0, 2.695381624509455, (0.0, 0.0, -1.0)], [5, 3, 4.698535454186664, (0.0, 0.0, -1.0)], [5, 7, 3.395557872752663, (0.0, 0.0, -1.0)], [5, 1, 2.695385032922436, (0.0, 0.0, 0.0)], [5, 3, 4.69854, (0.0, 0.0, 0.0)], [5, 4, 2.522200391017732, (0.0, 0.0, 0.0)], [5, 6, 3.3955617410468886, (0.0, 0.0, 0.0)], [5, 7, 4.924715818588724, (0.0, 1.0, -1.0)], [5, 1, 4.47080676191084, (0.0, 1.0, 0.0)], [5, 5, 3.5669332243042353, (0.0, 1.0, 0.0)], [5, 0, 4.470805993248481, (1.0, -1.0, -1.0)], [5, 7, 4.924716986257778, (1.0, -1.0, -1.0)], [5, 1, 4.470808048130179, (1.0, -1.0, 0.0)], [5, 4, 2.52220495087251, (1.0, -1.0, 0.0)], [5, 6, 4.924719653420353, (1.0, -1.0, 0.0)], [5, 0, 4.47080470702855, (1.0, 0.0, -1.0)], [5, 7, 3.3955595662704097, (1.0, 0.0, -1.0)], [5, 1, 2.6953871663603692, (1.0, 0.0, 0.0)], [5, 4, 2.5222026709461516, (1.0, 0.0, 0.0)], [5, 5, 3.5669332243042353, (1.0, 0.0, 0.0)], [5, 6, 4.924718485751931, (1.0, 0.0, 0.0)], [5, 7, 4.924716986257779, (1.0, 1.0, -1.0)], [5, 1, 4.47080804813018, (1.0, 1.0, 0.0)]]),\n",
       "        list([[6, 3, 4.37909347997141, (-1.0, 0.0, 0.0)], [6, 5, 4.92471848575193, (-1.0, 0.0, 0.0)], [6, 6, 3.566933224304235, (-1.0, 0.0, 0.0)], [6, 3, 4.3790947931286, (-1.0, 1.0, 0.0)], [6, 5, 4.924719653420353, (-1.0, 1.0, 0.0)], [6, 2, 4.37909347997141, (0.0, -1.0, 0.0)], [6, 4, 4.92471848575193, (0.0, -1.0, 0.0)], [6, 6, 3.566933224304235, (0.0, -1.0, 0.0)], [6, 0, 4.9104532604427575, (0.0, 0.0, -1.0)], [6, 0, 4.486622193743907, (0.0, 0.0, 0.0)], [6, 1, 2.6675436915739397, (0.0, 0.0, 0.0)], [6, 2, 2.5403635723420996, (0.0, 0.0, 0.0)], [6, 3, 2.5403635723420996, (0.0, 0.0, 0.0)], [6, 4, 3.3955617410468886, (0.0, 0.0, 0.0)], [6, 5, 3.3955617410468886, (0.0, 0.0, 0.0)], [6, 7, 4.410475428599605, (0.0, 0.0, 0.0)], [6, 1, 2.6675458472786966, (0.0, 1.0, 0.0)], [6, 2, 4.379093479971411, (0.0, 1.0, 0.0)], [6, 3, 2.540365835969421, (0.0, 1.0, 0.0)], [6, 4, 4.924718485751931, (0.0, 1.0, 0.0)], [6, 5, 3.3955634345627055, (0.0, 1.0, 0.0)], [6, 6, 3.5669332243042353, (0.0, 1.0, 0.0)], [6, 7, 4.410476732413262, (0.0, 1.0, 0.0)], [6, 2, 4.3790947931286, (1.0, -1.0, 0.0)], [6, 4, 4.924719653420353, (1.0, -1.0, 0.0)], [6, 1, 2.6675458472786966, (1.0, 0.0, 0.0)], [6, 2, 2.540365835969421, (1.0, 0.0, 0.0)], [6, 3, 4.379093479971411, (1.0, 0.0, 0.0)], [6, 4, 3.3955634345627055, (1.0, 0.0, 0.0)], [6, 5, 4.924718485751931, (1.0, 0.0, 0.0)], [6, 6, 3.5669332243042353, (1.0, 0.0, 0.0)], [6, 7, 4.410476732413262, (1.0, 0.0, 0.0)], [6, 1, 2.6675480029817122, (1.0, 1.0, 0.0)], [6, 2, 4.3790947931286, (1.0, 1.0, 0.0)], [6, 3, 4.3790947931286, (1.0, 1.0, 0.0)], [6, 4, 4.924719653420353, (1.0, 1.0, 0.0)], [6, 5, 4.924719653420353, (1.0, 1.0, 0.0)], [6, 7, 4.410478036226534, (1.0, 1.0, 0.0)]]),\n",
       "        list([[7, 0, 2.667548002981711, (-1.0, -1.0, 0.0)], [7, 2, 4.3790947931286, (-1.0, -1.0, 0.0)], [7, 3, 4.3790947931286, (-1.0, -1.0, 0.0)], [7, 6, 4.410478036226533, (-1.0, -1.0, 0.0)], [7, 4, 4.924716986257778, (-1.0, -1.0, 1.0)], [7, 5, 4.924716986257778, (-1.0, -1.0, 1.0)], [7, 0, 2.6675458472786957, (-1.0, 0.0, 0.0)], [7, 2, 4.37909347997141, (-1.0, 0.0, 0.0)], [7, 3, 2.5403658359694212, (-1.0, 0.0, 0.0)], [7, 6, 4.410476732413262, (-1.0, 0.0, 0.0)], [7, 7, 3.5669332243042344, (-1.0, 0.0, 0.0)], [7, 4, 4.924715818588723, (-1.0, 0.0, 1.0)], [7, 5, 3.3955595662704097, (-1.0, 0.0, 1.0)], [7, 3, 4.379094793128601, (-1.0, 1.0, 0.0)], [7, 5, 4.924716986257779, (-1.0, 1.0, 1.0)], [7, 0, 2.6675458472786957, (0.0, -1.0, 0.0)], [7, 2, 2.5403658359694212, (0.0, -1.0, 0.0)], [7, 3, 4.37909347997141, (0.0, -1.0, 0.0)], [7, 6, 4.410476732413262, (0.0, -1.0, 0.0)], [7, 7, 3.5669332243042344, (0.0, -1.0, 0.0)], [7, 4, 3.3955595662704097, (0.0, -1.0, 1.0)], [7, 5, 4.924715818588723, (0.0, -1.0, 1.0)], [7, 0, 2.667543691573939, (0.0, 0.0, 0.0)], [7, 1, 4.486622193743909, (0.0, 0.0, 0.0)], [7, 2, 2.5403635723421005, (0.0, 0.0, 0.0)], [7, 3, 2.5403635723421005, (0.0, 0.0, 0.0)], [7, 6, 4.410475428599605, (0.0, 0.0, 0.0)], [7, 1, 4.910453260442756, (0.0, 0.0, 1.0)], [7, 4, 3.395557872752663, (0.0, 0.0, 1.0)], [7, 5, 3.395557872752663, (0.0, 0.0, 1.0)], [7, 3, 4.379093479971411, (0.0, 1.0, 0.0)], [7, 7, 3.5669332243042353, (0.0, 1.0, 0.0)], [7, 5, 4.924715818588724, (0.0, 1.0, 1.0)], [7, 2, 4.379094793128601, (1.0, -1.0, 0.0)], [7, 4, 4.924716986257779, (1.0, -1.0, 1.0)], [7, 2, 4.379093479971411, (1.0, 0.0, 0.0)], [7, 7, 3.5669332243042353, (1.0, 0.0, 0.0)], [7, 4, 4.924715818588724, (1.0, 0.0, 1.0)]])],\n",
       "       dtype=object))"
      ]
     },
     "execution_count": 11,
     "metadata": {},
     "output_type": "execute_result"
    }
   ],
   "source": [
    "neigh = a.get_neighbors_cutoffs()\n",
    "neigh"
   ]
  },
  {
   "cell_type": "code",
   "execution_count": 12,
   "metadata": {},
   "outputs": [
    {
     "name": "stderr",
     "output_type": "stream",
     "text": [
      "/Users/dariomss/Documents/GitHub/Graph_Project/PyG/lib/python3.9/site-packages/torch_geometric/typing.py:68: UserWarning: An issue occurred while importing 'pyg-lib'. Disabling its usage. Stacktrace: dlopen(/Users/dariomss/Documents/GitHub/Graph_Project/PyG/lib/python3.9/site-packages/libpyg.so, 0x0006): Symbol not found: __ZN2at23SavedTensorDefaultHooks11set_tracingEb\n",
      "  Referenced from: <099A1A6E-770C-3A11-8544-8953391DDF70> /Users/dariomss/Documents/GitHub/Graph_Project/PyG/lib/python3.9/site-packages/libpyg.so\n",
      "  Expected in:     <1D55FADC-C183-3A6D-AF55-078C17E034B1> /Users/dariomss/Documents/GitHub/Graph_Project/PyG/lib/python3.9/site-packages/torch/lib/libtorch_cpu.dylib\n",
      "  warnings.warn(f\"An issue occurred while importing 'pyg-lib'. \"\n",
      "/Users/dariomss/Documents/GitHub/Graph_Project/PyG/lib/python3.9/site-packages/torch_geometric/typing.py:86: UserWarning: An issue occurred while importing 'torch-scatter'. Disabling its usage. Stacktrace: dlopen(/Users/dariomss/Documents/GitHub/Graph_Project/PyG/lib/python3.9/site-packages/torch_scatter/_scatter_cpu.so, 0x0006): Symbol not found: __ZN2at23SavedTensorDefaultHooks11set_tracingEb\n",
      "  Referenced from: <31CBB60F-AF61-3E7E-A4DA-5C1E9773B92B> /Users/dariomss/Documents/GitHub/Graph_Project/PyG/lib/python3.9/site-packages/torch_scatter/_scatter_cpu.so\n",
      "  Expected in:     <1D55FADC-C183-3A6D-AF55-078C17E034B1> /Users/dariomss/Documents/GitHub/Graph_Project/PyG/lib/python3.9/site-packages/torch/lib/libtorch_cpu.dylib\n",
      "  warnings.warn(f\"An issue occurred while importing 'torch-scatter'. \"\n",
      "/Users/dariomss/Documents/GitHub/Graph_Project/PyG/lib/python3.9/site-packages/torch_geometric/typing.py:113: UserWarning: An issue occurred while importing 'torch-spline-conv'. Disabling its usage. Stacktrace: dlopen(/Users/dariomss/Documents/GitHub/Graph_Project/PyG/lib/python3.9/site-packages/torch_spline_conv/_basis_cpu.so, 0x0006): Symbol not found: __ZN2at23SavedTensorDefaultHooks11set_tracingEb\n",
      "  Referenced from: <B1441CC5-881F-3F94-AED8-630AB9DA05DC> /Users/dariomss/Documents/GitHub/Graph_Project/PyG/lib/python3.9/site-packages/torch_spline_conv/_basis_cpu.so\n",
      "  Expected in:     <1D55FADC-C183-3A6D-AF55-078C17E034B1> /Users/dariomss/Documents/GitHub/Graph_Project/PyG/lib/python3.9/site-packages/torch/lib/libtorch_cpu.dylib\n",
      "  warnings.warn(\n",
      "/Users/dariomss/Documents/GitHub/Graph_Project/PyG/lib/python3.9/site-packages/torch_geometric/typing.py:124: UserWarning: An issue occurred while importing 'torch-sparse'. Disabling its usage. Stacktrace: dlopen(/Users/dariomss/Documents/GitHub/Graph_Project/PyG/lib/python3.9/site-packages/torch_sparse/_spmm_cpu.so, 0x0006): Symbol not found: __ZN2at23SavedTensorDefaultHooks11set_tracingEb\n",
      "  Referenced from: <08443D3F-3F6B-30BD-95BA-A66302469AB9> /Users/dariomss/Documents/GitHub/Graph_Project/PyG/lib/python3.9/site-packages/torch_sparse/_spmm_cpu.so\n",
      "  Expected in:     <1D55FADC-C183-3A6D-AF55-078C17E034B1> /Users/dariomss/Documents/GitHub/Graph_Project/PyG/lib/python3.9/site-packages/torch/lib/libtorch_cpu.dylib\n",
      "  warnings.warn(f\"An issue occurred while importing 'torch-sparse'. \"\n"
     ]
    },
    {
     "name": "stdout",
     "output_type": "stream",
     "text": [
      "Skipping row 45 due to no edges.\n",
      "Skipping row 74 due to no edges.\n",
      "Skipping row 164 due to no edges.\n",
      "Skipping row 282 due to no edges.\n",
      "Skipping row 296 due to no edges.\n",
      "Skipping row 339 due to no edges.\n",
      "Skipping row 404 due to no edges.\n",
      "Skipping row 509 due to no edges.\n",
      "Skipping row 516 due to no edges.\n",
      "Skipping row 518 due to no edges.\n",
      "Skipping row 543 due to no edges.\n",
      "Skipping row 641 due to no edges.\n",
      "Skipping row 669 due to no edges.\n",
      "Skipping row 759 due to no edges.\n",
      "Skipping row 827 due to no edges.\n",
      "Skipping row 855 due to no edges.\n",
      "Skipping row 863 due to no edges.\n",
      "Skipping row 913 due to no edges.\n",
      "Skipping row 975 due to no edges.\n",
      "Skipping row 1151 due to no edges.\n",
      "Skipping row 1235 due to no edges.\n",
      "Skipping row 1414 due to no edges.\n",
      "Skipping row 1415 due to no edges.\n",
      "Skipping row 1431 due to no edges.\n",
      "Skipping row 1443 due to no edges.\n",
      "Skipping row 1673 due to no edges.\n",
      "Skipping row 1676 due to no edges.\n",
      "Skipping row 1707 due to no edges.\n",
      "Skipping row 2049 due to no edges.\n",
      "Skipping row 2095 due to no edges.\n",
      "Skipping row 2189 due to no edges.\n",
      "Skipping row 2330 due to no edges.\n",
      "Skipping row 2350 due to no edges.\n",
      "Skipping row 2435 due to no edges.\n",
      "Skipping row 2502 due to no edges.\n",
      "Skipping row 2555 due to no edges.\n",
      "Skipping row 2578 due to no edges.\n",
      "Skipping row 2607 due to no edges.\n",
      "Skipping row 2631 due to no edges.\n",
      "Skipping row 2663 due to no edges.\n",
      "Skipping row 2776 due to no edges.\n",
      "Skipping row 2850 due to no edges.\n",
      "Skipping row 2960 due to no edges.\n",
      "Skipping row 2993 due to no edges.\n",
      "Skipping row 3000 due to no edges.\n",
      "Skipping row 3074 due to no edges.\n",
      "Skipping row 3291 due to no edges.\n",
      "Skipping row 3451 due to no edges.\n",
      "Skipping row 3577 due to no edges.\n",
      "Skipping row 3612 due to no edges.\n",
      "Skipping row 3650 due to no edges.\n",
      "Skipping row 3670 due to no edges.\n",
      "Skipping row 3687 due to no edges.\n",
      "Skipping row 3935 due to no edges.\n",
      "Skipping row 3994 due to no edges.\n",
      "Skipping row 4239 due to no edges.\n",
      "Skipping row 4341 due to no edges.\n",
      "Skipping row 5199 due to no edges.\n",
      "Skipping row 7681 due to no edges.\n",
      "Done, failed entries: 59\n"
     ]
    }
   ],
   "source": [
    "import torch\n",
    "from torch_geometric.data import Data\n",
    "from ase import Atoms\n",
    "from ase import neighborlist\n",
    "from ase.neighborlist import neighbor_list\n",
    "from jarvis.core.atoms import Atoms\n",
    "\n",
    "data_list = []\n",
    "fails = 0\n",
    "\n",
    "for kk, row in df_final.iterrows():  \n",
    "    a = Atoms.from_dict(row[\"atoms\"])  \n",
    "    atoms = a.ase_converter(pbc=True)\n",
    "    nl = neighborlist.NeighborList(neighborlist.natural_cutoffs(atoms))\n",
    "    nl.update(atoms)\n",
    "\n",
    "    atomic_numbers = atoms.get_atomic_numbers()\n",
    "\n",
    "    try:\n",
    "        temp_x = torch.tensor(atomic_numbers, dtype=torch.float).unsqueeze(1)\n",
    "        temp_y = torch.tensor(np.log1p(row[\"ehull\"]), dtype=torch.float)\n",
    "        temp_pos = torch.tensor(atoms.get_positions(), dtype=torch.float)\n",
    "\n",
    "        edge_index_list = []\n",
    "        for i in range(len(atoms)):\n",
    "            neighbors, offsets = nl.get_neighbors(i)\n",
    "            for neighbor in neighbors:\n",
    "                if neighbor != i:\n",
    "                    edge_index_list.append([i, neighbor])\n",
    "\n",
    "        # Ensure edge_index_list is not empty\n",
    "        if len(edge_index_list) > 0:\n",
    "            temp_edge_index = torch.tensor(edge_index_list, dtype=torch.long).t().contiguous()\n",
    "        else:\n",
    "            #temp_edge_index = torch.empty((2, 0), dtype=torch.long)\n",
    "            fails += 1\n",
    "            print(f\"Skipping row {kk} due to no edges.\")\n",
    "            continue  # Skip this data point entirely\n",
    "\n",
    "        # Ensure valid edge_index before calculating distances\n",
    "        if temp_edge_index.shape[1] > 0:\n",
    "            edge_vectors = temp_pos[temp_edge_index[0]] - temp_pos[temp_edge_index[1]]\n",
    "            temp_edge_attr = torch.norm(edge_vectors, dim=1).unsqueeze(1)\n",
    "        else:\n",
    "            #temp_edge_attr = torch.empty((0, 1), dtype=torch.float)\n",
    "            #fails += 1\n",
    "            #print(f\"Skipping row {kk} due to no edges.\")\n",
    "            continue  # Skip this data point entirely\n",
    "\n",
    "    except Exception as e:\n",
    "        fails += 1  # Count the failed samples\n",
    "        print(f\"Skipping row {kk} due to error: {e}\")  # Debugging\n",
    "\n",
    "    # edge_attr - fancier \n",
    "    data_list.append(Data(x=temp_x, pos=temp_pos, edge_index=temp_edge_index, edge_attr=temp_edge_attr, y=temp_y))\n",
    "\n",
    "print(f\"Done, failed entries: {fails}\")\n"
   ]
  },
  {
   "cell_type": "code",
   "execution_count": 13,
   "metadata": {},
   "outputs": [
    {
     "name": "stdout",
     "output_type": "stream",
     "text": [
      "Number of nodes: 8\n",
      "Number of edges: 40\n",
      "Average node degree: 5.00\n",
      "Has isolated nodes: False\n",
      "Has self-loops: False\n",
      "Is undirected: False\n"
     ]
    }
   ],
   "source": [
    "data_point = data_list[0]\n",
    "print(f'Number of nodes: {data_point.num_nodes}')\n",
    "print(f'Number of edges: {data_point.num_edges}')\n",
    "print(f'Average node degree: {data_point.num_edges / data_point.num_nodes:.2f}')\n",
    "print(f'Has isolated nodes: {data_point.has_isolated_nodes()}')\n",
    "print(f'Has self-loops: {data_point.has_self_loops()}')\n",
    "print(f'Is undirected: {data_point.is_undirected()}')"
   ]
  },
  {
   "cell_type": "code",
   "execution_count": 14,
   "metadata": {},
   "outputs": [
    {
     "data": {
      "text/plain": [
       "Data(x=[8, 1], edge_index=[2, 40], edge_attr=[40, 1], y=-0.9860512018203735, pos=[8, 3])"
      ]
     },
     "execution_count": 14,
     "metadata": {},
     "output_type": "execute_result"
    }
   ],
   "source": [
    "data_point"
   ]
  },
  {
   "cell_type": "markdown",
   "metadata": {},
   "source": [
    "```python\n",
    "from torch_geometric.data import Dataset, DataLoader\n",
    "from torch.utils.data import random_split\n",
    "import statistics\n",
    "\n",
    "class JarvisDataset(Dataset):\n",
    "    def __init__(self,data_list,transform=None,pre_transform=None):\n",
    "        super().__init__(transform,pre_transform)\n",
    "        self.data_list = data_list \n",
    "\n",
    "    def len(self):\n",
    "        return len(self.data_list)\n",
    "    def get(self,idx):\n",
    "        return self.data_list[idx]\n",
    "    def mean(self):\n",
    "        return np.mean(np.array([data.y for data in data_list]))\n",
    "    def scale(self):\n",
    "        return np.std(np.array([data.y for data in data_list]))\n",
    "\n",
    "dataset = JarvisDataset(data_list)\n",
    "torch.manual_seed(176432)\n",
    "train_size = int(0.75*len(dataset))\n",
    "test_size = len(dataset)-train_size\n",
    "\n",
    "train_dataset = JarvisDataset(dataset[:train_size])\n",
    "test_dataset = JarvisDataset(dataset[train_size:])\n",
    "\n",
    "train_loader = DataLoader(train_dataset, batch_size=32, shuffle=True) # Shuffle for training\n",
    "test_loader = DataLoader(test_dataset, batch_size=32, shuffle=False) # Shuffle for training\n",
    "\n",
    "print(f\"Dataset contains {len(dataset)} graphs.\")\n",
    "\n",
    "# for step, data in enumerate(train_loader):\n",
    "#         print(f'Step {step + 1}:')\n",
    "#         print('=======')\n",
    "#         print(f'Number of graphs in the current batch: {data.num_graphs}')\n",
    "#         print(data)\n",
    "#         print()\n",
    "```\n"
   ]
  },
  {
   "cell_type": "markdown",
   "metadata": {},
   "source": [
    "# MODEL"
   ]
  },
  {
   "cell_type": "code",
   "execution_count": 74,
   "metadata": {},
   "outputs": [
    {
     "name": "stdout",
     "output_type": "stream",
     "text": [
      "GCN(\n",
      "  (conv1): GCNConv(1, 16)\n",
      "  (conv2): GCNConv(16, 16)\n",
      "  (conv3): GCNConv(16, 16)\n",
      "  (lin): Linear(in_features=16, out_features=1, bias=True)\n",
      ")\n"
     ]
    }
   ],
   "source": [
    "from torch_geometric.nn import GCNConv,global_mean_pool\n",
    "import torch.nn.functional as F\n",
    "from torch.nn import Linear\n",
    "\n",
    "class GCN(torch.nn.Module):\n",
    "    def __init__(self,hidden_channels):\n",
    "        super(GCN,self).__init__()\n",
    "        torch.manual_seed(176432)\n",
    "        self.conv1 = GCNConv(dataset.num_features,hidden_channels)\n",
    "        self.conv2 = GCNConv(hidden_channels,hidden_channels)\n",
    "        self.conv3 = GCNConv(hidden_channels,hidden_channels)\n",
    "        self.lin = Linear(hidden_channels,1)\n",
    "    \n",
    "    def forward(self,x,edge_index,batch):\n",
    "        x = self.conv1(x,edge_index)\n",
    "        x = x.relu()\n",
    "        x = self.conv2(x,edge_index)\n",
    "        x = x.relu()\n",
    "        x = self.conv3(x,edge_index)\n",
    "        x = global_mean_pool(x,batch)\n",
    "        x = F.dropout(x,p=0.5,training=self.training)\n",
    "        x = self.lin(x)\n",
    "        return x\n",
    "\n",
    "model = GCN(hidden_channels = 16)\n",
    "optimizer = torch.optim.Adam(model.parameters(),lr=0.001,weight_decay=5e-4)\n",
    "criterion = torch.nn.MSELoss()\n",
    "\n",
    "def train():\n",
    "    model.train()\n",
    "\n",
    "    for data in train_loader:\n",
    "        optimizer.zero_grad()\n",
    "        out = model(data.x,data.edge_index,data.batch)\n",
    "        loss = criterion(out,data.y)\n",
    "        loss.backward()\n",
    "        optimizer.step()\n",
    "        return loss\n",
    "\n",
    "def test(loader):\n",
    "    model.eval()\n",
    "\n",
    "    for data in loader:\n",
    "        out = model(data.x,data.edge_index,data.batch)\n",
    "        loss = criterion(out,data.y)\n",
    "        return loss \n",
    "\n",
    "print(model)"
   ]
  },
  {
   "cell_type": "markdown",
   "metadata": {},
   "source": [
    "# TRAINING"
   ]
  },
  {
   "cell_type": "code",
   "execution_count": 75,
   "metadata": {},
   "outputs": [
    {
     "name": "stderr",
     "output_type": "stream",
     "text": [
      "/Users/dariomss/Documents/GitHub/Graph_Project/PyG/lib/python3.9/site-packages/torch/nn/modules/loss.py:538: UserWarning: Using a target size (torch.Size([32])) that is different to the input size (torch.Size([32, 1])). This will likely lead to incorrect results due to broadcasting. Please ensure they have the same size.\n",
      "  return F.mse_loss(input, target, reduction=self.reduction)\n"
     ]
    },
    {
     "name": "stdout",
     "output_type": "stream",
     "text": [
      "Epoch: 001, Train loss: 71.2278, Test loss: 97.5400\n",
      "Epoch: 002, Train loss: 53.2517, Test loss: 85.8140\n",
      "Epoch: 003, Train loss: 26.3770, Test loss: 75.8852\n",
      "Epoch: 004, Train loss: 46.1084, Test loss: 66.6417\n",
      "Epoch: 005, Train loss: 37.5924, Test loss: 58.1809\n",
      "Epoch: 006, Train loss: 46.5401, Test loss: 51.0650\n",
      "Epoch: 007, Train loss: 29.1796, Test loss: 44.4059\n",
      "Epoch: 008, Train loss: 26.8608, Test loss: 38.5197\n",
      "Epoch: 009, Train loss: 27.2670, Test loss: 33.3494\n",
      "Epoch: 010, Train loss: 14.0490, Test loss: 28.5173\n",
      "Epoch: 011, Train loss: 12.2048, Test loss: 24.2845\n",
      "Epoch: 012, Train loss: 13.1761, Test loss: 20.5492\n",
      "Epoch: 013, Train loss: 14.4040, Test loss: 17.3019\n",
      "Epoch: 014, Train loss: 10.5933, Test loss: 14.5886\n",
      "Epoch: 015, Train loss: 5.8018, Test loss: 12.2549\n",
      "Epoch: 016, Train loss: 6.1656, Test loss: 10.2357\n",
      "Epoch: 017, Train loss: 4.0078, Test loss: 8.5313\n",
      "Epoch: 018, Train loss: 3.2901, Test loss: 7.0733\n",
      "Epoch: 019, Train loss: 4.3382, Test loss: 5.7792\n",
      "Epoch: 020, Train loss: 2.2336, Test loss: 4.6890\n",
      "Epoch: 021, Train loss: 1.8768, Test loss: 3.7905\n",
      "Epoch: 022, Train loss: 1.7720, Test loss: 3.0362\n",
      "Epoch: 023, Train loss: 2.1707, Test loss: 2.4405\n",
      "Epoch: 024, Train loss: 1.4582, Test loss: 1.9501\n",
      "Epoch: 025, Train loss: 1.0526, Test loss: 1.5748\n",
      "Epoch: 026, Train loss: 1.2177, Test loss: 1.3047\n",
      "Epoch: 027, Train loss: 0.6802, Test loss: 1.1087\n",
      "Epoch: 028, Train loss: 0.7579, Test loss: 0.9727\n",
      "Epoch: 029, Train loss: 0.8542, Test loss: 0.8925\n",
      "Epoch: 030, Train loss: 0.8843, Test loss: 0.8524\n",
      "Epoch: 031, Train loss: 0.8650, Test loss: 0.8391\n",
      "Epoch: 032, Train loss: 0.6322, Test loss: 0.8489\n",
      "Epoch: 033, Train loss: 0.9590, Test loss: 0.8730\n",
      "Epoch: 034, Train loss: 1.1461, Test loss: 0.8998\n",
      "Epoch: 035, Train loss: 1.1592, Test loss: 0.9189\n",
      "Epoch: 036, Train loss: 1.0438, Test loss: 0.9324\n",
      "Epoch: 037, Train loss: 0.9863, Test loss: 0.9410\n",
      "Epoch: 038, Train loss: 1.2281, Test loss: 0.9509\n",
      "Epoch: 039, Train loss: 0.8794, Test loss: 0.9492\n",
      "Epoch: 040, Train loss: 1.0199, Test loss: 0.9566\n",
      "Epoch: 041, Train loss: 0.8647, Test loss: 0.9585\n",
      "Epoch: 042, Train loss: 1.0533, Test loss: 0.9477\n",
      "Epoch: 043, Train loss: 1.1045, Test loss: 0.9248\n",
      "Epoch: 044, Train loss: 1.1589, Test loss: 0.9019\n",
      "Epoch: 045, Train loss: 1.0968, Test loss: 0.8836\n",
      "Epoch: 046, Train loss: 0.9798, Test loss: 0.8704\n",
      "Epoch: 047, Train loss: 0.9803, Test loss: 0.8583\n",
      "Epoch: 048, Train loss: 0.9703, Test loss: 0.8489\n",
      "Epoch: 049, Train loss: 0.9309, Test loss: 0.8424\n",
      "Epoch: 050, Train loss: 0.7804, Test loss: 0.8395\n",
      "Epoch: 051, Train loss: 0.8473, Test loss: 0.8386\n",
      "Epoch: 052, Train loss: 0.9419, Test loss: 0.8391\n",
      "Epoch: 053, Train loss: 0.7604, Test loss: 0.8407\n",
      "Epoch: 054, Train loss: 0.7522, Test loss: 0.8442\n",
      "Epoch: 055, Train loss: 0.7930, Test loss: 0.8477\n",
      "Epoch: 056, Train loss: 0.7300, Test loss: 0.8522\n",
      "Epoch: 057, Train loss: 0.7202, Test loss: 0.8565\n",
      "Epoch: 058, Train loss: 0.9453, Test loss: 0.8599\n",
      "Epoch: 059, Train loss: 0.6588, Test loss: 0.8618\n",
      "Epoch: 060, Train loss: 0.8076, Test loss: 0.8638\n",
      "Epoch: 061, Train loss: 0.9902, Test loss: 0.8656\n",
      "Epoch: 062, Train loss: 0.8771, Test loss: 0.8662\n",
      "Epoch: 063, Train loss: 0.7676, Test loss: 0.8648\n",
      "Epoch: 064, Train loss: 0.7430, Test loss: 0.8656\n",
      "Epoch: 065, Train loss: 0.9138, Test loss: 0.8651\n",
      "Epoch: 066, Train loss: 0.8839, Test loss: 0.8629\n",
      "Epoch: 067, Train loss: 0.6128, Test loss: 0.8612\n",
      "Epoch: 068, Train loss: 0.9242, Test loss: 0.8613\n",
      "Epoch: 069, Train loss: 0.8225, Test loss: 0.8605\n",
      "Epoch: 070, Train loss: 0.7922, Test loss: 0.8594\n",
      "Epoch: 071, Train loss: 0.8421, Test loss: 0.8597\n",
      "Epoch: 072, Train loss: 0.8130, Test loss: 0.8581\n",
      "Epoch: 073, Train loss: 0.9168, Test loss: 0.8563\n",
      "Epoch: 074, Train loss: 0.9266, Test loss: 0.8536\n",
      "Epoch: 075, Train loss: 0.7549, Test loss: 0.8513\n",
      "Epoch: 076, Train loss: 0.7435, Test loss: 0.8498\n",
      "Epoch: 077, Train loss: 0.9568, Test loss: 0.8475\n",
      "Epoch: 078, Train loss: 0.8338, Test loss: 0.8449\n",
      "Epoch: 079, Train loss: 0.9216, Test loss: 0.8432\n",
      "Epoch: 080, Train loss: 0.7752, Test loss: 0.8425\n",
      "Epoch: 081, Train loss: 0.8082, Test loss: 0.8419\n",
      "Epoch: 082, Train loss: 0.7001, Test loss: 0.8422\n",
      "Epoch: 083, Train loss: 0.8986, Test loss: 0.8433\n",
      "Epoch: 084, Train loss: 0.8233, Test loss: 0.8454\n",
      "Epoch: 085, Train loss: 0.8842, Test loss: 0.8486\n",
      "Epoch: 086, Train loss: 0.9752, Test loss: 0.8519\n",
      "Epoch: 087, Train loss: 0.7095, Test loss: 0.8556\n",
      "Epoch: 088, Train loss: 0.8374, Test loss: 0.8593\n",
      "Epoch: 089, Train loss: 0.8782, Test loss: 0.8643\n",
      "Epoch: 090, Train loss: 0.8257, Test loss: 0.8693\n",
      "Epoch: 091, Train loss: 0.7819, Test loss: 0.8745\n",
      "Epoch: 092, Train loss: 0.6585, Test loss: 0.8788\n",
      "Epoch: 093, Train loss: 0.8782, Test loss: 0.8829\n",
      "Epoch: 094, Train loss: 0.6878, Test loss: 0.8891\n",
      "Epoch: 095, Train loss: 0.7288, Test loss: 0.8953\n",
      "Epoch: 096, Train loss: 0.6883, Test loss: 0.8998\n",
      "Epoch: 097, Train loss: 0.9163, Test loss: 0.9030\n",
      "Epoch: 098, Train loss: 0.6953, Test loss: 0.9056\n",
      "Epoch: 099, Train loss: 0.9923, Test loss: 0.9103\n",
      "Epoch: 100, Train loss: 0.9702, Test loss: 0.9170\n",
      "Epoch: 101, Train loss: 0.9846, Test loss: 0.9236\n",
      "Epoch: 102, Train loss: 0.7962, Test loss: 0.9265\n",
      "Epoch: 103, Train loss: 1.0120, Test loss: 0.9303\n",
      "Epoch: 104, Train loss: 0.5560, Test loss: 0.9344\n",
      "Epoch: 105, Train loss: 0.8333, Test loss: 0.9411\n",
      "Epoch: 106, Train loss: 0.9443, Test loss: 0.9475\n",
      "Epoch: 107, Train loss: 0.7151, Test loss: 0.9526\n",
      "Epoch: 108, Train loss: 0.7705, Test loss: 0.9571\n",
      "Epoch: 109, Train loss: 0.7797, Test loss: 0.9631\n",
      "Epoch: 110, Train loss: 0.8680, Test loss: 0.9701\n",
      "Epoch: 111, Train loss: 0.9785, Test loss: 0.9736\n",
      "Epoch: 112, Train loss: 0.8822, Test loss: 0.9764\n",
      "Epoch: 113, Train loss: 0.7453, Test loss: 0.9788\n",
      "Epoch: 114, Train loss: 0.5486, Test loss: 0.9804\n",
      "Epoch: 115, Train loss: 0.8075, Test loss: 0.9837\n",
      "Epoch: 116, Train loss: 1.0033, Test loss: 0.9887\n",
      "Epoch: 117, Train loss: 0.7174, Test loss: 0.9867\n",
      "Epoch: 118, Train loss: 0.7937, Test loss: 0.9824\n",
      "Epoch: 119, Train loss: 0.7441, Test loss: 0.9785\n",
      "Epoch: 120, Train loss: 0.8602, Test loss: 0.9730\n",
      "Epoch: 121, Train loss: 0.7197, Test loss: 0.9706\n",
      "Epoch: 122, Train loss: 1.0604, Test loss: 0.9653\n",
      "Epoch: 123, Train loss: 0.7035, Test loss: 0.9558\n",
      "Epoch: 124, Train loss: 0.9326, Test loss: 0.9419\n",
      "Epoch: 125, Train loss: 0.7253, Test loss: 0.9270\n",
      "Epoch: 126, Train loss: 0.6952, Test loss: 0.9125\n",
      "Epoch: 127, Train loss: 0.7536, Test loss: 0.9011\n",
      "Epoch: 128, Train loss: 0.8661, Test loss: 0.8918\n",
      "Epoch: 129, Train loss: 0.9470, Test loss: 0.8821\n",
      "Epoch: 130, Train loss: 0.7592, Test loss: 0.8749\n",
      "Epoch: 131, Train loss: 0.6602, Test loss: 0.8697\n",
      "Epoch: 132, Train loss: 0.6929, Test loss: 0.8668\n",
      "Epoch: 133, Train loss: 0.8333, Test loss: 0.8641\n",
      "Epoch: 134, Train loss: 0.7933, Test loss: 0.8618\n",
      "Epoch: 135, Train loss: 0.9648, Test loss: 0.8612\n",
      "Epoch: 136, Train loss: 0.8749, Test loss: 0.8604\n",
      "Epoch: 137, Train loss: 0.8694, Test loss: 0.8587\n",
      "Epoch: 138, Train loss: 0.8251, Test loss: 0.8577\n",
      "Epoch: 139, Train loss: 0.7544, Test loss: 0.8576\n",
      "Epoch: 140, Train loss: 0.8071, Test loss: 0.8578\n",
      "Epoch: 141, Train loss: 1.0209, Test loss: 0.8583\n",
      "Epoch: 142, Train loss: 0.6915, Test loss: 0.8587\n",
      "Epoch: 143, Train loss: 0.8147, Test loss: 0.8593\n",
      "Epoch: 144, Train loss: 0.8438, Test loss: 0.8603\n",
      "Epoch: 145, Train loss: 0.8903, Test loss: 0.8648\n",
      "Epoch: 146, Train loss: 0.7727, Test loss: 0.8693\n",
      "Epoch: 147, Train loss: 0.8897, Test loss: 0.8732\n",
      "Epoch: 148, Train loss: 0.6855, Test loss: 0.8765\n",
      "Epoch: 149, Train loss: 0.7257, Test loss: 0.8799\n"
     ]
    }
   ],
   "source": [
    "for epoch in range(1,150):\n",
    "    train()\n",
    "    train_loss = test(train_loader)\n",
    "    test_loss = test(test_loader)\n",
    "    print(f'Epoch: {epoch:03d}, Train loss: {train_loss:.4f}, Test loss: {test_loss:.4f}')"
   ]
  },
  {
   "cell_type": "code",
   "execution_count": null,
   "metadata": {},
   "outputs": [],
   "source": []
  },
  {
   "cell_type": "markdown",
   "metadata": {},
   "source": [
    "# WANDB"
   ]
  },
  {
   "cell_type": "markdown",
   "metadata": {},
   "source": [
    "## first implementation"
   ]
  },
  {
   "cell_type": "code",
   "execution_count": null,
   "metadata": {},
   "outputs": [],
   "source": [
    "from torch_geometric.nn import GCNConv,global_mean_pool\n",
    "import torch.nn.functional as F\n",
    "from torch.nn import Linear\n",
    "import tqdm\n",
    "\n",
    "enable_wandb = True\n",
    "if enable_wandb:\n",
    "    import wandb\n",
    "wandb.login()\n",
    "\n",
    "assert enable_wandb, \"W&B not enabled. Please, enable W&B and restart the notebook\"\n",
    "\n",
    "class GCN(torch.nn.Module):\n",
    "    def __init__(self,hidden_channels):\n",
    "        super(GCN,self).__init__()\n",
    "        torch.manual_seed(176432)\n",
    "\n",
    "        self.conv1 = GCNConv(dataset.num_features,hidden_channels)\n",
    "        self.conv2 = GCNConv(hidden_channels,hidden_channels)\n",
    "        self.conv3 = GCNConv(hidden_channels,hidden_channels)\n",
    "        self.lin = Linear(hidden_channels,1)\n",
    "    \n",
    "    def forward(self,x,edge_index,batch):\n",
    "        x = self.conv1(x,edge_index)\n",
    "        x = x.relu()\n",
    "        x = self.conv2(x,edge_index)\n",
    "        x = x.relu()\n",
    "        x = self.conv3(x,edge_index)\n",
    "        x = global_mean_pool(x,batch)\n",
    "        x = F.dropout(x,p=0.5,training=self.training)\n",
    "        x = self.lin(x)\n",
    "        return x\n",
    "\n",
    "\n",
    "def agent_fn():\n",
    "    wandb.init()\n",
    "\n",
    "    model = GCN(hidden_channels = wandb.config.hidden_channels)\n",
    "    wandb.watch(model)\n",
    "\n",
    "    optimizer = torch.optim.Adam(model.parameters(), lr=wandb.config.lr, weight_decay=wandb.config.weight_decay)\n",
    "    criterion = torch.nn.MSELoss()\n",
    "\n",
    "    def train():\n",
    "        model.train()\n",
    "        \n",
    "        for data in train_loader:\n",
    "            optimizer.zero_grad()\n",
    "            out = model(data.x,data.edge_index,data.batch)\n",
    "            loss = criterion(out,data.y)\n",
    "            loss.backward()\n",
    "            optimizer.step()\n",
    "           # return loss\n",
    "\n",
    "    def test(loader):\n",
    "        model.eval()\n",
    "\n",
    "        for data in loader:\n",
    "            out = model(data.x,data.edge_index,data.batch)\n",
    "            loss = criterion(out,data.y)\n",
    "            return loss \n",
    "\n",
    "    for epoch in tqdm.tqdm(range(1,100)):\n",
    "        train()\n",
    "        train_loss = test(train_loader)\n",
    "        test_loss = test(test_loader)\n",
    "        \n",
    "        train_mse_loss_original = train_loss.detach() * (scale ** 2)\n",
    "        train_rmse_loss_original = torch.sqrt(train_mse_loss_original.mean())\n",
    "        \n",
    "        test_mse_loss_original = test_loss.detach() * (scale ** 2)\n",
    "        test_rmse_loss_original = torch.sqrt(test_mse_loss_original.mean())\n",
    "\n",
    "        wandb.log({\"gcn_jarvis/train_RMSE\": train_rmse_loss_original.item()})\n",
    "        wandb.log({\"gcn_jarvis/test_RMSE\": test_rmse_loss_original.item()})\n",
    "\n",
    "    wandb.finish()"
   ]
  },
  {
   "cell_type": "code",
   "execution_count": 28,
   "metadata": {},
   "outputs": [
    {
     "name": "stdout",
     "output_type": "stream",
     "text": [
      "Create sweep with ID: usktbhjs\n",
      "Sweep URL: https://wandb.ai/d-massa/jarvis-node-regression/sweeps/usktbhjs\n"
     ]
    }
   ],
   "source": [
    "sweep_config = {\n",
    "    \"name\": \"gcn_jarvis-1\",\n",
    "    \"method\": \"bayes\",\n",
    "    \"metric\": {\n",
    "        \"name\": \"gcn_jarvis/test_RMSE\",\n",
    "        \"goal\": \"minimize\",\n",
    "    },\n",
    "    \"parameters\": {\n",
    "        \"hidden_channels\": {\n",
    "            \"values\": [8, 16, 32, 64]\n",
    "        },\n",
    "        \"weight_decay\": {\n",
    "            \"distribution\": \"normal\",\n",
    "            \"mu\": 5e-4,\n",
    "            \"sigma\": 5e-5\n",
    "        },\n",
    "        \"lr\": {\n",
    "            \"min\": 1e-5,\n",
    "            \"max\": 5e-4\n",
    "        }\n",
    "    }\n",
    "}\n",
    "\n",
    "# Register the Sweep with W&B\n",
    "sweep_id = wandb.sweep(sweep_config, project=\"jarvis-node-regression\")"
   ]
  },
  {
   "cell_type": "code",
   "execution_count": 29,
   "metadata": {},
   "outputs": [
    {
     "name": "stderr",
     "output_type": "stream",
     "text": [
      "\u001b[34m\u001b[1mwandb\u001b[0m: Agent Starting Run: e5xts2j1 with config:\n",
      "\u001b[34m\u001b[1mwandb\u001b[0m: \thidden_channels: 64\n",
      "\u001b[34m\u001b[1mwandb\u001b[0m: \tlr: 0.00014343883252415342\n",
      "\u001b[34m\u001b[1mwandb\u001b[0m: \tweight_decay: 0.0003989612838430339\n"
     ]
    },
    {
     "data": {
      "text/html": [
       "Tracking run with wandb version 0.19.7"
      ],
      "text/plain": [
       "<IPython.core.display.HTML object>"
      ]
     },
     "metadata": {},
     "output_type": "display_data"
    },
    {
     "data": {
      "text/html": [
       "Run data is saved locally in <code>/Users/dariomss/Documents/GitHub/Graph_Project/wandb/run-20250227_125508-e5xts2j1</code>"
      ],
      "text/plain": [
       "<IPython.core.display.HTML object>"
      ]
     },
     "metadata": {},
     "output_type": "display_data"
    },
    {
     "data": {
      "text/html": [
       "Syncing run <strong><a href='https://wandb.ai/d-massa/jarvis-node-regression/runs/e5xts2j1' target=\"_blank\">daily-sweep-1</a></strong> to <a href='https://wandb.ai/d-massa/jarvis-node-regression' target=\"_blank\">Weights & Biases</a> (<a href='https://wandb.me/developer-guide' target=\"_blank\">docs</a>)<br>Sweep page: <a href='https://wandb.ai/d-massa/jarvis-node-regression/sweeps/usktbhjs' target=\"_blank\">https://wandb.ai/d-massa/jarvis-node-regression/sweeps/usktbhjs</a>"
      ],
      "text/plain": [
       "<IPython.core.display.HTML object>"
      ]
     },
     "metadata": {},
     "output_type": "display_data"
    },
    {
     "data": {
      "text/html": [
       " View project at <a href='https://wandb.ai/d-massa/jarvis-node-regression' target=\"_blank\">https://wandb.ai/d-massa/jarvis-node-regression</a>"
      ],
      "text/plain": [
       "<IPython.core.display.HTML object>"
      ]
     },
     "metadata": {},
     "output_type": "display_data"
    },
    {
     "data": {
      "text/html": [
       " View sweep at <a href='https://wandb.ai/d-massa/jarvis-node-regression/sweeps/usktbhjs' target=\"_blank\">https://wandb.ai/d-massa/jarvis-node-regression/sweeps/usktbhjs</a>"
      ],
      "text/plain": [
       "<IPython.core.display.HTML object>"
      ]
     },
     "metadata": {},
     "output_type": "display_data"
    },
    {
     "data": {
      "text/html": [
       " View run at <a href='https://wandb.ai/d-massa/jarvis-node-regression/runs/e5xts2j1' target=\"_blank\">https://wandb.ai/d-massa/jarvis-node-regression/runs/e5xts2j1</a>"
      ],
      "text/plain": [
       "<IPython.core.display.HTML object>"
      ]
     },
     "metadata": {},
     "output_type": "display_data"
    },
    {
     "name": "stderr",
     "output_type": "stream",
     "text": [
      "  0%|          | 0/749 [00:00<?, ?it/s]/Users/dariomss/Documents/GitHub/Graph_Project/PyG/lib/python3.9/site-packages/torch/nn/modules/loss.py:538: UserWarning: Using a target size (torch.Size([32])) that is different to the input size (torch.Size([32, 1])). This will likely lead to incorrect results due to broadcasting. Please ensure they have the same size.\n",
      "  return F.mse_loss(input, target, reduction=self.reduction)\n",
      "/Users/dariomss/Documents/GitHub/Graph_Project/PyG/lib/python3.9/site-packages/torch/nn/modules/loss.py:538: UserWarning: Using a target size (torch.Size([22])) that is different to the input size (torch.Size([22, 1])). This will likely lead to incorrect results due to broadcasting. Please ensure they have the same size.\n",
      "  return F.mse_loss(input, target, reduction=self.reduction)\n",
      "100%|██████████| 749/749 [09:06<00:00,  1.37it/s]\n"
     ]
    },
    {
     "data": {
      "text/html": [],
      "text/plain": [
       "<IPython.core.display.HTML object>"
      ]
     },
     "metadata": {},
     "output_type": "display_data"
    },
    {
     "data": {
      "text/html": [
       "<br>    <style><br>        .wandb-row {<br>            display: flex;<br>            flex-direction: row;<br>            flex-wrap: wrap;<br>            justify-content: flex-start;<br>            width: 100%;<br>        }<br>        .wandb-col {<br>            display: flex;<br>            flex-direction: column;<br>            flex-basis: 100%;<br>            flex: 1;<br>            padding: 10px;<br>        }<br>    </style><br><div class=\"wandb-row\"><div class=\"wandb-col\"><h3>Run history:</h3><br/><table class=\"wandb\"><tr><td>gcn_jarvis/test_RMSE</td><td>▇▂▇▁▆█▅▆▆▆▆▆▆▆▆▆▆▆▆▆▆▆▆▆▆▆▆▆▆▆▆▆▆▆▆▆▆▆▆▆</td></tr><tr><td>gcn_jarvis/train_RMSE</td><td>▃▂▄▇▄▄▃▃▃▆▁▂▄▅▄▃▃▂▄▆▄▃▃▅▃▃▄▆▃▅▃▃▂▂▃█▂▅▅▃</td></tr></table><br/></div><div class=\"wandb-col\"><h3>Run summary:</h3><br/><table class=\"wandb\"><tr><td>gcn_jarvis/test_RMSE</td><td>0.95993</td></tr><tr><td>gcn_jarvis/train_RMSE</td><td>0.94849</td></tr></table><br/></div></div>"
      ],
      "text/plain": [
       "<IPython.core.display.HTML object>"
      ]
     },
     "metadata": {},
     "output_type": "display_data"
    },
    {
     "data": {
      "text/html": [
       " View run <strong style=\"color:#cdcd00\">daily-sweep-1</strong> at: <a href='https://wandb.ai/d-massa/jarvis-node-regression/runs/e5xts2j1' target=\"_blank\">https://wandb.ai/d-massa/jarvis-node-regression/runs/e5xts2j1</a><br> View project at: <a href='https://wandb.ai/d-massa/jarvis-node-regression' target=\"_blank\">https://wandb.ai/d-massa/jarvis-node-regression</a><br>Synced 5 W&B file(s), 0 media file(s), 0 artifact file(s) and 0 other file(s)"
      ],
      "text/plain": [
       "<IPython.core.display.HTML object>"
      ]
     },
     "metadata": {},
     "output_type": "display_data"
    },
    {
     "data": {
      "text/html": [
       "Find logs at: <code>./wandb/run-20250227_125508-e5xts2j1/logs</code>"
      ],
      "text/plain": [
       "<IPython.core.display.HTML object>"
      ]
     },
     "metadata": {},
     "output_type": "display_data"
    },
    {
     "name": "stderr",
     "output_type": "stream",
     "text": [
      "\u001b[34m\u001b[1mwandb\u001b[0m: Agent Starting Run: a6zxt74i with config:\n",
      "\u001b[34m\u001b[1mwandb\u001b[0m: \thidden_channels: 8\n",
      "\u001b[34m\u001b[1mwandb\u001b[0m: \tlr: 0.0001130950530343612\n",
      "\u001b[34m\u001b[1mwandb\u001b[0m: \tweight_decay: 0.0004601434987730988\n"
     ]
    },
    {
     "data": {
      "text/html": [
       "Tracking run with wandb version 0.19.7"
      ],
      "text/plain": [
       "<IPython.core.display.HTML object>"
      ]
     },
     "metadata": {},
     "output_type": "display_data"
    },
    {
     "data": {
      "text/html": [
       "Run data is saved locally in <code>/Users/dariomss/Documents/GitHub/Graph_Project/wandb/run-20250227_130422-a6zxt74i</code>"
      ],
      "text/plain": [
       "<IPython.core.display.HTML object>"
      ]
     },
     "metadata": {},
     "output_type": "display_data"
    },
    {
     "data": {
      "text/html": [
       "Syncing run <strong><a href='https://wandb.ai/d-massa/jarvis-node-regression/runs/a6zxt74i' target=\"_blank\">glamorous-sweep-2</a></strong> to <a href='https://wandb.ai/d-massa/jarvis-node-regression' target=\"_blank\">Weights & Biases</a> (<a href='https://wandb.me/developer-guide' target=\"_blank\">docs</a>)<br>Sweep page: <a href='https://wandb.ai/d-massa/jarvis-node-regression/sweeps/usktbhjs' target=\"_blank\">https://wandb.ai/d-massa/jarvis-node-regression/sweeps/usktbhjs</a>"
      ],
      "text/plain": [
       "<IPython.core.display.HTML object>"
      ]
     },
     "metadata": {},
     "output_type": "display_data"
    },
    {
     "data": {
      "text/html": [
       " View project at <a href='https://wandb.ai/d-massa/jarvis-node-regression' target=\"_blank\">https://wandb.ai/d-massa/jarvis-node-regression</a>"
      ],
      "text/plain": [
       "<IPython.core.display.HTML object>"
      ]
     },
     "metadata": {},
     "output_type": "display_data"
    },
    {
     "data": {
      "text/html": [
       " View sweep at <a href='https://wandb.ai/d-massa/jarvis-node-regression/sweeps/usktbhjs' target=\"_blank\">https://wandb.ai/d-massa/jarvis-node-regression/sweeps/usktbhjs</a>"
      ],
      "text/plain": [
       "<IPython.core.display.HTML object>"
      ]
     },
     "metadata": {},
     "output_type": "display_data"
    },
    {
     "data": {
      "text/html": [
       " View run at <a href='https://wandb.ai/d-massa/jarvis-node-regression/runs/a6zxt74i' target=\"_blank\">https://wandb.ai/d-massa/jarvis-node-regression/runs/a6zxt74i</a>"
      ],
      "text/plain": [
       "<IPython.core.display.HTML object>"
      ]
     },
     "metadata": {},
     "output_type": "display_data"
    },
    {
     "name": "stderr",
     "output_type": "stream",
     "text": [
      "  0%|          | 0/749 [00:00<?, ?it/s]/Users/dariomss/Documents/GitHub/Graph_Project/PyG/lib/python3.9/site-packages/torch/nn/modules/loss.py:538: UserWarning: Using a target size (torch.Size([32])) that is different to the input size (torch.Size([32, 1])). This will likely lead to incorrect results due to broadcasting. Please ensure they have the same size.\n",
      "  return F.mse_loss(input, target, reduction=self.reduction)\n",
      "/Users/dariomss/Documents/GitHub/Graph_Project/PyG/lib/python3.9/site-packages/torch/nn/modules/loss.py:538: UserWarning: Using a target size (torch.Size([22])) that is different to the input size (torch.Size([22, 1])). This will likely lead to incorrect results due to broadcasting. Please ensure they have the same size.\n",
      "  return F.mse_loss(input, target, reduction=self.reduction)\n",
      "100%|██████████| 749/749 [06:29<00:00,  1.92it/s]\n"
     ]
    },
    {
     "data": {
      "text/html": [],
      "text/plain": [
       "<IPython.core.display.HTML object>"
      ]
     },
     "metadata": {},
     "output_type": "display_data"
    },
    {
     "data": {
      "text/html": [
       "<br>    <style><br>        .wandb-row {<br>            display: flex;<br>            flex-direction: row;<br>            flex-wrap: wrap;<br>            justify-content: flex-start;<br>            width: 100%;<br>        }<br>        .wandb-col {<br>            display: flex;<br>            flex-direction: column;<br>            flex-basis: 100%;<br>            flex: 1;<br>            padding: 10px;<br>        }<br>    </style><br><div class=\"wandb-row\"><div class=\"wandb-col\"><h3>Run history:</h3><br/><table class=\"wandb\"><tr><td>gcn_jarvis/test_RMSE</td><td>▃▄▁▅▂▃▅█▄▃▂▂▃▄▄▄▄▄▄▄▄▄▄▄▄▄▄▄▄▄▄▄▄▄▄▄▄▄▄▄</td></tr><tr><td>gcn_jarvis/train_RMSE</td><td>▅▂▄▄▁▄▇▅▅▇█▄▄▃▆▃▄█▅▆▃▆▃▄█▅▅▇▅▂▅▅▇▅▅▂▆▄▄▆</td></tr></table><br/></div><div class=\"wandb-col\"><h3>Run summary:</h3><br/><table class=\"wandb\"><tr><td>gcn_jarvis/test_RMSE</td><td>0.96016</td></tr><tr><td>gcn_jarvis/train_RMSE</td><td>1.00024</td></tr></table><br/></div></div>"
      ],
      "text/plain": [
       "<IPython.core.display.HTML object>"
      ]
     },
     "metadata": {},
     "output_type": "display_data"
    },
    {
     "data": {
      "text/html": [
       " View run <strong style=\"color:#cdcd00\">glamorous-sweep-2</strong> at: <a href='https://wandb.ai/d-massa/jarvis-node-regression/runs/a6zxt74i' target=\"_blank\">https://wandb.ai/d-massa/jarvis-node-regression/runs/a6zxt74i</a><br> View project at: <a href='https://wandb.ai/d-massa/jarvis-node-regression' target=\"_blank\">https://wandb.ai/d-massa/jarvis-node-regression</a><br>Synced 5 W&B file(s), 0 media file(s), 0 artifact file(s) and 0 other file(s)"
      ],
      "text/plain": [
       "<IPython.core.display.HTML object>"
      ]
     },
     "metadata": {},
     "output_type": "display_data"
    },
    {
     "data": {
      "text/html": [
       "Find logs at: <code>./wandb/run-20250227_130422-a6zxt74i/logs</code>"
      ],
      "text/plain": [
       "<IPython.core.display.HTML object>"
      ]
     },
     "metadata": {},
     "output_type": "display_data"
    },
    {
     "name": "stderr",
     "output_type": "stream",
     "text": [
      "\u001b[34m\u001b[1mwandb\u001b[0m: Agent Starting Run: otwtkbpa with config:\n",
      "\u001b[34m\u001b[1mwandb\u001b[0m: \thidden_channels: 64\n",
      "\u001b[34m\u001b[1mwandb\u001b[0m: \tlr: 7.756725665422095e-05\n",
      "\u001b[34m\u001b[1mwandb\u001b[0m: \tweight_decay: 0.0004457822768592305\n"
     ]
    },
    {
     "data": {
      "text/html": [
       "Tracking run with wandb version 0.19.7"
      ],
      "text/plain": [
       "<IPython.core.display.HTML object>"
      ]
     },
     "metadata": {},
     "output_type": "display_data"
    },
    {
     "data": {
      "text/html": [
       "Run data is saved locally in <code>/Users/dariomss/Documents/GitHub/Graph_Project/wandb/run-20250227_131058-otwtkbpa</code>"
      ],
      "text/plain": [
       "<IPython.core.display.HTML object>"
      ]
     },
     "metadata": {},
     "output_type": "display_data"
    },
    {
     "data": {
      "text/html": [
       "Syncing run <strong><a href='https://wandb.ai/d-massa/jarvis-node-regression/runs/otwtkbpa' target=\"_blank\">trim-sweep-3</a></strong> to <a href='https://wandb.ai/d-massa/jarvis-node-regression' target=\"_blank\">Weights & Biases</a> (<a href='https://wandb.me/developer-guide' target=\"_blank\">docs</a>)<br>Sweep page: <a href='https://wandb.ai/d-massa/jarvis-node-regression/sweeps/usktbhjs' target=\"_blank\">https://wandb.ai/d-massa/jarvis-node-regression/sweeps/usktbhjs</a>"
      ],
      "text/plain": [
       "<IPython.core.display.HTML object>"
      ]
     },
     "metadata": {},
     "output_type": "display_data"
    },
    {
     "data": {
      "text/html": [
       " View project at <a href='https://wandb.ai/d-massa/jarvis-node-regression' target=\"_blank\">https://wandb.ai/d-massa/jarvis-node-regression</a>"
      ],
      "text/plain": [
       "<IPython.core.display.HTML object>"
      ]
     },
     "metadata": {},
     "output_type": "display_data"
    },
    {
     "data": {
      "text/html": [
       " View sweep at <a href='https://wandb.ai/d-massa/jarvis-node-regression/sweeps/usktbhjs' target=\"_blank\">https://wandb.ai/d-massa/jarvis-node-regression/sweeps/usktbhjs</a>"
      ],
      "text/plain": [
       "<IPython.core.display.HTML object>"
      ]
     },
     "metadata": {},
     "output_type": "display_data"
    },
    {
     "data": {
      "text/html": [
       " View run at <a href='https://wandb.ai/d-massa/jarvis-node-regression/runs/otwtkbpa' target=\"_blank\">https://wandb.ai/d-massa/jarvis-node-regression/runs/otwtkbpa</a>"
      ],
      "text/plain": [
       "<IPython.core.display.HTML object>"
      ]
     },
     "metadata": {},
     "output_type": "display_data"
    },
    {
     "name": "stderr",
     "output_type": "stream",
     "text": [
      "  0%|          | 0/749 [00:00<?, ?it/s]/Users/dariomss/Documents/GitHub/Graph_Project/PyG/lib/python3.9/site-packages/torch/nn/modules/loss.py:538: UserWarning: Using a target size (torch.Size([32])) that is different to the input size (torch.Size([32, 1])). This will likely lead to incorrect results due to broadcasting. Please ensure they have the same size.\n",
      "  return F.mse_loss(input, target, reduction=self.reduction)\n",
      "/Users/dariomss/Documents/GitHub/Graph_Project/PyG/lib/python3.9/site-packages/torch/nn/modules/loss.py:538: UserWarning: Using a target size (torch.Size([22])) that is different to the input size (torch.Size([22, 1])). This will likely lead to incorrect results due to broadcasting. Please ensure they have the same size.\n",
      "  return F.mse_loss(input, target, reduction=self.reduction)\n",
      "100%|██████████| 749/749 [10:25<00:00,  1.20it/s]\n"
     ]
    },
    {
     "data": {
      "text/html": [],
      "text/plain": [
       "<IPython.core.display.HTML object>"
      ]
     },
     "metadata": {},
     "output_type": "display_data"
    },
    {
     "data": {
      "text/html": [
       "<br>    <style><br>        .wandb-row {<br>            display: flex;<br>            flex-direction: row;<br>            flex-wrap: wrap;<br>            justify-content: flex-start;<br>            width: 100%;<br>        }<br>        .wandb-col {<br>            display: flex;<br>            flex-direction: column;<br>            flex-basis: 100%;<br>            flex: 1;<br>            padding: 10px;<br>        }<br>    </style><br><div class=\"wandb-row\"><div class=\"wandb-col\"><h3>Run history:</h3><br/><table class=\"wandb\"><tr><td>gcn_jarvis/test_RMSE</td><td>█▁▆▄▃▃▇▄▂▃▄▄▄▅▄▄▄▄▅▄▄▄▅▄▄▄▄▄▄▅▄▄▄▄▄▄▄▅▅▄</td></tr><tr><td>gcn_jarvis/train_RMSE</td><td>▅▄▆█▆▃▅▇▆▄▄▅▃▄▂▄▁▃▄▅▅▃▄▄▆▄▄▆▄▅▄▄▄▅▅▃▅▃▅▅</td></tr></table><br/></div><div class=\"wandb-col\"><h3>Run summary:</h3><br/><table class=\"wandb\"><tr><td>gcn_jarvis/test_RMSE</td><td>0.95978</td></tr><tr><td>gcn_jarvis/train_RMSE</td><td>0.94845</td></tr></table><br/></div></div>"
      ],
      "text/plain": [
       "<IPython.core.display.HTML object>"
      ]
     },
     "metadata": {},
     "output_type": "display_data"
    },
    {
     "data": {
      "text/html": [
       " View run <strong style=\"color:#cdcd00\">trim-sweep-3</strong> at: <a href='https://wandb.ai/d-massa/jarvis-node-regression/runs/otwtkbpa' target=\"_blank\">https://wandb.ai/d-massa/jarvis-node-regression/runs/otwtkbpa</a><br> View project at: <a href='https://wandb.ai/d-massa/jarvis-node-regression' target=\"_blank\">https://wandb.ai/d-massa/jarvis-node-regression</a><br>Synced 5 W&B file(s), 0 media file(s), 0 artifact file(s) and 0 other file(s)"
      ],
      "text/plain": [
       "<IPython.core.display.HTML object>"
      ]
     },
     "metadata": {},
     "output_type": "display_data"
    },
    {
     "data": {
      "text/html": [
       "Find logs at: <code>./wandb/run-20250227_131058-otwtkbpa/logs</code>"
      ],
      "text/plain": [
       "<IPython.core.display.HTML object>"
      ]
     },
     "metadata": {},
     "output_type": "display_data"
    },
    {
     "name": "stderr",
     "output_type": "stream",
     "text": [
      "\u001b[34m\u001b[1mwandb\u001b[0m: Agent Starting Run: xduzp7h6 with config:\n",
      "\u001b[34m\u001b[1mwandb\u001b[0m: \thidden_channels: 64\n",
      "\u001b[34m\u001b[1mwandb\u001b[0m: \tlr: 6.646898051877903e-05\n",
      "\u001b[34m\u001b[1mwandb\u001b[0m: \tweight_decay: 0.00044930929988142606\n"
     ]
    },
    {
     "data": {
      "text/html": [
       "Tracking run with wandb version 0.19.7"
      ],
      "text/plain": [
       "<IPython.core.display.HTML object>"
      ]
     },
     "metadata": {},
     "output_type": "display_data"
    },
    {
     "data": {
      "text/html": [
       "Run data is saved locally in <code>/Users/dariomss/Documents/GitHub/Graph_Project/wandb/run-20250227_132133-xduzp7h6</code>"
      ],
      "text/plain": [
       "<IPython.core.display.HTML object>"
      ]
     },
     "metadata": {},
     "output_type": "display_data"
    },
    {
     "data": {
      "text/html": [
       "Syncing run <strong><a href='https://wandb.ai/d-massa/jarvis-node-regression/runs/xduzp7h6' target=\"_blank\">pretty-sweep-4</a></strong> to <a href='https://wandb.ai/d-massa/jarvis-node-regression' target=\"_blank\">Weights & Biases</a> (<a href='https://wandb.me/developer-guide' target=\"_blank\">docs</a>)<br>Sweep page: <a href='https://wandb.ai/d-massa/jarvis-node-regression/sweeps/usktbhjs' target=\"_blank\">https://wandb.ai/d-massa/jarvis-node-regression/sweeps/usktbhjs</a>"
      ],
      "text/plain": [
       "<IPython.core.display.HTML object>"
      ]
     },
     "metadata": {},
     "output_type": "display_data"
    },
    {
     "data": {
      "text/html": [
       " View project at <a href='https://wandb.ai/d-massa/jarvis-node-regression' target=\"_blank\">https://wandb.ai/d-massa/jarvis-node-regression</a>"
      ],
      "text/plain": [
       "<IPython.core.display.HTML object>"
      ]
     },
     "metadata": {},
     "output_type": "display_data"
    },
    {
     "data": {
      "text/html": [
       " View sweep at <a href='https://wandb.ai/d-massa/jarvis-node-regression/sweeps/usktbhjs' target=\"_blank\">https://wandb.ai/d-massa/jarvis-node-regression/sweeps/usktbhjs</a>"
      ],
      "text/plain": [
       "<IPython.core.display.HTML object>"
      ]
     },
     "metadata": {},
     "output_type": "display_data"
    },
    {
     "data": {
      "text/html": [
       " View run at <a href='https://wandb.ai/d-massa/jarvis-node-regression/runs/xduzp7h6' target=\"_blank\">https://wandb.ai/d-massa/jarvis-node-regression/runs/xduzp7h6</a>"
      ],
      "text/plain": [
       "<IPython.core.display.HTML object>"
      ]
     },
     "metadata": {},
     "output_type": "display_data"
    },
    {
     "name": "stderr",
     "output_type": "stream",
     "text": [
      "  0%|          | 0/749 [00:00<?, ?it/s]/Users/dariomss/Documents/GitHub/Graph_Project/PyG/lib/python3.9/site-packages/torch/nn/modules/loss.py:538: UserWarning: Using a target size (torch.Size([32])) that is different to the input size (torch.Size([32, 1])). This will likely lead to incorrect results due to broadcasting. Please ensure they have the same size.\n",
      "  return F.mse_loss(input, target, reduction=self.reduction)\n",
      "/Users/dariomss/Documents/GitHub/Graph_Project/PyG/lib/python3.9/site-packages/torch/nn/modules/loss.py:538: UserWarning: Using a target size (torch.Size([22])) that is different to the input size (torch.Size([22, 1])). This will likely lead to incorrect results due to broadcasting. Please ensure they have the same size.\n",
      "  return F.mse_loss(input, target, reduction=self.reduction)\n",
      "100%|██████████| 749/749 [09:48<00:00,  1.27it/s]\n"
     ]
    },
    {
     "data": {
      "text/html": [],
      "text/plain": [
       "<IPython.core.display.HTML object>"
      ]
     },
     "metadata": {},
     "output_type": "display_data"
    },
    {
     "data": {
      "text/html": [
       "<br>    <style><br>        .wandb-row {<br>            display: flex;<br>            flex-direction: row;<br>            flex-wrap: wrap;<br>            justify-content: flex-start;<br>            width: 100%;<br>        }<br>        .wandb-col {<br>            display: flex;<br>            flex-direction: column;<br>            flex-basis: 100%;<br>            flex: 1;<br>            padding: 10px;<br>        }<br>    </style><br><div class=\"wandb-row\"><div class=\"wandb-col\"><h3>Run history:</h3><br/><table class=\"wandb\"><tr><td>gcn_jarvis/test_RMSE</td><td>▇▄▁▆▅▆█▅▆▃▄▇▇▅▆▄▇▅▆▆▆▆▆▆▆▆▆▆▆▆▆▆▆▆▆▆▆▆▆▆</td></tr><tr><td>gcn_jarvis/train_RMSE</td><td>▄▄▆▅▄█▆▆▅▁▃▅▂▅▄▅▅▄▄▅▃▄▄▅▄▅▄▄▄▄▄▅▅▂▅▄▃▃▄▅</td></tr></table><br/></div><div class=\"wandb-col\"><h3>Run summary:</h3><br/><table class=\"wandb\"><tr><td>gcn_jarvis/test_RMSE</td><td>0.95975</td></tr><tr><td>gcn_jarvis/train_RMSE</td><td>0.94844</td></tr></table><br/></div></div>"
      ],
      "text/plain": [
       "<IPython.core.display.HTML object>"
      ]
     },
     "metadata": {},
     "output_type": "display_data"
    },
    {
     "data": {
      "text/html": [
       " View run <strong style=\"color:#cdcd00\">pretty-sweep-4</strong> at: <a href='https://wandb.ai/d-massa/jarvis-node-regression/runs/xduzp7h6' target=\"_blank\">https://wandb.ai/d-massa/jarvis-node-regression/runs/xduzp7h6</a><br> View project at: <a href='https://wandb.ai/d-massa/jarvis-node-regression' target=\"_blank\">https://wandb.ai/d-massa/jarvis-node-regression</a><br>Synced 5 W&B file(s), 0 media file(s), 0 artifact file(s) and 0 other file(s)"
      ],
      "text/plain": [
       "<IPython.core.display.HTML object>"
      ]
     },
     "metadata": {},
     "output_type": "display_data"
    },
    {
     "data": {
      "text/html": [
       "Find logs at: <code>./wandb/run-20250227_132133-xduzp7h6/logs</code>"
      ],
      "text/plain": [
       "<IPython.core.display.HTML object>"
      ]
     },
     "metadata": {},
     "output_type": "display_data"
    },
    {
     "name": "stderr",
     "output_type": "stream",
     "text": [
      "\u001b[34m\u001b[1mwandb\u001b[0m: Agent Starting Run: 0g8x10hi with config:\n",
      "\u001b[34m\u001b[1mwandb\u001b[0m: \thidden_channels: 64\n",
      "\u001b[34m\u001b[1mwandb\u001b[0m: \tlr: 3.148994503347147e-05\n",
      "\u001b[34m\u001b[1mwandb\u001b[0m: \tweight_decay: 0.0004620816166935936\n"
     ]
    },
    {
     "data": {
      "text/html": [
       "Tracking run with wandb version 0.19.7"
      ],
      "text/plain": [
       "<IPython.core.display.HTML object>"
      ]
     },
     "metadata": {},
     "output_type": "display_data"
    },
    {
     "data": {
      "text/html": [
       "Run data is saved locally in <code>/Users/dariomss/Documents/GitHub/Graph_Project/wandb/run-20250227_133130-0g8x10hi</code>"
      ],
      "text/plain": [
       "<IPython.core.display.HTML object>"
      ]
     },
     "metadata": {},
     "output_type": "display_data"
    },
    {
     "data": {
      "text/html": [
       "Syncing run <strong><a href='https://wandb.ai/d-massa/jarvis-node-regression/runs/0g8x10hi' target=\"_blank\">wobbly-sweep-5</a></strong> to <a href='https://wandb.ai/d-massa/jarvis-node-regression' target=\"_blank\">Weights & Biases</a> (<a href='https://wandb.me/developer-guide' target=\"_blank\">docs</a>)<br>Sweep page: <a href='https://wandb.ai/d-massa/jarvis-node-regression/sweeps/usktbhjs' target=\"_blank\">https://wandb.ai/d-massa/jarvis-node-regression/sweeps/usktbhjs</a>"
      ],
      "text/plain": [
       "<IPython.core.display.HTML object>"
      ]
     },
     "metadata": {},
     "output_type": "display_data"
    },
    {
     "data": {
      "text/html": [
       " View project at <a href='https://wandb.ai/d-massa/jarvis-node-regression' target=\"_blank\">https://wandb.ai/d-massa/jarvis-node-regression</a>"
      ],
      "text/plain": [
       "<IPython.core.display.HTML object>"
      ]
     },
     "metadata": {},
     "output_type": "display_data"
    },
    {
     "data": {
      "text/html": [
       " View sweep at <a href='https://wandb.ai/d-massa/jarvis-node-regression/sweeps/usktbhjs' target=\"_blank\">https://wandb.ai/d-massa/jarvis-node-regression/sweeps/usktbhjs</a>"
      ],
      "text/plain": [
       "<IPython.core.display.HTML object>"
      ]
     },
     "metadata": {},
     "output_type": "display_data"
    },
    {
     "data": {
      "text/html": [
       " View run at <a href='https://wandb.ai/d-massa/jarvis-node-regression/runs/0g8x10hi' target=\"_blank\">https://wandb.ai/d-massa/jarvis-node-regression/runs/0g8x10hi</a>"
      ],
      "text/plain": [
       "<IPython.core.display.HTML object>"
      ]
     },
     "metadata": {},
     "output_type": "display_data"
    },
    {
     "name": "stderr",
     "output_type": "stream",
     "text": [
      "  0%|          | 0/749 [00:00<?, ?it/s]/Users/dariomss/Documents/GitHub/Graph_Project/PyG/lib/python3.9/site-packages/torch/nn/modules/loss.py:538: UserWarning: Using a target size (torch.Size([32])) that is different to the input size (torch.Size([32, 1])). This will likely lead to incorrect results due to broadcasting. Please ensure they have the same size.\n",
      "  return F.mse_loss(input, target, reduction=self.reduction)\n",
      "/Users/dariomss/Documents/GitHub/Graph_Project/PyG/lib/python3.9/site-packages/torch/nn/modules/loss.py:538: UserWarning: Using a target size (torch.Size([22])) that is different to the input size (torch.Size([22, 1])). This will likely lead to incorrect results due to broadcasting. Please ensure they have the same size.\n",
      "  return F.mse_loss(input, target, reduction=self.reduction)\n",
      "100%|██████████| 749/749 [13:30<00:00,  1.08s/it]\n"
     ]
    },
    {
     "data": {
      "text/html": [],
      "text/plain": [
       "<IPython.core.display.HTML object>"
      ]
     },
     "metadata": {},
     "output_type": "display_data"
    },
    {
     "data": {
      "text/html": [
       "<br>    <style><br>        .wandb-row {<br>            display: flex;<br>            flex-direction: row;<br>            flex-wrap: wrap;<br>            justify-content: flex-start;<br>            width: 100%;<br>        }<br>        .wandb-col {<br>            display: flex;<br>            flex-direction: column;<br>            flex-basis: 100%;<br>            flex: 1;<br>            padding: 10px;<br>        }<br>    </style><br><div class=\"wandb-row\"><div class=\"wandb-col\"><h3>Run history:</h3><br/><table class=\"wandb\"><tr><td>gcn_jarvis/test_RMSE</td><td>█▄▂▃▂▂▅▃▆▆▆▆▂▁▆▄▂▂▅▅▃▄▄▂▄▄▄▄▄▃▄▂▄▃▄▃▄▃▃▃</td></tr><tr><td>gcn_jarvis/train_RMSE</td><td>▅▅▄▃▅▄▁▇▂▇▃▃▃▅▂▆▄▅▅▆▃▃▂▅▆▄▅▄▃▁▂▂▆▃▄▅▂▄▂█</td></tr></table><br/></div><div class=\"wandb-col\"><h3>Run summary:</h3><br/><table class=\"wandb\"><tr><td>gcn_jarvis/test_RMSE</td><td>0.95863</td></tr><tr><td>gcn_jarvis/train_RMSE</td><td>0.94797</td></tr></table><br/></div></div>"
      ],
      "text/plain": [
       "<IPython.core.display.HTML object>"
      ]
     },
     "metadata": {},
     "output_type": "display_data"
    },
    {
     "data": {
      "text/html": [
       " View run <strong style=\"color:#cdcd00\">wobbly-sweep-5</strong> at: <a href='https://wandb.ai/d-massa/jarvis-node-regression/runs/0g8x10hi' target=\"_blank\">https://wandb.ai/d-massa/jarvis-node-regression/runs/0g8x10hi</a><br> View project at: <a href='https://wandb.ai/d-massa/jarvis-node-regression' target=\"_blank\">https://wandb.ai/d-massa/jarvis-node-regression</a><br>Synced 5 W&B file(s), 0 media file(s), 0 artifact file(s) and 0 other file(s)"
      ],
      "text/plain": [
       "<IPython.core.display.HTML object>"
      ]
     },
     "metadata": {},
     "output_type": "display_data"
    },
    {
     "data": {
      "text/html": [
       "Find logs at: <code>./wandb/run-20250227_133130-0g8x10hi/logs</code>"
      ],
      "text/plain": [
       "<IPython.core.display.HTML object>"
      ]
     },
     "metadata": {},
     "output_type": "display_data"
    },
    {
     "name": "stderr",
     "output_type": "stream",
     "text": [
      "\u001b[34m\u001b[1mwandb\u001b[0m: Agent Starting Run: yw26lwxz with config:\n",
      "\u001b[34m\u001b[1mwandb\u001b[0m: \thidden_channels: 16\n",
      "\u001b[34m\u001b[1mwandb\u001b[0m: \tlr: 0.00020302923122587297\n",
      "\u001b[34m\u001b[1mwandb\u001b[0m: \tweight_decay: 0.0005342382485322213\n"
     ]
    },
    {
     "data": {
      "text/html": [
       "Tracking run with wandb version 0.19.7"
      ],
      "text/plain": [
       "<IPython.core.display.HTML object>"
      ]
     },
     "metadata": {},
     "output_type": "display_data"
    },
    {
     "data": {
      "text/html": [
       "Run data is saved locally in <code>/Users/dariomss/Documents/GitHub/Graph_Project/wandb/run-20250227_134508-yw26lwxz</code>"
      ],
      "text/plain": [
       "<IPython.core.display.HTML object>"
      ]
     },
     "metadata": {},
     "output_type": "display_data"
    },
    {
     "data": {
      "text/html": [
       "Syncing run <strong><a href='https://wandb.ai/d-massa/jarvis-node-regression/runs/yw26lwxz' target=\"_blank\">pious-sweep-6</a></strong> to <a href='https://wandb.ai/d-massa/jarvis-node-regression' target=\"_blank\">Weights & Biases</a> (<a href='https://wandb.me/developer-guide' target=\"_blank\">docs</a>)<br>Sweep page: <a href='https://wandb.ai/d-massa/jarvis-node-regression/sweeps/usktbhjs' target=\"_blank\">https://wandb.ai/d-massa/jarvis-node-regression/sweeps/usktbhjs</a>"
      ],
      "text/plain": [
       "<IPython.core.display.HTML object>"
      ]
     },
     "metadata": {},
     "output_type": "display_data"
    },
    {
     "data": {
      "text/html": [
       " View project at <a href='https://wandb.ai/d-massa/jarvis-node-regression' target=\"_blank\">https://wandb.ai/d-massa/jarvis-node-regression</a>"
      ],
      "text/plain": [
       "<IPython.core.display.HTML object>"
      ]
     },
     "metadata": {},
     "output_type": "display_data"
    },
    {
     "data": {
      "text/html": [
       " View sweep at <a href='https://wandb.ai/d-massa/jarvis-node-regression/sweeps/usktbhjs' target=\"_blank\">https://wandb.ai/d-massa/jarvis-node-regression/sweeps/usktbhjs</a>"
      ],
      "text/plain": [
       "<IPython.core.display.HTML object>"
      ]
     },
     "metadata": {},
     "output_type": "display_data"
    },
    {
     "data": {
      "text/html": [
       " View run at <a href='https://wandb.ai/d-massa/jarvis-node-regression/runs/yw26lwxz' target=\"_blank\">https://wandb.ai/d-massa/jarvis-node-regression/runs/yw26lwxz</a>"
      ],
      "text/plain": [
       "<IPython.core.display.HTML object>"
      ]
     },
     "metadata": {},
     "output_type": "display_data"
    },
    {
     "name": "stderr",
     "output_type": "stream",
     "text": [
      "  0%|          | 0/749 [00:00<?, ?it/s]/Users/dariomss/Documents/GitHub/Graph_Project/PyG/lib/python3.9/site-packages/torch/nn/modules/loss.py:538: UserWarning: Using a target size (torch.Size([32])) that is different to the input size (torch.Size([32, 1])). This will likely lead to incorrect results due to broadcasting. Please ensure they have the same size.\n",
      "  return F.mse_loss(input, target, reduction=self.reduction)\n",
      "/Users/dariomss/Documents/GitHub/Graph_Project/PyG/lib/python3.9/site-packages/torch/nn/modules/loss.py:538: UserWarning: Using a target size (torch.Size([22])) that is different to the input size (torch.Size([22, 1])). This will likely lead to incorrect results due to broadcasting. Please ensure they have the same size.\n",
      "  return F.mse_loss(input, target, reduction=self.reduction)\n",
      "100%|██████████| 749/749 [10:15<00:00,  1.22it/s]\n"
     ]
    },
    {
     "data": {
      "text/html": [],
      "text/plain": [
       "<IPython.core.display.HTML object>"
      ]
     },
     "metadata": {},
     "output_type": "display_data"
    },
    {
     "data": {
      "text/html": [
       "<br>    <style><br>        .wandb-row {<br>            display: flex;<br>            flex-direction: row;<br>            flex-wrap: wrap;<br>            justify-content: flex-start;<br>            width: 100%;<br>        }<br>        .wandb-col {<br>            display: flex;<br>            flex-direction: column;<br>            flex-basis: 100%;<br>            flex: 1;<br>            padding: 10px;<br>        }<br>    </style><br><div class=\"wandb-row\"><div class=\"wandb-col\"><h3>Run history:</h3><br/><table class=\"wandb\"><tr><td>gcn_jarvis/test_RMSE</td><td>▃█▁▃▄▄▄▃▄▄▄▄▄▄▅▄▄▃▄▄▄▄▄▄▄▄▄▄▄▄▄▄▄▄▄▄▄▄▄▄</td></tr><tr><td>gcn_jarvis/train_RMSE</td><td>▆▅▆█▃▄▅▁█▆▃▂▅▆▄▆▇█▃▄▇▅▅▄▄▆▄▆▆▄▄▅▆▄█▅▅▆▇▃</td></tr></table><br/></div><div class=\"wandb-col\"><h3>Run summary:</h3><br/><table class=\"wandb\"><tr><td>gcn_jarvis/test_RMSE</td><td>0.96016</td></tr><tr><td>gcn_jarvis/train_RMSE</td><td>0.8392</td></tr></table><br/></div></div>"
      ],
      "text/plain": [
       "<IPython.core.display.HTML object>"
      ]
     },
     "metadata": {},
     "output_type": "display_data"
    },
    {
     "data": {
      "text/html": [
       " View run <strong style=\"color:#cdcd00\">pious-sweep-6</strong> at: <a href='https://wandb.ai/d-massa/jarvis-node-regression/runs/yw26lwxz' target=\"_blank\">https://wandb.ai/d-massa/jarvis-node-regression/runs/yw26lwxz</a><br> View project at: <a href='https://wandb.ai/d-massa/jarvis-node-regression' target=\"_blank\">https://wandb.ai/d-massa/jarvis-node-regression</a><br>Synced 5 W&B file(s), 0 media file(s), 0 artifact file(s) and 0 other file(s)"
      ],
      "text/plain": [
       "<IPython.core.display.HTML object>"
      ]
     },
     "metadata": {},
     "output_type": "display_data"
    },
    {
     "data": {
      "text/html": [
       "Find logs at: <code>./wandb/run-20250227_134508-yw26lwxz/logs</code>"
      ],
      "text/plain": [
       "<IPython.core.display.HTML object>"
      ]
     },
     "metadata": {},
     "output_type": "display_data"
    },
    {
     "name": "stderr",
     "output_type": "stream",
     "text": [
      "\u001b[34m\u001b[1mwandb\u001b[0m: Agent Starting Run: n9qrydyb with config:\n",
      "\u001b[34m\u001b[1mwandb\u001b[0m: \thidden_channels: 8\n",
      "\u001b[34m\u001b[1mwandb\u001b[0m: \tlr: 8.038258585441644e-05\n",
      "\u001b[34m\u001b[1mwandb\u001b[0m: \tweight_decay: 0.0004814681607807107\n"
     ]
    },
    {
     "data": {
      "text/html": [
       "Tracking run with wandb version 0.19.7"
      ],
      "text/plain": [
       "<IPython.core.display.HTML object>"
      ]
     },
     "metadata": {},
     "output_type": "display_data"
    },
    {
     "data": {
      "text/html": [
       "Run data is saved locally in <code>/Users/dariomss/Documents/GitHub/Graph_Project/wandb/run-20250227_135531-n9qrydyb</code>"
      ],
      "text/plain": [
       "<IPython.core.display.HTML object>"
      ]
     },
     "metadata": {},
     "output_type": "display_data"
    },
    {
     "data": {
      "text/html": [
       "Syncing run <strong><a href='https://wandb.ai/d-massa/jarvis-node-regression/runs/n9qrydyb' target=\"_blank\">wobbly-sweep-7</a></strong> to <a href='https://wandb.ai/d-massa/jarvis-node-regression' target=\"_blank\">Weights & Biases</a> (<a href='https://wandb.me/developer-guide' target=\"_blank\">docs</a>)<br>Sweep page: <a href='https://wandb.ai/d-massa/jarvis-node-regression/sweeps/usktbhjs' target=\"_blank\">https://wandb.ai/d-massa/jarvis-node-regression/sweeps/usktbhjs</a>"
      ],
      "text/plain": [
       "<IPython.core.display.HTML object>"
      ]
     },
     "metadata": {},
     "output_type": "display_data"
    },
    {
     "data": {
      "text/html": [
       " View project at <a href='https://wandb.ai/d-massa/jarvis-node-regression' target=\"_blank\">https://wandb.ai/d-massa/jarvis-node-regression</a>"
      ],
      "text/plain": [
       "<IPython.core.display.HTML object>"
      ]
     },
     "metadata": {},
     "output_type": "display_data"
    },
    {
     "data": {
      "text/html": [
       " View sweep at <a href='https://wandb.ai/d-massa/jarvis-node-regression/sweeps/usktbhjs' target=\"_blank\">https://wandb.ai/d-massa/jarvis-node-regression/sweeps/usktbhjs</a>"
      ],
      "text/plain": [
       "<IPython.core.display.HTML object>"
      ]
     },
     "metadata": {},
     "output_type": "display_data"
    },
    {
     "data": {
      "text/html": [
       " View run at <a href='https://wandb.ai/d-massa/jarvis-node-regression/runs/n9qrydyb' target=\"_blank\">https://wandb.ai/d-massa/jarvis-node-regression/runs/n9qrydyb</a>"
      ],
      "text/plain": [
       "<IPython.core.display.HTML object>"
      ]
     },
     "metadata": {},
     "output_type": "display_data"
    },
    {
     "name": "stderr",
     "output_type": "stream",
     "text": [
      "  0%|          | 0/749 [00:00<?, ?it/s]/Users/dariomss/Documents/GitHub/Graph_Project/PyG/lib/python3.9/site-packages/torch/nn/modules/loss.py:538: UserWarning: Using a target size (torch.Size([32])) that is different to the input size (torch.Size([32, 1])). This will likely lead to incorrect results due to broadcasting. Please ensure they have the same size.\n",
      "  return F.mse_loss(input, target, reduction=self.reduction)\n",
      "/Users/dariomss/Documents/GitHub/Graph_Project/PyG/lib/python3.9/site-packages/torch/nn/modules/loss.py:538: UserWarning: Using a target size (torch.Size([22])) that is different to the input size (torch.Size([22, 1])). This will likely lead to incorrect results due to broadcasting. Please ensure they have the same size.\n",
      "  return F.mse_loss(input, target, reduction=self.reduction)\n",
      "100%|██████████| 749/749 [06:27<00:00,  1.93it/s]\n"
     ]
    },
    {
     "data": {
      "text/html": [],
      "text/plain": [
       "<IPython.core.display.HTML object>"
      ]
     },
     "metadata": {},
     "output_type": "display_data"
    },
    {
     "data": {
      "text/html": [
       "<br>    <style><br>        .wandb-row {<br>            display: flex;<br>            flex-direction: row;<br>            flex-wrap: wrap;<br>            justify-content: flex-start;<br>            width: 100%;<br>        }<br>        .wandb-col {<br>            display: flex;<br>            flex-direction: column;<br>            flex-basis: 100%;<br>            flex: 1;<br>            padding: 10px;<br>        }<br>    </style><br><div class=\"wandb-row\"><div class=\"wandb-col\"><h3>Run history:</h3><br/><table class=\"wandb\"><tr><td>gcn_jarvis/test_RMSE</td><td>▂▅▄▄▁▆█▅▇▅█▅██▆▆▆▅▆▆▇▆▇▇▇▇▇▇▇▇▇▇▇▇▇▇▇▇▇▇</td></tr><tr><td>gcn_jarvis/train_RMSE</td><td>▇▄▃▇▂▃▅▇▆▆▆▄▃█▆▅▃▆▄█▆▅▄▂▄█▅▄▁▄▃▃▃▅▅▅▆▄▄▄</td></tr></table><br/></div><div class=\"wandb-col\"><h3>Run summary:</h3><br/><table class=\"wandb\"><tr><td>gcn_jarvis/test_RMSE</td><td>0.9602</td></tr><tr><td>gcn_jarvis/train_RMSE</td><td>1.00026</td></tr></table><br/></div></div>"
      ],
      "text/plain": [
       "<IPython.core.display.HTML object>"
      ]
     },
     "metadata": {},
     "output_type": "display_data"
    },
    {
     "data": {
      "text/html": [
       " View run <strong style=\"color:#cdcd00\">wobbly-sweep-7</strong> at: <a href='https://wandb.ai/d-massa/jarvis-node-regression/runs/n9qrydyb' target=\"_blank\">https://wandb.ai/d-massa/jarvis-node-regression/runs/n9qrydyb</a><br> View project at: <a href='https://wandb.ai/d-massa/jarvis-node-regression' target=\"_blank\">https://wandb.ai/d-massa/jarvis-node-regression</a><br>Synced 5 W&B file(s), 0 media file(s), 0 artifact file(s) and 0 other file(s)"
      ],
      "text/plain": [
       "<IPython.core.display.HTML object>"
      ]
     },
     "metadata": {},
     "output_type": "display_data"
    },
    {
     "data": {
      "text/html": [
       "Find logs at: <code>./wandb/run-20250227_135531-n9qrydyb/logs</code>"
      ],
      "text/plain": [
       "<IPython.core.display.HTML object>"
      ]
     },
     "metadata": {},
     "output_type": "display_data"
    },
    {
     "name": "stderr",
     "output_type": "stream",
     "text": [
      "\u001b[34m\u001b[1mwandb\u001b[0m: Agent Starting Run: nh7mug5p with config:\n",
      "\u001b[34m\u001b[1mwandb\u001b[0m: \thidden_channels: 16\n",
      "\u001b[34m\u001b[1mwandb\u001b[0m: \tlr: 0.00010181018223721635\n",
      "\u001b[34m\u001b[1mwandb\u001b[0m: \tweight_decay: 0.000468892438406752\n"
     ]
    },
    {
     "data": {
      "text/html": [
       "creating run (1.5s)"
      ],
      "text/plain": [
       "<IPython.core.display.HTML object>"
      ]
     },
     "metadata": {},
     "output_type": "display_data"
    },
    {
     "data": {
      "text/html": [
       "Tracking run with wandb version 0.19.7"
      ],
      "text/plain": [
       "<IPython.core.display.HTML object>"
      ]
     },
     "metadata": {},
     "output_type": "display_data"
    },
    {
     "data": {
      "text/html": [
       "Run data is saved locally in <code>/Users/dariomss/Documents/GitHub/Graph_Project/wandb/run-20250227_140208-nh7mug5p</code>"
      ],
      "text/plain": [
       "<IPython.core.display.HTML object>"
      ]
     },
     "metadata": {},
     "output_type": "display_data"
    },
    {
     "data": {
      "text/html": [
       "Syncing run <strong><a href='https://wandb.ai/d-massa/jarvis-node-regression/runs/nh7mug5p' target=\"_blank\">daily-sweep-8</a></strong> to <a href='https://wandb.ai/d-massa/jarvis-node-regression' target=\"_blank\">Weights & Biases</a> (<a href='https://wandb.me/developer-guide' target=\"_blank\">docs</a>)<br>Sweep page: <a href='https://wandb.ai/d-massa/jarvis-node-regression/sweeps/usktbhjs' target=\"_blank\">https://wandb.ai/d-massa/jarvis-node-regression/sweeps/usktbhjs</a>"
      ],
      "text/plain": [
       "<IPython.core.display.HTML object>"
      ]
     },
     "metadata": {},
     "output_type": "display_data"
    },
    {
     "data": {
      "text/html": [
       " View project at <a href='https://wandb.ai/d-massa/jarvis-node-regression' target=\"_blank\">https://wandb.ai/d-massa/jarvis-node-regression</a>"
      ],
      "text/plain": [
       "<IPython.core.display.HTML object>"
      ]
     },
     "metadata": {},
     "output_type": "display_data"
    },
    {
     "data": {
      "text/html": [
       " View sweep at <a href='https://wandb.ai/d-massa/jarvis-node-regression/sweeps/usktbhjs' target=\"_blank\">https://wandb.ai/d-massa/jarvis-node-regression/sweeps/usktbhjs</a>"
      ],
      "text/plain": [
       "<IPython.core.display.HTML object>"
      ]
     },
     "metadata": {},
     "output_type": "display_data"
    },
    {
     "data": {
      "text/html": [
       " View run at <a href='https://wandb.ai/d-massa/jarvis-node-regression/runs/nh7mug5p' target=\"_blank\">https://wandb.ai/d-massa/jarvis-node-regression/runs/nh7mug5p</a>"
      ],
      "text/plain": [
       "<IPython.core.display.HTML object>"
      ]
     },
     "metadata": {},
     "output_type": "display_data"
    },
    {
     "name": "stderr",
     "output_type": "stream",
     "text": [
      "  0%|          | 0/749 [00:00<?, ?it/s]/Users/dariomss/Documents/GitHub/Graph_Project/PyG/lib/python3.9/site-packages/torch/nn/modules/loss.py:538: UserWarning: Using a target size (torch.Size([32])) that is different to the input size (torch.Size([32, 1])). This will likely lead to incorrect results due to broadcasting. Please ensure they have the same size.\n",
      "  return F.mse_loss(input, target, reduction=self.reduction)\n",
      "/Users/dariomss/Documents/GitHub/Graph_Project/PyG/lib/python3.9/site-packages/torch/nn/modules/loss.py:538: UserWarning: Using a target size (torch.Size([22])) that is different to the input size (torch.Size([22, 1])). This will likely lead to incorrect results due to broadcasting. Please ensure they have the same size.\n",
      "  return F.mse_loss(input, target, reduction=self.reduction)\n",
      "100%|██████████| 749/749 [06:44<00:00,  1.85it/s]\n"
     ]
    },
    {
     "data": {
      "text/html": [],
      "text/plain": [
       "<IPython.core.display.HTML object>"
      ]
     },
     "metadata": {},
     "output_type": "display_data"
    },
    {
     "data": {
      "text/html": [
       "<br>    <style><br>        .wandb-row {<br>            display: flex;<br>            flex-direction: row;<br>            flex-wrap: wrap;<br>            justify-content: flex-start;<br>            width: 100%;<br>        }<br>        .wandb-col {<br>            display: flex;<br>            flex-direction: column;<br>            flex-basis: 100%;<br>            flex: 1;<br>            padding: 10px;<br>        }<br>    </style><br><div class=\"wandb-row\"><div class=\"wandb-col\"><h3>Run history:</h3><br/><table class=\"wandb\"><tr><td>gcn_jarvis/test_RMSE</td><td>▆▁█▃▆▃▆▆▅▇▇▃▅▆▆▆▆▆▆▆▆▆▆▆▆▆▆▆▆▆▆▆▆▆▆▆▆▆▆▆</td></tr><tr><td>gcn_jarvis/train_RMSE</td><td>▃▆▁▄█▅▄▅▆▅▃▃▅▄▆▅▆▄▅▃▆▂▅▆▄▄▁▅▄▂▄▃▆▆▃▅▄▄▅▅</td></tr></table><br/></div><div class=\"wandb-col\"><h3>Run summary:</h3><br/><table class=\"wandb\"><tr><td>gcn_jarvis/test_RMSE</td><td>0.96011</td></tr><tr><td>gcn_jarvis/train_RMSE</td><td>0.83917</td></tr></table><br/></div></div>"
      ],
      "text/plain": [
       "<IPython.core.display.HTML object>"
      ]
     },
     "metadata": {},
     "output_type": "display_data"
    },
    {
     "data": {
      "text/html": [
       " View run <strong style=\"color:#cdcd00\">daily-sweep-8</strong> at: <a href='https://wandb.ai/d-massa/jarvis-node-regression/runs/nh7mug5p' target=\"_blank\">https://wandb.ai/d-massa/jarvis-node-regression/runs/nh7mug5p</a><br> View project at: <a href='https://wandb.ai/d-massa/jarvis-node-regression' target=\"_blank\">https://wandb.ai/d-massa/jarvis-node-regression</a><br>Synced 5 W&B file(s), 0 media file(s), 0 artifact file(s) and 0 other file(s)"
      ],
      "text/plain": [
       "<IPython.core.display.HTML object>"
      ]
     },
     "metadata": {},
     "output_type": "display_data"
    },
    {
     "data": {
      "text/html": [
       "Find logs at: <code>./wandb/run-20250227_140208-nh7mug5p/logs</code>"
      ],
      "text/plain": [
       "<IPython.core.display.HTML object>"
      ]
     },
     "metadata": {},
     "output_type": "display_data"
    },
    {
     "name": "stderr",
     "output_type": "stream",
     "text": [
      "\u001b[34m\u001b[1mwandb\u001b[0m: Sweep Agent: Waiting for job.\n",
      "\u001b[34m\u001b[1mwandb\u001b[0m: Job received.\n",
      "\u001b[34m\u001b[1mwandb\u001b[0m: Agent Starting Run: ppsdngy1 with config:\n",
      "\u001b[34m\u001b[1mwandb\u001b[0m: \thidden_channels: 8\n",
      "\u001b[34m\u001b[1mwandb\u001b[0m: \tlr: 0.00022649664297711333\n",
      "\u001b[34m\u001b[1mwandb\u001b[0m: \tweight_decay: 0.0005188244929534632\n"
     ]
    },
    {
     "data": {
      "text/html": [
       "Tracking run with wandb version 0.19.7"
      ],
      "text/plain": [
       "<IPython.core.display.HTML object>"
      ]
     },
     "metadata": {},
     "output_type": "display_data"
    },
    {
     "data": {
      "text/html": [
       "Run data is saved locally in <code>/Users/dariomss/Documents/GitHub/Graph_Project/wandb/run-20250227_140910-ppsdngy1</code>"
      ],
      "text/plain": [
       "<IPython.core.display.HTML object>"
      ]
     },
     "metadata": {},
     "output_type": "display_data"
    },
    {
     "data": {
      "text/html": [
       "Syncing run <strong><a href='https://wandb.ai/d-massa/jarvis-node-regression/runs/ppsdngy1' target=\"_blank\">dauntless-sweep-9</a></strong> to <a href='https://wandb.ai/d-massa/jarvis-node-regression' target=\"_blank\">Weights & Biases</a> (<a href='https://wandb.me/developer-guide' target=\"_blank\">docs</a>)<br>Sweep page: <a href='https://wandb.ai/d-massa/jarvis-node-regression/sweeps/usktbhjs' target=\"_blank\">https://wandb.ai/d-massa/jarvis-node-regression/sweeps/usktbhjs</a>"
      ],
      "text/plain": [
       "<IPython.core.display.HTML object>"
      ]
     },
     "metadata": {},
     "output_type": "display_data"
    },
    {
     "data": {
      "text/html": [
       " View project at <a href='https://wandb.ai/d-massa/jarvis-node-regression' target=\"_blank\">https://wandb.ai/d-massa/jarvis-node-regression</a>"
      ],
      "text/plain": [
       "<IPython.core.display.HTML object>"
      ]
     },
     "metadata": {},
     "output_type": "display_data"
    },
    {
     "data": {
      "text/html": [
       " View sweep at <a href='https://wandb.ai/d-massa/jarvis-node-regression/sweeps/usktbhjs' target=\"_blank\">https://wandb.ai/d-massa/jarvis-node-regression/sweeps/usktbhjs</a>"
      ],
      "text/plain": [
       "<IPython.core.display.HTML object>"
      ]
     },
     "metadata": {},
     "output_type": "display_data"
    },
    {
     "data": {
      "text/html": [
       " View run at <a href='https://wandb.ai/d-massa/jarvis-node-regression/runs/ppsdngy1' target=\"_blank\">https://wandb.ai/d-massa/jarvis-node-regression/runs/ppsdngy1</a>"
      ],
      "text/plain": [
       "<IPython.core.display.HTML object>"
      ]
     },
     "metadata": {},
     "output_type": "display_data"
    },
    {
     "name": "stderr",
     "output_type": "stream",
     "text": [
      "  0%|          | 0/749 [00:00<?, ?it/s]/Users/dariomss/Documents/GitHub/Graph_Project/PyG/lib/python3.9/site-packages/torch/nn/modules/loss.py:538: UserWarning: Using a target size (torch.Size([32])) that is different to the input size (torch.Size([32, 1])). This will likely lead to incorrect results due to broadcasting. Please ensure they have the same size.\n",
      "  return F.mse_loss(input, target, reduction=self.reduction)\n",
      "/Users/dariomss/Documents/GitHub/Graph_Project/PyG/lib/python3.9/site-packages/torch/nn/modules/loss.py:538: UserWarning: Using a target size (torch.Size([22])) that is different to the input size (torch.Size([22, 1])). This will likely lead to incorrect results due to broadcasting. Please ensure they have the same size.\n",
      "  return F.mse_loss(input, target, reduction=self.reduction)\n",
      "100%|██████████| 749/749 [06:33<00:00,  1.90it/s]\n"
     ]
    },
    {
     "data": {
      "text/html": [],
      "text/plain": [
       "<IPython.core.display.HTML object>"
      ]
     },
     "metadata": {},
     "output_type": "display_data"
    },
    {
     "data": {
      "text/html": [
       "<br>    <style><br>        .wandb-row {<br>            display: flex;<br>            flex-direction: row;<br>            flex-wrap: wrap;<br>            justify-content: flex-start;<br>            width: 100%;<br>        }<br>        .wandb-col {<br>            display: flex;<br>            flex-direction: column;<br>            flex-basis: 100%;<br>            flex: 1;<br>            padding: 10px;<br>        }<br>    </style><br><div class=\"wandb-row\"><div class=\"wandb-col\"><h3>Run history:</h3><br/><table class=\"wandb\"><tr><td>gcn_jarvis/test_RMSE</td><td>█▃▁█▅▆▅▆▅▅▆▆▆▆▆▆▆▅▅▆▆▅▅▆▅▅▅▆▆▆▅▆▆▅▆▆▆▅▆▅</td></tr><tr><td>gcn_jarvis/train_RMSE</td><td>▄▅▄▄▅█▅▃▂▄▅▄▅▅▂▅▆▃▂▅▇▃▂▁▄▂▄▄▆▄▄▄▄▂▃▂▄▄▃▃</td></tr></table><br/></div><div class=\"wandb-col\"><h3>Run summary:</h3><br/><table class=\"wandb\"><tr><td>gcn_jarvis/test_RMSE</td><td>0.9601</td></tr><tr><td>gcn_jarvis/train_RMSE</td><td>1.00018</td></tr></table><br/></div></div>"
      ],
      "text/plain": [
       "<IPython.core.display.HTML object>"
      ]
     },
     "metadata": {},
     "output_type": "display_data"
    },
    {
     "data": {
      "text/html": [
       " View run <strong style=\"color:#cdcd00\">dauntless-sweep-9</strong> at: <a href='https://wandb.ai/d-massa/jarvis-node-regression/runs/ppsdngy1' target=\"_blank\">https://wandb.ai/d-massa/jarvis-node-regression/runs/ppsdngy1</a><br> View project at: <a href='https://wandb.ai/d-massa/jarvis-node-regression' target=\"_blank\">https://wandb.ai/d-massa/jarvis-node-regression</a><br>Synced 5 W&B file(s), 0 media file(s), 0 artifact file(s) and 0 other file(s)"
      ],
      "text/plain": [
       "<IPython.core.display.HTML object>"
      ]
     },
     "metadata": {},
     "output_type": "display_data"
    },
    {
     "data": {
      "text/html": [
       "Find logs at: <code>./wandb/run-20250227_140910-ppsdngy1/logs</code>"
      ],
      "text/plain": [
       "<IPython.core.display.HTML object>"
      ]
     },
     "metadata": {},
     "output_type": "display_data"
    },
    {
     "name": "stderr",
     "output_type": "stream",
     "text": [
      "\u001b[34m\u001b[1mwandb\u001b[0m: Agent Starting Run: bsi3w8h2 with config:\n",
      "\u001b[34m\u001b[1mwandb\u001b[0m: \thidden_channels: 16\n",
      "\u001b[34m\u001b[1mwandb\u001b[0m: \tlr: 0.00033267817900249635\n",
      "\u001b[34m\u001b[1mwandb\u001b[0m: \tweight_decay: 0.0004705557833147158\n"
     ]
    },
    {
     "data": {
      "text/html": [],
      "text/plain": [
       "<IPython.core.display.HTML object>"
      ]
     },
     "metadata": {},
     "output_type": "display_data"
    },
    {
     "data": {
      "text/html": [
       "Tracking run with wandb version 0.19.7"
      ],
      "text/plain": [
       "<IPython.core.display.HTML object>"
      ]
     },
     "metadata": {},
     "output_type": "display_data"
    },
    {
     "data": {
      "text/html": [
       "Run data is saved locally in <code>/Users/dariomss/Documents/GitHub/Graph_Project/wandb/run-20250227_141554-bsi3w8h2</code>"
      ],
      "text/plain": [
       "<IPython.core.display.HTML object>"
      ]
     },
     "metadata": {},
     "output_type": "display_data"
    },
    {
     "data": {
      "text/html": [
       "Syncing run <strong><a href='https://wandb.ai/d-massa/jarvis-node-regression/runs/bsi3w8h2' target=\"_blank\">wandering-sweep-10</a></strong> to <a href='https://wandb.ai/d-massa/jarvis-node-regression' target=\"_blank\">Weights & Biases</a> (<a href='https://wandb.me/developer-guide' target=\"_blank\">docs</a>)<br>Sweep page: <a href='https://wandb.ai/d-massa/jarvis-node-regression/sweeps/usktbhjs' target=\"_blank\">https://wandb.ai/d-massa/jarvis-node-regression/sweeps/usktbhjs</a>"
      ],
      "text/plain": [
       "<IPython.core.display.HTML object>"
      ]
     },
     "metadata": {},
     "output_type": "display_data"
    },
    {
     "data": {
      "text/html": [
       " View project at <a href='https://wandb.ai/d-massa/jarvis-node-regression' target=\"_blank\">https://wandb.ai/d-massa/jarvis-node-regression</a>"
      ],
      "text/plain": [
       "<IPython.core.display.HTML object>"
      ]
     },
     "metadata": {},
     "output_type": "display_data"
    },
    {
     "data": {
      "text/html": [
       " View sweep at <a href='https://wandb.ai/d-massa/jarvis-node-regression/sweeps/usktbhjs' target=\"_blank\">https://wandb.ai/d-massa/jarvis-node-regression/sweeps/usktbhjs</a>"
      ],
      "text/plain": [
       "<IPython.core.display.HTML object>"
      ]
     },
     "metadata": {},
     "output_type": "display_data"
    },
    {
     "data": {
      "text/html": [
       " View run at <a href='https://wandb.ai/d-massa/jarvis-node-regression/runs/bsi3w8h2' target=\"_blank\">https://wandb.ai/d-massa/jarvis-node-regression/runs/bsi3w8h2</a>"
      ],
      "text/plain": [
       "<IPython.core.display.HTML object>"
      ]
     },
     "metadata": {},
     "output_type": "display_data"
    },
    {
     "name": "stderr",
     "output_type": "stream",
     "text": [
      "  0%|          | 0/749 [00:00<?, ?it/s]/Users/dariomss/Documents/GitHub/Graph_Project/PyG/lib/python3.9/site-packages/torch/nn/modules/loss.py:538: UserWarning: Using a target size (torch.Size([32])) that is different to the input size (torch.Size([32, 1])). This will likely lead to incorrect results due to broadcasting. Please ensure they have the same size.\n",
      "  return F.mse_loss(input, target, reduction=self.reduction)\n",
      "/Users/dariomss/Documents/GitHub/Graph_Project/PyG/lib/python3.9/site-packages/torch/nn/modules/loss.py:538: UserWarning: Using a target size (torch.Size([22])) that is different to the input size (torch.Size([22, 1])). This will likely lead to incorrect results due to broadcasting. Please ensure they have the same size.\n",
      "  return F.mse_loss(input, target, reduction=self.reduction)\n",
      "100%|██████████| 749/749 [07:28<00:00,  1.67it/s]\n"
     ]
    },
    {
     "data": {
      "text/html": [],
      "text/plain": [
       "<IPython.core.display.HTML object>"
      ]
     },
     "metadata": {},
     "output_type": "display_data"
    },
    {
     "data": {
      "text/html": [
       "<br>    <style><br>        .wandb-row {<br>            display: flex;<br>            flex-direction: row;<br>            flex-wrap: wrap;<br>            justify-content: flex-start;<br>            width: 100%;<br>        }<br>        .wandb-col {<br>            display: flex;<br>            flex-direction: column;<br>            flex-basis: 100%;<br>            flex: 1;<br>            padding: 10px;<br>        }<br>    </style><br><div class=\"wandb-row\"><div class=\"wandb-col\"><h3>Run history:</h3><br/><table class=\"wandb\"><tr><td>gcn_jarvis/test_RMSE</td><td>█▇▄▁▃▃▃▂▂▂▂▂▂▂▂▂▂▂▂▂▂▂▂▂▂▂▂▂▂▂▂▂▂▂▂▂▂▂▂▂</td></tr><tr><td>gcn_jarvis/train_RMSE</td><td>█▆▄▄▆▁▅▂▇▆▆▃█▄▆▇▄▃▆▄▆▂▄▄▆▄▅▄▃▄▃▆▆▇██▂▄▆▇</td></tr></table><br/></div><div class=\"wandb-col\"><h3>Run summary:</h3><br/><table class=\"wandb\"><tr><td>gcn_jarvis/test_RMSE</td><td>0.96019</td></tr><tr><td>gcn_jarvis/train_RMSE</td><td>0.83921</td></tr></table><br/></div></div>"
      ],
      "text/plain": [
       "<IPython.core.display.HTML object>"
      ]
     },
     "metadata": {},
     "output_type": "display_data"
    },
    {
     "data": {
      "text/html": [
       " View run <strong style=\"color:#cdcd00\">wandering-sweep-10</strong> at: <a href='https://wandb.ai/d-massa/jarvis-node-regression/runs/bsi3w8h2' target=\"_blank\">https://wandb.ai/d-massa/jarvis-node-regression/runs/bsi3w8h2</a><br> View project at: <a href='https://wandb.ai/d-massa/jarvis-node-regression' target=\"_blank\">https://wandb.ai/d-massa/jarvis-node-regression</a><br>Synced 5 W&B file(s), 0 media file(s), 0 artifact file(s) and 0 other file(s)"
      ],
      "text/plain": [
       "<IPython.core.display.HTML object>"
      ]
     },
     "metadata": {},
     "output_type": "display_data"
    },
    {
     "data": {
      "text/html": [
       "Find logs at: <code>./wandb/run-20250227_141554-bsi3w8h2/logs</code>"
      ],
      "text/plain": [
       "<IPython.core.display.HTML object>"
      ]
     },
     "metadata": {},
     "output_type": "display_data"
    }
   ],
   "source": [
    "# Run the Sweeps agent\n",
    "wandb.agent(sweep_id, project=\"jarvis-node-regression\", function=agent_fn, count=10)"
   ]
  },
  {
   "cell_type": "code",
   "execution_count": null,
   "metadata": {},
   "outputs": [],
   "source": []
  },
  {
   "cell_type": "markdown",
   "metadata": {},
   "source": [
    "## II implementation"
   ]
  },
  {
   "cell_type": "code",
   "execution_count": 15,
   "metadata": {},
   "outputs": [
    {
     "name": "stderr",
     "output_type": "stream",
     "text": [
      "\u001b[34m\u001b[1mwandb\u001b[0m: Using wandb-core as the SDK backend.  Please refer to https://wandb.me/wandb-core for more information.\n",
      "\u001b[34m\u001b[1mwandb\u001b[0m: Currently logged in as: \u001b[33md-massa\u001b[0m to \u001b[32mhttps://api.wandb.ai\u001b[0m. Use \u001b[1m`wandb login --relogin`\u001b[0m to force relogin\n"
     ]
    }
   ],
   "source": [
    "from torch_geometric.nn import GCNConv,global_mean_pool,SAGEConv\n",
    "import torch.nn.functional as F\n",
    "from torch.nn import Linear\n",
    "import tqdm\n",
    "from torch_geometric.data import Dataset, DataLoader\n",
    "from torch.utils.data import random_split\n",
    "import copy\n",
    "\n",
    "enable_wandb = True\n",
    "if enable_wandb:\n",
    "    import wandb\n",
    "wandb.login()\n",
    "\n",
    "assert enable_wandb, \"W&B not enabled. Please, enable W&B and restart the notebook\"\n",
    "\n",
    "class JarvisDataset(Dataset):\n",
    "    def __init__(self,data_list,transform=None,pre_transform=None):\n",
    "        super().__init__(transform,pre_transform)\n",
    "        self.data_list = data_list \n",
    "\n",
    "    def len(self):\n",
    "        return len(self.data_list)\n",
    "    def get(self,idx):\n",
    "        return self.data_list[idx]\n",
    "    def mean(self):\n",
    "        return np.mean(np.array([data.y for data in data_list]))\n",
    "    def scale(self):\n",
    "        return np.std(np.array([data.y for data in data_list]))\n",
    "\n",
    "dataset = JarvisDataset(data_list)\n",
    "\n",
    "class GCN(torch.nn.Module):\n",
    "    def __init__(self,hidden_channels,num_layers):\n",
    "        super(GCN,self).__init__()\n",
    "        torch.manual_seed(176432)\n",
    "        self.convs = torch.nn.ModuleList()\n",
    "        self.convs.append(GCNConv(dataset.num_features,hidden_channels))\n",
    "        for _ in range(num_layers - 1):\n",
    "            self.convs.append(GCNConv(hidden_channels,hidden_channels))\n",
    "        self.lin = Linear(hidden_channels,1)\n",
    "    \n",
    "    def forward(self,x,edge_index,batch):\n",
    "        for conv in self.convs:\n",
    "            x = conv(x,edge_index)\n",
    "            x = F.relu(x)\n",
    "        x = global_mean_pool(x,batch)\n",
    "        x = F.dropout(x,p=0.5,training=self.training)\n",
    "        x = self.lin(x)\n",
    "        return x.squeeze(-1)\n",
    "    \n",
    "class GNN_SAGE(torch.nn.Module):\n",
    "    def __init__(self,hidden_channels,num_layers,aggr='mean',aggr_kwargs=None):\n",
    "        super(GNN_SAGE,self).__init__()\n",
    "        self.convs = torch.nn.ModuleList()\n",
    "        self.convs.append(SAGEConv(dataset.num_features,hidden_channels,aggr=aggr,aggr_kwargs=aggr_kwargs))\n",
    "        for _ in range (num_layers -1):\n",
    "            self.convs.append(SAGEConv(hidden_channels,hidden_channels,aggr=copy.deepcopy(aggr),aggr_kwargs=aggr_kwargs))\n",
    "        self.lin = Linear(hidden_channels,1)\n",
    "\n",
    "    def forward(self,x,edge_index,batch):\n",
    "        for conv in self.convs:\n",
    "            x = conv(x,edge_index)\n",
    "            x = F.relu(x)\n",
    "        x = global_mean_pool(x,batch)\n",
    "        x = F.dropout(x, p=0.5, training = self.training)\n",
    "        x = self.lin(x)\n",
    "        return x.squeeze(-1)\n",
    "\n",
    "def agent_fn():\n",
    "    wandb.init()\n",
    "\n",
    "    torch.manual_seed(176432)\n",
    "    train_size = int(wandb.config.TrainS *len(dataset))\n",
    "    test_size = len(dataset)-train_size\n",
    "\n",
    "    train_dataset = JarvisDataset(dataset[:train_size])\n",
    "    \n",
    "    test_dataset = JarvisDataset(dataset[train_size:])\n",
    "\n",
    "    train_loader = DataLoader(train_dataset, batch_size=wandb.config.BatchS, shuffle=True) # Shuffle for training\n",
    "    test_loader = DataLoader(test_dataset, batch_size=wandb.config.BatchS, shuffle=False) # Shuffle for training\n",
    "\n",
    "    if wandb.config.model == \"GCN\": \n",
    "        model = GCN(hidden_channels = wandb.config.hidden_channels,\n",
    "                    num_layers=wandb.config.num_layers)\n",
    "    elif wandb.config.model == \"GNN_SAGE\":\n",
    "        model = GNN_SAGE(hidden_channels = wandb.config.hidden_channels,\n",
    "                         num_layers=wandb.config.num_layers,\n",
    "                         aggr=wandb.config.get(\"aggr\", \"mean\"),  # defaults to 'mean'\n",
    "                         aggr_kwargs=wandb.config.get(\"aggr_kwargs\", None))\n",
    "    else: \n",
    "        ValueError(\"UNKOWN\")\n",
    "\n",
    "    wandb.watch(model)\n",
    "\n",
    "    optimizer = torch.optim.Adam(model.parameters(), lr=wandb.config.lr, weight_decay=wandb.config.weight_decay)\n",
    "    criterion = torch.nn.MSELoss()\n",
    "\n",
    "    def train():\n",
    "        model.train()\n",
    "        \n",
    "        for data in train_loader:\n",
    "            optimizer.zero_grad()\n",
    "            out = model(data.x,data.edge_index,data.batch)\n",
    "            loss = criterion(out, data.y)            \n",
    "            loss.backward()\n",
    "            optimizer.step()\n",
    "           # return loss\n",
    "\n",
    "    def test(loader):\n",
    "        model.eval()\n",
    "\n",
    "        for data in loader:\n",
    "            out = model(data.x,data.edge_index,data.batch)\n",
    "            loss = criterion(out, data.y)            \n",
    "            return loss \n",
    "\n",
    "    for epoch in tqdm.tqdm(range(1,61)):\n",
    "        train()\n",
    "\n",
    "        train_loss = test(train_loader)\n",
    "        test_loss = test(test_loader)\n",
    "        \n",
    "        train_rmse_loss =  torch.sqrt(train_loss.detach().mean())\n",
    "        test_rmse_loss = torch.sqrt(test_loss.detach().mean())\n",
    "        scale_tensor_train= torch.tensor(train_dataset.scale(), dtype=torch.float32)\n",
    "        scale_tensor_test= torch.tensor(test_dataset.scale(), dtype=torch.float32)\n",
    "        #print(f\"\\n SCALING FACTOR: {scale_tensor_train},{scale_tensor_test}\\n\")\n",
    "\n",
    "        #mean_tensor = torch.tensor(train_dataset.mean(), dtype=torch.float32)\n",
    "        train_mse_loss_original = torch.exp(train_loss) * torch.exp(scale_tensor_train ** 2) - 1.0\n",
    "        train_rmse_loss_original = torch.sqrt(train_mse_loss_original.mean())\n",
    "        test_mse_loss_original = torch.exp(test_loss) * torch.exp(scale_tensor_test ** 2) - 1.0\n",
    "        test_rmse_loss_original = torch.sqrt(test_mse_loss_original.mean())\n",
    "\n",
    "        wandb.log({f\"gcn_jarvis-ADV-{wandb.config.model}\"+\"/train_RMSE\": train_rmse_loss.item()})\n",
    "        wandb.log({f\"gcn_jarvis-ADV-{wandb.config.model}\"+\"/test_RMSE\": test_rmse_loss.item()})\n",
    "        wandb.log({f\"gcn_jarvis-ADV-{wandb.config.model}\"+\"/train_RMSE_orig\": train_rmse_loss_original.item()})\n",
    "        wandb.log({f\"gcn_jarvis-ADV-{wandb.config.model}\"+\"/test_RMSE_orig\": test_rmse_loss_original.item()})\n",
    "\n",
    "    wandb.finish()"
   ]
  },
  {
   "cell_type": "code",
   "execution_count": 16,
   "metadata": {},
   "outputs": [
    {
     "name": "stdout",
     "output_type": "stream",
     "text": [
      "Create sweep with ID: iv8c2hia\n",
      "Sweep URL: https://wandb.ai/d-massa/jarvis-node-regression-ADV-GNN_SAGE/sweeps/iv8c2hia\n"
     ]
    }
   ],
   "source": [
    "project_name =f\"jarvis-node-regression-ADV-GNN_SAGE\"\n",
    "sweep_config = {\n",
    "    \"name\": \"gcn_jarvis-ADV-GNN_SAGE\",\n",
    "    \"method\": \"bayes\",\n",
    "    \"metric\": {\n",
    "        \"name\": \"gcn_jarvis-ADV-GNN_SAGE/test_RMSE\",\n",
    "        \"goal\": \"minimize\",\n",
    "    },\n",
    "    \"parameters\": {\n",
    "        \"model\":{ \"values\":[\"GNN_SAGE\"]},\n",
    "        \"hidden_channels\": {\n",
    "            \"values\": [8, 16, 32]\n",
    "        },\n",
    "        \"num_layers\":{\n",
    "            \"values\":[1,2,3]\n",
    "        },\n",
    "        \"BatchS\":{\n",
    "            \"values\":[32,64,128]\n",
    "        },\n",
    "        \"TrainS\":{\n",
    "            \"values\":[0.75,0.85]\n",
    "        },\n",
    "        \"weight_decay\": {\n",
    "            \"distribution\": \"normal\",\n",
    "            \"mu\": 5e-4,\n",
    "            \"sigma\": 5e-5\n",
    "        },\n",
    "        \"lr\": {\n",
    "            \"min\": 1e-5,\n",
    "            \"max\": 8e-3\n",
    "        },\n",
    "        \"aggr\": {\n",
    "            \"values\": [\"mean\", \"max\", \"min\"]\n",
    "            }\n",
    "}\n",
    "}\n",
    "# Register the Sweep with W&B\n",
    "sweep_id = wandb.sweep(sweep_config, project=project_name)"
   ]
  },
  {
   "cell_type": "code",
   "execution_count": 17,
   "metadata": {},
   "outputs": [
    {
     "name": "stderr",
     "output_type": "stream",
     "text": [
      "\u001b[34m\u001b[1mwandb\u001b[0m: Agent Starting Run: 5bo7766f with config:\n",
      "\u001b[34m\u001b[1mwandb\u001b[0m: \tBatchS: 32\n",
      "\u001b[34m\u001b[1mwandb\u001b[0m: \tTrainS: 0.75\n",
      "\u001b[34m\u001b[1mwandb\u001b[0m: \taggr: mean\n",
      "\u001b[34m\u001b[1mwandb\u001b[0m: \thidden_channels: 32\n",
      "\u001b[34m\u001b[1mwandb\u001b[0m: \tlr: 0.0034315985332292968\n",
      "\u001b[34m\u001b[1mwandb\u001b[0m: \tmodel: GNN_SAGE\n",
      "\u001b[34m\u001b[1mwandb\u001b[0m: \tnum_layers: 2\n",
      "\u001b[34m\u001b[1mwandb\u001b[0m: \tweight_decay: 0.0005211122550862823\n"
     ]
    },
    {
     "data": {
      "text/html": [
       "Tracking run with wandb version 0.19.7"
      ],
      "text/plain": [
       "<IPython.core.display.HTML object>"
      ]
     },
     "metadata": {},
     "output_type": "display_data"
    },
    {
     "data": {
      "text/html": [
       "Run data is saved locally in <code>/Users/dariomss/Documents/GitHub/Graph_Project/wandb/run-20250306_070625-5bo7766f</code>"
      ],
      "text/plain": [
       "<IPython.core.display.HTML object>"
      ]
     },
     "metadata": {},
     "output_type": "display_data"
    },
    {
     "data": {
      "text/html": [
       "Syncing run <strong><a href='https://wandb.ai/d-massa/jarvis-node-regression-ADV-GNN_SAGE/runs/5bo7766f' target=\"_blank\">copper-sweep-1</a></strong> to <a href='https://wandb.ai/d-massa/jarvis-node-regression-ADV-GNN_SAGE' target=\"_blank\">Weights & Biases</a> (<a href='https://wandb.me/developer-guide' target=\"_blank\">docs</a>)<br>Sweep page: <a href='https://wandb.ai/d-massa/jarvis-node-regression-ADV-GNN_SAGE/sweeps/iv8c2hia' target=\"_blank\">https://wandb.ai/d-massa/jarvis-node-regression-ADV-GNN_SAGE/sweeps/iv8c2hia</a>"
      ],
      "text/plain": [
       "<IPython.core.display.HTML object>"
      ]
     },
     "metadata": {},
     "output_type": "display_data"
    },
    {
     "data": {
      "text/html": [
       " View project at <a href='https://wandb.ai/d-massa/jarvis-node-regression-ADV-GNN_SAGE' target=\"_blank\">https://wandb.ai/d-massa/jarvis-node-regression-ADV-GNN_SAGE</a>"
      ],
      "text/plain": [
       "<IPython.core.display.HTML object>"
      ]
     },
     "metadata": {},
     "output_type": "display_data"
    },
    {
     "data": {
      "text/html": [
       " View sweep at <a href='https://wandb.ai/d-massa/jarvis-node-regression-ADV-GNN_SAGE/sweeps/iv8c2hia' target=\"_blank\">https://wandb.ai/d-massa/jarvis-node-regression-ADV-GNN_SAGE/sweeps/iv8c2hia</a>"
      ],
      "text/plain": [
       "<IPython.core.display.HTML object>"
      ]
     },
     "metadata": {},
     "output_type": "display_data"
    },
    {
     "data": {
      "text/html": [
       " View run at <a href='https://wandb.ai/d-massa/jarvis-node-regression-ADV-GNN_SAGE/runs/5bo7766f' target=\"_blank\">https://wandb.ai/d-massa/jarvis-node-regression-ADV-GNN_SAGE/runs/5bo7766f</a>"
      ],
      "text/plain": [
       "<IPython.core.display.HTML object>"
      ]
     },
     "metadata": {},
     "output_type": "display_data"
    },
    {
     "name": "stderr",
     "output_type": "stream",
     "text": [
      "/Users/dariomss/Documents/GitHub/Graph_Project/PyG/lib/python3.9/site-packages/torch_geometric/deprecation.py:26: UserWarning: 'data.DataLoader' is deprecated, use 'loader.DataLoader' instead\n",
      "  warnings.warn(out)\n",
      "100%|██████████| 60/60 [00:24<00:00,  2.47it/s]\n"
     ]
    },
    {
     "data": {
      "text/html": [],
      "text/plain": [
       "<IPython.core.display.HTML object>"
      ]
     },
     "metadata": {},
     "output_type": "display_data"
    },
    {
     "data": {
      "text/html": [
       "<br>    <style><br>        .wandb-row {<br>            display: flex;<br>            flex-direction: row;<br>            flex-wrap: wrap;<br>            justify-content: flex-start;<br>            width: 100%;<br>        }<br>        .wandb-col {<br>            display: flex;<br>            flex-direction: column;<br>            flex-basis: 100%;<br>            flex: 1;<br>            padding: 10px;<br>        }<br>    </style><br><div class=\"wandb-row\"><div class=\"wandb-col\"><h3>Run history:</h3><br/><table class=\"wandb\"><tr><td>gcn_jarvis-ADV-GNN_SAGE/test_RMSE</td><td>▄▅▆▃▄▄█▇▄▅▅▃▃▄▄▄▄▃▄▄▄▂▄▃█▃▃▂▃▂▁▃▅▃▃▃▃▄▂▃</td></tr><tr><td>gcn_jarvis-ADV-GNN_SAGE/test_RMSE_orig</td><td>▃▃▅▄▅▃█▃▄▄▄▄▃▃▃▆▃▂▄▃▁▃▂█▃▂▁▂▁▂▂▄▂▄▂▂▃▁▁▂</td></tr><tr><td>gcn_jarvis-ADV-GNN_SAGE/train_RMSE</td><td>█▄▆▅▇▇█▆▇▇▇▇▆▄▅▄▅▅▇▄▃▄▆▅▃▅▅▆▃▃▆▅▅▃▄▁▄▄▄▄</td></tr><tr><td>gcn_jarvis-ADV-GNN_SAGE/train_RMSE_orig</td><td>▇▃▅▅▇▆█▆▇▆▇▅▃▄▅▄▅▇▃▃▅▄▃▄▆▆▄▄▃▆▅▆▄▄▄▇▁▃▃▃</td></tr></table><br/></div><div class=\"wandb-col\"><h3>Run summary:</h3><br/><table class=\"wandb\"><tr><td>gcn_jarvis-ADV-GNN_SAGE/test_RMSE</td><td>0.79344</td></tr><tr><td>gcn_jarvis-ADV-GNN_SAGE/test_RMSE_orig</td><td>1.74052</td></tr><tr><td>gcn_jarvis-ADV-GNN_SAGE/train_RMSE</td><td>0.6286</td></tr><tr><td>gcn_jarvis-ADV-GNN_SAGE/train_RMSE_orig</td><td>1.47899</td></tr></table><br/></div></div>"
      ],
      "text/plain": [
       "<IPython.core.display.HTML object>"
      ]
     },
     "metadata": {},
     "output_type": "display_data"
    },
    {
     "data": {
      "text/html": [
       " View run <strong style=\"color:#cdcd00\">copper-sweep-1</strong> at: <a href='https://wandb.ai/d-massa/jarvis-node-regression-ADV-GNN_SAGE/runs/5bo7766f' target=\"_blank\">https://wandb.ai/d-massa/jarvis-node-regression-ADV-GNN_SAGE/runs/5bo7766f</a><br> View project at: <a href='https://wandb.ai/d-massa/jarvis-node-regression-ADV-GNN_SAGE' target=\"_blank\">https://wandb.ai/d-massa/jarvis-node-regression-ADV-GNN_SAGE</a><br>Synced 5 W&B file(s), 0 media file(s), 0 artifact file(s) and 0 other file(s)"
      ],
      "text/plain": [
       "<IPython.core.display.HTML object>"
      ]
     },
     "metadata": {},
     "output_type": "display_data"
    },
    {
     "data": {
      "text/html": [
       "Find logs at: <code>./wandb/run-20250306_070625-5bo7766f/logs</code>"
      ],
      "text/plain": [
       "<IPython.core.display.HTML object>"
      ]
     },
     "metadata": {},
     "output_type": "display_data"
    },
    {
     "name": "stderr",
     "output_type": "stream",
     "text": [
      "\u001b[34m\u001b[1mwandb\u001b[0m: Agent Starting Run: mzdr60oe with config:\n",
      "\u001b[34m\u001b[1mwandb\u001b[0m: \tBatchS: 64\n",
      "\u001b[34m\u001b[1mwandb\u001b[0m: \tTrainS: 0.85\n",
      "\u001b[34m\u001b[1mwandb\u001b[0m: \taggr: max\n",
      "\u001b[34m\u001b[1mwandb\u001b[0m: \thidden_channels: 16\n",
      "\u001b[34m\u001b[1mwandb\u001b[0m: \tlr: 0.003851473997820302\n",
      "\u001b[34m\u001b[1mwandb\u001b[0m: \tmodel: GNN_SAGE\n",
      "\u001b[34m\u001b[1mwandb\u001b[0m: \tnum_layers: 1\n",
      "\u001b[34m\u001b[1mwandb\u001b[0m: \tweight_decay: 0.0004660658041339592\n"
     ]
    },
    {
     "data": {
      "text/html": [
       "Tracking run with wandb version 0.19.7"
      ],
      "text/plain": [
       "<IPython.core.display.HTML object>"
      ]
     },
     "metadata": {},
     "output_type": "display_data"
    },
    {
     "data": {
      "text/html": [
       "Run data is saved locally in <code>/Users/dariomss/Documents/GitHub/Graph_Project/wandb/run-20250306_070656-mzdr60oe</code>"
      ],
      "text/plain": [
       "<IPython.core.display.HTML object>"
      ]
     },
     "metadata": {},
     "output_type": "display_data"
    },
    {
     "data": {
      "text/html": [
       "Syncing run <strong><a href='https://wandb.ai/d-massa/jarvis-node-regression-ADV-GNN_SAGE/runs/mzdr60oe' target=\"_blank\">ethereal-sweep-2</a></strong> to <a href='https://wandb.ai/d-massa/jarvis-node-regression-ADV-GNN_SAGE' target=\"_blank\">Weights & Biases</a> (<a href='https://wandb.me/developer-guide' target=\"_blank\">docs</a>)<br>Sweep page: <a href='https://wandb.ai/d-massa/jarvis-node-regression-ADV-GNN_SAGE/sweeps/iv8c2hia' target=\"_blank\">https://wandb.ai/d-massa/jarvis-node-regression-ADV-GNN_SAGE/sweeps/iv8c2hia</a>"
      ],
      "text/plain": [
       "<IPython.core.display.HTML object>"
      ]
     },
     "metadata": {},
     "output_type": "display_data"
    },
    {
     "data": {
      "text/html": [
       " View project at <a href='https://wandb.ai/d-massa/jarvis-node-regression-ADV-GNN_SAGE' target=\"_blank\">https://wandb.ai/d-massa/jarvis-node-regression-ADV-GNN_SAGE</a>"
      ],
      "text/plain": [
       "<IPython.core.display.HTML object>"
      ]
     },
     "metadata": {},
     "output_type": "display_data"
    },
    {
     "data": {
      "text/html": [
       " View sweep at <a href='https://wandb.ai/d-massa/jarvis-node-regression-ADV-GNN_SAGE/sweeps/iv8c2hia' target=\"_blank\">https://wandb.ai/d-massa/jarvis-node-regression-ADV-GNN_SAGE/sweeps/iv8c2hia</a>"
      ],
      "text/plain": [
       "<IPython.core.display.HTML object>"
      ]
     },
     "metadata": {},
     "output_type": "display_data"
    },
    {
     "data": {
      "text/html": [
       " View run at <a href='https://wandb.ai/d-massa/jarvis-node-regression-ADV-GNN_SAGE/runs/mzdr60oe' target=\"_blank\">https://wandb.ai/d-massa/jarvis-node-regression-ADV-GNN_SAGE/runs/mzdr60oe</a>"
      ],
      "text/plain": [
       "<IPython.core.display.HTML object>"
      ]
     },
     "metadata": {},
     "output_type": "display_data"
    },
    {
     "name": "stderr",
     "output_type": "stream",
     "text": [
      "/Users/dariomss/Documents/GitHub/Graph_Project/PyG/lib/python3.9/site-packages/torch_geometric/deprecation.py:26: UserWarning: 'data.DataLoader' is deprecated, use 'loader.DataLoader' instead\n",
      "  warnings.warn(out)\n",
      "100%|██████████| 60/60 [00:15<00:00,  3.77it/s]\n"
     ]
    },
    {
     "data": {
      "text/html": [],
      "text/plain": [
       "<IPython.core.display.HTML object>"
      ]
     },
     "metadata": {},
     "output_type": "display_data"
    },
    {
     "data": {
      "text/html": [
       "<br>    <style><br>        .wandb-row {<br>            display: flex;<br>            flex-direction: row;<br>            flex-wrap: wrap;<br>            justify-content: flex-start;<br>            width: 100%;<br>        }<br>        .wandb-col {<br>            display: flex;<br>            flex-direction: column;<br>            flex-basis: 100%;<br>            flex: 1;<br>            padding: 10px;<br>        }<br>    </style><br><div class=\"wandb-row\"><div class=\"wandb-col\"><h3>Run history:</h3><br/><table class=\"wandb\"><tr><td>gcn_jarvis-ADV-GNN_SAGE/test_RMSE</td><td>▃▃▃▃▄▂▂▂▃▃▄▁▂▂▂▂▄▅█▄▃▃▃▅▃▁▁▂▁▁▃▅▂▂▂▂▂▄▁▂</td></tr><tr><td>gcn_jarvis-ADV-GNN_SAGE/test_RMSE_orig</td><td>█▂▄▃▃▂▂▂▂▃▁▂▂▂▄▂▇▃▃▃▃▃▂▃▄▁▂▁▁▁▄▂▂▂▁▁▂▁▃▂</td></tr><tr><td>gcn_jarvis-ADV-GNN_SAGE/train_RMSE</td><td>▆▄▂▄▂▃▃▂▄▂▂▄▄▂▄▂▃▁█▂▄▆▃▄▂▅▂▁▃▃▅▂▂▅▂▂▂▃▂▂</td></tr><tr><td>gcn_jarvis-ADV-GNN_SAGE/train_RMSE_orig</td><td>▅▄▂▄▂▄▃▂▂▃▇▂▄▄▃▂▂▁█▂▄▆▃▂▂▂▅▃▂▁▂▄▂▁▂▄▄▂▂▄</td></tr></table><br/></div><div class=\"wandb-col\"><h3>Run summary:</h3><br/><table class=\"wandb\"><tr><td>gcn_jarvis-ADV-GNN_SAGE/test_RMSE</td><td>0.80052</td></tr><tr><td>gcn_jarvis-ADV-GNN_SAGE/test_RMSE_orig</td><td>1.75361</td></tr><tr><td>gcn_jarvis-ADV-GNN_SAGE/train_RMSE</td><td>0.8722</td></tr><tr><td>gcn_jarvis-ADV-GNN_SAGE/train_RMSE_orig</td><td>1.89585</td></tr></table><br/></div></div>"
      ],
      "text/plain": [
       "<IPython.core.display.HTML object>"
      ]
     },
     "metadata": {},
     "output_type": "display_data"
    },
    {
     "data": {
      "text/html": [
       " View run <strong style=\"color:#cdcd00\">ethereal-sweep-2</strong> at: <a href='https://wandb.ai/d-massa/jarvis-node-regression-ADV-GNN_SAGE/runs/mzdr60oe' target=\"_blank\">https://wandb.ai/d-massa/jarvis-node-regression-ADV-GNN_SAGE/runs/mzdr60oe</a><br> View project at: <a href='https://wandb.ai/d-massa/jarvis-node-regression-ADV-GNN_SAGE' target=\"_blank\">https://wandb.ai/d-massa/jarvis-node-regression-ADV-GNN_SAGE</a><br>Synced 5 W&B file(s), 0 media file(s), 0 artifact file(s) and 0 other file(s)"
      ],
      "text/plain": [
       "<IPython.core.display.HTML object>"
      ]
     },
     "metadata": {},
     "output_type": "display_data"
    },
    {
     "data": {
      "text/html": [
       "Find logs at: <code>./wandb/run-20250306_070656-mzdr60oe/logs</code>"
      ],
      "text/plain": [
       "<IPython.core.display.HTML object>"
      ]
     },
     "metadata": {},
     "output_type": "display_data"
    },
    {
     "name": "stderr",
     "output_type": "stream",
     "text": [
      "\u001b[34m\u001b[1mwandb\u001b[0m: Agent Starting Run: 3dz18utq with config:\n",
      "\u001b[34m\u001b[1mwandb\u001b[0m: \tBatchS: 64\n",
      "\u001b[34m\u001b[1mwandb\u001b[0m: \tTrainS: 0.85\n",
      "\u001b[34m\u001b[1mwandb\u001b[0m: \taggr: min\n",
      "\u001b[34m\u001b[1mwandb\u001b[0m: \thidden_channels: 32\n",
      "\u001b[34m\u001b[1mwandb\u001b[0m: \tlr: 0.007410535348538331\n",
      "\u001b[34m\u001b[1mwandb\u001b[0m: \tmodel: GNN_SAGE\n",
      "\u001b[34m\u001b[1mwandb\u001b[0m: \tnum_layers: 2\n",
      "\u001b[34m\u001b[1mwandb\u001b[0m: \tweight_decay: 0.0004716135528520727\n"
     ]
    },
    {
     "data": {
      "text/html": [
       "Tracking run with wandb version 0.19.7"
      ],
      "text/plain": [
       "<IPython.core.display.HTML object>"
      ]
     },
     "metadata": {},
     "output_type": "display_data"
    },
    {
     "data": {
      "text/html": [
       "Run data is saved locally in <code>/Users/dariomss/Documents/GitHub/Graph_Project/wandb/run-20250306_070718-3dz18utq</code>"
      ],
      "text/plain": [
       "<IPython.core.display.HTML object>"
      ]
     },
     "metadata": {},
     "output_type": "display_data"
    },
    {
     "data": {
      "text/html": [
       "Syncing run <strong><a href='https://wandb.ai/d-massa/jarvis-node-regression-ADV-GNN_SAGE/runs/3dz18utq' target=\"_blank\">dazzling-sweep-3</a></strong> to <a href='https://wandb.ai/d-massa/jarvis-node-regression-ADV-GNN_SAGE' target=\"_blank\">Weights & Biases</a> (<a href='https://wandb.me/developer-guide' target=\"_blank\">docs</a>)<br>Sweep page: <a href='https://wandb.ai/d-massa/jarvis-node-regression-ADV-GNN_SAGE/sweeps/iv8c2hia' target=\"_blank\">https://wandb.ai/d-massa/jarvis-node-regression-ADV-GNN_SAGE/sweeps/iv8c2hia</a>"
      ],
      "text/plain": [
       "<IPython.core.display.HTML object>"
      ]
     },
     "metadata": {},
     "output_type": "display_data"
    },
    {
     "data": {
      "text/html": [
       " View project at <a href='https://wandb.ai/d-massa/jarvis-node-regression-ADV-GNN_SAGE' target=\"_blank\">https://wandb.ai/d-massa/jarvis-node-regression-ADV-GNN_SAGE</a>"
      ],
      "text/plain": [
       "<IPython.core.display.HTML object>"
      ]
     },
     "metadata": {},
     "output_type": "display_data"
    },
    {
     "data": {
      "text/html": [
       " View sweep at <a href='https://wandb.ai/d-massa/jarvis-node-regression-ADV-GNN_SAGE/sweeps/iv8c2hia' target=\"_blank\">https://wandb.ai/d-massa/jarvis-node-regression-ADV-GNN_SAGE/sweeps/iv8c2hia</a>"
      ],
      "text/plain": [
       "<IPython.core.display.HTML object>"
      ]
     },
     "metadata": {},
     "output_type": "display_data"
    },
    {
     "data": {
      "text/html": [
       " View run at <a href='https://wandb.ai/d-massa/jarvis-node-regression-ADV-GNN_SAGE/runs/3dz18utq' target=\"_blank\">https://wandb.ai/d-massa/jarvis-node-regression-ADV-GNN_SAGE/runs/3dz18utq</a>"
      ],
      "text/plain": [
       "<IPython.core.display.HTML object>"
      ]
     },
     "metadata": {},
     "output_type": "display_data"
    },
    {
     "name": "stderr",
     "output_type": "stream",
     "text": [
      "/Users/dariomss/Documents/GitHub/Graph_Project/PyG/lib/python3.9/site-packages/torch_geometric/deprecation.py:26: UserWarning: 'data.DataLoader' is deprecated, use 'loader.DataLoader' instead\n",
      "  warnings.warn(out)\n",
      "100%|██████████| 60/60 [00:22<00:00,  2.65it/s]\n"
     ]
    },
    {
     "data": {
      "text/html": [],
      "text/plain": [
       "<IPython.core.display.HTML object>"
      ]
     },
     "metadata": {},
     "output_type": "display_data"
    },
    {
     "data": {
      "text/html": [
       "<br>    <style><br>        .wandb-row {<br>            display: flex;<br>            flex-direction: row;<br>            flex-wrap: wrap;<br>            justify-content: flex-start;<br>            width: 100%;<br>        }<br>        .wandb-col {<br>            display: flex;<br>            flex-direction: column;<br>            flex-basis: 100%;<br>            flex: 1;<br>            padding: 10px;<br>        }<br>    </style><br><div class=\"wandb-row\"><div class=\"wandb-col\"><h3>Run history:</h3><br/><table class=\"wandb\"><tr><td>gcn_jarvis-ADV-GNN_SAGE/test_RMSE</td><td>▇▇▅▅▅▃▆▆▅▄▆▅▃▃▃▃▅▄▅▅▃▆▂▄▄▅▅▄▃█▄▃▅▁▁▅▃▃▂▁</td></tr><tr><td>gcn_jarvis-ADV-GNN_SAGE/test_RMSE_orig</td><td>▇▇▇▅▅▅▃▆▅▄▆▄▃▆▃▃▅▃▅▄▄▃▄▂▄▅▅▄▃█▂▃▁▅▁▅▃▆▇▂</td></tr><tr><td>gcn_jarvis-ADV-GNN_SAGE/train_RMSE</td><td>█▆▃▆▆▃▆▄▆▅▆▃▆▅▆▅▂▄▆▄▄▄▅▆▄▆▄▅▅▃▆▅▆▅▃▄▇▃▁▄</td></tr><tr><td>gcn_jarvis-ADV-GNN_SAGE/train_RMSE_orig</td><td>█▆▃▆▅▃▅▆▅▃▄▁▄▃▅▆▄▂▄▅▆▄▄▄▅▂▂▄▄▄▆▅▆▅▃▄▃▁▆▃</td></tr></table><br/></div><div class=\"wandb-col\"><h3>Run summary:</h3><br/><table class=\"wandb\"><tr><td>gcn_jarvis-ADV-GNN_SAGE/test_RMSE</td><td>0.75782</td></tr><tr><td>gcn_jarvis-ADV-GNN_SAGE/test_RMSE_orig</td><td>1.67713</td></tr><tr><td>gcn_jarvis-ADV-GNN_SAGE/train_RMSE</td><td>0.69986</td></tr><tr><td>gcn_jarvis-ADV-GNN_SAGE/train_RMSE_orig</td><td>1.58236</td></tr></table><br/></div></div>"
      ],
      "text/plain": [
       "<IPython.core.display.HTML object>"
      ]
     },
     "metadata": {},
     "output_type": "display_data"
    },
    {
     "data": {
      "text/html": [
       " View run <strong style=\"color:#cdcd00\">dazzling-sweep-3</strong> at: <a href='https://wandb.ai/d-massa/jarvis-node-regression-ADV-GNN_SAGE/runs/3dz18utq' target=\"_blank\">https://wandb.ai/d-massa/jarvis-node-regression-ADV-GNN_SAGE/runs/3dz18utq</a><br> View project at: <a href='https://wandb.ai/d-massa/jarvis-node-regression-ADV-GNN_SAGE' target=\"_blank\">https://wandb.ai/d-massa/jarvis-node-regression-ADV-GNN_SAGE</a><br>Synced 5 W&B file(s), 0 media file(s), 0 artifact file(s) and 0 other file(s)"
      ],
      "text/plain": [
       "<IPython.core.display.HTML object>"
      ]
     },
     "metadata": {},
     "output_type": "display_data"
    },
    {
     "data": {
      "text/html": [
       "Find logs at: <code>./wandb/run-20250306_070718-3dz18utq/logs</code>"
      ],
      "text/plain": [
       "<IPython.core.display.HTML object>"
      ]
     },
     "metadata": {},
     "output_type": "display_data"
    },
    {
     "name": "stderr",
     "output_type": "stream",
     "text": [
      "\u001b[34m\u001b[1mwandb\u001b[0m: Agent Starting Run: r7q6hayl with config:\n",
      "\u001b[34m\u001b[1mwandb\u001b[0m: \tBatchS: 64\n",
      "\u001b[34m\u001b[1mwandb\u001b[0m: \tTrainS: 0.85\n",
      "\u001b[34m\u001b[1mwandb\u001b[0m: \taggr: min\n",
      "\u001b[34m\u001b[1mwandb\u001b[0m: \thidden_channels: 32\n",
      "\u001b[34m\u001b[1mwandb\u001b[0m: \tlr: 0.00788965809813476\n",
      "\u001b[34m\u001b[1mwandb\u001b[0m: \tmodel: GNN_SAGE\n",
      "\u001b[34m\u001b[1mwandb\u001b[0m: \tnum_layers: 3\n",
      "\u001b[34m\u001b[1mwandb\u001b[0m: \tweight_decay: 0.0004406929003975329\n"
     ]
    },
    {
     "data": {
      "text/html": [
       "Tracking run with wandb version 0.19.7"
      ],
      "text/plain": [
       "<IPython.core.display.HTML object>"
      ]
     },
     "metadata": {},
     "output_type": "display_data"
    },
    {
     "data": {
      "text/html": [
       "Run data is saved locally in <code>/Users/dariomss/Documents/GitHub/Graph_Project/wandb/run-20250306_070749-r7q6hayl</code>"
      ],
      "text/plain": [
       "<IPython.core.display.HTML object>"
      ]
     },
     "metadata": {},
     "output_type": "display_data"
    },
    {
     "data": {
      "text/html": [
       "Syncing run <strong><a href='https://wandb.ai/d-massa/jarvis-node-regression-ADV-GNN_SAGE/runs/r7q6hayl' target=\"_blank\">copper-sweep-4</a></strong> to <a href='https://wandb.ai/d-massa/jarvis-node-regression-ADV-GNN_SAGE' target=\"_blank\">Weights & Biases</a> (<a href='https://wandb.me/developer-guide' target=\"_blank\">docs</a>)<br>Sweep page: <a href='https://wandb.ai/d-massa/jarvis-node-regression-ADV-GNN_SAGE/sweeps/iv8c2hia' target=\"_blank\">https://wandb.ai/d-massa/jarvis-node-regression-ADV-GNN_SAGE/sweeps/iv8c2hia</a>"
      ],
      "text/plain": [
       "<IPython.core.display.HTML object>"
      ]
     },
     "metadata": {},
     "output_type": "display_data"
    },
    {
     "data": {
      "text/html": [
       " View project at <a href='https://wandb.ai/d-massa/jarvis-node-regression-ADV-GNN_SAGE' target=\"_blank\">https://wandb.ai/d-massa/jarvis-node-regression-ADV-GNN_SAGE</a>"
      ],
      "text/plain": [
       "<IPython.core.display.HTML object>"
      ]
     },
     "metadata": {},
     "output_type": "display_data"
    },
    {
     "data": {
      "text/html": [
       " View sweep at <a href='https://wandb.ai/d-massa/jarvis-node-regression-ADV-GNN_SAGE/sweeps/iv8c2hia' target=\"_blank\">https://wandb.ai/d-massa/jarvis-node-regression-ADV-GNN_SAGE/sweeps/iv8c2hia</a>"
      ],
      "text/plain": [
       "<IPython.core.display.HTML object>"
      ]
     },
     "metadata": {},
     "output_type": "display_data"
    },
    {
     "data": {
      "text/html": [
       " View run at <a href='https://wandb.ai/d-massa/jarvis-node-regression-ADV-GNN_SAGE/runs/r7q6hayl' target=\"_blank\">https://wandb.ai/d-massa/jarvis-node-regression-ADV-GNN_SAGE/runs/r7q6hayl</a>"
      ],
      "text/plain": [
       "<IPython.core.display.HTML object>"
      ]
     },
     "metadata": {},
     "output_type": "display_data"
    },
    {
     "name": "stderr",
     "output_type": "stream",
     "text": [
      "/Users/dariomss/Documents/GitHub/Graph_Project/PyG/lib/python3.9/site-packages/torch_geometric/deprecation.py:26: UserWarning: 'data.DataLoader' is deprecated, use 'loader.DataLoader' instead\n",
      "  warnings.warn(out)\n",
      "100%|██████████| 60/60 [00:32<00:00,  1.83it/s]\n"
     ]
    },
    {
     "data": {
      "text/html": [],
      "text/plain": [
       "<IPython.core.display.HTML object>"
      ]
     },
     "metadata": {},
     "output_type": "display_data"
    },
    {
     "data": {
      "text/html": [
       "<br>    <style><br>        .wandb-row {<br>            display: flex;<br>            flex-direction: row;<br>            flex-wrap: wrap;<br>            justify-content: flex-start;<br>            width: 100%;<br>        }<br>        .wandb-col {<br>            display: flex;<br>            flex-direction: column;<br>            flex-basis: 100%;<br>            flex: 1;<br>            padding: 10px;<br>        }<br>    </style><br><div class=\"wandb-row\"><div class=\"wandb-col\"><h3>Run history:</h3><br/><table class=\"wandb\"><tr><td>gcn_jarvis-ADV-GNN_SAGE/test_RMSE</td><td>▆▅▃▆█▃▃▇▅▃▆▅▄▄▃▄▄▄▃▄▃▂▄▁▇▄▆▄▂▃▄▅▅▄▃▄▂▁▁▃</td></tr><tr><td>gcn_jarvis-ADV-GNN_SAGE/test_RMSE_orig</td><td>▇▆▆▆▃▄▅▆▃▄▆▆▆▅▅▃▅▅▅▄▅▄▄▂▄█▄▄▇▅▃▃▅▄▆▄▅▂▂▁</td></tr><tr><td>gcn_jarvis-ADV-GNN_SAGE/train_RMSE</td><td>█▅▄▅▅▄▅▆▄▅▄▄▄▄▃▂▁▄▃▃▃▂▂▃▄▅▅▄▃▃▁▂▁▃▂▆▅▃▄▃</td></tr><tr><td>gcn_jarvis-ADV-GNN_SAGE/train_RMSE_orig</td><td>█▇▆▇▇▅▆█▅█▃▅▅▅▆▃▁▄▃▄▂▄▅▃█▆▅▃▃▂▅▁▂▁▃▂▄▃▃▃</td></tr></table><br/></div><div class=\"wandb-col\"><h3>Run summary:</h3><br/><table class=\"wandb\"><tr><td>gcn_jarvis-ADV-GNN_SAGE/test_RMSE</td><td>0.76439</td></tr><tr><td>gcn_jarvis-ADV-GNN_SAGE/test_RMSE_orig</td><td>1.68853</td></tr><tr><td>gcn_jarvis-ADV-GNN_SAGE/train_RMSE</td><td>0.5972</td></tr><tr><td>gcn_jarvis-ADV-GNN_SAGE/train_RMSE_orig</td><td>1.43773</td></tr></table><br/></div></div>"
      ],
      "text/plain": [
       "<IPython.core.display.HTML object>"
      ]
     },
     "metadata": {},
     "output_type": "display_data"
    },
    {
     "data": {
      "text/html": [
       " View run <strong style=\"color:#cdcd00\">copper-sweep-4</strong> at: <a href='https://wandb.ai/d-massa/jarvis-node-regression-ADV-GNN_SAGE/runs/r7q6hayl' target=\"_blank\">https://wandb.ai/d-massa/jarvis-node-regression-ADV-GNN_SAGE/runs/r7q6hayl</a><br> View project at: <a href='https://wandb.ai/d-massa/jarvis-node-regression-ADV-GNN_SAGE' target=\"_blank\">https://wandb.ai/d-massa/jarvis-node-regression-ADV-GNN_SAGE</a><br>Synced 5 W&B file(s), 0 media file(s), 0 artifact file(s) and 0 other file(s)"
      ],
      "text/plain": [
       "<IPython.core.display.HTML object>"
      ]
     },
     "metadata": {},
     "output_type": "display_data"
    },
    {
     "data": {
      "text/html": [
       "Find logs at: <code>./wandb/run-20250306_070749-r7q6hayl/logs</code>"
      ],
      "text/plain": [
       "<IPython.core.display.HTML object>"
      ]
     },
     "metadata": {},
     "output_type": "display_data"
    },
    {
     "name": "stderr",
     "output_type": "stream",
     "text": [
      "\u001b[34m\u001b[1mwandb\u001b[0m: Sweep Agent: Waiting for job.\n",
      "\u001b[34m\u001b[1mwandb\u001b[0m: Job received.\n",
      "\u001b[34m\u001b[1mwandb\u001b[0m: Agent Starting Run: bkrx8yyc with config:\n",
      "\u001b[34m\u001b[1mwandb\u001b[0m: \tBatchS: 128\n",
      "\u001b[34m\u001b[1mwandb\u001b[0m: \tTrainS: 0.85\n",
      "\u001b[34m\u001b[1mwandb\u001b[0m: \taggr: min\n",
      "\u001b[34m\u001b[1mwandb\u001b[0m: \thidden_channels: 32\n",
      "\u001b[34m\u001b[1mwandb\u001b[0m: \tlr: 0.007103136905515632\n",
      "\u001b[34m\u001b[1mwandb\u001b[0m: \tmodel: GNN_SAGE\n",
      "\u001b[34m\u001b[1mwandb\u001b[0m: \tnum_layers: 3\n",
      "\u001b[34m\u001b[1mwandb\u001b[0m: \tweight_decay: 0.0004823802634838655\n"
     ]
    },
    {
     "data": {
      "text/html": [
       "Tracking run with wandb version 0.19.7"
      ],
      "text/plain": [
       "<IPython.core.display.HTML object>"
      ]
     },
     "metadata": {},
     "output_type": "display_data"
    },
    {
     "data": {
      "text/html": [
       "Run data is saved locally in <code>/Users/dariomss/Documents/GitHub/Graph_Project/wandb/run-20250306_070836-bkrx8yyc</code>"
      ],
      "text/plain": [
       "<IPython.core.display.HTML object>"
      ]
     },
     "metadata": {},
     "output_type": "display_data"
    },
    {
     "data": {
      "text/html": [
       "Syncing run <strong><a href='https://wandb.ai/d-massa/jarvis-node-regression-ADV-GNN_SAGE/runs/bkrx8yyc' target=\"_blank\">drawn-sweep-5</a></strong> to <a href='https://wandb.ai/d-massa/jarvis-node-regression-ADV-GNN_SAGE' target=\"_blank\">Weights & Biases</a> (<a href='https://wandb.me/developer-guide' target=\"_blank\">docs</a>)<br>Sweep page: <a href='https://wandb.ai/d-massa/jarvis-node-regression-ADV-GNN_SAGE/sweeps/iv8c2hia' target=\"_blank\">https://wandb.ai/d-massa/jarvis-node-regression-ADV-GNN_SAGE/sweeps/iv8c2hia</a>"
      ],
      "text/plain": [
       "<IPython.core.display.HTML object>"
      ]
     },
     "metadata": {},
     "output_type": "display_data"
    },
    {
     "data": {
      "text/html": [
       " View project at <a href='https://wandb.ai/d-massa/jarvis-node-regression-ADV-GNN_SAGE' target=\"_blank\">https://wandb.ai/d-massa/jarvis-node-regression-ADV-GNN_SAGE</a>"
      ],
      "text/plain": [
       "<IPython.core.display.HTML object>"
      ]
     },
     "metadata": {},
     "output_type": "display_data"
    },
    {
     "data": {
      "text/html": [
       " View sweep at <a href='https://wandb.ai/d-massa/jarvis-node-regression-ADV-GNN_SAGE/sweeps/iv8c2hia' target=\"_blank\">https://wandb.ai/d-massa/jarvis-node-regression-ADV-GNN_SAGE/sweeps/iv8c2hia</a>"
      ],
      "text/plain": [
       "<IPython.core.display.HTML object>"
      ]
     },
     "metadata": {},
     "output_type": "display_data"
    },
    {
     "data": {
      "text/html": [
       " View run at <a href='https://wandb.ai/d-massa/jarvis-node-regression-ADV-GNN_SAGE/runs/bkrx8yyc' target=\"_blank\">https://wandb.ai/d-massa/jarvis-node-regression-ADV-GNN_SAGE/runs/bkrx8yyc</a>"
      ],
      "text/plain": [
       "<IPython.core.display.HTML object>"
      ]
     },
     "metadata": {},
     "output_type": "display_data"
    },
    {
     "name": "stderr",
     "output_type": "stream",
     "text": [
      "/Users/dariomss/Documents/GitHub/Graph_Project/PyG/lib/python3.9/site-packages/torch_geometric/deprecation.py:26: UserWarning: 'data.DataLoader' is deprecated, use 'loader.DataLoader' instead\n",
      "  warnings.warn(out)\n",
      "100%|██████████| 60/60 [00:28<00:00,  2.14it/s]\n"
     ]
    },
    {
     "data": {
      "text/html": [],
      "text/plain": [
       "<IPython.core.display.HTML object>"
      ]
     },
     "metadata": {},
     "output_type": "display_data"
    },
    {
     "data": {
      "text/html": [
       "<br>    <style><br>        .wandb-row {<br>            display: flex;<br>            flex-direction: row;<br>            flex-wrap: wrap;<br>            justify-content: flex-start;<br>            width: 100%;<br>        }<br>        .wandb-col {<br>            display: flex;<br>            flex-direction: column;<br>            flex-basis: 100%;<br>            flex: 1;<br>            padding: 10px;<br>        }<br>    </style><br><div class=\"wandb-row\"><div class=\"wandb-col\"><h3>Run history:</h3><br/><table class=\"wandb\"><tr><td>gcn_jarvis-ADV-GNN_SAGE/test_RMSE</td><td>▇▆▆█▇▅▅▆▆▅▄▄▄▄▆▄▄▅▄▄▃▅▃▄▃▃▃▄▂▂▃▂▃▃▃▃▃▁▃▄</td></tr><tr><td>gcn_jarvis-ADV-GNN_SAGE/test_RMSE_orig</td><td>▆▆█▇▅▅▅▆▆▅▅▅▄▄▆▄▄▄▄▃▄▄▂▂▃▂▄▃▃▂▂▂▂▃▃▁▄▃▂▂</td></tr><tr><td>gcn_jarvis-ADV-GNN_SAGE/train_RMSE</td><td>█▄▅▄▄▃▄▄▃▄▄▅▅▃▄▄▃▃▃▃▃▄▅▄▄▃▃▁▃▃▃▁▂▂▂▂▂▁▃▁</td></tr><tr><td>gcn_jarvis-ADV-GNN_SAGE/train_RMSE_orig</td><td>█▄▄▄▄▄▃▄▂▃▄▃▅▃▃▃▃▂▃▂▃▄▃▃▄▃▃▁▂▁▂▁▂▂▂▂▂▂▁▂</td></tr></table><br/></div><div class=\"wandb-col\"><h3>Run summary:</h3><br/><table class=\"wandb\"><tr><td>gcn_jarvis-ADV-GNN_SAGE/test_RMSE</td><td>0.67886</td></tr><tr><td>gcn_jarvis-ADV-GNN_SAGE/test_RMSE_orig</td><td>1.55045</td></tr><tr><td>gcn_jarvis-ADV-GNN_SAGE/train_RMSE</td><td>0.56491</td></tr><tr><td>gcn_jarvis-ADV-GNN_SAGE/train_RMSE_orig</td><td>1.39789</td></tr></table><br/></div></div>"
      ],
      "text/plain": [
       "<IPython.core.display.HTML object>"
      ]
     },
     "metadata": {},
     "output_type": "display_data"
    },
    {
     "data": {
      "text/html": [
       " View run <strong style=\"color:#cdcd00\">drawn-sweep-5</strong> at: <a href='https://wandb.ai/d-massa/jarvis-node-regression-ADV-GNN_SAGE/runs/bkrx8yyc' target=\"_blank\">https://wandb.ai/d-massa/jarvis-node-regression-ADV-GNN_SAGE/runs/bkrx8yyc</a><br> View project at: <a href='https://wandb.ai/d-massa/jarvis-node-regression-ADV-GNN_SAGE' target=\"_blank\">https://wandb.ai/d-massa/jarvis-node-regression-ADV-GNN_SAGE</a><br>Synced 5 W&B file(s), 0 media file(s), 0 artifact file(s) and 0 other file(s)"
      ],
      "text/plain": [
       "<IPython.core.display.HTML object>"
      ]
     },
     "metadata": {},
     "output_type": "display_data"
    },
    {
     "data": {
      "text/html": [
       "Find logs at: <code>./wandb/run-20250306_070836-bkrx8yyc/logs</code>"
      ],
      "text/plain": [
       "<IPython.core.display.HTML object>"
      ]
     },
     "metadata": {},
     "output_type": "display_data"
    },
    {
     "name": "stderr",
     "output_type": "stream",
     "text": [
      "\u001b[34m\u001b[1mwandb\u001b[0m: Sweep Agent: Waiting for job.\n",
      "\u001b[34m\u001b[1mwandb\u001b[0m: Job received.\n",
      "\u001b[34m\u001b[1mwandb\u001b[0m: Agent Starting Run: f604xb22 with config:\n",
      "\u001b[34m\u001b[1mwandb\u001b[0m: \tBatchS: 32\n",
      "\u001b[34m\u001b[1mwandb\u001b[0m: \tTrainS: 0.85\n",
      "\u001b[34m\u001b[1mwandb\u001b[0m: \taggr: mean\n",
      "\u001b[34m\u001b[1mwandb\u001b[0m: \thidden_channels: 32\n",
      "\u001b[34m\u001b[1mwandb\u001b[0m: \tlr: 0.005067982113469815\n",
      "\u001b[34m\u001b[1mwandb\u001b[0m: \tmodel: GNN_SAGE\n",
      "\u001b[34m\u001b[1mwandb\u001b[0m: \tnum_layers: 2\n",
      "\u001b[34m\u001b[1mwandb\u001b[0m: \tweight_decay: 0.0004447432803208249\n"
     ]
    },
    {
     "data": {
      "text/html": [
       "Tracking run with wandb version 0.19.7"
      ],
      "text/plain": [
       "<IPython.core.display.HTML object>"
      ]
     },
     "metadata": {},
     "output_type": "display_data"
    },
    {
     "data": {
      "text/html": [
       "Run data is saved locally in <code>/Users/dariomss/Documents/GitHub/Graph_Project/wandb/run-20250306_070919-f604xb22</code>"
      ],
      "text/plain": [
       "<IPython.core.display.HTML object>"
      ]
     },
     "metadata": {},
     "output_type": "display_data"
    },
    {
     "data": {
      "text/html": [
       "Syncing run <strong><a href='https://wandb.ai/d-massa/jarvis-node-regression-ADV-GNN_SAGE/runs/f604xb22' target=\"_blank\">polished-sweep-6</a></strong> to <a href='https://wandb.ai/d-massa/jarvis-node-regression-ADV-GNN_SAGE' target=\"_blank\">Weights & Biases</a> (<a href='https://wandb.me/developer-guide' target=\"_blank\">docs</a>)<br>Sweep page: <a href='https://wandb.ai/d-massa/jarvis-node-regression-ADV-GNN_SAGE/sweeps/iv8c2hia' target=\"_blank\">https://wandb.ai/d-massa/jarvis-node-regression-ADV-GNN_SAGE/sweeps/iv8c2hia</a>"
      ],
      "text/plain": [
       "<IPython.core.display.HTML object>"
      ]
     },
     "metadata": {},
     "output_type": "display_data"
    },
    {
     "data": {
      "text/html": [
       " View project at <a href='https://wandb.ai/d-massa/jarvis-node-regression-ADV-GNN_SAGE' target=\"_blank\">https://wandb.ai/d-massa/jarvis-node-regression-ADV-GNN_SAGE</a>"
      ],
      "text/plain": [
       "<IPython.core.display.HTML object>"
      ]
     },
     "metadata": {},
     "output_type": "display_data"
    },
    {
     "data": {
      "text/html": [
       " View sweep at <a href='https://wandb.ai/d-massa/jarvis-node-regression-ADV-GNN_SAGE/sweeps/iv8c2hia' target=\"_blank\">https://wandb.ai/d-massa/jarvis-node-regression-ADV-GNN_SAGE/sweeps/iv8c2hia</a>"
      ],
      "text/plain": [
       "<IPython.core.display.HTML object>"
      ]
     },
     "metadata": {},
     "output_type": "display_data"
    },
    {
     "data": {
      "text/html": [
       " View run at <a href='https://wandb.ai/d-massa/jarvis-node-regression-ADV-GNN_SAGE/runs/f604xb22' target=\"_blank\">https://wandb.ai/d-massa/jarvis-node-regression-ADV-GNN_SAGE/runs/f604xb22</a>"
      ],
      "text/plain": [
       "<IPython.core.display.HTML object>"
      ]
     },
     "metadata": {},
     "output_type": "display_data"
    },
    {
     "name": "stderr",
     "output_type": "stream",
     "text": [
      "/Users/dariomss/Documents/GitHub/Graph_Project/PyG/lib/python3.9/site-packages/torch_geometric/deprecation.py:26: UserWarning: 'data.DataLoader' is deprecated, use 'loader.DataLoader' instead\n",
      "  warnings.warn(out)\n",
      "100%|██████████| 60/60 [00:27<00:00,  2.17it/s]\n"
     ]
    },
    {
     "data": {
      "text/html": [],
      "text/plain": [
       "<IPython.core.display.HTML object>"
      ]
     },
     "metadata": {},
     "output_type": "display_data"
    },
    {
     "data": {
      "text/html": [
       "<br>    <style><br>        .wandb-row {<br>            display: flex;<br>            flex-direction: row;<br>            flex-wrap: wrap;<br>            justify-content: flex-start;<br>            width: 100%;<br>        }<br>        .wandb-col {<br>            display: flex;<br>            flex-direction: column;<br>            flex-basis: 100%;<br>            flex: 1;<br>            padding: 10px;<br>        }<br>    </style><br><div class=\"wandb-row\"><div class=\"wandb-col\"><h3>Run history:</h3><br/><table class=\"wandb\"><tr><td>gcn_jarvis-ADV-GNN_SAGE/test_RMSE</td><td>▇█▅▅▄▄▅▄▄▃▄▃▄▅▄▆▂▆▄▃▄▃▆▅▅▄▇▆█▅▅▃▃▅▁▅▆▅▇▆</td></tr><tr><td>gcn_jarvis-ADV-GNN_SAGE/test_RMSE_orig</td><td>▇▅█▅▅▅▅▅▅▅▅▅▅▄▅▅▆▆▅▄▅▄▅▆▆▅▇█▅▆▅▆▄▄▆▆▆▆▁▆</td></tr><tr><td>gcn_jarvis-ADV-GNN_SAGE/train_RMSE</td><td>█▇▆▆▄▄▆▇▄▇▅▆▅▅▅▆▅▃▄▄▄▅▂▁▂▄▁▆▂▃▅▂▆▃▃▆▅▄▃▅</td></tr><tr><td>gcn_jarvis-ADV-GNN_SAGE/train_RMSE_orig</td><td>█▆▄▇▄▄▄█▄▅▅▅▅▇▃▆▇▅▃▂▄▄▄▄▅▂▆▄▁▆▃▃▅▂▇▃▅▅▄▅</td></tr></table><br/></div><div class=\"wandb-col\"><h3>Run summary:</h3><br/><table class=\"wandb\"><tr><td>gcn_jarvis-ADV-GNN_SAGE/test_RMSE</td><td>0.81591</td></tr><tr><td>gcn_jarvis-ADV-GNN_SAGE/test_RMSE_orig</td><td>1.78264</td></tr><tr><td>gcn_jarvis-ADV-GNN_SAGE/train_RMSE</td><td>0.74344</td></tr><tr><td>gcn_jarvis-ADV-GNN_SAGE/train_RMSE_orig</td><td>1.65269</td></tr></table><br/></div></div>"
      ],
      "text/plain": [
       "<IPython.core.display.HTML object>"
      ]
     },
     "metadata": {},
     "output_type": "display_data"
    },
    {
     "data": {
      "text/html": [
       " View run <strong style=\"color:#cdcd00\">polished-sweep-6</strong> at: <a href='https://wandb.ai/d-massa/jarvis-node-regression-ADV-GNN_SAGE/runs/f604xb22' target=\"_blank\">https://wandb.ai/d-massa/jarvis-node-regression-ADV-GNN_SAGE/runs/f604xb22</a><br> View project at: <a href='https://wandb.ai/d-massa/jarvis-node-regression-ADV-GNN_SAGE' target=\"_blank\">https://wandb.ai/d-massa/jarvis-node-regression-ADV-GNN_SAGE</a><br>Synced 5 W&B file(s), 0 media file(s), 0 artifact file(s) and 0 other file(s)"
      ],
      "text/plain": [
       "<IPython.core.display.HTML object>"
      ]
     },
     "metadata": {},
     "output_type": "display_data"
    },
    {
     "data": {
      "text/html": [
       "Find logs at: <code>./wandb/run-20250306_070919-f604xb22/logs</code>"
      ],
      "text/plain": [
       "<IPython.core.display.HTML object>"
      ]
     },
     "metadata": {},
     "output_type": "display_data"
    },
    {
     "name": "stderr",
     "output_type": "stream",
     "text": [
      "\u001b[34m\u001b[1mwandb\u001b[0m: Sweep Agent: Waiting for job.\n",
      "\u001b[34m\u001b[1mwandb\u001b[0m: Job received.\n",
      "\u001b[34m\u001b[1mwandb\u001b[0m: Agent Starting Run: ohe3so68 with config:\n",
      "\u001b[34m\u001b[1mwandb\u001b[0m: \tBatchS: 128\n",
      "\u001b[34m\u001b[1mwandb\u001b[0m: \tTrainS: 0.85\n",
      "\u001b[34m\u001b[1mwandb\u001b[0m: \taggr: min\n",
      "\u001b[34m\u001b[1mwandb\u001b[0m: \thidden_channels: 32\n",
      "\u001b[34m\u001b[1mwandb\u001b[0m: \tlr: 0.005224605319193257\n",
      "\u001b[34m\u001b[1mwandb\u001b[0m: \tmodel: GNN_SAGE\n",
      "\u001b[34m\u001b[1mwandb\u001b[0m: \tnum_layers: 3\n",
      "\u001b[34m\u001b[1mwandb\u001b[0m: \tweight_decay: 0.0005609557647900023\n"
     ]
    },
    {
     "data": {
      "text/html": [
       "Tracking run with wandb version 0.19.7"
      ],
      "text/plain": [
       "<IPython.core.display.HTML object>"
      ]
     },
     "metadata": {},
     "output_type": "display_data"
    },
    {
     "data": {
      "text/html": [
       "Run data is saved locally in <code>/Users/dariomss/Documents/GitHub/Graph_Project/wandb/run-20250306_071001-ohe3so68</code>"
      ],
      "text/plain": [
       "<IPython.core.display.HTML object>"
      ]
     },
     "metadata": {},
     "output_type": "display_data"
    },
    {
     "data": {
      "text/html": [
       "Syncing run <strong><a href='https://wandb.ai/d-massa/jarvis-node-regression-ADV-GNN_SAGE/runs/ohe3so68' target=\"_blank\">decent-sweep-7</a></strong> to <a href='https://wandb.ai/d-massa/jarvis-node-regression-ADV-GNN_SAGE' target=\"_blank\">Weights & Biases</a> (<a href='https://wandb.me/developer-guide' target=\"_blank\">docs</a>)<br>Sweep page: <a href='https://wandb.ai/d-massa/jarvis-node-regression-ADV-GNN_SAGE/sweeps/iv8c2hia' target=\"_blank\">https://wandb.ai/d-massa/jarvis-node-regression-ADV-GNN_SAGE/sweeps/iv8c2hia</a>"
      ],
      "text/plain": [
       "<IPython.core.display.HTML object>"
      ]
     },
     "metadata": {},
     "output_type": "display_data"
    },
    {
     "data": {
      "text/html": [
       " View project at <a href='https://wandb.ai/d-massa/jarvis-node-regression-ADV-GNN_SAGE' target=\"_blank\">https://wandb.ai/d-massa/jarvis-node-regression-ADV-GNN_SAGE</a>"
      ],
      "text/plain": [
       "<IPython.core.display.HTML object>"
      ]
     },
     "metadata": {},
     "output_type": "display_data"
    },
    {
     "data": {
      "text/html": [
       " View sweep at <a href='https://wandb.ai/d-massa/jarvis-node-regression-ADV-GNN_SAGE/sweeps/iv8c2hia' target=\"_blank\">https://wandb.ai/d-massa/jarvis-node-regression-ADV-GNN_SAGE/sweeps/iv8c2hia</a>"
      ],
      "text/plain": [
       "<IPython.core.display.HTML object>"
      ]
     },
     "metadata": {},
     "output_type": "display_data"
    },
    {
     "data": {
      "text/html": [
       " View run at <a href='https://wandb.ai/d-massa/jarvis-node-regression-ADV-GNN_SAGE/runs/ohe3so68' target=\"_blank\">https://wandb.ai/d-massa/jarvis-node-regression-ADV-GNN_SAGE/runs/ohe3so68</a>"
      ],
      "text/plain": [
       "<IPython.core.display.HTML object>"
      ]
     },
     "metadata": {},
     "output_type": "display_data"
    },
    {
     "name": "stderr",
     "output_type": "stream",
     "text": [
      "/Users/dariomss/Documents/GitHub/Graph_Project/PyG/lib/python3.9/site-packages/torch_geometric/deprecation.py:26: UserWarning: 'data.DataLoader' is deprecated, use 'loader.DataLoader' instead\n",
      "  warnings.warn(out)\n",
      "100%|██████████| 60/60 [00:27<00:00,  2.19it/s]\n"
     ]
    },
    {
     "data": {
      "text/html": [],
      "text/plain": [
       "<IPython.core.display.HTML object>"
      ]
     },
     "metadata": {},
     "output_type": "display_data"
    },
    {
     "data": {
      "text/html": [
       "<br>    <style><br>        .wandb-row {<br>            display: flex;<br>            flex-direction: row;<br>            flex-wrap: wrap;<br>            justify-content: flex-start;<br>            width: 100%;<br>        }<br>        .wandb-col {<br>            display: flex;<br>            flex-direction: column;<br>            flex-basis: 100%;<br>            flex: 1;<br>            padding: 10px;<br>        }<br>    </style><br><div class=\"wandb-row\"><div class=\"wandb-col\"><h3>Run history:</h3><br/><table class=\"wandb\"><tr><td>gcn_jarvis-ADV-GNN_SAGE/test_RMSE</td><td>█▇▅▆▆▇▆▆▆▆▅▄▄▄▆▃▄▄▄▃▂▃▃▃▂▁▃▂▄▂▃▂▂▁▂▂▂▁▁▁</td></tr><tr><td>gcn_jarvis-ADV-GNN_SAGE/test_RMSE_orig</td><td>█▇▅▇▆▆▇▆▅▆▄▅▄▄▅▃▃▄▄▄▃▃▂▃▃▃▂▃▂▃▄▃▂▃▂▂▁▃▁▁</td></tr><tr><td>gcn_jarvis-ADV-GNN_SAGE/train_RMSE</td><td>█▅▄▆▅▅▄▄▅▃▄▄▄▃▄▄▂▄▃▂▄▂▃▄▄▄▃▃▁▂▃▂▁▂▂▄▂▂▃▂</td></tr><tr><td>gcn_jarvis-ADV-GNN_SAGE/train_RMSE_orig</td><td>█▄▅▄▄▃▄▃▃▃▄▃▄▂▃▃▃▂▃▃▂▃▃▂▃▃▃▂▁▂▂▂▂▁▁▂▂▂▁▂</td></tr></table><br/></div><div class=\"wandb-col\"><h3>Run summary:</h3><br/><table class=\"wandb\"><tr><td>gcn_jarvis-ADV-GNN_SAGE/test_RMSE</td><td>0.67416</td></tr><tr><td>gcn_jarvis-ADV-GNN_SAGE/test_RMSE_orig</td><td>1.54347</td></tr><tr><td>gcn_jarvis-ADV-GNN_SAGE/train_RMSE</td><td>0.58509</td></tr><tr><td>gcn_jarvis-ADV-GNN_SAGE/train_RMSE_orig</td><td>1.42248</td></tr></table><br/></div></div>"
      ],
      "text/plain": [
       "<IPython.core.display.HTML object>"
      ]
     },
     "metadata": {},
     "output_type": "display_data"
    },
    {
     "data": {
      "text/html": [
       " View run <strong style=\"color:#cdcd00\">decent-sweep-7</strong> at: <a href='https://wandb.ai/d-massa/jarvis-node-regression-ADV-GNN_SAGE/runs/ohe3so68' target=\"_blank\">https://wandb.ai/d-massa/jarvis-node-regression-ADV-GNN_SAGE/runs/ohe3so68</a><br> View project at: <a href='https://wandb.ai/d-massa/jarvis-node-regression-ADV-GNN_SAGE' target=\"_blank\">https://wandb.ai/d-massa/jarvis-node-regression-ADV-GNN_SAGE</a><br>Synced 5 W&B file(s), 0 media file(s), 0 artifact file(s) and 0 other file(s)"
      ],
      "text/plain": [
       "<IPython.core.display.HTML object>"
      ]
     },
     "metadata": {},
     "output_type": "display_data"
    },
    {
     "data": {
      "text/html": [
       "Find logs at: <code>./wandb/run-20250306_071001-ohe3so68/logs</code>"
      ],
      "text/plain": [
       "<IPython.core.display.HTML object>"
      ]
     },
     "metadata": {},
     "output_type": "display_data"
    },
    {
     "name": "stderr",
     "output_type": "stream",
     "text": [
      "\u001b[34m\u001b[1mwandb\u001b[0m: Agent Starting Run: n1kh0fnj with config:\n",
      "\u001b[34m\u001b[1mwandb\u001b[0m: \tBatchS: 128\n",
      "\u001b[34m\u001b[1mwandb\u001b[0m: \tTrainS: 0.85\n",
      "\u001b[34m\u001b[1mwandb\u001b[0m: \taggr: min\n",
      "\u001b[34m\u001b[1mwandb\u001b[0m: \thidden_channels: 32\n",
      "\u001b[34m\u001b[1mwandb\u001b[0m: \tlr: 0.007228541317234313\n",
      "\u001b[34m\u001b[1mwandb\u001b[0m: \tmodel: GNN_SAGE\n",
      "\u001b[34m\u001b[1mwandb\u001b[0m: \tnum_layers: 3\n",
      "\u001b[34m\u001b[1mwandb\u001b[0m: \tweight_decay: 0.000566316755447004\n"
     ]
    },
    {
     "data": {
      "text/html": [
       "Tracking run with wandb version 0.19.7"
      ],
      "text/plain": [
       "<IPython.core.display.HTML object>"
      ]
     },
     "metadata": {},
     "output_type": "display_data"
    },
    {
     "data": {
      "text/html": [
       "Run data is saved locally in <code>/Users/dariomss/Documents/GitHub/Graph_Project/wandb/run-20250306_071035-n1kh0fnj</code>"
      ],
      "text/plain": [
       "<IPython.core.display.HTML object>"
      ]
     },
     "metadata": {},
     "output_type": "display_data"
    },
    {
     "data": {
      "text/html": [
       "Syncing run <strong><a href='https://wandb.ai/d-massa/jarvis-node-regression-ADV-GNN_SAGE/runs/n1kh0fnj' target=\"_blank\">clean-sweep-8</a></strong> to <a href='https://wandb.ai/d-massa/jarvis-node-regression-ADV-GNN_SAGE' target=\"_blank\">Weights & Biases</a> (<a href='https://wandb.me/developer-guide' target=\"_blank\">docs</a>)<br>Sweep page: <a href='https://wandb.ai/d-massa/jarvis-node-regression-ADV-GNN_SAGE/sweeps/iv8c2hia' target=\"_blank\">https://wandb.ai/d-massa/jarvis-node-regression-ADV-GNN_SAGE/sweeps/iv8c2hia</a>"
      ],
      "text/plain": [
       "<IPython.core.display.HTML object>"
      ]
     },
     "metadata": {},
     "output_type": "display_data"
    },
    {
     "data": {
      "text/html": [
       " View project at <a href='https://wandb.ai/d-massa/jarvis-node-regression-ADV-GNN_SAGE' target=\"_blank\">https://wandb.ai/d-massa/jarvis-node-regression-ADV-GNN_SAGE</a>"
      ],
      "text/plain": [
       "<IPython.core.display.HTML object>"
      ]
     },
     "metadata": {},
     "output_type": "display_data"
    },
    {
     "data": {
      "text/html": [
       " View sweep at <a href='https://wandb.ai/d-massa/jarvis-node-regression-ADV-GNN_SAGE/sweeps/iv8c2hia' target=\"_blank\">https://wandb.ai/d-massa/jarvis-node-regression-ADV-GNN_SAGE/sweeps/iv8c2hia</a>"
      ],
      "text/plain": [
       "<IPython.core.display.HTML object>"
      ]
     },
     "metadata": {},
     "output_type": "display_data"
    },
    {
     "data": {
      "text/html": [
       " View run at <a href='https://wandb.ai/d-massa/jarvis-node-regression-ADV-GNN_SAGE/runs/n1kh0fnj' target=\"_blank\">https://wandb.ai/d-massa/jarvis-node-regression-ADV-GNN_SAGE/runs/n1kh0fnj</a>"
      ],
      "text/plain": [
       "<IPython.core.display.HTML object>"
      ]
     },
     "metadata": {},
     "output_type": "display_data"
    },
    {
     "name": "stderr",
     "output_type": "stream",
     "text": [
      "/Users/dariomss/Documents/GitHub/Graph_Project/PyG/lib/python3.9/site-packages/torch_geometric/deprecation.py:26: UserWarning: 'data.DataLoader' is deprecated, use 'loader.DataLoader' instead\n",
      "  warnings.warn(out)\n",
      "100%|██████████| 60/60 [00:27<00:00,  2.21it/s]\n"
     ]
    },
    {
     "data": {
      "text/html": [],
      "text/plain": [
       "<IPython.core.display.HTML object>"
      ]
     },
     "metadata": {},
     "output_type": "display_data"
    },
    {
     "data": {
      "text/html": [
       "<br>    <style><br>        .wandb-row {<br>            display: flex;<br>            flex-direction: row;<br>            flex-wrap: wrap;<br>            justify-content: flex-start;<br>            width: 100%;<br>        }<br>        .wandb-col {<br>            display: flex;<br>            flex-direction: column;<br>            flex-basis: 100%;<br>            flex: 1;<br>            padding: 10px;<br>        }<br>    </style><br><div class=\"wandb-row\"><div class=\"wandb-col\"><h3>Run history:</h3><br/><table class=\"wandb\"><tr><td>gcn_jarvis-ADV-GNN_SAGE/test_RMSE</td><td>█▆▇▅▅▄▄▃▅▃▃▂▄▄▃▃▃▅▅▂▂▂▃▃▂▂▂▁▁▁▂▂▂▃▂▂▁▃▂▂</td></tr><tr><td>gcn_jarvis-ADV-GNN_SAGE/test_RMSE_orig</td><td>▇█▆▆▆▄▄▅▅▄▃▄▄▅▅▄▃▆▃▄▃▂▃▄▃▂▃▂▂▂▂▃▁▂▃▂▃▂▂▂</td></tr><tr><td>gcn_jarvis-ADV-GNN_SAGE/train_RMSE</td><td>█▄▄▆▄▄▃▄▃▃▃▃▃▂▃▃▂▃▄▃▂▃▃▄▂▂▄▃▁▂▃▂▂▁▁▄▂▂▂▁</td></tr><tr><td>gcn_jarvis-ADV-GNN_SAGE/train_RMSE_orig</td><td>▆▅█▅▅▅▄▄▄▄▄▄▃▂▃▃▁▂▄▄▂▄▂▅▄▃▂▂▄▃▂▁▂▂▂▂▂▁▃▁</td></tr></table><br/></div><div class=\"wandb-col\"><h3>Run summary:</h3><br/><table class=\"wandb\"><tr><td>gcn_jarvis-ADV-GNN_SAGE/test_RMSE</td><td>0.69036</td></tr><tr><td>gcn_jarvis-ADV-GNN_SAGE/test_RMSE_orig</td><td>1.56777</td></tr><tr><td>gcn_jarvis-ADV-GNN_SAGE/train_RMSE</td><td>0.57319</td></tr><tr><td>gcn_jarvis-ADV-GNN_SAGE/train_RMSE_orig</td><td>1.40786</td></tr></table><br/></div></div>"
      ],
      "text/plain": [
       "<IPython.core.display.HTML object>"
      ]
     },
     "metadata": {},
     "output_type": "display_data"
    },
    {
     "data": {
      "text/html": [
       " View run <strong style=\"color:#cdcd00\">clean-sweep-8</strong> at: <a href='https://wandb.ai/d-massa/jarvis-node-regression-ADV-GNN_SAGE/runs/n1kh0fnj' target=\"_blank\">https://wandb.ai/d-massa/jarvis-node-regression-ADV-GNN_SAGE/runs/n1kh0fnj</a><br> View project at: <a href='https://wandb.ai/d-massa/jarvis-node-regression-ADV-GNN_SAGE' target=\"_blank\">https://wandb.ai/d-massa/jarvis-node-regression-ADV-GNN_SAGE</a><br>Synced 5 W&B file(s), 0 media file(s), 0 artifact file(s) and 0 other file(s)"
      ],
      "text/plain": [
       "<IPython.core.display.HTML object>"
      ]
     },
     "metadata": {},
     "output_type": "display_data"
    },
    {
     "data": {
      "text/html": [
       "Find logs at: <code>./wandb/run-20250306_071035-n1kh0fnj/logs</code>"
      ],
      "text/plain": [
       "<IPython.core.display.HTML object>"
      ]
     },
     "metadata": {},
     "output_type": "display_data"
    },
    {
     "name": "stderr",
     "output_type": "stream",
     "text": [
      "\u001b[34m\u001b[1mwandb\u001b[0m: Sweep Agent: Waiting for job.\n",
      "\u001b[34m\u001b[1mwandb\u001b[0m: Job received.\n",
      "\u001b[34m\u001b[1mwandb\u001b[0m: Agent Starting Run: svm18nbj with config:\n",
      "\u001b[34m\u001b[1mwandb\u001b[0m: \tBatchS: 128\n",
      "\u001b[34m\u001b[1mwandb\u001b[0m: \tTrainS: 0.85\n",
      "\u001b[34m\u001b[1mwandb\u001b[0m: \taggr: min\n",
      "\u001b[34m\u001b[1mwandb\u001b[0m: \thidden_channels: 16\n",
      "\u001b[34m\u001b[1mwandb\u001b[0m: \tlr: 0.004916251967201797\n",
      "\u001b[34m\u001b[1mwandb\u001b[0m: \tmodel: GNN_SAGE\n",
      "\u001b[34m\u001b[1mwandb\u001b[0m: \tnum_layers: 3\n",
      "\u001b[34m\u001b[1mwandb\u001b[0m: \tweight_decay: 0.0005518884830777895\n"
     ]
    },
    {
     "data": {
      "text/html": [
       "Tracking run with wandb version 0.19.7"
      ],
      "text/plain": [
       "<IPython.core.display.HTML object>"
      ]
     },
     "metadata": {},
     "output_type": "display_data"
    },
    {
     "data": {
      "text/html": [
       "Run data is saved locally in <code>/Users/dariomss/Documents/GitHub/Graph_Project/wandb/run-20250306_071116-svm18nbj</code>"
      ],
      "text/plain": [
       "<IPython.core.display.HTML object>"
      ]
     },
     "metadata": {},
     "output_type": "display_data"
    },
    {
     "data": {
      "text/html": [
       "Syncing run <strong><a href='https://wandb.ai/d-massa/jarvis-node-regression-ADV-GNN_SAGE/runs/svm18nbj' target=\"_blank\">drawn-sweep-9</a></strong> to <a href='https://wandb.ai/d-massa/jarvis-node-regression-ADV-GNN_SAGE' target=\"_blank\">Weights & Biases</a> (<a href='https://wandb.me/developer-guide' target=\"_blank\">docs</a>)<br>Sweep page: <a href='https://wandb.ai/d-massa/jarvis-node-regression-ADV-GNN_SAGE/sweeps/iv8c2hia' target=\"_blank\">https://wandb.ai/d-massa/jarvis-node-regression-ADV-GNN_SAGE/sweeps/iv8c2hia</a>"
      ],
      "text/plain": [
       "<IPython.core.display.HTML object>"
      ]
     },
     "metadata": {},
     "output_type": "display_data"
    },
    {
     "data": {
      "text/html": [
       " View project at <a href='https://wandb.ai/d-massa/jarvis-node-regression-ADV-GNN_SAGE' target=\"_blank\">https://wandb.ai/d-massa/jarvis-node-regression-ADV-GNN_SAGE</a>"
      ],
      "text/plain": [
       "<IPython.core.display.HTML object>"
      ]
     },
     "metadata": {},
     "output_type": "display_data"
    },
    {
     "data": {
      "text/html": [
       " View sweep at <a href='https://wandb.ai/d-massa/jarvis-node-regression-ADV-GNN_SAGE/sweeps/iv8c2hia' target=\"_blank\">https://wandb.ai/d-massa/jarvis-node-regression-ADV-GNN_SAGE/sweeps/iv8c2hia</a>"
      ],
      "text/plain": [
       "<IPython.core.display.HTML object>"
      ]
     },
     "metadata": {},
     "output_type": "display_data"
    },
    {
     "data": {
      "text/html": [
       " View run at <a href='https://wandb.ai/d-massa/jarvis-node-regression-ADV-GNN_SAGE/runs/svm18nbj' target=\"_blank\">https://wandb.ai/d-massa/jarvis-node-regression-ADV-GNN_SAGE/runs/svm18nbj</a>"
      ],
      "text/plain": [
       "<IPython.core.display.HTML object>"
      ]
     },
     "metadata": {},
     "output_type": "display_data"
    },
    {
     "name": "stderr",
     "output_type": "stream",
     "text": [
      "/Users/dariomss/Documents/GitHub/Graph_Project/PyG/lib/python3.9/site-packages/torch_geometric/deprecation.py:26: UserWarning: 'data.DataLoader' is deprecated, use 'loader.DataLoader' instead\n",
      "  warnings.warn(out)\n",
      "100%|██████████| 60/60 [00:21<00:00,  2.75it/s]\n"
     ]
    },
    {
     "data": {
      "text/html": [],
      "text/plain": [
       "<IPython.core.display.HTML object>"
      ]
     },
     "metadata": {},
     "output_type": "display_data"
    },
    {
     "data": {
      "text/html": [
       "<br>    <style><br>        .wandb-row {<br>            display: flex;<br>            flex-direction: row;<br>            flex-wrap: wrap;<br>            justify-content: flex-start;<br>            width: 100%;<br>        }<br>        .wandb-col {<br>            display: flex;<br>            flex-direction: column;<br>            flex-basis: 100%;<br>            flex: 1;<br>            padding: 10px;<br>        }<br>    </style><br><div class=\"wandb-row\"><div class=\"wandb-col\"><h3>Run history:</h3><br/><table class=\"wandb\"><tr><td>gcn_jarvis-ADV-GNN_SAGE/test_RMSE</td><td>█▄▄▄▄▄▃▅▄▄▅▃▃▃▂▅▂▂▄▃▂▃▃▂▂▂▃▄▃▃▁▂▄▁▂▂▂▂▂▂</td></tr><tr><td>gcn_jarvis-ADV-GNN_SAGE/test_RMSE_orig</td><td>█▆▄▄▃▄▃▄▄▃▂▃▅▃▃▃▂▄▄▂▃▄▂▂▂▃▄▅▃▃▁▂▄▁▂▂▃▂▂▂</td></tr><tr><td>gcn_jarvis-ADV-GNN_SAGE/train_RMSE</td><td>█▅▅▂▆█▅▅▄▄▅▄▄▃▃▂▄▄▃▃▄▂▂▄▅▂▄▃▂▂▅▄▃▄▃▂▃▃▁▁</td></tr><tr><td>gcn_jarvis-ADV-GNN_SAGE/train_RMSE_orig</td><td>█▅▂▅▄▅▄▄▄▅▄▁▃▃▃▂▄▄▃▃▄▂▃▂▅▄▁▃▂▂▅▅▂▄▃▃▂▁▂▁</td></tr></table><br/></div><div class=\"wandb-col\"><h3>Run summary:</h3><br/><table class=\"wandb\"><tr><td>gcn_jarvis-ADV-GNN_SAGE/test_RMSE</td><td>0.70603</td></tr><tr><td>gcn_jarvis-ADV-GNN_SAGE/test_RMSE_orig</td><td>1.59198</td></tr><tr><td>gcn_jarvis-ADV-GNN_SAGE/train_RMSE</td><td>0.65618</td></tr><tr><td>gcn_jarvis-ADV-GNN_SAGE/train_RMSE_orig</td><td>1.51736</td></tr></table><br/></div></div>"
      ],
      "text/plain": [
       "<IPython.core.display.HTML object>"
      ]
     },
     "metadata": {},
     "output_type": "display_data"
    },
    {
     "data": {
      "text/html": [
       " View run <strong style=\"color:#cdcd00\">drawn-sweep-9</strong> at: <a href='https://wandb.ai/d-massa/jarvis-node-regression-ADV-GNN_SAGE/runs/svm18nbj' target=\"_blank\">https://wandb.ai/d-massa/jarvis-node-regression-ADV-GNN_SAGE/runs/svm18nbj</a><br> View project at: <a href='https://wandb.ai/d-massa/jarvis-node-regression-ADV-GNN_SAGE' target=\"_blank\">https://wandb.ai/d-massa/jarvis-node-regression-ADV-GNN_SAGE</a><br>Synced 5 W&B file(s), 0 media file(s), 0 artifact file(s) and 0 other file(s)"
      ],
      "text/plain": [
       "<IPython.core.display.HTML object>"
      ]
     },
     "metadata": {},
     "output_type": "display_data"
    },
    {
     "data": {
      "text/html": [
       "Find logs at: <code>./wandb/run-20250306_071116-svm18nbj/logs</code>"
      ],
      "text/plain": [
       "<IPython.core.display.HTML object>"
      ]
     },
     "metadata": {},
     "output_type": "display_data"
    },
    {
     "name": "stderr",
     "output_type": "stream",
     "text": [
      "\u001b[34m\u001b[1mwandb\u001b[0m: Agent Starting Run: v4k4r78h with config:\n",
      "\u001b[34m\u001b[1mwandb\u001b[0m: \tBatchS: 128\n",
      "\u001b[34m\u001b[1mwandb\u001b[0m: \tTrainS: 0.85\n",
      "\u001b[34m\u001b[1mwandb\u001b[0m: \taggr: min\n",
      "\u001b[34m\u001b[1mwandb\u001b[0m: \thidden_channels: 32\n",
      "\u001b[34m\u001b[1mwandb\u001b[0m: \tlr: 0.006501174694399358\n",
      "\u001b[34m\u001b[1mwandb\u001b[0m: \tmodel: GNN_SAGE\n",
      "\u001b[34m\u001b[1mwandb\u001b[0m: \tnum_layers: 3\n",
      "\u001b[34m\u001b[1mwandb\u001b[0m: \tweight_decay: 0.0004937318349336204\n"
     ]
    },
    {
     "data": {
      "text/html": [
       "Tracking run with wandb version 0.19.7"
      ],
      "text/plain": [
       "<IPython.core.display.HTML object>"
      ]
     },
     "metadata": {},
     "output_type": "display_data"
    },
    {
     "data": {
      "text/html": [
       "Run data is saved locally in <code>/Users/dariomss/Documents/GitHub/Graph_Project/wandb/run-20250306_071143-v4k4r78h</code>"
      ],
      "text/plain": [
       "<IPython.core.display.HTML object>"
      ]
     },
     "metadata": {},
     "output_type": "display_data"
    },
    {
     "data": {
      "text/html": [
       "Syncing run <strong><a href='https://wandb.ai/d-massa/jarvis-node-regression-ADV-GNN_SAGE/runs/v4k4r78h' target=\"_blank\">cool-sweep-10</a></strong> to <a href='https://wandb.ai/d-massa/jarvis-node-regression-ADV-GNN_SAGE' target=\"_blank\">Weights & Biases</a> (<a href='https://wandb.me/developer-guide' target=\"_blank\">docs</a>)<br>Sweep page: <a href='https://wandb.ai/d-massa/jarvis-node-regression-ADV-GNN_SAGE/sweeps/iv8c2hia' target=\"_blank\">https://wandb.ai/d-massa/jarvis-node-regression-ADV-GNN_SAGE/sweeps/iv8c2hia</a>"
      ],
      "text/plain": [
       "<IPython.core.display.HTML object>"
      ]
     },
     "metadata": {},
     "output_type": "display_data"
    },
    {
     "data": {
      "text/html": [
       " View project at <a href='https://wandb.ai/d-massa/jarvis-node-regression-ADV-GNN_SAGE' target=\"_blank\">https://wandb.ai/d-massa/jarvis-node-regression-ADV-GNN_SAGE</a>"
      ],
      "text/plain": [
       "<IPython.core.display.HTML object>"
      ]
     },
     "metadata": {},
     "output_type": "display_data"
    },
    {
     "data": {
      "text/html": [
       " View sweep at <a href='https://wandb.ai/d-massa/jarvis-node-regression-ADV-GNN_SAGE/sweeps/iv8c2hia' target=\"_blank\">https://wandb.ai/d-massa/jarvis-node-regression-ADV-GNN_SAGE/sweeps/iv8c2hia</a>"
      ],
      "text/plain": [
       "<IPython.core.display.HTML object>"
      ]
     },
     "metadata": {},
     "output_type": "display_data"
    },
    {
     "data": {
      "text/html": [
       " View run at <a href='https://wandb.ai/d-massa/jarvis-node-regression-ADV-GNN_SAGE/runs/v4k4r78h' target=\"_blank\">https://wandb.ai/d-massa/jarvis-node-regression-ADV-GNN_SAGE/runs/v4k4r78h</a>"
      ],
      "text/plain": [
       "<IPython.core.display.HTML object>"
      ]
     },
     "metadata": {},
     "output_type": "display_data"
    },
    {
     "name": "stderr",
     "output_type": "stream",
     "text": [
      "/Users/dariomss/Documents/GitHub/Graph_Project/PyG/lib/python3.9/site-packages/torch_geometric/deprecation.py:26: UserWarning: 'data.DataLoader' is deprecated, use 'loader.DataLoader' instead\n",
      "  warnings.warn(out)\n",
      "100%|██████████| 60/60 [00:27<00:00,  2.20it/s]\n"
     ]
    },
    {
     "data": {
      "text/html": [],
      "text/plain": [
       "<IPython.core.display.HTML object>"
      ]
     },
     "metadata": {},
     "output_type": "display_data"
    },
    {
     "data": {
      "text/html": [
       "<br>    <style><br>        .wandb-row {<br>            display: flex;<br>            flex-direction: row;<br>            flex-wrap: wrap;<br>            justify-content: flex-start;<br>            width: 100%;<br>        }<br>        .wandb-col {<br>            display: flex;<br>            flex-direction: column;<br>            flex-basis: 100%;<br>            flex: 1;<br>            padding: 10px;<br>        }<br>    </style><br><div class=\"wandb-row\"><div class=\"wandb-col\"><h3>Run history:</h3><br/><table class=\"wandb\"><tr><td>gcn_jarvis-ADV-GNN_SAGE/test_RMSE</td><td>█▇▇▅▅▅▄▄▅▄▄▅▃▄▃▃▄▃▃▃▃▃▃▃▃▃▃▃▃▂▄▂▃▂▁▃▁▃▃▂</td></tr><tr><td>gcn_jarvis-ADV-GNN_SAGE/test_RMSE_orig</td><td>█▅▇▇▅▄▄▃▅▃▄▄▄▄▅▄▄▄▃▃▃▃▃▃▃▃▃▃▃▄▃▂▂▂▃▃▁▃▃▂</td></tr><tr><td>gcn_jarvis-ADV-GNN_SAGE/train_RMSE</td><td>█▄▄▆▅▅▄▃▄▄▄▃▃▂▃▃▃▂▃▂▃▃▄▂▂▃▃▂▂▃▃▂▁▂▁▂▂▂▃▂</td></tr><tr><td>gcn_jarvis-ADV-GNN_SAGE/train_RMSE_orig</td><td>█▄▆▄▄▄▄▃▃▃▃▃▃▃▃▁▃▂▃▂▃▃▂▃▂▃▂▃▁▁▃▂▂▁▂▂▂▂▁▁</td></tr></table><br/></div><div class=\"wandb-col\"><h3>Run summary:</h3><br/><table class=\"wandb\"><tr><td>gcn_jarvis-ADV-GNN_SAGE/test_RMSE</td><td>0.70214</td></tr><tr><td>gcn_jarvis-ADV-GNN_SAGE/test_RMSE_orig</td><td>1.58591</td></tr><tr><td>gcn_jarvis-ADV-GNN_SAGE/train_RMSE</td><td>0.5685</td></tr><tr><td>gcn_jarvis-ADV-GNN_SAGE/train_RMSE_orig</td><td>1.40219</td></tr></table><br/></div></div>"
      ],
      "text/plain": [
       "<IPython.core.display.HTML object>"
      ]
     },
     "metadata": {},
     "output_type": "display_data"
    },
    {
     "data": {
      "text/html": [
       " View run <strong style=\"color:#cdcd00\">cool-sweep-10</strong> at: <a href='https://wandb.ai/d-massa/jarvis-node-regression-ADV-GNN_SAGE/runs/v4k4r78h' target=\"_blank\">https://wandb.ai/d-massa/jarvis-node-regression-ADV-GNN_SAGE/runs/v4k4r78h</a><br> View project at: <a href='https://wandb.ai/d-massa/jarvis-node-regression-ADV-GNN_SAGE' target=\"_blank\">https://wandb.ai/d-massa/jarvis-node-regression-ADV-GNN_SAGE</a><br>Synced 5 W&B file(s), 0 media file(s), 0 artifact file(s) and 0 other file(s)"
      ],
      "text/plain": [
       "<IPython.core.display.HTML object>"
      ]
     },
     "metadata": {},
     "output_type": "display_data"
    },
    {
     "data": {
      "text/html": [
       "Find logs at: <code>./wandb/run-20250306_071143-v4k4r78h/logs</code>"
      ],
      "text/plain": [
       "<IPython.core.display.HTML object>"
      ]
     },
     "metadata": {},
     "output_type": "display_data"
    },
    {
     "name": "stderr",
     "output_type": "stream",
     "text": [
      "\u001b[34m\u001b[1mwandb\u001b[0m: Agent Starting Run: kpj35axl with config:\n",
      "\u001b[34m\u001b[1mwandb\u001b[0m: \tBatchS: 128\n",
      "\u001b[34m\u001b[1mwandb\u001b[0m: \tTrainS: 0.85\n",
      "\u001b[34m\u001b[1mwandb\u001b[0m: \taggr: min\n",
      "\u001b[34m\u001b[1mwandb\u001b[0m: \thidden_channels: 16\n",
      "\u001b[34m\u001b[1mwandb\u001b[0m: \tlr: 0.005240566357640483\n",
      "\u001b[34m\u001b[1mwandb\u001b[0m: \tmodel: GNN_SAGE\n",
      "\u001b[34m\u001b[1mwandb\u001b[0m: \tnum_layers: 3\n",
      "\u001b[34m\u001b[1mwandb\u001b[0m: \tweight_decay: 0.0005928930087868834\n"
     ]
    },
    {
     "data": {
      "text/html": [
       "Tracking run with wandb version 0.19.7"
      ],
      "text/plain": [
       "<IPython.core.display.HTML object>"
      ]
     },
     "metadata": {},
     "output_type": "display_data"
    },
    {
     "data": {
      "text/html": [
       "Run data is saved locally in <code>/Users/dariomss/Documents/GitHub/Graph_Project/wandb/run-20250306_071215-kpj35axl</code>"
      ],
      "text/plain": [
       "<IPython.core.display.HTML object>"
      ]
     },
     "metadata": {},
     "output_type": "display_data"
    },
    {
     "data": {
      "text/html": [
       "Syncing run <strong><a href='https://wandb.ai/d-massa/jarvis-node-regression-ADV-GNN_SAGE/runs/kpj35axl' target=\"_blank\">sweepy-sweep-11</a></strong> to <a href='https://wandb.ai/d-massa/jarvis-node-regression-ADV-GNN_SAGE' target=\"_blank\">Weights & Biases</a> (<a href='https://wandb.me/developer-guide' target=\"_blank\">docs</a>)<br>Sweep page: <a href='https://wandb.ai/d-massa/jarvis-node-regression-ADV-GNN_SAGE/sweeps/iv8c2hia' target=\"_blank\">https://wandb.ai/d-massa/jarvis-node-regression-ADV-GNN_SAGE/sweeps/iv8c2hia</a>"
      ],
      "text/plain": [
       "<IPython.core.display.HTML object>"
      ]
     },
     "metadata": {},
     "output_type": "display_data"
    },
    {
     "data": {
      "text/html": [
       " View project at <a href='https://wandb.ai/d-massa/jarvis-node-regression-ADV-GNN_SAGE' target=\"_blank\">https://wandb.ai/d-massa/jarvis-node-regression-ADV-GNN_SAGE</a>"
      ],
      "text/plain": [
       "<IPython.core.display.HTML object>"
      ]
     },
     "metadata": {},
     "output_type": "display_data"
    },
    {
     "data": {
      "text/html": [
       " View sweep at <a href='https://wandb.ai/d-massa/jarvis-node-regression-ADV-GNN_SAGE/sweeps/iv8c2hia' target=\"_blank\">https://wandb.ai/d-massa/jarvis-node-regression-ADV-GNN_SAGE/sweeps/iv8c2hia</a>"
      ],
      "text/plain": [
       "<IPython.core.display.HTML object>"
      ]
     },
     "metadata": {},
     "output_type": "display_data"
    },
    {
     "data": {
      "text/html": [
       " View run at <a href='https://wandb.ai/d-massa/jarvis-node-regression-ADV-GNN_SAGE/runs/kpj35axl' target=\"_blank\">https://wandb.ai/d-massa/jarvis-node-regression-ADV-GNN_SAGE/runs/kpj35axl</a>"
      ],
      "text/plain": [
       "<IPython.core.display.HTML object>"
      ]
     },
     "metadata": {},
     "output_type": "display_data"
    },
    {
     "name": "stderr",
     "output_type": "stream",
     "text": [
      "/Users/dariomss/Documents/GitHub/Graph_Project/PyG/lib/python3.9/site-packages/torch_geometric/deprecation.py:26: UserWarning: 'data.DataLoader' is deprecated, use 'loader.DataLoader' instead\n",
      "  warnings.warn(out)\n",
      "100%|██████████| 60/60 [00:23<00:00,  2.54it/s]\n"
     ]
    },
    {
     "data": {
      "text/html": [],
      "text/plain": [
       "<IPython.core.display.HTML object>"
      ]
     },
     "metadata": {},
     "output_type": "display_data"
    },
    {
     "data": {
      "text/html": [
       "<br>    <style><br>        .wandb-row {<br>            display: flex;<br>            flex-direction: row;<br>            flex-wrap: wrap;<br>            justify-content: flex-start;<br>            width: 100%;<br>        }<br>        .wandb-col {<br>            display: flex;<br>            flex-direction: column;<br>            flex-basis: 100%;<br>            flex: 1;<br>            padding: 10px;<br>        }<br>    </style><br><div class=\"wandb-row\"><div class=\"wandb-col\"><h3>Run history:</h3><br/><table class=\"wandb\"><tr><td>gcn_jarvis-ADV-GNN_SAGE/test_RMSE</td><td>█▆▅▅▅▃▃▄▃▅▄▃▄▃▅▃▅▃▃▃▃▃▄▂▂▂▃▅▆▄▁▄▃▃▂▁▃▃▂▃</td></tr><tr><td>gcn_jarvis-ADV-GNN_SAGE/test_RMSE_orig</td><td>█▃▄▄▄▃▃▃▃▄▄▃▃▃▃▂▂▂▃▂▂▂▂▃▂▂▂▂▃▄▃▂▁▃▂▂▃▂▁▂</td></tr><tr><td>gcn_jarvis-ADV-GNN_SAGE/train_RMSE</td><td>█▆▆▅▃▆▅█▅▅▄▅▄▄▃▄▁▅▄▃▃▄▃▃▄▅▁▃▂▂▄▅▄▃▃▄▃▁▃▁</td></tr><tr><td>gcn_jarvis-ADV-GNN_SAGE/train_RMSE_orig</td><td>▇▆▅▅▆█▅▄▄▄▄▁▂▃▃▄▄▃▃▂▃▂▃▄▅▁▄▁▂▂▄▂▂▂▁▂▃▃▁▁</td></tr></table><br/></div><div class=\"wandb-col\"><h3>Run summary:</h3><br/><table class=\"wandb\"><tr><td>gcn_jarvis-ADV-GNN_SAGE/test_RMSE</td><td>0.71416</td></tr><tr><td>gcn_jarvis-ADV-GNN_SAGE/test_RMSE_orig</td><td>1.60483</td></tr><tr><td>gcn_jarvis-ADV-GNN_SAGE/train_RMSE</td><td>0.64938</td></tr><tr><td>gcn_jarvis-ADV-GNN_SAGE/train_RMSE_orig</td><td>1.50771</td></tr></table><br/></div></div>"
      ],
      "text/plain": [
       "<IPython.core.display.HTML object>"
      ]
     },
     "metadata": {},
     "output_type": "display_data"
    },
    {
     "data": {
      "text/html": [
       " View run <strong style=\"color:#cdcd00\">sweepy-sweep-11</strong> at: <a href='https://wandb.ai/d-massa/jarvis-node-regression-ADV-GNN_SAGE/runs/kpj35axl' target=\"_blank\">https://wandb.ai/d-massa/jarvis-node-regression-ADV-GNN_SAGE/runs/kpj35axl</a><br> View project at: <a href='https://wandb.ai/d-massa/jarvis-node-regression-ADV-GNN_SAGE' target=\"_blank\">https://wandb.ai/d-massa/jarvis-node-regression-ADV-GNN_SAGE</a><br>Synced 5 W&B file(s), 0 media file(s), 0 artifact file(s) and 0 other file(s)"
      ],
      "text/plain": [
       "<IPython.core.display.HTML object>"
      ]
     },
     "metadata": {},
     "output_type": "display_data"
    },
    {
     "data": {
      "text/html": [
       "Find logs at: <code>./wandb/run-20250306_071215-kpj35axl/logs</code>"
      ],
      "text/plain": [
       "<IPython.core.display.HTML object>"
      ]
     },
     "metadata": {},
     "output_type": "display_data"
    },
    {
     "name": "stderr",
     "output_type": "stream",
     "text": [
      "\u001b[34m\u001b[1mwandb\u001b[0m: Agent Starting Run: mnh1rtjl with config:\n",
      "\u001b[34m\u001b[1mwandb\u001b[0m: \tBatchS: 128\n",
      "\u001b[34m\u001b[1mwandb\u001b[0m: \tTrainS: 0.85\n",
      "\u001b[34m\u001b[1mwandb\u001b[0m: \taggr: min\n",
      "\u001b[34m\u001b[1mwandb\u001b[0m: \thidden_channels: 32\n",
      "\u001b[34m\u001b[1mwandb\u001b[0m: \tlr: 0.0043414498039713425\n",
      "\u001b[34m\u001b[1mwandb\u001b[0m: \tmodel: GNN_SAGE\n",
      "\u001b[34m\u001b[1mwandb\u001b[0m: \tnum_layers: 3\n",
      "\u001b[34m\u001b[1mwandb\u001b[0m: \tweight_decay: 0.0005274324263168019\n"
     ]
    },
    {
     "data": {
      "text/html": [
       "Tracking run with wandb version 0.19.7"
      ],
      "text/plain": [
       "<IPython.core.display.HTML object>"
      ]
     },
     "metadata": {},
     "output_type": "display_data"
    },
    {
     "data": {
      "text/html": [
       "Run data is saved locally in <code>/Users/dariomss/Documents/GitHub/Graph_Project/wandb/run-20250306_071247-mnh1rtjl</code>"
      ],
      "text/plain": [
       "<IPython.core.display.HTML object>"
      ]
     },
     "metadata": {},
     "output_type": "display_data"
    },
    {
     "data": {
      "text/html": [
       "Syncing run <strong><a href='https://wandb.ai/d-massa/jarvis-node-regression-ADV-GNN_SAGE/runs/mnh1rtjl' target=\"_blank\">worthy-sweep-12</a></strong> to <a href='https://wandb.ai/d-massa/jarvis-node-regression-ADV-GNN_SAGE' target=\"_blank\">Weights & Biases</a> (<a href='https://wandb.me/developer-guide' target=\"_blank\">docs</a>)<br>Sweep page: <a href='https://wandb.ai/d-massa/jarvis-node-regression-ADV-GNN_SAGE/sweeps/iv8c2hia' target=\"_blank\">https://wandb.ai/d-massa/jarvis-node-regression-ADV-GNN_SAGE/sweeps/iv8c2hia</a>"
      ],
      "text/plain": [
       "<IPython.core.display.HTML object>"
      ]
     },
     "metadata": {},
     "output_type": "display_data"
    },
    {
     "data": {
      "text/html": [
       " View project at <a href='https://wandb.ai/d-massa/jarvis-node-regression-ADV-GNN_SAGE' target=\"_blank\">https://wandb.ai/d-massa/jarvis-node-regression-ADV-GNN_SAGE</a>"
      ],
      "text/plain": [
       "<IPython.core.display.HTML object>"
      ]
     },
     "metadata": {},
     "output_type": "display_data"
    },
    {
     "data": {
      "text/html": [
       " View sweep at <a href='https://wandb.ai/d-massa/jarvis-node-regression-ADV-GNN_SAGE/sweeps/iv8c2hia' target=\"_blank\">https://wandb.ai/d-massa/jarvis-node-regression-ADV-GNN_SAGE/sweeps/iv8c2hia</a>"
      ],
      "text/plain": [
       "<IPython.core.display.HTML object>"
      ]
     },
     "metadata": {},
     "output_type": "display_data"
    },
    {
     "data": {
      "text/html": [
       " View run at <a href='https://wandb.ai/d-massa/jarvis-node-regression-ADV-GNN_SAGE/runs/mnh1rtjl' target=\"_blank\">https://wandb.ai/d-massa/jarvis-node-regression-ADV-GNN_SAGE/runs/mnh1rtjl</a>"
      ],
      "text/plain": [
       "<IPython.core.display.HTML object>"
      ]
     },
     "metadata": {},
     "output_type": "display_data"
    },
    {
     "name": "stderr",
     "output_type": "stream",
     "text": [
      "/Users/dariomss/Documents/GitHub/Graph_Project/PyG/lib/python3.9/site-packages/torch_geometric/deprecation.py:26: UserWarning: 'data.DataLoader' is deprecated, use 'loader.DataLoader' instead\n",
      "  warnings.warn(out)\n",
      "100%|██████████| 60/60 [00:26<00:00,  2.28it/s]\n"
     ]
    },
    {
     "data": {
      "text/html": [],
      "text/plain": [
       "<IPython.core.display.HTML object>"
      ]
     },
     "metadata": {},
     "output_type": "display_data"
    },
    {
     "data": {
      "text/html": [
       "<br>    <style><br>        .wandb-row {<br>            display: flex;<br>            flex-direction: row;<br>            flex-wrap: wrap;<br>            justify-content: flex-start;<br>            width: 100%;<br>        }<br>        .wandb-col {<br>            display: flex;<br>            flex-direction: column;<br>            flex-basis: 100%;<br>            flex: 1;<br>            padding: 10px;<br>        }<br>    </style><br><div class=\"wandb-row\"><div class=\"wandb-col\"><h3>Run history:</h3><br/><table class=\"wandb\"><tr><td>gcn_jarvis-ADV-GNN_SAGE/test_RMSE</td><td>██▇▆▅▆▆▇▅▄▄▄▄▅▂▆▅▃▄▃▄▃▃▃▂▂▂▄▁▂▁▁▂▁▁▂▄▃▄▂</td></tr><tr><td>gcn_jarvis-ADV-GNN_SAGE/test_RMSE_orig</td><td>█▆▆▅▆▆▅▇▅▄▆▄▄▃▅▅▆▅▄▃▄▂▃▄▃▃▂▂▁▂▁▁▂▁▄▂▃▄▁▂</td></tr><tr><td>gcn_jarvis-ADV-GNN_SAGE/train_RMSE</td><td>█▅▄▅▄▄▄▄▃▄▂▃▃▄▃▂▁▃▄▂▂▄▄▄▄▃▁▂▂▃▂▂▂▁▂▂▂▂▂▁</td></tr><tr><td>gcn_jarvis-ADV-GNN_SAGE/train_RMSE_orig</td><td>█▄▄▄▃▃▃▃▃▂▃▃▄▂▃▃▁▃▂▂▃▂▂▂▃▁▂▄▃▂▁▂▃▂▂▁▁▄▂▂</td></tr></table><br/></div><div class=\"wandb-col\"><h3>Run summary:</h3><br/><table class=\"wandb\"><tr><td>gcn_jarvis-ADV-GNN_SAGE/test_RMSE</td><td>0.69292</td></tr><tr><td>gcn_jarvis-ADV-GNN_SAGE/test_RMSE_orig</td><td>1.57168</td></tr><tr><td>gcn_jarvis-ADV-GNN_SAGE/train_RMSE</td><td>0.54298</td></tr><tr><td>gcn_jarvis-ADV-GNN_SAGE/train_RMSE_orig</td><td>1.3723</td></tr></table><br/></div></div>"
      ],
      "text/plain": [
       "<IPython.core.display.HTML object>"
      ]
     },
     "metadata": {},
     "output_type": "display_data"
    },
    {
     "data": {
      "text/html": [
       " View run <strong style=\"color:#cdcd00\">worthy-sweep-12</strong> at: <a href='https://wandb.ai/d-massa/jarvis-node-regression-ADV-GNN_SAGE/runs/mnh1rtjl' target=\"_blank\">https://wandb.ai/d-massa/jarvis-node-regression-ADV-GNN_SAGE/runs/mnh1rtjl</a><br> View project at: <a href='https://wandb.ai/d-massa/jarvis-node-regression-ADV-GNN_SAGE' target=\"_blank\">https://wandb.ai/d-massa/jarvis-node-regression-ADV-GNN_SAGE</a><br>Synced 5 W&B file(s), 0 media file(s), 0 artifact file(s) and 0 other file(s)"
      ],
      "text/plain": [
       "<IPython.core.display.HTML object>"
      ]
     },
     "metadata": {},
     "output_type": "display_data"
    },
    {
     "data": {
      "text/html": [
       "Find logs at: <code>./wandb/run-20250306_071247-mnh1rtjl/logs</code>"
      ],
      "text/plain": [
       "<IPython.core.display.HTML object>"
      ]
     },
     "metadata": {},
     "output_type": "display_data"
    },
    {
     "name": "stderr",
     "output_type": "stream",
     "text": [
      "\u001b[34m\u001b[1mwandb\u001b[0m: Agent Starting Run: thesp6mv with config:\n",
      "\u001b[34m\u001b[1mwandb\u001b[0m: \tBatchS: 128\n",
      "\u001b[34m\u001b[1mwandb\u001b[0m: \tTrainS: 0.75\n",
      "\u001b[34m\u001b[1mwandb\u001b[0m: \taggr: min\n",
      "\u001b[34m\u001b[1mwandb\u001b[0m: \thidden_channels: 8\n",
      "\u001b[34m\u001b[1mwandb\u001b[0m: \tlr: 0.00796564874152216\n",
      "\u001b[34m\u001b[1mwandb\u001b[0m: \tmodel: GNN_SAGE\n",
      "\u001b[34m\u001b[1mwandb\u001b[0m: \tnum_layers: 3\n",
      "\u001b[34m\u001b[1mwandb\u001b[0m: \tweight_decay: 0.0005499761735709358\n"
     ]
    },
    {
     "data": {
      "text/html": [
       "Tracking run with wandb version 0.19.7"
      ],
      "text/plain": [
       "<IPython.core.display.HTML object>"
      ]
     },
     "metadata": {},
     "output_type": "display_data"
    },
    {
     "data": {
      "text/html": [
       "Run data is saved locally in <code>/Users/dariomss/Documents/GitHub/Graph_Project/wandb/run-20250306_071319-thesp6mv</code>"
      ],
      "text/plain": [
       "<IPython.core.display.HTML object>"
      ]
     },
     "metadata": {},
     "output_type": "display_data"
    },
    {
     "data": {
      "text/html": [
       "Syncing run <strong><a href='https://wandb.ai/d-massa/jarvis-node-regression-ADV-GNN_SAGE/runs/thesp6mv' target=\"_blank\">laced-sweep-13</a></strong> to <a href='https://wandb.ai/d-massa/jarvis-node-regression-ADV-GNN_SAGE' target=\"_blank\">Weights & Biases</a> (<a href='https://wandb.me/developer-guide' target=\"_blank\">docs</a>)<br>Sweep page: <a href='https://wandb.ai/d-massa/jarvis-node-regression-ADV-GNN_SAGE/sweeps/iv8c2hia' target=\"_blank\">https://wandb.ai/d-massa/jarvis-node-regression-ADV-GNN_SAGE/sweeps/iv8c2hia</a>"
      ],
      "text/plain": [
       "<IPython.core.display.HTML object>"
      ]
     },
     "metadata": {},
     "output_type": "display_data"
    },
    {
     "data": {
      "text/html": [
       " View project at <a href='https://wandb.ai/d-massa/jarvis-node-regression-ADV-GNN_SAGE' target=\"_blank\">https://wandb.ai/d-massa/jarvis-node-regression-ADV-GNN_SAGE</a>"
      ],
      "text/plain": [
       "<IPython.core.display.HTML object>"
      ]
     },
     "metadata": {},
     "output_type": "display_data"
    },
    {
     "data": {
      "text/html": [
       " View sweep at <a href='https://wandb.ai/d-massa/jarvis-node-regression-ADV-GNN_SAGE/sweeps/iv8c2hia' target=\"_blank\">https://wandb.ai/d-massa/jarvis-node-regression-ADV-GNN_SAGE/sweeps/iv8c2hia</a>"
      ],
      "text/plain": [
       "<IPython.core.display.HTML object>"
      ]
     },
     "metadata": {},
     "output_type": "display_data"
    },
    {
     "data": {
      "text/html": [
       " View run at <a href='https://wandb.ai/d-massa/jarvis-node-regression-ADV-GNN_SAGE/runs/thesp6mv' target=\"_blank\">https://wandb.ai/d-massa/jarvis-node-regression-ADV-GNN_SAGE/runs/thesp6mv</a>"
      ],
      "text/plain": [
       "<IPython.core.display.HTML object>"
      ]
     },
     "metadata": {},
     "output_type": "display_data"
    },
    {
     "name": "stderr",
     "output_type": "stream",
     "text": [
      "/Users/dariomss/Documents/GitHub/Graph_Project/PyG/lib/python3.9/site-packages/torch_geometric/deprecation.py:26: UserWarning: 'data.DataLoader' is deprecated, use 'loader.DataLoader' instead\n",
      "  warnings.warn(out)\n",
      "100%|██████████| 60/60 [00:19<00:00,  3.01it/s]\n"
     ]
    },
    {
     "data": {
      "text/html": [],
      "text/plain": [
       "<IPython.core.display.HTML object>"
      ]
     },
     "metadata": {},
     "output_type": "display_data"
    },
    {
     "data": {
      "text/html": [
       "<br>    <style><br>        .wandb-row {<br>            display: flex;<br>            flex-direction: row;<br>            flex-wrap: wrap;<br>            justify-content: flex-start;<br>            width: 100%;<br>        }<br>        .wandb-col {<br>            display: flex;<br>            flex-direction: column;<br>            flex-basis: 100%;<br>            flex: 1;<br>            padding: 10px;<br>        }<br>    </style><br><div class=\"wandb-row\"><div class=\"wandb-col\"><h3>Run history:</h3><br/><table class=\"wandb\"><tr><td>gcn_jarvis-ADV-GNN_SAGE/test_RMSE</td><td>█▃▂▄▃▄▃▃▃▃▂▄▄▄▃▄▃▃▃▃▃▂▂▂▂▁▃▂▃▂▄▄▂▃▂▂▂▂▂▄</td></tr><tr><td>gcn_jarvis-ADV-GNN_SAGE/test_RMSE_orig</td><td>█▃▂▄▃▃▃▃▃▄▂▄▃▃▄▃▄▃▃▃▂▂▂▁▃▃▂▃▂▄▂▂▂▂▂▂▂▂▂▁</td></tr><tr><td>gcn_jarvis-ADV-GNN_SAGE/train_RMSE</td><td>█▇▇▄▅▆▆▆▅▄▄▇█▄▃▄▄▂▃▅▄▄▄▅▄▃▅▄▆▄▃▄▁▃▁▄▄▅▃▃</td></tr><tr><td>gcn_jarvis-ADV-GNN_SAGE/train_RMSE_orig</td><td>█▇▅▄▄▄▅▄▅▄▃▃▄▃▆▃▂▃▃▃▂▃▂▃▃▄▃▄▄▂▃▂▁▂▁▃▂▃▃▃</td></tr></table><br/></div><div class=\"wandb-col\"><h3>Run summary:</h3><br/><table class=\"wandb\"><tr><td>gcn_jarvis-ADV-GNN_SAGE/test_RMSE</td><td>0.75457</td></tr><tr><td>gcn_jarvis-ADV-GNN_SAGE/test_RMSE_orig</td><td>1.67155</td></tr><tr><td>gcn_jarvis-ADV-GNN_SAGE/train_RMSE</td><td>0.72793</td></tr><tr><td>gcn_jarvis-ADV-GNN_SAGE/train_RMSE_orig</td><td>1.62702</td></tr></table><br/></div></div>"
      ],
      "text/plain": [
       "<IPython.core.display.HTML object>"
      ]
     },
     "metadata": {},
     "output_type": "display_data"
    },
    {
     "data": {
      "text/html": [
       " View run <strong style=\"color:#cdcd00\">laced-sweep-13</strong> at: <a href='https://wandb.ai/d-massa/jarvis-node-regression-ADV-GNN_SAGE/runs/thesp6mv' target=\"_blank\">https://wandb.ai/d-massa/jarvis-node-regression-ADV-GNN_SAGE/runs/thesp6mv</a><br> View project at: <a href='https://wandb.ai/d-massa/jarvis-node-regression-ADV-GNN_SAGE' target=\"_blank\">https://wandb.ai/d-massa/jarvis-node-regression-ADV-GNN_SAGE</a><br>Synced 5 W&B file(s), 0 media file(s), 0 artifact file(s) and 0 other file(s)"
      ],
      "text/plain": [
       "<IPython.core.display.HTML object>"
      ]
     },
     "metadata": {},
     "output_type": "display_data"
    },
    {
     "data": {
      "text/html": [
       "Find logs at: <code>./wandb/run-20250306_071319-thesp6mv/logs</code>"
      ],
      "text/plain": [
       "<IPython.core.display.HTML object>"
      ]
     },
     "metadata": {},
     "output_type": "display_data"
    },
    {
     "name": "stderr",
     "output_type": "stream",
     "text": [
      "\u001b[34m\u001b[1mwandb\u001b[0m: Agent Starting Run: f6bvverz with config:\n",
      "\u001b[34m\u001b[1mwandb\u001b[0m: \tBatchS: 32\n",
      "\u001b[34m\u001b[1mwandb\u001b[0m: \tTrainS: 0.75\n",
      "\u001b[34m\u001b[1mwandb\u001b[0m: \taggr: max\n",
      "\u001b[34m\u001b[1mwandb\u001b[0m: \thidden_channels: 8\n",
      "\u001b[34m\u001b[1mwandb\u001b[0m: \tlr: 0.00040545673937338766\n",
      "\u001b[34m\u001b[1mwandb\u001b[0m: \tmodel: GNN_SAGE\n",
      "\u001b[34m\u001b[1mwandb\u001b[0m: \tnum_layers: 1\n",
      "\u001b[34m\u001b[1mwandb\u001b[0m: \tweight_decay: 0.000585785308492729\n"
     ]
    },
    {
     "data": {
      "text/html": [
       "Tracking run with wandb version 0.19.7"
      ],
      "text/plain": [
       "<IPython.core.display.HTML object>"
      ]
     },
     "metadata": {},
     "output_type": "display_data"
    },
    {
     "data": {
      "text/html": [
       "Run data is saved locally in <code>/Users/dariomss/Documents/GitHub/Graph_Project/wandb/run-20250306_071345-f6bvverz</code>"
      ],
      "text/plain": [
       "<IPython.core.display.HTML object>"
      ]
     },
     "metadata": {},
     "output_type": "display_data"
    },
    {
     "data": {
      "text/html": [
       "Syncing run <strong><a href='https://wandb.ai/d-massa/jarvis-node-regression-ADV-GNN_SAGE/runs/f6bvverz' target=\"_blank\">dandy-sweep-14</a></strong> to <a href='https://wandb.ai/d-massa/jarvis-node-regression-ADV-GNN_SAGE' target=\"_blank\">Weights & Biases</a> (<a href='https://wandb.me/developer-guide' target=\"_blank\">docs</a>)<br>Sweep page: <a href='https://wandb.ai/d-massa/jarvis-node-regression-ADV-GNN_SAGE/sweeps/iv8c2hia' target=\"_blank\">https://wandb.ai/d-massa/jarvis-node-regression-ADV-GNN_SAGE/sweeps/iv8c2hia</a>"
      ],
      "text/plain": [
       "<IPython.core.display.HTML object>"
      ]
     },
     "metadata": {},
     "output_type": "display_data"
    },
    {
     "data": {
      "text/html": [
       " View project at <a href='https://wandb.ai/d-massa/jarvis-node-regression-ADV-GNN_SAGE' target=\"_blank\">https://wandb.ai/d-massa/jarvis-node-regression-ADV-GNN_SAGE</a>"
      ],
      "text/plain": [
       "<IPython.core.display.HTML object>"
      ]
     },
     "metadata": {},
     "output_type": "display_data"
    },
    {
     "data": {
      "text/html": [
       " View sweep at <a href='https://wandb.ai/d-massa/jarvis-node-regression-ADV-GNN_SAGE/sweeps/iv8c2hia' target=\"_blank\">https://wandb.ai/d-massa/jarvis-node-regression-ADV-GNN_SAGE/sweeps/iv8c2hia</a>"
      ],
      "text/plain": [
       "<IPython.core.display.HTML object>"
      ]
     },
     "metadata": {},
     "output_type": "display_data"
    },
    {
     "data": {
      "text/html": [
       " View run at <a href='https://wandb.ai/d-massa/jarvis-node-regression-ADV-GNN_SAGE/runs/f6bvverz' target=\"_blank\">https://wandb.ai/d-massa/jarvis-node-regression-ADV-GNN_SAGE/runs/f6bvverz</a>"
      ],
      "text/plain": [
       "<IPython.core.display.HTML object>"
      ]
     },
     "metadata": {},
     "output_type": "display_data"
    },
    {
     "name": "stderr",
     "output_type": "stream",
     "text": [
      "/Users/dariomss/Documents/GitHub/Graph_Project/PyG/lib/python3.9/site-packages/torch_geometric/deprecation.py:26: UserWarning: 'data.DataLoader' is deprecated, use 'loader.DataLoader' instead\n",
      "  warnings.warn(out)\n",
      "100%|██████████| 60/60 [00:17<00:00,  3.49it/s]\n"
     ]
    },
    {
     "data": {
      "text/html": [],
      "text/plain": [
       "<IPython.core.display.HTML object>"
      ]
     },
     "metadata": {},
     "output_type": "display_data"
    },
    {
     "data": {
      "text/html": [
       "<br>    <style><br>        .wandb-row {<br>            display: flex;<br>            flex-direction: row;<br>            flex-wrap: wrap;<br>            justify-content: flex-start;<br>            width: 100%;<br>        }<br>        .wandb-col {<br>            display: flex;<br>            flex-direction: column;<br>            flex-basis: 100%;<br>            flex: 1;<br>            padding: 10px;<br>        }<br>    </style><br><div class=\"wandb-row\"><div class=\"wandb-col\"><h3>Run history:</h3><br/><table class=\"wandb\"><tr><td>gcn_jarvis-ADV-GNN_SAGE/test_RMSE</td><td>█▆▂▂▂▁▁▁▁▁▁▁▁▁▁▁▁▁▁▁▁▁▁▁▁▁▁▁▁▁▁▁▁▁▁▁▁▁▁▁</td></tr><tr><td>gcn_jarvis-ADV-GNN_SAGE/test_RMSE_orig</td><td>█▄▁▁▁▁▁▁▁▁▁▁▁▁▁▁▁▁▁▁▁▁▁▁▁▁▁▁▁▁▁▁▁▁▁▁▁▁▁▁</td></tr><tr><td>gcn_jarvis-ADV-GNN_SAGE/train_RMSE</td><td>█▅▄▅▄▃▃▃▂▂▂▂▂▂▃▂▂▁▂▂▁▂▁▂▂▂▂▂▁▂▂▂▁▂▁▂▂▂▁▂</td></tr><tr><td>gcn_jarvis-ADV-GNN_SAGE/train_RMSE_orig</td><td>█▂▁▁▁▁▁▁▁▁▁▁▁▁▁▁▁▁▁▁▁▁▁▁▁▁▁▁▁▁▁▁▁▁▁▁▁▁▁▁</td></tr></table><br/></div><div class=\"wandb-col\"><h3>Run summary:</h3><br/><table class=\"wandb\"><tr><td>gcn_jarvis-ADV-GNN_SAGE/test_RMSE</td><td>0.82509</td></tr><tr><td>gcn_jarvis-ADV-GNN_SAGE/test_RMSE_orig</td><td>1.80033</td></tr><tr><td>gcn_jarvis-ADV-GNN_SAGE/train_RMSE</td><td>0.86241</td></tr><tr><td>gcn_jarvis-ADV-GNN_SAGE/train_RMSE_orig</td><td>1.87534</td></tr></table><br/></div></div>"
      ],
      "text/plain": [
       "<IPython.core.display.HTML object>"
      ]
     },
     "metadata": {},
     "output_type": "display_data"
    },
    {
     "data": {
      "text/html": [
       " View run <strong style=\"color:#cdcd00\">dandy-sweep-14</strong> at: <a href='https://wandb.ai/d-massa/jarvis-node-regression-ADV-GNN_SAGE/runs/f6bvverz' target=\"_blank\">https://wandb.ai/d-massa/jarvis-node-regression-ADV-GNN_SAGE/runs/f6bvverz</a><br> View project at: <a href='https://wandb.ai/d-massa/jarvis-node-regression-ADV-GNN_SAGE' target=\"_blank\">https://wandb.ai/d-massa/jarvis-node-regression-ADV-GNN_SAGE</a><br>Synced 5 W&B file(s), 0 media file(s), 0 artifact file(s) and 0 other file(s)"
      ],
      "text/plain": [
       "<IPython.core.display.HTML object>"
      ]
     },
     "metadata": {},
     "output_type": "display_data"
    },
    {
     "data": {
      "text/html": [
       "Find logs at: <code>./wandb/run-20250306_071345-f6bvverz/logs</code>"
      ],
      "text/plain": [
       "<IPython.core.display.HTML object>"
      ]
     },
     "metadata": {},
     "output_type": "display_data"
    },
    {
     "name": "stderr",
     "output_type": "stream",
     "text": [
      "\u001b[34m\u001b[1mwandb\u001b[0m: Agent Starting Run: n7g6f5q2 with config:\n",
      "\u001b[34m\u001b[1mwandb\u001b[0m: \tBatchS: 128\n",
      "\u001b[34m\u001b[1mwandb\u001b[0m: \tTrainS: 0.85\n",
      "\u001b[34m\u001b[1mwandb\u001b[0m: \taggr: min\n",
      "\u001b[34m\u001b[1mwandb\u001b[0m: \thidden_channels: 16\n",
      "\u001b[34m\u001b[1mwandb\u001b[0m: \tlr: 0.007069284108071918\n",
      "\u001b[34m\u001b[1mwandb\u001b[0m: \tmodel: GNN_SAGE\n",
      "\u001b[34m\u001b[1mwandb\u001b[0m: \tnum_layers: 3\n",
      "\u001b[34m\u001b[1mwandb\u001b[0m: \tweight_decay: 0.0005175261746534314\n"
     ]
    },
    {
     "data": {
      "text/html": [
       "Tracking run with wandb version 0.19.7"
      ],
      "text/plain": [
       "<IPython.core.display.HTML object>"
      ]
     },
     "metadata": {},
     "output_type": "display_data"
    },
    {
     "data": {
      "text/html": [
       "Run data is saved locally in <code>/Users/dariomss/Documents/GitHub/Graph_Project/wandb/run-20250306_071412-n7g6f5q2</code>"
      ],
      "text/plain": [
       "<IPython.core.display.HTML object>"
      ]
     },
     "metadata": {},
     "output_type": "display_data"
    },
    {
     "data": {
      "text/html": [
       "Syncing run <strong><a href='https://wandb.ai/d-massa/jarvis-node-regression-ADV-GNN_SAGE/runs/n7g6f5q2' target=\"_blank\">vibrant-sweep-15</a></strong> to <a href='https://wandb.ai/d-massa/jarvis-node-regression-ADV-GNN_SAGE' target=\"_blank\">Weights & Biases</a> (<a href='https://wandb.me/developer-guide' target=\"_blank\">docs</a>)<br>Sweep page: <a href='https://wandb.ai/d-massa/jarvis-node-regression-ADV-GNN_SAGE/sweeps/iv8c2hia' target=\"_blank\">https://wandb.ai/d-massa/jarvis-node-regression-ADV-GNN_SAGE/sweeps/iv8c2hia</a>"
      ],
      "text/plain": [
       "<IPython.core.display.HTML object>"
      ]
     },
     "metadata": {},
     "output_type": "display_data"
    },
    {
     "data": {
      "text/html": [
       " View project at <a href='https://wandb.ai/d-massa/jarvis-node-regression-ADV-GNN_SAGE' target=\"_blank\">https://wandb.ai/d-massa/jarvis-node-regression-ADV-GNN_SAGE</a>"
      ],
      "text/plain": [
       "<IPython.core.display.HTML object>"
      ]
     },
     "metadata": {},
     "output_type": "display_data"
    },
    {
     "data": {
      "text/html": [
       " View sweep at <a href='https://wandb.ai/d-massa/jarvis-node-regression-ADV-GNN_SAGE/sweeps/iv8c2hia' target=\"_blank\">https://wandb.ai/d-massa/jarvis-node-regression-ADV-GNN_SAGE/sweeps/iv8c2hia</a>"
      ],
      "text/plain": [
       "<IPython.core.display.HTML object>"
      ]
     },
     "metadata": {},
     "output_type": "display_data"
    },
    {
     "data": {
      "text/html": [
       " View run at <a href='https://wandb.ai/d-massa/jarvis-node-regression-ADV-GNN_SAGE/runs/n7g6f5q2' target=\"_blank\">https://wandb.ai/d-massa/jarvis-node-regression-ADV-GNN_SAGE/runs/n7g6f5q2</a>"
      ],
      "text/plain": [
       "<IPython.core.display.HTML object>"
      ]
     },
     "metadata": {},
     "output_type": "display_data"
    },
    {
     "name": "stderr",
     "output_type": "stream",
     "text": [
      "/Users/dariomss/Documents/GitHub/Graph_Project/PyG/lib/python3.9/site-packages/torch_geometric/deprecation.py:26: UserWarning: 'data.DataLoader' is deprecated, use 'loader.DataLoader' instead\n",
      "  warnings.warn(out)\n",
      "100%|██████████| 60/60 [00:21<00:00,  2.81it/s]\n"
     ]
    },
    {
     "data": {
      "text/html": [],
      "text/plain": [
       "<IPython.core.display.HTML object>"
      ]
     },
     "metadata": {},
     "output_type": "display_data"
    },
    {
     "data": {
      "text/html": [
       "<br>    <style><br>        .wandb-row {<br>            display: flex;<br>            flex-direction: row;<br>            flex-wrap: wrap;<br>            justify-content: flex-start;<br>            width: 100%;<br>        }<br>        .wandb-col {<br>            display: flex;<br>            flex-direction: column;<br>            flex-basis: 100%;<br>            flex: 1;<br>            padding: 10px;<br>        }<br>    </style><br><div class=\"wandb-row\"><div class=\"wandb-col\"><h3>Run history:</h3><br/><table class=\"wandb\"><tr><td>gcn_jarvis-ADV-GNN_SAGE/test_RMSE</td><td>█▆▅▅▄▄▄▄▃▄▆▄▄▄▄▄▅▄▄▄▃▄▂▄▄▃▁▃▄▆▃▂▃▂▃▂▂▃▃▂</td></tr><tr><td>gcn_jarvis-ADV-GNN_SAGE/test_RMSE_orig</td><td>█▅▅▄▅▄▄▃▆▄▄▄▄▄▅▄▄▄▃▄▄▃▂▄▄▃▃▂▁▃▅▃▃▂▃▂▂▂▂▁</td></tr><tr><td>gcn_jarvis-ADV-GNN_SAGE/train_RMSE</td><td>█▆▆▅▃▆█▅▆▅▂▃▄▄▂▄▃▃▃▃▃▄▃▅▂▄▁▃▂▁▄▃▂▃▁▄▂▂▂▁</td></tr><tr><td>gcn_jarvis-ADV-GNN_SAGE/train_RMSE_orig</td><td>█▆▅▅▆█▅▅▄▄▃▂▃▃▃▄▄▂▂▃▃▃▂▄▂▁▂▁▁▅▅▂▃▂▃▂▄▂▂▁</td></tr></table><br/></div><div class=\"wandb-col\"><h3>Run summary:</h3><br/><table class=\"wandb\"><tr><td>gcn_jarvis-ADV-GNN_SAGE/test_RMSE</td><td>0.70627</td></tr><tr><td>gcn_jarvis-ADV-GNN_SAGE/test_RMSE_orig</td><td>1.59236</td></tr><tr><td>gcn_jarvis-ADV-GNN_SAGE/train_RMSE</td><td>0.64381</td></tr><tr><td>gcn_jarvis-ADV-GNN_SAGE/train_RMSE_orig</td><td>1.4999</td></tr></table><br/></div></div>"
      ],
      "text/plain": [
       "<IPython.core.display.HTML object>"
      ]
     },
     "metadata": {},
     "output_type": "display_data"
    },
    {
     "data": {
      "text/html": [
       " View run <strong style=\"color:#cdcd00\">vibrant-sweep-15</strong> at: <a href='https://wandb.ai/d-massa/jarvis-node-regression-ADV-GNN_SAGE/runs/n7g6f5q2' target=\"_blank\">https://wandb.ai/d-massa/jarvis-node-regression-ADV-GNN_SAGE/runs/n7g6f5q2</a><br> View project at: <a href='https://wandb.ai/d-massa/jarvis-node-regression-ADV-GNN_SAGE' target=\"_blank\">https://wandb.ai/d-massa/jarvis-node-regression-ADV-GNN_SAGE</a><br>Synced 5 W&B file(s), 0 media file(s), 0 artifact file(s) and 0 other file(s)"
      ],
      "text/plain": [
       "<IPython.core.display.HTML object>"
      ]
     },
     "metadata": {},
     "output_type": "display_data"
    },
    {
     "data": {
      "text/html": [
       "Find logs at: <code>./wandb/run-20250306_071412-n7g6f5q2/logs</code>"
      ],
      "text/plain": [
       "<IPython.core.display.HTML object>"
      ]
     },
     "metadata": {},
     "output_type": "display_data"
    },
    {
     "name": "stderr",
     "output_type": "stream",
     "text": [
      "\u001b[34m\u001b[1mwandb\u001b[0m: Agent Starting Run: dr7q80tz with config:\n",
      "\u001b[34m\u001b[1mwandb\u001b[0m: \tBatchS: 64\n",
      "\u001b[34m\u001b[1mwandb\u001b[0m: \tTrainS: 0.85\n",
      "\u001b[34m\u001b[1mwandb\u001b[0m: \taggr: min\n",
      "\u001b[34m\u001b[1mwandb\u001b[0m: \thidden_channels: 32\n",
      "\u001b[34m\u001b[1mwandb\u001b[0m: \tlr: 0.007922719953672233\n",
      "\u001b[34m\u001b[1mwandb\u001b[0m: \tmodel: GNN_SAGE\n",
      "\u001b[34m\u001b[1mwandb\u001b[0m: \tnum_layers: 3\n",
      "\u001b[34m\u001b[1mwandb\u001b[0m: \tweight_decay: 0.0006331098489726075\n"
     ]
    },
    {
     "data": {
      "text/html": [
       "Tracking run with wandb version 0.19.7"
      ],
      "text/plain": [
       "<IPython.core.display.HTML object>"
      ]
     },
     "metadata": {},
     "output_type": "display_data"
    },
    {
     "data": {
      "text/html": [
       "Run data is saved locally in <code>/Users/dariomss/Documents/GitHub/Graph_Project/wandb/run-20250306_071438-dr7q80tz</code>"
      ],
      "text/plain": [
       "<IPython.core.display.HTML object>"
      ]
     },
     "metadata": {},
     "output_type": "display_data"
    },
    {
     "data": {
      "text/html": [
       "Syncing run <strong><a href='https://wandb.ai/d-massa/jarvis-node-regression-ADV-GNN_SAGE/runs/dr7q80tz' target=\"_blank\">volcanic-sweep-16</a></strong> to <a href='https://wandb.ai/d-massa/jarvis-node-regression-ADV-GNN_SAGE' target=\"_blank\">Weights & Biases</a> (<a href='https://wandb.me/developer-guide' target=\"_blank\">docs</a>)<br>Sweep page: <a href='https://wandb.ai/d-massa/jarvis-node-regression-ADV-GNN_SAGE/sweeps/iv8c2hia' target=\"_blank\">https://wandb.ai/d-massa/jarvis-node-regression-ADV-GNN_SAGE/sweeps/iv8c2hia</a>"
      ],
      "text/plain": [
       "<IPython.core.display.HTML object>"
      ]
     },
     "metadata": {},
     "output_type": "display_data"
    },
    {
     "data": {
      "text/html": [
       " View project at <a href='https://wandb.ai/d-massa/jarvis-node-regression-ADV-GNN_SAGE' target=\"_blank\">https://wandb.ai/d-massa/jarvis-node-regression-ADV-GNN_SAGE</a>"
      ],
      "text/plain": [
       "<IPython.core.display.HTML object>"
      ]
     },
     "metadata": {},
     "output_type": "display_data"
    },
    {
     "data": {
      "text/html": [
       " View sweep at <a href='https://wandb.ai/d-massa/jarvis-node-regression-ADV-GNN_SAGE/sweeps/iv8c2hia' target=\"_blank\">https://wandb.ai/d-massa/jarvis-node-regression-ADV-GNN_SAGE/sweeps/iv8c2hia</a>"
      ],
      "text/plain": [
       "<IPython.core.display.HTML object>"
      ]
     },
     "metadata": {},
     "output_type": "display_data"
    },
    {
     "data": {
      "text/html": [
       " View run at <a href='https://wandb.ai/d-massa/jarvis-node-regression-ADV-GNN_SAGE/runs/dr7q80tz' target=\"_blank\">https://wandb.ai/d-massa/jarvis-node-regression-ADV-GNN_SAGE/runs/dr7q80tz</a>"
      ],
      "text/plain": [
       "<IPython.core.display.HTML object>"
      ]
     },
     "metadata": {},
     "output_type": "display_data"
    },
    {
     "name": "stderr",
     "output_type": "stream",
     "text": [
      "/Users/dariomss/Documents/GitHub/Graph_Project/PyG/lib/python3.9/site-packages/torch_geometric/deprecation.py:26: UserWarning: 'data.DataLoader' is deprecated, use 'loader.DataLoader' instead\n",
      "  warnings.warn(out)\n",
      "100%|██████████| 60/60 [00:33<00:00,  1.79it/s]\n"
     ]
    },
    {
     "data": {
      "text/html": [],
      "text/plain": [
       "<IPython.core.display.HTML object>"
      ]
     },
     "metadata": {},
     "output_type": "display_data"
    },
    {
     "data": {
      "text/html": [
       "<br>    <style><br>        .wandb-row {<br>            display: flex;<br>            flex-direction: row;<br>            flex-wrap: wrap;<br>            justify-content: flex-start;<br>            width: 100%;<br>        }<br>        .wandb-col {<br>            display: flex;<br>            flex-direction: column;<br>            flex-basis: 100%;<br>            flex: 1;<br>            padding: 10px;<br>        }<br>    </style><br><div class=\"wandb-row\"><div class=\"wandb-col\"><h3>Run history:</h3><br/><table class=\"wandb\"><tr><td>gcn_jarvis-ADV-GNN_SAGE/test_RMSE</td><td>▅█▅█▆▅▅▇▅▅▄▃▃▄▄▁▃▅▃▃▄▃▄▄▄▃▄▆▂▅▅▂▃▃▅▃▃▂▁▄</td></tr><tr><td>gcn_jarvis-ADV-GNN_SAGE/test_RMSE_orig</td><td>▅█▅█▆▇▅▄▇▅▃▃▄▄▃▃▂▄▂▃▄▄▄▂▅▃▄▆▂▅▂▃▅▃▁▃▂▄▁▃</td></tr><tr><td>gcn_jarvis-ADV-GNN_SAGE/train_RMSE</td><td>█▆▆▄▄▆▁▄▄▅▂▂▅▄▄▅▆▂▂▅█▅▆▇▃▄▅▃▆▄▂▄▂▆█▄▂▁▅▃</td></tr><tr><td>gcn_jarvis-ADV-GNN_SAGE/train_RMSE_orig</td><td>█▅▄▃▃▄▄▁▃▃▄▃▂▃▂▂▃▃▂▂▃▄▃▄▄▂▂▃▂▃▁▂▂▄▅▃▂▁▃▂</td></tr></table><br/></div><div class=\"wandb-col\"><h3>Run summary:</h3><br/><table class=\"wandb\"><tr><td>gcn_jarvis-ADV-GNN_SAGE/test_RMSE</td><td>0.75843</td></tr><tr><td>gcn_jarvis-ADV-GNN_SAGE/test_RMSE_orig</td><td>1.67819</td></tr><tr><td>gcn_jarvis-ADV-GNN_SAGE/train_RMSE</td><td>0.59268</td></tr><tr><td>gcn_jarvis-ADV-GNN_SAGE/train_RMSE_orig</td><td>1.43199</td></tr></table><br/></div></div>"
      ],
      "text/plain": [
       "<IPython.core.display.HTML object>"
      ]
     },
     "metadata": {},
     "output_type": "display_data"
    },
    {
     "data": {
      "text/html": [
       " View run <strong style=\"color:#cdcd00\">volcanic-sweep-16</strong> at: <a href='https://wandb.ai/d-massa/jarvis-node-regression-ADV-GNN_SAGE/runs/dr7q80tz' target=\"_blank\">https://wandb.ai/d-massa/jarvis-node-regression-ADV-GNN_SAGE/runs/dr7q80tz</a><br> View project at: <a href='https://wandb.ai/d-massa/jarvis-node-regression-ADV-GNN_SAGE' target=\"_blank\">https://wandb.ai/d-massa/jarvis-node-regression-ADV-GNN_SAGE</a><br>Synced 5 W&B file(s), 0 media file(s), 0 artifact file(s) and 0 other file(s)"
      ],
      "text/plain": [
       "<IPython.core.display.HTML object>"
      ]
     },
     "metadata": {},
     "output_type": "display_data"
    },
    {
     "data": {
      "text/html": [
       "Find logs at: <code>./wandb/run-20250306_071438-dr7q80tz/logs</code>"
      ],
      "text/plain": [
       "<IPython.core.display.HTML object>"
      ]
     },
     "metadata": {},
     "output_type": "display_data"
    },
    {
     "name": "stderr",
     "output_type": "stream",
     "text": [
      "\u001b[34m\u001b[1mwandb\u001b[0m: Agent Starting Run: jin917jx with config:\n",
      "\u001b[34m\u001b[1mwandb\u001b[0m: \tBatchS: 128\n",
      "\u001b[34m\u001b[1mwandb\u001b[0m: \tTrainS: 0.75\n",
      "\u001b[34m\u001b[1mwandb\u001b[0m: \taggr: min\n",
      "\u001b[34m\u001b[1mwandb\u001b[0m: \thidden_channels: 32\n",
      "\u001b[34m\u001b[1mwandb\u001b[0m: \tlr: 0.0048270906180422095\n",
      "\u001b[34m\u001b[1mwandb\u001b[0m: \tmodel: GNN_SAGE\n",
      "\u001b[34m\u001b[1mwandb\u001b[0m: \tnum_layers: 3\n",
      "\u001b[34m\u001b[1mwandb\u001b[0m: \tweight_decay: 0.00045355530590831486\n"
     ]
    },
    {
     "data": {
      "text/html": [
       "Tracking run with wandb version 0.19.7"
      ],
      "text/plain": [
       "<IPython.core.display.HTML object>"
      ]
     },
     "metadata": {},
     "output_type": "display_data"
    },
    {
     "data": {
      "text/html": [
       "Run data is saved locally in <code>/Users/dariomss/Documents/GitHub/Graph_Project/wandb/run-20250306_071521-jin917jx</code>"
      ],
      "text/plain": [
       "<IPython.core.display.HTML object>"
      ]
     },
     "metadata": {},
     "output_type": "display_data"
    },
    {
     "data": {
      "text/html": [
       "Syncing run <strong><a href='https://wandb.ai/d-massa/jarvis-node-regression-ADV-GNN_SAGE/runs/jin917jx' target=\"_blank\">desert-sweep-17</a></strong> to <a href='https://wandb.ai/d-massa/jarvis-node-regression-ADV-GNN_SAGE' target=\"_blank\">Weights & Biases</a> (<a href='https://wandb.me/developer-guide' target=\"_blank\">docs</a>)<br>Sweep page: <a href='https://wandb.ai/d-massa/jarvis-node-regression-ADV-GNN_SAGE/sweeps/iv8c2hia' target=\"_blank\">https://wandb.ai/d-massa/jarvis-node-regression-ADV-GNN_SAGE/sweeps/iv8c2hia</a>"
      ],
      "text/plain": [
       "<IPython.core.display.HTML object>"
      ]
     },
     "metadata": {},
     "output_type": "display_data"
    },
    {
     "data": {
      "text/html": [
       " View project at <a href='https://wandb.ai/d-massa/jarvis-node-regression-ADV-GNN_SAGE' target=\"_blank\">https://wandb.ai/d-massa/jarvis-node-regression-ADV-GNN_SAGE</a>"
      ],
      "text/plain": [
       "<IPython.core.display.HTML object>"
      ]
     },
     "metadata": {},
     "output_type": "display_data"
    },
    {
     "data": {
      "text/html": [
       " View sweep at <a href='https://wandb.ai/d-massa/jarvis-node-regression-ADV-GNN_SAGE/sweeps/iv8c2hia' target=\"_blank\">https://wandb.ai/d-massa/jarvis-node-regression-ADV-GNN_SAGE/sweeps/iv8c2hia</a>"
      ],
      "text/plain": [
       "<IPython.core.display.HTML object>"
      ]
     },
     "metadata": {},
     "output_type": "display_data"
    },
    {
     "data": {
      "text/html": [
       " View run at <a href='https://wandb.ai/d-massa/jarvis-node-regression-ADV-GNN_SAGE/runs/jin917jx' target=\"_blank\">https://wandb.ai/d-massa/jarvis-node-regression-ADV-GNN_SAGE/runs/jin917jx</a>"
      ],
      "text/plain": [
       "<IPython.core.display.HTML object>"
      ]
     },
     "metadata": {},
     "output_type": "display_data"
    },
    {
     "name": "stderr",
     "output_type": "stream",
     "text": [
      "/Users/dariomss/Documents/GitHub/Graph_Project/PyG/lib/python3.9/site-packages/torch_geometric/deprecation.py:26: UserWarning: 'data.DataLoader' is deprecated, use 'loader.DataLoader' instead\n",
      "  warnings.warn(out)\n",
      "100%|██████████| 60/60 [00:25<00:00,  2.39it/s]\n"
     ]
    },
    {
     "data": {
      "text/html": [],
      "text/plain": [
       "<IPython.core.display.HTML object>"
      ]
     },
     "metadata": {},
     "output_type": "display_data"
    },
    {
     "data": {
      "text/html": [
       "<br>    <style><br>        .wandb-row {<br>            display: flex;<br>            flex-direction: row;<br>            flex-wrap: wrap;<br>            justify-content: flex-start;<br>            width: 100%;<br>        }<br>        .wandb-col {<br>            display: flex;<br>            flex-direction: column;<br>            flex-basis: 100%;<br>            flex: 1;<br>            padding: 10px;<br>        }<br>    </style><br><div class=\"wandb-row\"><div class=\"wandb-col\"><h3>Run history:</h3><br/><table class=\"wandb\"><tr><td>gcn_jarvis-ADV-GNN_SAGE/test_RMSE</td><td>█▄▄▅▄▄▄▆▄▆▃▄▃▄▄▄▅▅▄▂▃▃▂▂▃▃▃▁▄▄▃▄▂▃▄▃▁▃▄▄</td></tr><tr><td>gcn_jarvis-ADV-GNN_SAGE/test_RMSE_orig</td><td>▇▆█▅▄▅▄▅▄▄▂▄▅▃▄▄▂▃▅▄▃▃▃▂▂▃▃▁▃▂▄▄▂▃▂▂▃▁▄▄</td></tr><tr><td>gcn_jarvis-ADV-GNN_SAGE/train_RMSE</td><td>█▅▅▇▃▃▄▅▄▃▄▅▃▄▄▃▂▃▂▂▃▄▃▄▃▂▃▂▃▂▃▂▂▂▁▃▂▁▃▂</td></tr><tr><td>gcn_jarvis-ADV-GNN_SAGE/train_RMSE_orig</td><td>█▅▅▃▄▄▄▃▃▄▂▄▃▃▂▂▁▂▃▂▄▂▃▂▂▃▂▂▂▁▂▂▃▂▁▃▂▁▃▂</td></tr></table><br/></div><div class=\"wandb-col\"><h3>Run summary:</h3><br/><table class=\"wandb\"><tr><td>gcn_jarvis-ADV-GNN_SAGE/test_RMSE</td><td>0.74539</td></tr><tr><td>gcn_jarvis-ADV-GNN_SAGE/test_RMSE_orig</td><td>1.65596</td></tr><tr><td>gcn_jarvis-ADV-GNN_SAGE/train_RMSE</td><td>0.59122</td></tr><tr><td>gcn_jarvis-ADV-GNN_SAGE/train_RMSE_orig</td><td>1.43015</td></tr></table><br/></div></div>"
      ],
      "text/plain": [
       "<IPython.core.display.HTML object>"
      ]
     },
     "metadata": {},
     "output_type": "display_data"
    },
    {
     "data": {
      "text/html": [
       " View run <strong style=\"color:#cdcd00\">desert-sweep-17</strong> at: <a href='https://wandb.ai/d-massa/jarvis-node-regression-ADV-GNN_SAGE/runs/jin917jx' target=\"_blank\">https://wandb.ai/d-massa/jarvis-node-regression-ADV-GNN_SAGE/runs/jin917jx</a><br> View project at: <a href='https://wandb.ai/d-massa/jarvis-node-regression-ADV-GNN_SAGE' target=\"_blank\">https://wandb.ai/d-massa/jarvis-node-regression-ADV-GNN_SAGE</a><br>Synced 5 W&B file(s), 0 media file(s), 0 artifact file(s) and 0 other file(s)"
      ],
      "text/plain": [
       "<IPython.core.display.HTML object>"
      ]
     },
     "metadata": {},
     "output_type": "display_data"
    },
    {
     "data": {
      "text/html": [
       "Find logs at: <code>./wandb/run-20250306_071521-jin917jx/logs</code>"
      ],
      "text/plain": [
       "<IPython.core.display.HTML object>"
      ]
     },
     "metadata": {},
     "output_type": "display_data"
    },
    {
     "name": "stderr",
     "output_type": "stream",
     "text": [
      "\u001b[34m\u001b[1mwandb\u001b[0m: Agent Starting Run: vv0v58yx with config:\n",
      "\u001b[34m\u001b[1mwandb\u001b[0m: \tBatchS: 128\n",
      "\u001b[34m\u001b[1mwandb\u001b[0m: \tTrainS: 0.85\n",
      "\u001b[34m\u001b[1mwandb\u001b[0m: \taggr: min\n",
      "\u001b[34m\u001b[1mwandb\u001b[0m: \thidden_channels: 32\n",
      "\u001b[34m\u001b[1mwandb\u001b[0m: \tlr: 0.003921817411367933\n",
      "\u001b[34m\u001b[1mwandb\u001b[0m: \tmodel: GNN_SAGE\n",
      "\u001b[34m\u001b[1mwandb\u001b[0m: \tnum_layers: 3\n",
      "\u001b[34m\u001b[1mwandb\u001b[0m: \tweight_decay: 0.0005450832567058906\n"
     ]
    },
    {
     "data": {
      "text/html": [
       "Tracking run with wandb version 0.19.7"
      ],
      "text/plain": [
       "<IPython.core.display.HTML object>"
      ]
     },
     "metadata": {},
     "output_type": "display_data"
    },
    {
     "data": {
      "text/html": [
       "Run data is saved locally in <code>/Users/dariomss/Documents/GitHub/Graph_Project/wandb/run-20250306_071552-vv0v58yx</code>"
      ],
      "text/plain": [
       "<IPython.core.display.HTML object>"
      ]
     },
     "metadata": {},
     "output_type": "display_data"
    },
    {
     "data": {
      "text/html": [
       "Syncing run <strong><a href='https://wandb.ai/d-massa/jarvis-node-regression-ADV-GNN_SAGE/runs/vv0v58yx' target=\"_blank\">amber-sweep-18</a></strong> to <a href='https://wandb.ai/d-massa/jarvis-node-regression-ADV-GNN_SAGE' target=\"_blank\">Weights & Biases</a> (<a href='https://wandb.me/developer-guide' target=\"_blank\">docs</a>)<br>Sweep page: <a href='https://wandb.ai/d-massa/jarvis-node-regression-ADV-GNN_SAGE/sweeps/iv8c2hia' target=\"_blank\">https://wandb.ai/d-massa/jarvis-node-regression-ADV-GNN_SAGE/sweeps/iv8c2hia</a>"
      ],
      "text/plain": [
       "<IPython.core.display.HTML object>"
      ]
     },
     "metadata": {},
     "output_type": "display_data"
    },
    {
     "data": {
      "text/html": [
       " View project at <a href='https://wandb.ai/d-massa/jarvis-node-regression-ADV-GNN_SAGE' target=\"_blank\">https://wandb.ai/d-massa/jarvis-node-regression-ADV-GNN_SAGE</a>"
      ],
      "text/plain": [
       "<IPython.core.display.HTML object>"
      ]
     },
     "metadata": {},
     "output_type": "display_data"
    },
    {
     "data": {
      "text/html": [
       " View sweep at <a href='https://wandb.ai/d-massa/jarvis-node-regression-ADV-GNN_SAGE/sweeps/iv8c2hia' target=\"_blank\">https://wandb.ai/d-massa/jarvis-node-regression-ADV-GNN_SAGE/sweeps/iv8c2hia</a>"
      ],
      "text/plain": [
       "<IPython.core.display.HTML object>"
      ]
     },
     "metadata": {},
     "output_type": "display_data"
    },
    {
     "data": {
      "text/html": [
       " View run at <a href='https://wandb.ai/d-massa/jarvis-node-regression-ADV-GNN_SAGE/runs/vv0v58yx' target=\"_blank\">https://wandb.ai/d-massa/jarvis-node-regression-ADV-GNN_SAGE/runs/vv0v58yx</a>"
      ],
      "text/plain": [
       "<IPython.core.display.HTML object>"
      ]
     },
     "metadata": {},
     "output_type": "display_data"
    },
    {
     "name": "stderr",
     "output_type": "stream",
     "text": [
      "/Users/dariomss/Documents/GitHub/Graph_Project/PyG/lib/python3.9/site-packages/torch_geometric/deprecation.py:26: UserWarning: 'data.DataLoader' is deprecated, use 'loader.DataLoader' instead\n",
      "  warnings.warn(out)\n",
      "100%|██████████| 60/60 [00:26<00:00,  2.22it/s]\n"
     ]
    },
    {
     "data": {
      "text/html": [],
      "text/plain": [
       "<IPython.core.display.HTML object>"
      ]
     },
     "metadata": {},
     "output_type": "display_data"
    },
    {
     "data": {
      "text/html": [
       "<br>    <style><br>        .wandb-row {<br>            display: flex;<br>            flex-direction: row;<br>            flex-wrap: wrap;<br>            justify-content: flex-start;<br>            width: 100%;<br>        }<br>        .wandb-col {<br>            display: flex;<br>            flex-direction: column;<br>            flex-basis: 100%;<br>            flex: 1;<br>            padding: 10px;<br>        }<br>    </style><br><div class=\"wandb-row\"><div class=\"wandb-col\"><h3>Run history:</h3><br/><table class=\"wandb\"><tr><td>gcn_jarvis-ADV-GNN_SAGE/test_RMSE</td><td>█▆▇▅▆▅▆▄▅▅▄▃▄▄▃▆▄▅▅▃▂▃▄▃▄▃▂▂▃▄▃▂▂▁▂▄▂▂▂▂</td></tr><tr><td>gcn_jarvis-ADV-GNN_SAGE/test_RMSE_orig</td><td>█▆▇▇▅▆▅▅▆▃▅▅▄▄▃▃▅▄▄▅▂▂▃▃▃▂▂▁▃▁▂▂▂▂▃▂▁▃▁▂</td></tr><tr><td>gcn_jarvis-ADV-GNN_SAGE/train_RMSE</td><td>█▄▄▄▃▅▄▄▂▃▃▄▃▂▃▃▃▃▂▄▄▂▄▅▄▃▂▂▃▃▂▁▂▁▂▃▂▁▂▂</td></tr><tr><td>gcn_jarvis-ADV-GNN_SAGE/train_RMSE_orig</td><td>█▅▃▃▄▃▃▃▃▂▂▃▂▃▁▂▃▃▂▂▃▃▃▂▂▃▃▂▂▃▂▂▁▂▄▂▂▁▂▂</td></tr></table><br/></div><div class=\"wandb-col\"><h3>Run summary:</h3><br/><table class=\"wandb\"><tr><td>gcn_jarvis-ADV-GNN_SAGE/test_RMSE</td><td>0.69403</td></tr><tr><td>gcn_jarvis-ADV-GNN_SAGE/test_RMSE_orig</td><td>1.57338</td></tr><tr><td>gcn_jarvis-ADV-GNN_SAGE/train_RMSE</td><td>0.57698</td></tr><tr><td>gcn_jarvis-ADV-GNN_SAGE/train_RMSE_orig</td><td>1.41248</td></tr></table><br/></div></div>"
      ],
      "text/plain": [
       "<IPython.core.display.HTML object>"
      ]
     },
     "metadata": {},
     "output_type": "display_data"
    },
    {
     "data": {
      "text/html": [
       " View run <strong style=\"color:#cdcd00\">amber-sweep-18</strong> at: <a href='https://wandb.ai/d-massa/jarvis-node-regression-ADV-GNN_SAGE/runs/vv0v58yx' target=\"_blank\">https://wandb.ai/d-massa/jarvis-node-regression-ADV-GNN_SAGE/runs/vv0v58yx</a><br> View project at: <a href='https://wandb.ai/d-massa/jarvis-node-regression-ADV-GNN_SAGE' target=\"_blank\">https://wandb.ai/d-massa/jarvis-node-regression-ADV-GNN_SAGE</a><br>Synced 5 W&B file(s), 0 media file(s), 0 artifact file(s) and 0 other file(s)"
      ],
      "text/plain": [
       "<IPython.core.display.HTML object>"
      ]
     },
     "metadata": {},
     "output_type": "display_data"
    },
    {
     "data": {
      "text/html": [
       "Find logs at: <code>./wandb/run-20250306_071552-vv0v58yx/logs</code>"
      ],
      "text/plain": [
       "<IPython.core.display.HTML object>"
      ]
     },
     "metadata": {},
     "output_type": "display_data"
    },
    {
     "name": "stderr",
     "output_type": "stream",
     "text": [
      "\u001b[34m\u001b[1mwandb\u001b[0m: Sweep Agent: Waiting for job.\n",
      "\u001b[34m\u001b[1mwandb\u001b[0m: Job received.\n",
      "\u001b[34m\u001b[1mwandb\u001b[0m: Agent Starting Run: 88zfc0gt with config:\n",
      "\u001b[34m\u001b[1mwandb\u001b[0m: \tBatchS: 32\n",
      "\u001b[34m\u001b[1mwandb\u001b[0m: \tTrainS: 0.75\n",
      "\u001b[34m\u001b[1mwandb\u001b[0m: \taggr: min\n",
      "\u001b[34m\u001b[1mwandb\u001b[0m: \thidden_channels: 8\n",
      "\u001b[34m\u001b[1mwandb\u001b[0m: \tlr: 0.007448067998718769\n",
      "\u001b[34m\u001b[1mwandb\u001b[0m: \tmodel: GNN_SAGE\n",
      "\u001b[34m\u001b[1mwandb\u001b[0m: \tnum_layers: 1\n",
      "\u001b[34m\u001b[1mwandb\u001b[0m: \tweight_decay: 0.0004366007070304247\n"
     ]
    },
    {
     "data": {
      "text/html": [
       "Tracking run with wandb version 0.19.7"
      ],
      "text/plain": [
       "<IPython.core.display.HTML object>"
      ]
     },
     "metadata": {},
     "output_type": "display_data"
    },
    {
     "data": {
      "text/html": [
       "Run data is saved locally in <code>/Users/dariomss/Documents/GitHub/Graph_Project/wandb/run-20250306_071634-88zfc0gt</code>"
      ],
      "text/plain": [
       "<IPython.core.display.HTML object>"
      ]
     },
     "metadata": {},
     "output_type": "display_data"
    },
    {
     "data": {
      "text/html": [
       "Syncing run <strong><a href='https://wandb.ai/d-massa/jarvis-node-regression-ADV-GNN_SAGE/runs/88zfc0gt' target=\"_blank\">stellar-sweep-19</a></strong> to <a href='https://wandb.ai/d-massa/jarvis-node-regression-ADV-GNN_SAGE' target=\"_blank\">Weights & Biases</a> (<a href='https://wandb.me/developer-guide' target=\"_blank\">docs</a>)<br>Sweep page: <a href='https://wandb.ai/d-massa/jarvis-node-regression-ADV-GNN_SAGE/sweeps/iv8c2hia' target=\"_blank\">https://wandb.ai/d-massa/jarvis-node-regression-ADV-GNN_SAGE/sweeps/iv8c2hia</a>"
      ],
      "text/plain": [
       "<IPython.core.display.HTML object>"
      ]
     },
     "metadata": {},
     "output_type": "display_data"
    },
    {
     "data": {
      "text/html": [
       " View project at <a href='https://wandb.ai/d-massa/jarvis-node-regression-ADV-GNN_SAGE' target=\"_blank\">https://wandb.ai/d-massa/jarvis-node-regression-ADV-GNN_SAGE</a>"
      ],
      "text/plain": [
       "<IPython.core.display.HTML object>"
      ]
     },
     "metadata": {},
     "output_type": "display_data"
    },
    {
     "data": {
      "text/html": [
       " View sweep at <a href='https://wandb.ai/d-massa/jarvis-node-regression-ADV-GNN_SAGE/sweeps/iv8c2hia' target=\"_blank\">https://wandb.ai/d-massa/jarvis-node-regression-ADV-GNN_SAGE/sweeps/iv8c2hia</a>"
      ],
      "text/plain": [
       "<IPython.core.display.HTML object>"
      ]
     },
     "metadata": {},
     "output_type": "display_data"
    },
    {
     "data": {
      "text/html": [
       " View run at <a href='https://wandb.ai/d-massa/jarvis-node-regression-ADV-GNN_SAGE/runs/88zfc0gt' target=\"_blank\">https://wandb.ai/d-massa/jarvis-node-regression-ADV-GNN_SAGE/runs/88zfc0gt</a>"
      ],
      "text/plain": [
       "<IPython.core.display.HTML object>"
      ]
     },
     "metadata": {},
     "output_type": "display_data"
    },
    {
     "name": "stderr",
     "output_type": "stream",
     "text": [
      "/Users/dariomss/Documents/GitHub/Graph_Project/PyG/lib/python3.9/site-packages/torch_geometric/deprecation.py:26: UserWarning: 'data.DataLoader' is deprecated, use 'loader.DataLoader' instead\n",
      "  warnings.warn(out)\n",
      "100%|██████████| 60/60 [00:17<00:00,  3.42it/s]\n"
     ]
    },
    {
     "data": {
      "text/html": [],
      "text/plain": [
       "<IPython.core.display.HTML object>"
      ]
     },
     "metadata": {},
     "output_type": "display_data"
    },
    {
     "data": {
      "text/html": [
       "<br>    <style><br>        .wandb-row {<br>            display: flex;<br>            flex-direction: row;<br>            flex-wrap: wrap;<br>            justify-content: flex-start;<br>            width: 100%;<br>        }<br>        .wandb-col {<br>            display: flex;<br>            flex-direction: column;<br>            flex-basis: 100%;<br>            flex: 1;<br>            padding: 10px;<br>        }<br>    </style><br><div class=\"wandb-row\"><div class=\"wandb-col\"><h3>Run history:</h3><br/><table class=\"wandb\"><tr><td>gcn_jarvis-ADV-GNN_SAGE/test_RMSE</td><td>▅▅▄▄▅▁▄▄▃▄█▆▃▅▇▁▅▆▅▆▄▄▃▄▅▄▄▄▅▃▅▃▂▃▄▂▃▂▃▂</td></tr><tr><td>gcn_jarvis-ADV-GNN_SAGE/test_RMSE_orig</td><td>▄▃▄▆▁▄▄▁█▃▂▇▅▃▄▄▁▄▆▄▄▄▃▂▃▄▃▄▃▃▃▂▂▄▄▂▃▂▃▂</td></tr><tr><td>gcn_jarvis-ADV-GNN_SAGE/train_RMSE</td><td>▇▃▄▅▆▇▃█▆▄▅▃▅▅▅▇▄▃▄▇▅▄▃▃▃▆▆▁▂▄▃▄▃▅▁▇█▅▃▇</td></tr><tr><td>gcn_jarvis-ADV-GNN_SAGE/train_RMSE_orig</td><td>▅▂▃▃▃▅▂█▃▅▂▃▃▃▆▂▅▂▅▁▂▃▄▄▂▂▂▂▂▂▂▃▁▄▄▅▃▃▁▄</td></tr></table><br/></div><div class=\"wandb-col\"><h3>Run summary:</h3><br/><table class=\"wandb\"><tr><td>gcn_jarvis-ADV-GNN_SAGE/test_RMSE</td><td>0.82397</td></tr><tr><td>gcn_jarvis-ADV-GNN_SAGE/test_RMSE_orig</td><td>1.79816</td></tr><tr><td>gcn_jarvis-ADV-GNN_SAGE/train_RMSE</td><td>0.8594</td></tr><tr><td>gcn_jarvis-ADV-GNN_SAGE/train_RMSE_orig</td><td>1.8691</td></tr></table><br/></div></div>"
      ],
      "text/plain": [
       "<IPython.core.display.HTML object>"
      ]
     },
     "metadata": {},
     "output_type": "display_data"
    },
    {
     "data": {
      "text/html": [
       " View run <strong style=\"color:#cdcd00\">stellar-sweep-19</strong> at: <a href='https://wandb.ai/d-massa/jarvis-node-regression-ADV-GNN_SAGE/runs/88zfc0gt' target=\"_blank\">https://wandb.ai/d-massa/jarvis-node-regression-ADV-GNN_SAGE/runs/88zfc0gt</a><br> View project at: <a href='https://wandb.ai/d-massa/jarvis-node-regression-ADV-GNN_SAGE' target=\"_blank\">https://wandb.ai/d-massa/jarvis-node-regression-ADV-GNN_SAGE</a><br>Synced 5 W&B file(s), 0 media file(s), 0 artifact file(s) and 0 other file(s)"
      ],
      "text/plain": [
       "<IPython.core.display.HTML object>"
      ]
     },
     "metadata": {},
     "output_type": "display_data"
    },
    {
     "data": {
      "text/html": [
       "Find logs at: <code>./wandb/run-20250306_071634-88zfc0gt/logs</code>"
      ],
      "text/plain": [
       "<IPython.core.display.HTML object>"
      ]
     },
     "metadata": {},
     "output_type": "display_data"
    },
    {
     "name": "stderr",
     "output_type": "stream",
     "text": [
      "\u001b[34m\u001b[1mwandb\u001b[0m: Agent Starting Run: 2xss55zj with config:\n",
      "\u001b[34m\u001b[1mwandb\u001b[0m: \tBatchS: 128\n",
      "\u001b[34m\u001b[1mwandb\u001b[0m: \tTrainS: 0.85\n",
      "\u001b[34m\u001b[1mwandb\u001b[0m: \taggr: min\n",
      "\u001b[34m\u001b[1mwandb\u001b[0m: \thidden_channels: 32\n",
      "\u001b[34m\u001b[1mwandb\u001b[0m: \tlr: 0.0030010068744699236\n",
      "\u001b[34m\u001b[1mwandb\u001b[0m: \tmodel: GNN_SAGE\n",
      "\u001b[34m\u001b[1mwandb\u001b[0m: \tnum_layers: 3\n",
      "\u001b[34m\u001b[1mwandb\u001b[0m: \tweight_decay: 0.0004980511933196617\n"
     ]
    },
    {
     "data": {
      "text/html": [
       "Tracking run with wandb version 0.19.7"
      ],
      "text/plain": [
       "<IPython.core.display.HTML object>"
      ]
     },
     "metadata": {},
     "output_type": "display_data"
    },
    {
     "data": {
      "text/html": [
       "Run data is saved locally in <code>/Users/dariomss/Documents/GitHub/Graph_Project/wandb/run-20250306_071656-2xss55zj</code>"
      ],
      "text/plain": [
       "<IPython.core.display.HTML object>"
      ]
     },
     "metadata": {},
     "output_type": "display_data"
    },
    {
     "data": {
      "text/html": [
       "Syncing run <strong><a href='https://wandb.ai/d-massa/jarvis-node-regression-ADV-GNN_SAGE/runs/2xss55zj' target=\"_blank\">generous-sweep-20</a></strong> to <a href='https://wandb.ai/d-massa/jarvis-node-regression-ADV-GNN_SAGE' target=\"_blank\">Weights & Biases</a> (<a href='https://wandb.me/developer-guide' target=\"_blank\">docs</a>)<br>Sweep page: <a href='https://wandb.ai/d-massa/jarvis-node-regression-ADV-GNN_SAGE/sweeps/iv8c2hia' target=\"_blank\">https://wandb.ai/d-massa/jarvis-node-regression-ADV-GNN_SAGE/sweeps/iv8c2hia</a>"
      ],
      "text/plain": [
       "<IPython.core.display.HTML object>"
      ]
     },
     "metadata": {},
     "output_type": "display_data"
    },
    {
     "data": {
      "text/html": [
       " View project at <a href='https://wandb.ai/d-massa/jarvis-node-regression-ADV-GNN_SAGE' target=\"_blank\">https://wandb.ai/d-massa/jarvis-node-regression-ADV-GNN_SAGE</a>"
      ],
      "text/plain": [
       "<IPython.core.display.HTML object>"
      ]
     },
     "metadata": {},
     "output_type": "display_data"
    },
    {
     "data": {
      "text/html": [
       " View sweep at <a href='https://wandb.ai/d-massa/jarvis-node-regression-ADV-GNN_SAGE/sweeps/iv8c2hia' target=\"_blank\">https://wandb.ai/d-massa/jarvis-node-regression-ADV-GNN_SAGE/sweeps/iv8c2hia</a>"
      ],
      "text/plain": [
       "<IPython.core.display.HTML object>"
      ]
     },
     "metadata": {},
     "output_type": "display_data"
    },
    {
     "data": {
      "text/html": [
       " View run at <a href='https://wandb.ai/d-massa/jarvis-node-regression-ADV-GNN_SAGE/runs/2xss55zj' target=\"_blank\">https://wandb.ai/d-massa/jarvis-node-regression-ADV-GNN_SAGE/runs/2xss55zj</a>"
      ],
      "text/plain": [
       "<IPython.core.display.HTML object>"
      ]
     },
     "metadata": {},
     "output_type": "display_data"
    },
    {
     "name": "stderr",
     "output_type": "stream",
     "text": [
      "/Users/dariomss/Documents/GitHub/Graph_Project/PyG/lib/python3.9/site-packages/torch_geometric/deprecation.py:26: UserWarning: 'data.DataLoader' is deprecated, use 'loader.DataLoader' instead\n",
      "  warnings.warn(out)\n",
      "100%|██████████| 60/60 [00:26<00:00,  2.28it/s]\n"
     ]
    },
    {
     "data": {
      "text/html": [],
      "text/plain": [
       "<IPython.core.display.HTML object>"
      ]
     },
     "metadata": {},
     "output_type": "display_data"
    },
    {
     "data": {
      "text/html": [
       "<br>    <style><br>        .wandb-row {<br>            display: flex;<br>            flex-direction: row;<br>            flex-wrap: wrap;<br>            justify-content: flex-start;<br>            width: 100%;<br>        }<br>        .wandb-col {<br>            display: flex;<br>            flex-direction: column;<br>            flex-basis: 100%;<br>            flex: 1;<br>            padding: 10px;<br>        }<br>    </style><br><div class=\"wandb-row\"><div class=\"wandb-col\"><h3>Run history:</h3><br/><table class=\"wandb\"><tr><td>gcn_jarvis-ADV-GNN_SAGE/test_RMSE</td><td>██▇▆▇▅▆▅▆▅▆▅▄▄▄▃▄▅▄▄▂▃▄▃▂▂▃▃▂▁▂▂▃▃▁▃▁▂▃▂</td></tr><tr><td>gcn_jarvis-ADV-GNN_SAGE/test_RMSE_orig</td><td>█▇▆▇▆▆▅▅▅▅▅▄▃▅▃▅▃▄▃▄▄▃▂▂▂▂▃▂▁▁▂▁▁▃▁▂▂▃▃▂</td></tr><tr><td>gcn_jarvis-ADV-GNN_SAGE/train_RMSE</td><td>█▆▄▄▄▄▄▃▄▄▃▃▅▃▄▃▁▄▃▂▄▂▂▄▁▃▄▄▃▃▂▂▃▂▂▁▁▂▂▁</td></tr><tr><td>gcn_jarvis-ADV-GNN_SAGE/train_RMSE_orig</td><td>█▅▃▄▃▄▃▃▄▃▃▃▃▄▅▃▂▂▃▂▂▂▄▃▃▄▄▂▃▁▂▂▂▂▂▂▂▂▁▁</td></tr></table><br/></div><div class=\"wandb-col\"><h3>Run summary:</h3><br/><table class=\"wandb\"><tr><td>gcn_jarvis-ADV-GNN_SAGE/test_RMSE</td><td>0.67956</td></tr><tr><td>gcn_jarvis-ADV-GNN_SAGE/test_RMSE_orig</td><td>1.5515</td></tr><tr><td>gcn_jarvis-ADV-GNN_SAGE/train_RMSE</td><td>0.55187</td></tr><tr><td>gcn_jarvis-ADV-GNN_SAGE/train_RMSE_orig</td><td>1.38253</td></tr></table><br/></div></div>"
      ],
      "text/plain": [
       "<IPython.core.display.HTML object>"
      ]
     },
     "metadata": {},
     "output_type": "display_data"
    },
    {
     "data": {
      "text/html": [
       " View run <strong style=\"color:#cdcd00\">generous-sweep-20</strong> at: <a href='https://wandb.ai/d-massa/jarvis-node-regression-ADV-GNN_SAGE/runs/2xss55zj' target=\"_blank\">https://wandb.ai/d-massa/jarvis-node-regression-ADV-GNN_SAGE/runs/2xss55zj</a><br> View project at: <a href='https://wandb.ai/d-massa/jarvis-node-regression-ADV-GNN_SAGE' target=\"_blank\">https://wandb.ai/d-massa/jarvis-node-regression-ADV-GNN_SAGE</a><br>Synced 5 W&B file(s), 0 media file(s), 0 artifact file(s) and 0 other file(s)"
      ],
      "text/plain": [
       "<IPython.core.display.HTML object>"
      ]
     },
     "metadata": {},
     "output_type": "display_data"
    },
    {
     "data": {
      "text/html": [
       "Find logs at: <code>./wandb/run-20250306_071656-2xss55zj/logs</code>"
      ],
      "text/plain": [
       "<IPython.core.display.HTML object>"
      ]
     },
     "metadata": {},
     "output_type": "display_data"
    },
    {
     "name": "stderr",
     "output_type": "stream",
     "text": [
      "\u001b[34m\u001b[1mwandb\u001b[0m: Agent Starting Run: n1kta0hg with config:\n",
      "\u001b[34m\u001b[1mwandb\u001b[0m: \tBatchS: 128\n",
      "\u001b[34m\u001b[1mwandb\u001b[0m: \tTrainS: 0.85\n",
      "\u001b[34m\u001b[1mwandb\u001b[0m: \taggr: max\n",
      "\u001b[34m\u001b[1mwandb\u001b[0m: \thidden_channels: 32\n",
      "\u001b[34m\u001b[1mwandb\u001b[0m: \tlr: 0.0017888085988414617\n",
      "\u001b[34m\u001b[1mwandb\u001b[0m: \tmodel: GNN_SAGE\n",
      "\u001b[34m\u001b[1mwandb\u001b[0m: \tnum_layers: 3\n",
      "\u001b[34m\u001b[1mwandb\u001b[0m: \tweight_decay: 0.0005702172475466367\n"
     ]
    },
    {
     "data": {
      "text/html": [
       "Tracking run with wandb version 0.19.7"
      ],
      "text/plain": [
       "<IPython.core.display.HTML object>"
      ]
     },
     "metadata": {},
     "output_type": "display_data"
    },
    {
     "data": {
      "text/html": [
       "Run data is saved locally in <code>/Users/dariomss/Documents/GitHub/Graph_Project/wandb/run-20250306_071728-n1kta0hg</code>"
      ],
      "text/plain": [
       "<IPython.core.display.HTML object>"
      ]
     },
     "metadata": {},
     "output_type": "display_data"
    },
    {
     "data": {
      "text/html": [
       "Syncing run <strong><a href='https://wandb.ai/d-massa/jarvis-node-regression-ADV-GNN_SAGE/runs/n1kta0hg' target=\"_blank\">young-sweep-21</a></strong> to <a href='https://wandb.ai/d-massa/jarvis-node-regression-ADV-GNN_SAGE' target=\"_blank\">Weights & Biases</a> (<a href='https://wandb.me/developer-guide' target=\"_blank\">docs</a>)<br>Sweep page: <a href='https://wandb.ai/d-massa/jarvis-node-regression-ADV-GNN_SAGE/sweeps/iv8c2hia' target=\"_blank\">https://wandb.ai/d-massa/jarvis-node-regression-ADV-GNN_SAGE/sweeps/iv8c2hia</a>"
      ],
      "text/plain": [
       "<IPython.core.display.HTML object>"
      ]
     },
     "metadata": {},
     "output_type": "display_data"
    },
    {
     "data": {
      "text/html": [
       " View project at <a href='https://wandb.ai/d-massa/jarvis-node-regression-ADV-GNN_SAGE' target=\"_blank\">https://wandb.ai/d-massa/jarvis-node-regression-ADV-GNN_SAGE</a>"
      ],
      "text/plain": [
       "<IPython.core.display.HTML object>"
      ]
     },
     "metadata": {},
     "output_type": "display_data"
    },
    {
     "data": {
      "text/html": [
       " View sweep at <a href='https://wandb.ai/d-massa/jarvis-node-regression-ADV-GNN_SAGE/sweeps/iv8c2hia' target=\"_blank\">https://wandb.ai/d-massa/jarvis-node-regression-ADV-GNN_SAGE/sweeps/iv8c2hia</a>"
      ],
      "text/plain": [
       "<IPython.core.display.HTML object>"
      ]
     },
     "metadata": {},
     "output_type": "display_data"
    },
    {
     "data": {
      "text/html": [
       " View run at <a href='https://wandb.ai/d-massa/jarvis-node-regression-ADV-GNN_SAGE/runs/n1kta0hg' target=\"_blank\">https://wandb.ai/d-massa/jarvis-node-regression-ADV-GNN_SAGE/runs/n1kta0hg</a>"
      ],
      "text/plain": [
       "<IPython.core.display.HTML object>"
      ]
     },
     "metadata": {},
     "output_type": "display_data"
    },
    {
     "name": "stderr",
     "output_type": "stream",
     "text": [
      "/Users/dariomss/Documents/GitHub/Graph_Project/PyG/lib/python3.9/site-packages/torch_geometric/deprecation.py:26: UserWarning: 'data.DataLoader' is deprecated, use 'loader.DataLoader' instead\n",
      "  warnings.warn(out)\n",
      "100%|██████████| 60/60 [00:27<00:00,  2.21it/s]\n"
     ]
    },
    {
     "data": {
      "text/html": [],
      "text/plain": [
       "<IPython.core.display.HTML object>"
      ]
     },
     "metadata": {},
     "output_type": "display_data"
    },
    {
     "data": {
      "text/html": [
       "<br>    <style><br>        .wandb-row {<br>            display: flex;<br>            flex-direction: row;<br>            flex-wrap: wrap;<br>            justify-content: flex-start;<br>            width: 100%;<br>        }<br>        .wandb-col {<br>            display: flex;<br>            flex-direction: column;<br>            flex-basis: 100%;<br>            flex: 1;<br>            padding: 10px;<br>        }<br>    </style><br><div class=\"wandb-row\"><div class=\"wandb-col\"><h3>Run history:</h3><br/><table class=\"wandb\"><tr><td>gcn_jarvis-ADV-GNN_SAGE/test_RMSE</td><td>█▄▄▄▄▄▄▃▃▂▃▃▂▃▃▂▂▃▂▂▂▂▂▂▁▂▃▂▂▄▁▁▂▂▂▁▂▂▁▁</td></tr><tr><td>gcn_jarvis-ADV-GNN_SAGE/test_RMSE_orig</td><td>██▄▄▃▄▃▃▃▂▃▃▂▃▃▂▃▂▂▂▂▂▂▃▂▃▂▂▂▂▁▂▂▁▁▂▂▁▂▁</td></tr><tr><td>gcn_jarvis-ADV-GNN_SAGE/train_RMSE</td><td>█▅▅▄▅▅▂▄▄▄▄▃▄▁▄▃▄▄▄▂▅▄▅▂▄▄▄▂▁▃▂▃▂▁▂▃▂▂▂▁</td></tr><tr><td>gcn_jarvis-ADV-GNN_SAGE/train_RMSE_orig</td><td>█▄▄▃▃▃▃▁▃▂▃▃▃▃▂▃▃▂▂▃▂▂▃▂▃▄▂▂▁▂▁▁▁▁▂▂▂▂▂▁</td></tr></table><br/></div><div class=\"wandb-col\"><h3>Run summary:</h3><br/><table class=\"wandb\"><tr><td>gcn_jarvis-ADV-GNN_SAGE/test_RMSE</td><td>0.6907</td></tr><tr><td>gcn_jarvis-ADV-GNN_SAGE/test_RMSE_orig</td><td>1.5683</td></tr><tr><td>gcn_jarvis-ADV-GNN_SAGE/train_RMSE</td><td>0.56344</td></tr><tr><td>gcn_jarvis-ADV-GNN_SAGE/train_RMSE_orig</td><td>1.39613</td></tr></table><br/></div></div>"
      ],
      "text/plain": [
       "<IPython.core.display.HTML object>"
      ]
     },
     "metadata": {},
     "output_type": "display_data"
    },
    {
     "data": {
      "text/html": [
       " View run <strong style=\"color:#cdcd00\">young-sweep-21</strong> at: <a href='https://wandb.ai/d-massa/jarvis-node-regression-ADV-GNN_SAGE/runs/n1kta0hg' target=\"_blank\">https://wandb.ai/d-massa/jarvis-node-regression-ADV-GNN_SAGE/runs/n1kta0hg</a><br> View project at: <a href='https://wandb.ai/d-massa/jarvis-node-regression-ADV-GNN_SAGE' target=\"_blank\">https://wandb.ai/d-massa/jarvis-node-regression-ADV-GNN_SAGE</a><br>Synced 5 W&B file(s), 0 media file(s), 0 artifact file(s) and 0 other file(s)"
      ],
      "text/plain": [
       "<IPython.core.display.HTML object>"
      ]
     },
     "metadata": {},
     "output_type": "display_data"
    },
    {
     "data": {
      "text/html": [
       "Find logs at: <code>./wandb/run-20250306_071728-n1kta0hg/logs</code>"
      ],
      "text/plain": [
       "<IPython.core.display.HTML object>"
      ]
     },
     "metadata": {},
     "output_type": "display_data"
    },
    {
     "name": "stderr",
     "output_type": "stream",
     "text": [
      "\u001b[34m\u001b[1mwandb\u001b[0m: Sweep Agent: Waiting for job.\n",
      "\u001b[34m\u001b[1mwandb\u001b[0m: Job received.\n",
      "\u001b[34m\u001b[1mwandb\u001b[0m: Agent Starting Run: psd0o8io with config:\n",
      "\u001b[34m\u001b[1mwandb\u001b[0m: \tBatchS: 128\n",
      "\u001b[34m\u001b[1mwandb\u001b[0m: \tTrainS: 0.85\n",
      "\u001b[34m\u001b[1mwandb\u001b[0m: \taggr: min\n",
      "\u001b[34m\u001b[1mwandb\u001b[0m: \thidden_channels: 32\n",
      "\u001b[34m\u001b[1mwandb\u001b[0m: \tlr: 0.001082495133447034\n",
      "\u001b[34m\u001b[1mwandb\u001b[0m: \tmodel: GNN_SAGE\n",
      "\u001b[34m\u001b[1mwandb\u001b[0m: \tnum_layers: 3\n",
      "\u001b[34m\u001b[1mwandb\u001b[0m: \tweight_decay: 0.0004403563835749823\n"
     ]
    },
    {
     "data": {
      "text/html": [
       "Tracking run with wandb version 0.19.7"
      ],
      "text/plain": [
       "<IPython.core.display.HTML object>"
      ]
     },
     "metadata": {},
     "output_type": "display_data"
    },
    {
     "data": {
      "text/html": [
       "Run data is saved locally in <code>/Users/dariomss/Documents/GitHub/Graph_Project/wandb/run-20250306_071810-psd0o8io</code>"
      ],
      "text/plain": [
       "<IPython.core.display.HTML object>"
      ]
     },
     "metadata": {},
     "output_type": "display_data"
    },
    {
     "data": {
      "text/html": [
       "Syncing run <strong><a href='https://wandb.ai/d-massa/jarvis-node-regression-ADV-GNN_SAGE/runs/psd0o8io' target=\"_blank\">dulcet-sweep-22</a></strong> to <a href='https://wandb.ai/d-massa/jarvis-node-regression-ADV-GNN_SAGE' target=\"_blank\">Weights & Biases</a> (<a href='https://wandb.me/developer-guide' target=\"_blank\">docs</a>)<br>Sweep page: <a href='https://wandb.ai/d-massa/jarvis-node-regression-ADV-GNN_SAGE/sweeps/iv8c2hia' target=\"_blank\">https://wandb.ai/d-massa/jarvis-node-regression-ADV-GNN_SAGE/sweeps/iv8c2hia</a>"
      ],
      "text/plain": [
       "<IPython.core.display.HTML object>"
      ]
     },
     "metadata": {},
     "output_type": "display_data"
    },
    {
     "data": {
      "text/html": [
       " View project at <a href='https://wandb.ai/d-massa/jarvis-node-regression-ADV-GNN_SAGE' target=\"_blank\">https://wandb.ai/d-massa/jarvis-node-regression-ADV-GNN_SAGE</a>"
      ],
      "text/plain": [
       "<IPython.core.display.HTML object>"
      ]
     },
     "metadata": {},
     "output_type": "display_data"
    },
    {
     "data": {
      "text/html": [
       " View sweep at <a href='https://wandb.ai/d-massa/jarvis-node-regression-ADV-GNN_SAGE/sweeps/iv8c2hia' target=\"_blank\">https://wandb.ai/d-massa/jarvis-node-regression-ADV-GNN_SAGE/sweeps/iv8c2hia</a>"
      ],
      "text/plain": [
       "<IPython.core.display.HTML object>"
      ]
     },
     "metadata": {},
     "output_type": "display_data"
    },
    {
     "data": {
      "text/html": [
       " View run at <a href='https://wandb.ai/d-massa/jarvis-node-regression-ADV-GNN_SAGE/runs/psd0o8io' target=\"_blank\">https://wandb.ai/d-massa/jarvis-node-regression-ADV-GNN_SAGE/runs/psd0o8io</a>"
      ],
      "text/plain": [
       "<IPython.core.display.HTML object>"
      ]
     },
     "metadata": {},
     "output_type": "display_data"
    },
    {
     "name": "stderr",
     "output_type": "stream",
     "text": [
      "/Users/dariomss/Documents/GitHub/Graph_Project/PyG/lib/python3.9/site-packages/torch_geometric/deprecation.py:26: UserWarning: 'data.DataLoader' is deprecated, use 'loader.DataLoader' instead\n",
      "  warnings.warn(out)\n",
      "100%|██████████| 60/60 [00:25<00:00,  2.31it/s]\n"
     ]
    },
    {
     "data": {
      "text/html": [],
      "text/plain": [
       "<IPython.core.display.HTML object>"
      ]
     },
     "metadata": {},
     "output_type": "display_data"
    },
    {
     "data": {
      "text/html": [
       "<br>    <style><br>        .wandb-row {<br>            display: flex;<br>            flex-direction: row;<br>            flex-wrap: wrap;<br>            justify-content: flex-start;<br>            width: 100%;<br>        }<br>        .wandb-col {<br>            display: flex;<br>            flex-direction: column;<br>            flex-basis: 100%;<br>            flex: 1;<br>            padding: 10px;<br>        }<br>    </style><br><div class=\"wandb-row\"><div class=\"wandb-col\"><h3>Run history:</h3><br/><table class=\"wandb\"><tr><td>gcn_jarvis-ADV-GNN_SAGE/test_RMSE</td><td>█▅▅▅▅▅▄▄▅▄▄▄▄▅▃▃▃▄▃▃▃▃▂▂▂▂▂▃▃▃▁▂▂▂▁▁▃▁▃▂</td></tr><tr><td>gcn_jarvis-ADV-GNN_SAGE/test_RMSE_orig</td><td>█▅▅▅▅▅▅▄▄▄▄▄▄▄▄▄▃▃▃▃▃▃▃▂▂▂▃▂▃▂▂▂▂▁▂▃▁▃▂▂</td></tr><tr><td>gcn_jarvis-ADV-GNN_SAGE/train_RMSE</td><td>█▆▄▅▄▄▄▃▃▃▃▃▃▂▃▃▃▃▂▁▃▁▃▂▄▃▃▁▂▃▂▁▂▁▂▂▂▂▂▁</td></tr><tr><td>gcn_jarvis-ADV-GNN_SAGE/train_RMSE_orig</td><td>█▆▆▅▄▅▄▄▃▄▄▆▄▄▃▃▄▁▂▄▄▃▆▅▃▁▂▂▃▂▁▂▂▂▅▂▂▁▂▁</td></tr></table><br/></div><div class=\"wandb-col\"><h3>Run summary:</h3><br/><table class=\"wandb\"><tr><td>gcn_jarvis-ADV-GNN_SAGE/test_RMSE</td><td>0.6878</td></tr><tr><td>gcn_jarvis-ADV-GNN_SAGE/test_RMSE_orig</td><td>1.56389</td></tr><tr><td>gcn_jarvis-ADV-GNN_SAGE/train_RMSE</td><td>0.56101</td></tr><tr><td>gcn_jarvis-ADV-GNN_SAGE/train_RMSE_orig</td><td>1.39326</td></tr></table><br/></div></div>"
      ],
      "text/plain": [
       "<IPython.core.display.HTML object>"
      ]
     },
     "metadata": {},
     "output_type": "display_data"
    },
    {
     "data": {
      "text/html": [
       " View run <strong style=\"color:#cdcd00\">dulcet-sweep-22</strong> at: <a href='https://wandb.ai/d-massa/jarvis-node-regression-ADV-GNN_SAGE/runs/psd0o8io' target=\"_blank\">https://wandb.ai/d-massa/jarvis-node-regression-ADV-GNN_SAGE/runs/psd0o8io</a><br> View project at: <a href='https://wandb.ai/d-massa/jarvis-node-regression-ADV-GNN_SAGE' target=\"_blank\">https://wandb.ai/d-massa/jarvis-node-regression-ADV-GNN_SAGE</a><br>Synced 5 W&B file(s), 0 media file(s), 0 artifact file(s) and 0 other file(s)"
      ],
      "text/plain": [
       "<IPython.core.display.HTML object>"
      ]
     },
     "metadata": {},
     "output_type": "display_data"
    },
    {
     "data": {
      "text/html": [
       "Find logs at: <code>./wandb/run-20250306_071810-psd0o8io/logs</code>"
      ],
      "text/plain": [
       "<IPython.core.display.HTML object>"
      ]
     },
     "metadata": {},
     "output_type": "display_data"
    },
    {
     "name": "stderr",
     "output_type": "stream",
     "text": [
      "\u001b[34m\u001b[1mwandb\u001b[0m: Agent Starting Run: tn44a4zl with config:\n",
      "\u001b[34m\u001b[1mwandb\u001b[0m: \tBatchS: 128\n",
      "\u001b[34m\u001b[1mwandb\u001b[0m: \tTrainS: 0.85\n",
      "\u001b[34m\u001b[1mwandb\u001b[0m: \taggr: max\n",
      "\u001b[34m\u001b[1mwandb\u001b[0m: \thidden_channels: 32\n",
      "\u001b[34m\u001b[1mwandb\u001b[0m: \tlr: 0.001076818934012386\n",
      "\u001b[34m\u001b[1mwandb\u001b[0m: \tmodel: GNN_SAGE\n",
      "\u001b[34m\u001b[1mwandb\u001b[0m: \tnum_layers: 3\n",
      "\u001b[34m\u001b[1mwandb\u001b[0m: \tweight_decay: 0.0006385213242161177\n"
     ]
    },
    {
     "data": {
      "text/html": [
       "Tracking run with wandb version 0.19.7"
      ],
      "text/plain": [
       "<IPython.core.display.HTML object>"
      ]
     },
     "metadata": {},
     "output_type": "display_data"
    },
    {
     "data": {
      "text/html": [
       "Run data is saved locally in <code>/Users/dariomss/Documents/GitHub/Graph_Project/wandb/run-20250306_071842-tn44a4zl</code>"
      ],
      "text/plain": [
       "<IPython.core.display.HTML object>"
      ]
     },
     "metadata": {},
     "output_type": "display_data"
    },
    {
     "data": {
      "text/html": [
       "Syncing run <strong><a href='https://wandb.ai/d-massa/jarvis-node-regression-ADV-GNN_SAGE/runs/tn44a4zl' target=\"_blank\">fresh-sweep-23</a></strong> to <a href='https://wandb.ai/d-massa/jarvis-node-regression-ADV-GNN_SAGE' target=\"_blank\">Weights & Biases</a> (<a href='https://wandb.me/developer-guide' target=\"_blank\">docs</a>)<br>Sweep page: <a href='https://wandb.ai/d-massa/jarvis-node-regression-ADV-GNN_SAGE/sweeps/iv8c2hia' target=\"_blank\">https://wandb.ai/d-massa/jarvis-node-regression-ADV-GNN_SAGE/sweeps/iv8c2hia</a>"
      ],
      "text/plain": [
       "<IPython.core.display.HTML object>"
      ]
     },
     "metadata": {},
     "output_type": "display_data"
    },
    {
     "data": {
      "text/html": [
       " View project at <a href='https://wandb.ai/d-massa/jarvis-node-regression-ADV-GNN_SAGE' target=\"_blank\">https://wandb.ai/d-massa/jarvis-node-regression-ADV-GNN_SAGE</a>"
      ],
      "text/plain": [
       "<IPython.core.display.HTML object>"
      ]
     },
     "metadata": {},
     "output_type": "display_data"
    },
    {
     "data": {
      "text/html": [
       " View sweep at <a href='https://wandb.ai/d-massa/jarvis-node-regression-ADV-GNN_SAGE/sweeps/iv8c2hia' target=\"_blank\">https://wandb.ai/d-massa/jarvis-node-regression-ADV-GNN_SAGE/sweeps/iv8c2hia</a>"
      ],
      "text/plain": [
       "<IPython.core.display.HTML object>"
      ]
     },
     "metadata": {},
     "output_type": "display_data"
    },
    {
     "data": {
      "text/html": [
       " View run at <a href='https://wandb.ai/d-massa/jarvis-node-regression-ADV-GNN_SAGE/runs/tn44a4zl' target=\"_blank\">https://wandb.ai/d-massa/jarvis-node-regression-ADV-GNN_SAGE/runs/tn44a4zl</a>"
      ],
      "text/plain": [
       "<IPython.core.display.HTML object>"
      ]
     },
     "metadata": {},
     "output_type": "display_data"
    },
    {
     "name": "stderr",
     "output_type": "stream",
     "text": [
      "/Users/dariomss/Documents/GitHub/Graph_Project/PyG/lib/python3.9/site-packages/torch_geometric/deprecation.py:26: UserWarning: 'data.DataLoader' is deprecated, use 'loader.DataLoader' instead\n",
      "  warnings.warn(out)\n",
      "100%|██████████| 60/60 [00:27<00:00,  2.20it/s]\n"
     ]
    },
    {
     "data": {
      "text/html": [],
      "text/plain": [
       "<IPython.core.display.HTML object>"
      ]
     },
     "metadata": {},
     "output_type": "display_data"
    },
    {
     "data": {
      "text/html": [
       "<br>    <style><br>        .wandb-row {<br>            display: flex;<br>            flex-direction: row;<br>            flex-wrap: wrap;<br>            justify-content: flex-start;<br>            width: 100%;<br>        }<br>        .wandb-col {<br>            display: flex;<br>            flex-direction: column;<br>            flex-basis: 100%;<br>            flex: 1;<br>            padding: 10px;<br>        }<br>    </style><br><div class=\"wandb-row\"><div class=\"wandb-col\"><h3>Run history:</h3><br/><table class=\"wandb\"><tr><td>gcn_jarvis-ADV-GNN_SAGE/test_RMSE</td><td>▆▆▆█▅▃▂▃▂▂▃▂▂▂▂▂▁▂▂▂▁▂▁▂▂▁▂▁▂▂▁▁▁▁▁▂▁▁▁▁</td></tr><tr><td>gcn_jarvis-ADV-GNN_SAGE/test_RMSE_orig</td><td>▆▆▆█▅▂▃▂▂▃▂▁▂▂▂▂▁▂▃▂▁▂▁▁▂▁▁▂▂▂▁▁▁▂▁▁▂▁▁▁</td></tr><tr><td>gcn_jarvis-ADV-GNN_SAGE/train_RMSE</td><td>█▆▄▄▄▂▃▃▄▄▂▃▂▃▃▃▃▃▂▂▄▃▂▃▃▄▃▃▂▄▂▁▂▁▂▂▂▁▂▁</td></tr><tr><td>gcn_jarvis-ADV-GNN_SAGE/train_RMSE_orig</td><td>█▆▄▃▃▃▃▃▄▁▂▃▃▃▃▃▃▂▃▃▂▃▃▂▃▄▂▂▁▂▂▂▂▁▁▃▂▁▂▁</td></tr></table><br/></div><div class=\"wandb-col\"><h3>Run summary:</h3><br/><table class=\"wandb\"><tr><td>gcn_jarvis-ADV-GNN_SAGE/test_RMSE</td><td>0.69705</td></tr><tr><td>gcn_jarvis-ADV-GNN_SAGE/test_RMSE_orig</td><td>1.57803</td></tr><tr><td>gcn_jarvis-ADV-GNN_SAGE/train_RMSE</td><td>0.56625</td></tr><tr><td>gcn_jarvis-ADV-GNN_SAGE/train_RMSE_orig</td><td>1.39949</td></tr></table><br/></div></div>"
      ],
      "text/plain": [
       "<IPython.core.display.HTML object>"
      ]
     },
     "metadata": {},
     "output_type": "display_data"
    },
    {
     "data": {
      "text/html": [
       " View run <strong style=\"color:#cdcd00\">fresh-sweep-23</strong> at: <a href='https://wandb.ai/d-massa/jarvis-node-regression-ADV-GNN_SAGE/runs/tn44a4zl' target=\"_blank\">https://wandb.ai/d-massa/jarvis-node-regression-ADV-GNN_SAGE/runs/tn44a4zl</a><br> View project at: <a href='https://wandb.ai/d-massa/jarvis-node-regression-ADV-GNN_SAGE' target=\"_blank\">https://wandb.ai/d-massa/jarvis-node-regression-ADV-GNN_SAGE</a><br>Synced 5 W&B file(s), 0 media file(s), 0 artifact file(s) and 0 other file(s)"
      ],
      "text/plain": [
       "<IPython.core.display.HTML object>"
      ]
     },
     "metadata": {},
     "output_type": "display_data"
    },
    {
     "data": {
      "text/html": [
       "Find logs at: <code>./wandb/run-20250306_071842-tn44a4zl/logs</code>"
      ],
      "text/plain": [
       "<IPython.core.display.HTML object>"
      ]
     },
     "metadata": {},
     "output_type": "display_data"
    },
    {
     "name": "stderr",
     "output_type": "stream",
     "text": [
      "\u001b[34m\u001b[1mwandb\u001b[0m: Sweep Agent: Waiting for job.\n",
      "\u001b[34m\u001b[1mwandb\u001b[0m: Job received.\n",
      "\u001b[34m\u001b[1mwandb\u001b[0m: Agent Starting Run: 0y3yjhqj with config:\n",
      "\u001b[34m\u001b[1mwandb\u001b[0m: \tBatchS: 128\n",
      "\u001b[34m\u001b[1mwandb\u001b[0m: \tTrainS: 0.85\n",
      "\u001b[34m\u001b[1mwandb\u001b[0m: \taggr: max\n",
      "\u001b[34m\u001b[1mwandb\u001b[0m: \thidden_channels: 32\n",
      "\u001b[34m\u001b[1mwandb\u001b[0m: \tlr: 0.003302398281808918\n",
      "\u001b[34m\u001b[1mwandb\u001b[0m: \tmodel: GNN_SAGE\n",
      "\u001b[34m\u001b[1mwandb\u001b[0m: \tnum_layers: 3\n",
      "\u001b[34m\u001b[1mwandb\u001b[0m: \tweight_decay: 0.0006832160667068871\n"
     ]
    },
    {
     "data": {
      "text/html": [
       "Tracking run with wandb version 0.19.7"
      ],
      "text/plain": [
       "<IPython.core.display.HTML object>"
      ]
     },
     "metadata": {},
     "output_type": "display_data"
    },
    {
     "data": {
      "text/html": [
       "Run data is saved locally in <code>/Users/dariomss/Documents/GitHub/Graph_Project/wandb/run-20250306_071924-0y3yjhqj</code>"
      ],
      "text/plain": [
       "<IPython.core.display.HTML object>"
      ]
     },
     "metadata": {},
     "output_type": "display_data"
    },
    {
     "data": {
      "text/html": [
       "Syncing run <strong><a href='https://wandb.ai/d-massa/jarvis-node-regression-ADV-GNN_SAGE/runs/0y3yjhqj' target=\"_blank\">elated-sweep-24</a></strong> to <a href='https://wandb.ai/d-massa/jarvis-node-regression-ADV-GNN_SAGE' target=\"_blank\">Weights & Biases</a> (<a href='https://wandb.me/developer-guide' target=\"_blank\">docs</a>)<br>Sweep page: <a href='https://wandb.ai/d-massa/jarvis-node-regression-ADV-GNN_SAGE/sweeps/iv8c2hia' target=\"_blank\">https://wandb.ai/d-massa/jarvis-node-regression-ADV-GNN_SAGE/sweeps/iv8c2hia</a>"
      ],
      "text/plain": [
       "<IPython.core.display.HTML object>"
      ]
     },
     "metadata": {},
     "output_type": "display_data"
    },
    {
     "data": {
      "text/html": [
       " View project at <a href='https://wandb.ai/d-massa/jarvis-node-regression-ADV-GNN_SAGE' target=\"_blank\">https://wandb.ai/d-massa/jarvis-node-regression-ADV-GNN_SAGE</a>"
      ],
      "text/plain": [
       "<IPython.core.display.HTML object>"
      ]
     },
     "metadata": {},
     "output_type": "display_data"
    },
    {
     "data": {
      "text/html": [
       " View sweep at <a href='https://wandb.ai/d-massa/jarvis-node-regression-ADV-GNN_SAGE/sweeps/iv8c2hia' target=\"_blank\">https://wandb.ai/d-massa/jarvis-node-regression-ADV-GNN_SAGE/sweeps/iv8c2hia</a>"
      ],
      "text/plain": [
       "<IPython.core.display.HTML object>"
      ]
     },
     "metadata": {},
     "output_type": "display_data"
    },
    {
     "data": {
      "text/html": [
       " View run at <a href='https://wandb.ai/d-massa/jarvis-node-regression-ADV-GNN_SAGE/runs/0y3yjhqj' target=\"_blank\">https://wandb.ai/d-massa/jarvis-node-regression-ADV-GNN_SAGE/runs/0y3yjhqj</a>"
      ],
      "text/plain": [
       "<IPython.core.display.HTML object>"
      ]
     },
     "metadata": {},
     "output_type": "display_data"
    },
    {
     "name": "stderr",
     "output_type": "stream",
     "text": [
      "/Users/dariomss/Documents/GitHub/Graph_Project/PyG/lib/python3.9/site-packages/torch_geometric/deprecation.py:26: UserWarning: 'data.DataLoader' is deprecated, use 'loader.DataLoader' instead\n",
      "  warnings.warn(out)\n",
      "100%|██████████| 60/60 [00:27<00:00,  2.14it/s]\n"
     ]
    },
    {
     "data": {
      "text/html": [],
      "text/plain": [
       "<IPython.core.display.HTML object>"
      ]
     },
     "metadata": {},
     "output_type": "display_data"
    },
    {
     "data": {
      "text/html": [
       "<br>    <style><br>        .wandb-row {<br>            display: flex;<br>            flex-direction: row;<br>            flex-wrap: wrap;<br>            justify-content: flex-start;<br>            width: 100%;<br>        }<br>        .wandb-col {<br>            display: flex;<br>            flex-direction: column;<br>            flex-basis: 100%;<br>            flex: 1;<br>            padding: 10px;<br>        }<br>    </style><br><div class=\"wandb-row\"><div class=\"wandb-col\"><h3>Run history:</h3><br/><table class=\"wandb\"><tr><td>gcn_jarvis-ADV-GNN_SAGE/test_RMSE</td><td>█▇▅▃▃▃▃▄▃▄▃▂▃▄▂▂▂▂▄▂▂▂▂▂▂▂▂▃▁▄▂▂▂▂▁▂▂▃▁▂</td></tr><tr><td>gcn_jarvis-ADV-GNN_SAGE/test_RMSE_orig</td><td>█▅▄▃▄▃▅▄▂▂▂▃▄▃▃▃▂▂▂▂▂▂▂▂▂▃▁▄▂▂▂▂▂▃▁▂▂▂▁▂</td></tr><tr><td>gcn_jarvis-ADV-GNN_SAGE/train_RMSE</td><td>█▆▅▄▄▃▄▄▂▃▃▄▃▃▂▁▄▃▂▃▃▄▃▂▂▃▃▁▁▁▂▂▁▁▁▄▂▂▂▁</td></tr><tr><td>gcn_jarvis-ADV-GNN_SAGE/train_RMSE_orig</td><td>█▅▄▄▃▃▄▃▄▂▃▂▃▃▂▃▃▂▂▃▃▂▂▄▄▂▁▁▁▃▂▁▁▁▁▂▁▁▂▁</td></tr></table><br/></div><div class=\"wandb-col\"><h3>Run summary:</h3><br/><table class=\"wandb\"><tr><td>gcn_jarvis-ADV-GNN_SAGE/test_RMSE</td><td>0.70918</td></tr><tr><td>gcn_jarvis-ADV-GNN_SAGE/test_RMSE_orig</td><td>1.59693</td></tr><tr><td>gcn_jarvis-ADV-GNN_SAGE/train_RMSE</td><td>0.55818</td></tr><tr><td>gcn_jarvis-ADV-GNN_SAGE/train_RMSE_orig</td><td>1.38991</td></tr></table><br/></div></div>"
      ],
      "text/plain": [
       "<IPython.core.display.HTML object>"
      ]
     },
     "metadata": {},
     "output_type": "display_data"
    },
    {
     "data": {
      "text/html": [
       " View run <strong style=\"color:#cdcd00\">elated-sweep-24</strong> at: <a href='https://wandb.ai/d-massa/jarvis-node-regression-ADV-GNN_SAGE/runs/0y3yjhqj' target=\"_blank\">https://wandb.ai/d-massa/jarvis-node-regression-ADV-GNN_SAGE/runs/0y3yjhqj</a><br> View project at: <a href='https://wandb.ai/d-massa/jarvis-node-regression-ADV-GNN_SAGE' target=\"_blank\">https://wandb.ai/d-massa/jarvis-node-regression-ADV-GNN_SAGE</a><br>Synced 5 W&B file(s), 0 media file(s), 0 artifact file(s) and 0 other file(s)"
      ],
      "text/plain": [
       "<IPython.core.display.HTML object>"
      ]
     },
     "metadata": {},
     "output_type": "display_data"
    },
    {
     "data": {
      "text/html": [
       "Find logs at: <code>./wandb/run-20250306_071924-0y3yjhqj/logs</code>"
      ],
      "text/plain": [
       "<IPython.core.display.HTML object>"
      ]
     },
     "metadata": {},
     "output_type": "display_data"
    },
    {
     "name": "stderr",
     "output_type": "stream",
     "text": [
      "\u001b[34m\u001b[1mwandb\u001b[0m: Agent Starting Run: zfnihgfo with config:\n",
      "\u001b[34m\u001b[1mwandb\u001b[0m: \tBatchS: 128\n",
      "\u001b[34m\u001b[1mwandb\u001b[0m: \tTrainS: 0.85\n",
      "\u001b[34m\u001b[1mwandb\u001b[0m: \taggr: max\n",
      "\u001b[34m\u001b[1mwandb\u001b[0m: \thidden_channels: 32\n",
      "\u001b[34m\u001b[1mwandb\u001b[0m: \tlr: 0.001404044838888614\n",
      "\u001b[34m\u001b[1mwandb\u001b[0m: \tmodel: GNN_SAGE\n",
      "\u001b[34m\u001b[1mwandb\u001b[0m: \tnum_layers: 3\n",
      "\u001b[34m\u001b[1mwandb\u001b[0m: \tweight_decay: 0.0005510967826487598\n"
     ]
    },
    {
     "data": {
      "text/html": [
       "Tracking run with wandb version 0.19.7"
      ],
      "text/plain": [
       "<IPython.core.display.HTML object>"
      ]
     },
     "metadata": {},
     "output_type": "display_data"
    },
    {
     "data": {
      "text/html": [
       "Run data is saved locally in <code>/Users/dariomss/Documents/GitHub/Graph_Project/wandb/run-20250306_071958-zfnihgfo</code>"
      ],
      "text/plain": [
       "<IPython.core.display.HTML object>"
      ]
     },
     "metadata": {},
     "output_type": "display_data"
    },
    {
     "data": {
      "text/html": [
       "Syncing run <strong><a href='https://wandb.ai/d-massa/jarvis-node-regression-ADV-GNN_SAGE/runs/zfnihgfo' target=\"_blank\">azure-sweep-25</a></strong> to <a href='https://wandb.ai/d-massa/jarvis-node-regression-ADV-GNN_SAGE' target=\"_blank\">Weights & Biases</a> (<a href='https://wandb.me/developer-guide' target=\"_blank\">docs</a>)<br>Sweep page: <a href='https://wandb.ai/d-massa/jarvis-node-regression-ADV-GNN_SAGE/sweeps/iv8c2hia' target=\"_blank\">https://wandb.ai/d-massa/jarvis-node-regression-ADV-GNN_SAGE/sweeps/iv8c2hia</a>"
      ],
      "text/plain": [
       "<IPython.core.display.HTML object>"
      ]
     },
     "metadata": {},
     "output_type": "display_data"
    },
    {
     "data": {
      "text/html": [
       " View project at <a href='https://wandb.ai/d-massa/jarvis-node-regression-ADV-GNN_SAGE' target=\"_blank\">https://wandb.ai/d-massa/jarvis-node-regression-ADV-GNN_SAGE</a>"
      ],
      "text/plain": [
       "<IPython.core.display.HTML object>"
      ]
     },
     "metadata": {},
     "output_type": "display_data"
    },
    {
     "data": {
      "text/html": [
       " View sweep at <a href='https://wandb.ai/d-massa/jarvis-node-regression-ADV-GNN_SAGE/sweeps/iv8c2hia' target=\"_blank\">https://wandb.ai/d-massa/jarvis-node-regression-ADV-GNN_SAGE/sweeps/iv8c2hia</a>"
      ],
      "text/plain": [
       "<IPython.core.display.HTML object>"
      ]
     },
     "metadata": {},
     "output_type": "display_data"
    },
    {
     "data": {
      "text/html": [
       " View run at <a href='https://wandb.ai/d-massa/jarvis-node-regression-ADV-GNN_SAGE/runs/zfnihgfo' target=\"_blank\">https://wandb.ai/d-massa/jarvis-node-regression-ADV-GNN_SAGE/runs/zfnihgfo</a>"
      ],
      "text/plain": [
       "<IPython.core.display.HTML object>"
      ]
     },
     "metadata": {},
     "output_type": "display_data"
    },
    {
     "name": "stderr",
     "output_type": "stream",
     "text": [
      "/Users/dariomss/Documents/GitHub/Graph_Project/PyG/lib/python3.9/site-packages/torch_geometric/deprecation.py:26: UserWarning: 'data.DataLoader' is deprecated, use 'loader.DataLoader' instead\n",
      "  warnings.warn(out)\n",
      "100%|██████████| 60/60 [00:26<00:00,  2.24it/s]\n"
     ]
    },
    {
     "data": {
      "text/html": [],
      "text/plain": [
       "<IPython.core.display.HTML object>"
      ]
     },
     "metadata": {},
     "output_type": "display_data"
    },
    {
     "data": {
      "text/html": [
       "<br>    <style><br>        .wandb-row {<br>            display: flex;<br>            flex-direction: row;<br>            flex-wrap: wrap;<br>            justify-content: flex-start;<br>            width: 100%;<br>        }<br>        .wandb-col {<br>            display: flex;<br>            flex-direction: column;<br>            flex-basis: 100%;<br>            flex: 1;<br>            padding: 10px;<br>        }<br>    </style><br><div class=\"wandb-row\"><div class=\"wandb-col\"><h3>Run history:</h3><br/><table class=\"wandb\"><tr><td>gcn_jarvis-ADV-GNN_SAGE/test_RMSE</td><td>█▇▅▅▄▄▄▃▂▂▃▃▂▂▃▂▂▃▂▂▃▃▂▁▃▃▂▂▂▂▁▂▂▁▁▃▂▂▁▂</td></tr><tr><td>gcn_jarvis-ADV-GNN_SAGE/test_RMSE_orig</td><td>█▇▅▅▄▃▃▃▃▃▂▂▂▂▃▂▂▁▁▂▁▂▃▁▁▂▃▂▂▂▁▁▁▁▁▂▃▁▂▂</td></tr><tr><td>gcn_jarvis-ADV-GNN_SAGE/train_RMSE</td><td>█▆▅▄▃▃▄▃▄▄▃▃▄▃▂▁▃▃▃▃▄▃▃▁▃▄▄▃▃▂▃▂▂▁▁▄▃▂▂▁</td></tr><tr><td>gcn_jarvis-ADV-GNN_SAGE/train_RMSE_orig</td><td>█▆▅▄▄▃▃▃▃▃▂▂▃▂▃▂▁▃▃▂▃▃▂▂▃▃▁▃▂▃▂▂▃▂▁▂▃▁▁▂</td></tr></table><br/></div><div class=\"wandb-col\"><h3>Run summary:</h3><br/><table class=\"wandb\"><tr><td>gcn_jarvis-ADV-GNN_SAGE/test_RMSE</td><td>0.70804</td></tr><tr><td>gcn_jarvis-ADV-GNN_SAGE/test_RMSE_orig</td><td>1.59514</td></tr><tr><td>gcn_jarvis-ADV-GNN_SAGE/train_RMSE</td><td>0.5689</td></tr><tr><td>gcn_jarvis-ADV-GNN_SAGE/train_RMSE_orig</td><td>1.40267</td></tr></table><br/></div></div>"
      ],
      "text/plain": [
       "<IPython.core.display.HTML object>"
      ]
     },
     "metadata": {},
     "output_type": "display_data"
    },
    {
     "data": {
      "text/html": [
       " View run <strong style=\"color:#cdcd00\">azure-sweep-25</strong> at: <a href='https://wandb.ai/d-massa/jarvis-node-regression-ADV-GNN_SAGE/runs/zfnihgfo' target=\"_blank\">https://wandb.ai/d-massa/jarvis-node-regression-ADV-GNN_SAGE/runs/zfnihgfo</a><br> View project at: <a href='https://wandb.ai/d-massa/jarvis-node-regression-ADV-GNN_SAGE' target=\"_blank\">https://wandb.ai/d-massa/jarvis-node-regression-ADV-GNN_SAGE</a><br>Synced 5 W&B file(s), 0 media file(s), 0 artifact file(s) and 0 other file(s)"
      ],
      "text/plain": [
       "<IPython.core.display.HTML object>"
      ]
     },
     "metadata": {},
     "output_type": "display_data"
    },
    {
     "data": {
      "text/html": [
       "Find logs at: <code>./wandb/run-20250306_071958-zfnihgfo/logs</code>"
      ],
      "text/plain": [
       "<IPython.core.display.HTML object>"
      ]
     },
     "metadata": {},
     "output_type": "display_data"
    },
    {
     "name": "stderr",
     "output_type": "stream",
     "text": [
      "\u001b[34m\u001b[1mwandb\u001b[0m: Agent Starting Run: nfb06pn1 with config:\n",
      "\u001b[34m\u001b[1mwandb\u001b[0m: \tBatchS: 128\n",
      "\u001b[34m\u001b[1mwandb\u001b[0m: \tTrainS: 0.85\n",
      "\u001b[34m\u001b[1mwandb\u001b[0m: \taggr: min\n",
      "\u001b[34m\u001b[1mwandb\u001b[0m: \thidden_channels: 16\n",
      "\u001b[34m\u001b[1mwandb\u001b[0m: \tlr: 0.0002078011402810656\n",
      "\u001b[34m\u001b[1mwandb\u001b[0m: \tmodel: GNN_SAGE\n",
      "\u001b[34m\u001b[1mwandb\u001b[0m: \tnum_layers: 3\n",
      "\u001b[34m\u001b[1mwandb\u001b[0m: \tweight_decay: 0.000483358150242973\n"
     ]
    },
    {
     "data": {
      "text/html": [
       "Tracking run with wandb version 0.19.7"
      ],
      "text/plain": [
       "<IPython.core.display.HTML object>"
      ]
     },
     "metadata": {},
     "output_type": "display_data"
    },
    {
     "data": {
      "text/html": [
       "Run data is saved locally in <code>/Users/dariomss/Documents/GitHub/Graph_Project/wandb/run-20250306_072030-nfb06pn1</code>"
      ],
      "text/plain": [
       "<IPython.core.display.HTML object>"
      ]
     },
     "metadata": {},
     "output_type": "display_data"
    },
    {
     "data": {
      "text/html": [
       "Syncing run <strong><a href='https://wandb.ai/d-massa/jarvis-node-regression-ADV-GNN_SAGE/runs/nfb06pn1' target=\"_blank\">revived-sweep-26</a></strong> to <a href='https://wandb.ai/d-massa/jarvis-node-regression-ADV-GNN_SAGE' target=\"_blank\">Weights & Biases</a> (<a href='https://wandb.me/developer-guide' target=\"_blank\">docs</a>)<br>Sweep page: <a href='https://wandb.ai/d-massa/jarvis-node-regression-ADV-GNN_SAGE/sweeps/iv8c2hia' target=\"_blank\">https://wandb.ai/d-massa/jarvis-node-regression-ADV-GNN_SAGE/sweeps/iv8c2hia</a>"
      ],
      "text/plain": [
       "<IPython.core.display.HTML object>"
      ]
     },
     "metadata": {},
     "output_type": "display_data"
    },
    {
     "data": {
      "text/html": [
       " View project at <a href='https://wandb.ai/d-massa/jarvis-node-regression-ADV-GNN_SAGE' target=\"_blank\">https://wandb.ai/d-massa/jarvis-node-regression-ADV-GNN_SAGE</a>"
      ],
      "text/plain": [
       "<IPython.core.display.HTML object>"
      ]
     },
     "metadata": {},
     "output_type": "display_data"
    },
    {
     "data": {
      "text/html": [
       " View sweep at <a href='https://wandb.ai/d-massa/jarvis-node-regression-ADV-GNN_SAGE/sweeps/iv8c2hia' target=\"_blank\">https://wandb.ai/d-massa/jarvis-node-regression-ADV-GNN_SAGE/sweeps/iv8c2hia</a>"
      ],
      "text/plain": [
       "<IPython.core.display.HTML object>"
      ]
     },
     "metadata": {},
     "output_type": "display_data"
    },
    {
     "data": {
      "text/html": [
       " View run at <a href='https://wandb.ai/d-massa/jarvis-node-regression-ADV-GNN_SAGE/runs/nfb06pn1' target=\"_blank\">https://wandb.ai/d-massa/jarvis-node-regression-ADV-GNN_SAGE/runs/nfb06pn1</a>"
      ],
      "text/plain": [
       "<IPython.core.display.HTML object>"
      ]
     },
     "metadata": {},
     "output_type": "display_data"
    },
    {
     "name": "stderr",
     "output_type": "stream",
     "text": [
      "/Users/dariomss/Documents/GitHub/Graph_Project/PyG/lib/python3.9/site-packages/torch_geometric/deprecation.py:26: UserWarning: 'data.DataLoader' is deprecated, use 'loader.DataLoader' instead\n",
      "  warnings.warn(out)\n",
      "100%|██████████| 60/60 [00:24<00:00,  2.43it/s]\n"
     ]
    },
    {
     "data": {
      "text/html": [],
      "text/plain": [
       "<IPython.core.display.HTML object>"
      ]
     },
     "metadata": {},
     "output_type": "display_data"
    },
    {
     "data": {
      "text/html": [
       "<br>    <style><br>        .wandb-row {<br>            display: flex;<br>            flex-direction: row;<br>            flex-wrap: wrap;<br>            justify-content: flex-start;<br>            width: 100%;<br>        }<br>        .wandb-col {<br>            display: flex;<br>            flex-direction: column;<br>            flex-basis: 100%;<br>            flex: 1;<br>            padding: 10px;<br>        }<br>    </style><br><div class=\"wandb-row\"><div class=\"wandb-col\"><h3>Run history:</h3><br/><table class=\"wandb\"><tr><td>gcn_jarvis-ADV-GNN_SAGE/test_RMSE</td><td>█▆▅▅▄▄▄▄▄▄▄▄▃▃▃▃▂▂▂▂▂▂▁▂▂▁▁▁▁▁▁▁▁▁▁▁▁▁▁▁</td></tr><tr><td>gcn_jarvis-ADV-GNN_SAGE/test_RMSE_orig</td><td>█▇▇▆▅▅▅▅▅▅▄▄▄▄▄▃▃▃▂▂▂▂▂▂▂▁▁▂▁▂▁▁▁▁▁▁▁▁▁▁</td></tr><tr><td>gcn_jarvis-ADV-GNN_SAGE/train_RMSE</td><td>█▆▅▅▆▅▆▄▅▄▅▄▄▄▄▃▃▄▃▃▃▃▂▃▃▃▂▂▂▂▃▂▂▂▂▁▃▃▂▁</td></tr><tr><td>gcn_jarvis-ADV-GNN_SAGE/train_RMSE_orig</td><td>█▅▄▄▄▅▄▅▄▅▄▃▄▄▃▃▃▃▃▂▃▃▃▃▂▂▂▃▂▂▂▂▂▂▃▁▁▂▂▂</td></tr></table><br/></div><div class=\"wandb-col\"><h3>Run summary:</h3><br/><table class=\"wandb\"><tr><td>gcn_jarvis-ADV-GNN_SAGE/test_RMSE</td><td>0.75664</td></tr><tr><td>gcn_jarvis-ADV-GNN_SAGE/test_RMSE_orig</td><td>1.67511</td></tr><tr><td>gcn_jarvis-ADV-GNN_SAGE/train_RMSE</td><td>0.67224</td></tr><tr><td>gcn_jarvis-ADV-GNN_SAGE/train_RMSE_orig</td><td>1.54064</td></tr></table><br/></div></div>"
      ],
      "text/plain": [
       "<IPython.core.display.HTML object>"
      ]
     },
     "metadata": {},
     "output_type": "display_data"
    },
    {
     "data": {
      "text/html": [
       " View run <strong style=\"color:#cdcd00\">revived-sweep-26</strong> at: <a href='https://wandb.ai/d-massa/jarvis-node-regression-ADV-GNN_SAGE/runs/nfb06pn1' target=\"_blank\">https://wandb.ai/d-massa/jarvis-node-regression-ADV-GNN_SAGE/runs/nfb06pn1</a><br> View project at: <a href='https://wandb.ai/d-massa/jarvis-node-regression-ADV-GNN_SAGE' target=\"_blank\">https://wandb.ai/d-massa/jarvis-node-regression-ADV-GNN_SAGE</a><br>Synced 5 W&B file(s), 0 media file(s), 0 artifact file(s) and 0 other file(s)"
      ],
      "text/plain": [
       "<IPython.core.display.HTML object>"
      ]
     },
     "metadata": {},
     "output_type": "display_data"
    },
    {
     "data": {
      "text/html": [
       "Find logs at: <code>./wandb/run-20250306_072030-nfb06pn1/logs</code>"
      ],
      "text/plain": [
       "<IPython.core.display.HTML object>"
      ]
     },
     "metadata": {},
     "output_type": "display_data"
    },
    {
     "name": "stderr",
     "output_type": "stream",
     "text": [
      "\u001b[34m\u001b[1mwandb\u001b[0m: Agent Starting Run: hx588rhs with config:\n",
      "\u001b[34m\u001b[1mwandb\u001b[0m: \tBatchS: 128\n",
      "\u001b[34m\u001b[1mwandb\u001b[0m: \tTrainS: 0.75\n",
      "\u001b[34m\u001b[1mwandb\u001b[0m: \taggr: max\n",
      "\u001b[34m\u001b[1mwandb\u001b[0m: \thidden_channels: 8\n",
      "\u001b[34m\u001b[1mwandb\u001b[0m: \tlr: 0.005123648379087438\n",
      "\u001b[34m\u001b[1mwandb\u001b[0m: \tmodel: GNN_SAGE\n",
      "\u001b[34m\u001b[1mwandb\u001b[0m: \tnum_layers: 3\n",
      "\u001b[34m\u001b[1mwandb\u001b[0m: \tweight_decay: 0.0005513664373071938\n"
     ]
    },
    {
     "data": {
      "text/html": [
       "Tracking run with wandb version 0.19.7"
      ],
      "text/plain": [
       "<IPython.core.display.HTML object>"
      ]
     },
     "metadata": {},
     "output_type": "display_data"
    },
    {
     "data": {
      "text/html": [
       "Run data is saved locally in <code>/Users/dariomss/Documents/GitHub/Graph_Project/wandb/run-20250306_072103-hx588rhs</code>"
      ],
      "text/plain": [
       "<IPython.core.display.HTML object>"
      ]
     },
     "metadata": {},
     "output_type": "display_data"
    },
    {
     "data": {
      "text/html": [
       "Syncing run <strong><a href='https://wandb.ai/d-massa/jarvis-node-regression-ADV-GNN_SAGE/runs/hx588rhs' target=\"_blank\">lunar-sweep-27</a></strong> to <a href='https://wandb.ai/d-massa/jarvis-node-regression-ADV-GNN_SAGE' target=\"_blank\">Weights & Biases</a> (<a href='https://wandb.me/developer-guide' target=\"_blank\">docs</a>)<br>Sweep page: <a href='https://wandb.ai/d-massa/jarvis-node-regression-ADV-GNN_SAGE/sweeps/iv8c2hia' target=\"_blank\">https://wandb.ai/d-massa/jarvis-node-regression-ADV-GNN_SAGE/sweeps/iv8c2hia</a>"
      ],
      "text/plain": [
       "<IPython.core.display.HTML object>"
      ]
     },
     "metadata": {},
     "output_type": "display_data"
    },
    {
     "data": {
      "text/html": [
       " View project at <a href='https://wandb.ai/d-massa/jarvis-node-regression-ADV-GNN_SAGE' target=\"_blank\">https://wandb.ai/d-massa/jarvis-node-regression-ADV-GNN_SAGE</a>"
      ],
      "text/plain": [
       "<IPython.core.display.HTML object>"
      ]
     },
     "metadata": {},
     "output_type": "display_data"
    },
    {
     "data": {
      "text/html": [
       " View sweep at <a href='https://wandb.ai/d-massa/jarvis-node-regression-ADV-GNN_SAGE/sweeps/iv8c2hia' target=\"_blank\">https://wandb.ai/d-massa/jarvis-node-regression-ADV-GNN_SAGE/sweeps/iv8c2hia</a>"
      ],
      "text/plain": [
       "<IPython.core.display.HTML object>"
      ]
     },
     "metadata": {},
     "output_type": "display_data"
    },
    {
     "data": {
      "text/html": [
       " View run at <a href='https://wandb.ai/d-massa/jarvis-node-regression-ADV-GNN_SAGE/runs/hx588rhs' target=\"_blank\">https://wandb.ai/d-massa/jarvis-node-regression-ADV-GNN_SAGE/runs/hx588rhs</a>"
      ],
      "text/plain": [
       "<IPython.core.display.HTML object>"
      ]
     },
     "metadata": {},
     "output_type": "display_data"
    },
    {
     "name": "stderr",
     "output_type": "stream",
     "text": [
      "/Users/dariomss/Documents/GitHub/Graph_Project/PyG/lib/python3.9/site-packages/torch_geometric/deprecation.py:26: UserWarning: 'data.DataLoader' is deprecated, use 'loader.DataLoader' instead\n",
      "  warnings.warn(out)\n",
      "100%|██████████| 60/60 [00:20<00:00,  2.94it/s]\n"
     ]
    },
    {
     "data": {
      "text/html": [],
      "text/plain": [
       "<IPython.core.display.HTML object>"
      ]
     },
     "metadata": {},
     "output_type": "display_data"
    },
    {
     "data": {
      "text/html": [
       "<br>    <style><br>        .wandb-row {<br>            display: flex;<br>            flex-direction: row;<br>            flex-wrap: wrap;<br>            justify-content: flex-start;<br>            width: 100%;<br>        }<br>        .wandb-col {<br>            display: flex;<br>            flex-direction: column;<br>            flex-basis: 100%;<br>            flex: 1;<br>            padding: 10px;<br>        }<br>    </style><br><div class=\"wandb-row\"><div class=\"wandb-col\"><h3>Run history:</h3><br/><table class=\"wandb\"><tr><td>gcn_jarvis-ADV-GNN_SAGE/test_RMSE</td><td>███▇▆▆▅▇▆▅▆▄▅▅▄▃▃▃▂▂▁▂▃▂▂▂▃▁▃▂▁▂▁▃▄▁▂▃▁▂</td></tr><tr><td>gcn_jarvis-ADV-GNN_SAGE/test_RMSE_orig</td><td>███▇▆▅▇▆▅▄▅▅▄▄▄▃▃▂▂▂▂▁▂▃▂▁▂▃▁▂▂▂▂▁▁▄▃▂▁▂</td></tr><tr><td>gcn_jarvis-ADV-GNN_SAGE/train_RMSE</td><td>▆▇█▇▆▅▅▅▆▄▆▄▄▃▆▃▂▄▃▂▃▄▃▃▃▃▄▄▅▂▂▁▂▂▂▃▂▃▃▁</td></tr><tr><td>gcn_jarvis-ADV-GNN_SAGE/train_RMSE_orig</td><td>▆▇█▇▅▅▅▄▆▅▆▄▄▃▄▃▃▃▄▃▃▄▃▃▃▂▃▂▃▃▃▂▂▁▂▂▂▂▃▁</td></tr></table><br/></div><div class=\"wandb-col\"><h3>Run summary:</h3><br/><table class=\"wandb\"><tr><td>gcn_jarvis-ADV-GNN_SAGE/test_RMSE</td><td>0.76078</td></tr><tr><td>gcn_jarvis-ADV-GNN_SAGE/test_RMSE_orig</td><td>1.68225</td></tr><tr><td>gcn_jarvis-ADV-GNN_SAGE/train_RMSE</td><td>0.62926</td></tr><tr><td>gcn_jarvis-ADV-GNN_SAGE/train_RMSE_orig</td><td>1.47988</td></tr></table><br/></div></div>"
      ],
      "text/plain": [
       "<IPython.core.display.HTML object>"
      ]
     },
     "metadata": {},
     "output_type": "display_data"
    },
    {
     "data": {
      "text/html": [
       " View run <strong style=\"color:#cdcd00\">lunar-sweep-27</strong> at: <a href='https://wandb.ai/d-massa/jarvis-node-regression-ADV-GNN_SAGE/runs/hx588rhs' target=\"_blank\">https://wandb.ai/d-massa/jarvis-node-regression-ADV-GNN_SAGE/runs/hx588rhs</a><br> View project at: <a href='https://wandb.ai/d-massa/jarvis-node-regression-ADV-GNN_SAGE' target=\"_blank\">https://wandb.ai/d-massa/jarvis-node-regression-ADV-GNN_SAGE</a><br>Synced 5 W&B file(s), 0 media file(s), 0 artifact file(s) and 0 other file(s)"
      ],
      "text/plain": [
       "<IPython.core.display.HTML object>"
      ]
     },
     "metadata": {},
     "output_type": "display_data"
    },
    {
     "data": {
      "text/html": [
       "Find logs at: <code>./wandb/run-20250306_072103-hx588rhs/logs</code>"
      ],
      "text/plain": [
       "<IPython.core.display.HTML object>"
      ]
     },
     "metadata": {},
     "output_type": "display_data"
    },
    {
     "name": "stderr",
     "output_type": "stream",
     "text": [
      "\u001b[34m\u001b[1mwandb\u001b[0m: Agent Starting Run: uq1i5l67 with config:\n",
      "\u001b[34m\u001b[1mwandb\u001b[0m: \tBatchS: 128\n",
      "\u001b[34m\u001b[1mwandb\u001b[0m: \tTrainS: 0.85\n",
      "\u001b[34m\u001b[1mwandb\u001b[0m: \taggr: min\n",
      "\u001b[34m\u001b[1mwandb\u001b[0m: \thidden_channels: 32\n",
      "\u001b[34m\u001b[1mwandb\u001b[0m: \tlr: 0.00292949904534372\n",
      "\u001b[34m\u001b[1mwandb\u001b[0m: \tmodel: GNN_SAGE\n",
      "\u001b[34m\u001b[1mwandb\u001b[0m: \tnum_layers: 3\n",
      "\u001b[34m\u001b[1mwandb\u001b[0m: \tweight_decay: 0.0005196059252073271\n"
     ]
    },
    {
     "data": {
      "text/html": [
       "Tracking run with wandb version 0.19.7"
      ],
      "text/plain": [
       "<IPython.core.display.HTML object>"
      ]
     },
     "metadata": {},
     "output_type": "display_data"
    },
    {
     "data": {
      "text/html": [
       "Run data is saved locally in <code>/Users/dariomss/Documents/GitHub/Graph_Project/wandb/run-20250306_072134-uq1i5l67</code>"
      ],
      "text/plain": [
       "<IPython.core.display.HTML object>"
      ]
     },
     "metadata": {},
     "output_type": "display_data"
    },
    {
     "data": {
      "text/html": [
       "Syncing run <strong><a href='https://wandb.ai/d-massa/jarvis-node-regression-ADV-GNN_SAGE/runs/uq1i5l67' target=\"_blank\">good-sweep-28</a></strong> to <a href='https://wandb.ai/d-massa/jarvis-node-regression-ADV-GNN_SAGE' target=\"_blank\">Weights & Biases</a> (<a href='https://wandb.me/developer-guide' target=\"_blank\">docs</a>)<br>Sweep page: <a href='https://wandb.ai/d-massa/jarvis-node-regression-ADV-GNN_SAGE/sweeps/iv8c2hia' target=\"_blank\">https://wandb.ai/d-massa/jarvis-node-regression-ADV-GNN_SAGE/sweeps/iv8c2hia</a>"
      ],
      "text/plain": [
       "<IPython.core.display.HTML object>"
      ]
     },
     "metadata": {},
     "output_type": "display_data"
    },
    {
     "data": {
      "text/html": [
       " View project at <a href='https://wandb.ai/d-massa/jarvis-node-regression-ADV-GNN_SAGE' target=\"_blank\">https://wandb.ai/d-massa/jarvis-node-regression-ADV-GNN_SAGE</a>"
      ],
      "text/plain": [
       "<IPython.core.display.HTML object>"
      ]
     },
     "metadata": {},
     "output_type": "display_data"
    },
    {
     "data": {
      "text/html": [
       " View sweep at <a href='https://wandb.ai/d-massa/jarvis-node-regression-ADV-GNN_SAGE/sweeps/iv8c2hia' target=\"_blank\">https://wandb.ai/d-massa/jarvis-node-regression-ADV-GNN_SAGE/sweeps/iv8c2hia</a>"
      ],
      "text/plain": [
       "<IPython.core.display.HTML object>"
      ]
     },
     "metadata": {},
     "output_type": "display_data"
    },
    {
     "data": {
      "text/html": [
       " View run at <a href='https://wandb.ai/d-massa/jarvis-node-regression-ADV-GNN_SAGE/runs/uq1i5l67' target=\"_blank\">https://wandb.ai/d-massa/jarvis-node-regression-ADV-GNN_SAGE/runs/uq1i5l67</a>"
      ],
      "text/plain": [
       "<IPython.core.display.HTML object>"
      ]
     },
     "metadata": {},
     "output_type": "display_data"
    },
    {
     "name": "stderr",
     "output_type": "stream",
     "text": [
      "/Users/dariomss/Documents/GitHub/Graph_Project/PyG/lib/python3.9/site-packages/torch_geometric/deprecation.py:26: UserWarning: 'data.DataLoader' is deprecated, use 'loader.DataLoader' instead\n",
      "  warnings.warn(out)\n",
      "100%|██████████| 60/60 [00:28<00:00,  2.09it/s]\n"
     ]
    },
    {
     "data": {
      "text/html": [],
      "text/plain": [
       "<IPython.core.display.HTML object>"
      ]
     },
     "metadata": {},
     "output_type": "display_data"
    },
    {
     "data": {
      "text/html": [
       "<br>    <style><br>        .wandb-row {<br>            display: flex;<br>            flex-direction: row;<br>            flex-wrap: wrap;<br>            justify-content: flex-start;<br>            width: 100%;<br>        }<br>        .wandb-col {<br>            display: flex;<br>            flex-direction: column;<br>            flex-basis: 100%;<br>            flex: 1;<br>            padding: 10px;<br>        }<br>    </style><br><div class=\"wandb-row\"><div class=\"wandb-col\"><h3>Run history:</h3><br/><table class=\"wandb\"><tr><td>gcn_jarvis-ADV-GNN_SAGE/test_RMSE</td><td>█▇▅▆▅▅▄▄▅▅▆▇▄▄▅▄▂▅▄▃▄▃▃▄▃▃▃▃▂▃▂▂▂▁▃▂▂▃▂▃</td></tr><tr><td>gcn_jarvis-ADV-GNN_SAGE/test_RMSE_orig</td><td>█▇▅▄▆▅▅▄▅▅▆▆▄▄▄▅▄▅▃▅▃▄▃▃▃▃▂▃▃▂▁▃▂▂▁▂▂▂▃▃</td></tr><tr><td>gcn_jarvis-ADV-GNN_SAGE/train_RMSE</td><td>█▅▄▅▄▅▄▃▄▂▃▃▄▂▃▃▂▄▄▃▂▄▄▃▂▃▅▄▁▂▃▁▂▂▃▃▂▁▃▁</td></tr><tr><td>gcn_jarvis-ADV-GNN_SAGE/train_RMSE_orig</td><td>█▅▆▇▅▅▅▆▅▄▆▇▄▆▃▂▅▃▅▅▄▂▆▅▂▅▄▅▂▂▃▃▃▁▂▆▃▃▂▃</td></tr></table><br/></div><div class=\"wandb-col\"><h3>Run summary:</h3><br/><table class=\"wandb\"><tr><td>gcn_jarvis-ADV-GNN_SAGE/test_RMSE</td><td>0.71252</td></tr><tr><td>gcn_jarvis-ADV-GNN_SAGE/test_RMSE_orig</td><td>1.60223</td></tr><tr><td>gcn_jarvis-ADV-GNN_SAGE/train_RMSE</td><td>0.55512</td></tr><tr><td>gcn_jarvis-ADV-GNN_SAGE/train_RMSE_orig</td><td>1.38632</td></tr></table><br/></div></div>"
      ],
      "text/plain": [
       "<IPython.core.display.HTML object>"
      ]
     },
     "metadata": {},
     "output_type": "display_data"
    },
    {
     "data": {
      "text/html": [
       " View run <strong style=\"color:#cdcd00\">good-sweep-28</strong> at: <a href='https://wandb.ai/d-massa/jarvis-node-regression-ADV-GNN_SAGE/runs/uq1i5l67' target=\"_blank\">https://wandb.ai/d-massa/jarvis-node-regression-ADV-GNN_SAGE/runs/uq1i5l67</a><br> View project at: <a href='https://wandb.ai/d-massa/jarvis-node-regression-ADV-GNN_SAGE' target=\"_blank\">https://wandb.ai/d-massa/jarvis-node-regression-ADV-GNN_SAGE</a><br>Synced 5 W&B file(s), 0 media file(s), 0 artifact file(s) and 0 other file(s)"
      ],
      "text/plain": [
       "<IPython.core.display.HTML object>"
      ]
     },
     "metadata": {},
     "output_type": "display_data"
    },
    {
     "data": {
      "text/html": [
       "Find logs at: <code>./wandb/run-20250306_072134-uq1i5l67/logs</code>"
      ],
      "text/plain": [
       "<IPython.core.display.HTML object>"
      ]
     },
     "metadata": {},
     "output_type": "display_data"
    },
    {
     "name": "stderr",
     "output_type": "stream",
     "text": [
      "\u001b[34m\u001b[1mwandb\u001b[0m: Agent Starting Run: ynqqqzma with config:\n",
      "\u001b[34m\u001b[1mwandb\u001b[0m: \tBatchS: 128\n",
      "\u001b[34m\u001b[1mwandb\u001b[0m: \tTrainS: 0.75\n",
      "\u001b[34m\u001b[1mwandb\u001b[0m: \taggr: mean\n",
      "\u001b[34m\u001b[1mwandb\u001b[0m: \thidden_channels: 8\n",
      "\u001b[34m\u001b[1mwandb\u001b[0m: \tlr: 0.000779212428841591\n",
      "\u001b[34m\u001b[1mwandb\u001b[0m: \tmodel: GNN_SAGE\n",
      "\u001b[34m\u001b[1mwandb\u001b[0m: \tnum_layers: 3\n",
      "\u001b[34m\u001b[1mwandb\u001b[0m: \tweight_decay: 0.000499992763986598\n"
     ]
    },
    {
     "data": {
      "text/html": [
       "Tracking run with wandb version 0.19.7"
      ],
      "text/plain": [
       "<IPython.core.display.HTML object>"
      ]
     },
     "metadata": {},
     "output_type": "display_data"
    },
    {
     "data": {
      "text/html": [
       "Run data is saved locally in <code>/Users/dariomss/Documents/GitHub/Graph_Project/wandb/run-20250306_072211-ynqqqzma</code>"
      ],
      "text/plain": [
       "<IPython.core.display.HTML object>"
      ]
     },
     "metadata": {},
     "output_type": "display_data"
    },
    {
     "data": {
      "text/html": [
       "Syncing run <strong><a href='https://wandb.ai/d-massa/jarvis-node-regression-ADV-GNN_SAGE/runs/ynqqqzma' target=\"_blank\">laced-sweep-29</a></strong> to <a href='https://wandb.ai/d-massa/jarvis-node-regression-ADV-GNN_SAGE' target=\"_blank\">Weights & Biases</a> (<a href='https://wandb.me/developer-guide' target=\"_blank\">docs</a>)<br>Sweep page: <a href='https://wandb.ai/d-massa/jarvis-node-regression-ADV-GNN_SAGE/sweeps/iv8c2hia' target=\"_blank\">https://wandb.ai/d-massa/jarvis-node-regression-ADV-GNN_SAGE/sweeps/iv8c2hia</a>"
      ],
      "text/plain": [
       "<IPython.core.display.HTML object>"
      ]
     },
     "metadata": {},
     "output_type": "display_data"
    },
    {
     "data": {
      "text/html": [
       " View project at <a href='https://wandb.ai/d-massa/jarvis-node-regression-ADV-GNN_SAGE' target=\"_blank\">https://wandb.ai/d-massa/jarvis-node-regression-ADV-GNN_SAGE</a>"
      ],
      "text/plain": [
       "<IPython.core.display.HTML object>"
      ]
     },
     "metadata": {},
     "output_type": "display_data"
    },
    {
     "data": {
      "text/html": [
       " View sweep at <a href='https://wandb.ai/d-massa/jarvis-node-regression-ADV-GNN_SAGE/sweeps/iv8c2hia' target=\"_blank\">https://wandb.ai/d-massa/jarvis-node-regression-ADV-GNN_SAGE/sweeps/iv8c2hia</a>"
      ],
      "text/plain": [
       "<IPython.core.display.HTML object>"
      ]
     },
     "metadata": {},
     "output_type": "display_data"
    },
    {
     "data": {
      "text/html": [
       " View run at <a href='https://wandb.ai/d-massa/jarvis-node-regression-ADV-GNN_SAGE/runs/ynqqqzma' target=\"_blank\">https://wandb.ai/d-massa/jarvis-node-regression-ADV-GNN_SAGE/runs/ynqqqzma</a>"
      ],
      "text/plain": [
       "<IPython.core.display.HTML object>"
      ]
     },
     "metadata": {},
     "output_type": "display_data"
    },
    {
     "name": "stderr",
     "output_type": "stream",
     "text": [
      "/Users/dariomss/Documents/GitHub/Graph_Project/PyG/lib/python3.9/site-packages/torch_geometric/deprecation.py:26: UserWarning: 'data.DataLoader' is deprecated, use 'loader.DataLoader' instead\n",
      "  warnings.warn(out)\n",
      "100%|██████████| 60/60 [00:17<00:00,  3.41it/s]\n"
     ]
    },
    {
     "data": {
      "text/html": [],
      "text/plain": [
       "<IPython.core.display.HTML object>"
      ]
     },
     "metadata": {},
     "output_type": "display_data"
    },
    {
     "data": {
      "text/html": [
       "<br>    <style><br>        .wandb-row {<br>            display: flex;<br>            flex-direction: row;<br>            flex-wrap: wrap;<br>            justify-content: flex-start;<br>            width: 100%;<br>        }<br>        .wandb-col {<br>            display: flex;<br>            flex-direction: column;<br>            flex-basis: 100%;<br>            flex: 1;<br>            padding: 10px;<br>        }<br>    </style><br><div class=\"wandb-row\"><div class=\"wandb-col\"><h3>Run history:</h3><br/><table class=\"wandb\"><tr><td>gcn_jarvis-ADV-GNN_SAGE/test_RMSE</td><td>█▂▂▂▂▂▂▂▂▂▂▂▂▂▂▁▁▁▁▁▁▁▁▁▁▁▁▁▁▁▁▁▁▁▁▁▁▁▁▁</td></tr><tr><td>gcn_jarvis-ADV-GNN_SAGE/test_RMSE_orig</td><td>█▂▁▁▁▁▁▁▁▁▁▁▁▁▁▁▁▁▁▁▁▁▁▁▁▁▁▁▁▁▁▁▁▁▁▁▁▁▁▁</td></tr><tr><td>gcn_jarvis-ADV-GNN_SAGE/train_RMSE</td><td>▇█▇▇▇▆▆▆█▆▅▅▆▆▄▄▄▃▅▄▄▃▃▃▄▃▄▄▅▄▃▂▂▁▁▂▃▄▂▂</td></tr><tr><td>gcn_jarvis-ADV-GNN_SAGE/train_RMSE_orig</td><td>█▂▂▂▂▂▂▂▂▂▂▂▂▂▂▂▁▂▁▂▁▁▁▂▁▁▁▂▂▂▁▁▁▁▁▁▁▁▁▁</td></tr></table><br/></div><div class=\"wandb-col\"><h3>Run summary:</h3><br/><table class=\"wandb\"><tr><td>gcn_jarvis-ADV-GNN_SAGE/test_RMSE</td><td>0.76721</td></tr><tr><td>gcn_jarvis-ADV-GNN_SAGE/test_RMSE_orig</td><td>1.69344</td></tr><tr><td>gcn_jarvis-ADV-GNN_SAGE/train_RMSE</td><td>0.72903</td></tr><tr><td>gcn_jarvis-ADV-GNN_SAGE/train_RMSE_orig</td><td>1.62881</td></tr></table><br/></div></div>"
      ],
      "text/plain": [
       "<IPython.core.display.HTML object>"
      ]
     },
     "metadata": {},
     "output_type": "display_data"
    },
    {
     "data": {
      "text/html": [
       " View run <strong style=\"color:#cdcd00\">laced-sweep-29</strong> at: <a href='https://wandb.ai/d-massa/jarvis-node-regression-ADV-GNN_SAGE/runs/ynqqqzma' target=\"_blank\">https://wandb.ai/d-massa/jarvis-node-regression-ADV-GNN_SAGE/runs/ynqqqzma</a><br> View project at: <a href='https://wandb.ai/d-massa/jarvis-node-regression-ADV-GNN_SAGE' target=\"_blank\">https://wandb.ai/d-massa/jarvis-node-regression-ADV-GNN_SAGE</a><br>Synced 5 W&B file(s), 0 media file(s), 0 artifact file(s) and 0 other file(s)"
      ],
      "text/plain": [
       "<IPython.core.display.HTML object>"
      ]
     },
     "metadata": {},
     "output_type": "display_data"
    },
    {
     "data": {
      "text/html": [
       "Find logs at: <code>./wandb/run-20250306_072211-ynqqqzma/logs</code>"
      ],
      "text/plain": [
       "<IPython.core.display.HTML object>"
      ]
     },
     "metadata": {},
     "output_type": "display_data"
    },
    {
     "name": "stderr",
     "output_type": "stream",
     "text": [
      "\u001b[34m\u001b[1mwandb\u001b[0m: Agent Starting Run: musb34ys with config:\n",
      "\u001b[34m\u001b[1mwandb\u001b[0m: \tBatchS: 128\n",
      "\u001b[34m\u001b[1mwandb\u001b[0m: \tTrainS: 0.75\n",
      "\u001b[34m\u001b[1mwandb\u001b[0m: \taggr: mean\n",
      "\u001b[34m\u001b[1mwandb\u001b[0m: \thidden_channels: 32\n",
      "\u001b[34m\u001b[1mwandb\u001b[0m: \tlr: 0.006251075837194713\n",
      "\u001b[34m\u001b[1mwandb\u001b[0m: \tmodel: GNN_SAGE\n",
      "\u001b[34m\u001b[1mwandb\u001b[0m: \tnum_layers: 3\n",
      "\u001b[34m\u001b[1mwandb\u001b[0m: \tweight_decay: 0.00044516873604028055\n"
     ]
    },
    {
     "data": {
      "text/html": [
       "Tracking run with wandb version 0.19.7"
      ],
      "text/plain": [
       "<IPython.core.display.HTML object>"
      ]
     },
     "metadata": {},
     "output_type": "display_data"
    },
    {
     "data": {
      "text/html": [
       "Run data is saved locally in <code>/Users/dariomss/Documents/GitHub/Graph_Project/wandb/run-20250306_072240-musb34ys</code>"
      ],
      "text/plain": [
       "<IPython.core.display.HTML object>"
      ]
     },
     "metadata": {},
     "output_type": "display_data"
    },
    {
     "data": {
      "text/html": [
       "Syncing run <strong><a href='https://wandb.ai/d-massa/jarvis-node-regression-ADV-GNN_SAGE/runs/musb34ys' target=\"_blank\">silver-sweep-30</a></strong> to <a href='https://wandb.ai/d-massa/jarvis-node-regression-ADV-GNN_SAGE' target=\"_blank\">Weights & Biases</a> (<a href='https://wandb.me/developer-guide' target=\"_blank\">docs</a>)<br>Sweep page: <a href='https://wandb.ai/d-massa/jarvis-node-regression-ADV-GNN_SAGE/sweeps/iv8c2hia' target=\"_blank\">https://wandb.ai/d-massa/jarvis-node-regression-ADV-GNN_SAGE/sweeps/iv8c2hia</a>"
      ],
      "text/plain": [
       "<IPython.core.display.HTML object>"
      ]
     },
     "metadata": {},
     "output_type": "display_data"
    },
    {
     "data": {
      "text/html": [
       " View project at <a href='https://wandb.ai/d-massa/jarvis-node-regression-ADV-GNN_SAGE' target=\"_blank\">https://wandb.ai/d-massa/jarvis-node-regression-ADV-GNN_SAGE</a>"
      ],
      "text/plain": [
       "<IPython.core.display.HTML object>"
      ]
     },
     "metadata": {},
     "output_type": "display_data"
    },
    {
     "data": {
      "text/html": [
       " View sweep at <a href='https://wandb.ai/d-massa/jarvis-node-regression-ADV-GNN_SAGE/sweeps/iv8c2hia' target=\"_blank\">https://wandb.ai/d-massa/jarvis-node-regression-ADV-GNN_SAGE/sweeps/iv8c2hia</a>"
      ],
      "text/plain": [
       "<IPython.core.display.HTML object>"
      ]
     },
     "metadata": {},
     "output_type": "display_data"
    },
    {
     "data": {
      "text/html": [
       " View run at <a href='https://wandb.ai/d-massa/jarvis-node-regression-ADV-GNN_SAGE/runs/musb34ys' target=\"_blank\">https://wandb.ai/d-massa/jarvis-node-regression-ADV-GNN_SAGE/runs/musb34ys</a>"
      ],
      "text/plain": [
       "<IPython.core.display.HTML object>"
      ]
     },
     "metadata": {},
     "output_type": "display_data"
    },
    {
     "name": "stderr",
     "output_type": "stream",
     "text": [
      "/Users/dariomss/Documents/GitHub/Graph_Project/PyG/lib/python3.9/site-packages/torch_geometric/deprecation.py:26: UserWarning: 'data.DataLoader' is deprecated, use 'loader.DataLoader' instead\n",
      "  warnings.warn(out)\n",
      "100%|██████████| 60/60 [00:20<00:00,  2.96it/s]\n"
     ]
    },
    {
     "data": {
      "text/html": [],
      "text/plain": [
       "<IPython.core.display.HTML object>"
      ]
     },
     "metadata": {},
     "output_type": "display_data"
    },
    {
     "data": {
      "text/html": [
       "<br>    <style><br>        .wandb-row {<br>            display: flex;<br>            flex-direction: row;<br>            flex-wrap: wrap;<br>            justify-content: flex-start;<br>            width: 100%;<br>        }<br>        .wandb-col {<br>            display: flex;<br>            flex-direction: column;<br>            flex-basis: 100%;<br>            flex: 1;<br>            padding: 10px;<br>        }<br>    </style><br><div class=\"wandb-row\"><div class=\"wandb-col\"><h3>Run history:</h3><br/><table class=\"wandb\"><tr><td>gcn_jarvis-ADV-GNN_SAGE/test_RMSE</td><td>█▇▆▅▅▅▆▄▃▃▃▃▄▅▃▃▃▁▂▃▂▁▁▂▃▅▃▃▂▂▂▃▃▂▄▂▂▁▂▁</td></tr><tr><td>gcn_jarvis-ADV-GNN_SAGE/test_RMSE_orig</td><td>█▇▆▆▇▅▄▃▄▅▃▄▄▁▂▂▃▂▁▁▃▂▅▃▄▄▃▂▄▃▄▆▃▆▃▂▂▁▃▁</td></tr><tr><td>gcn_jarvis-ADV-GNN_SAGE/train_RMSE</td><td>█▆▇▆▅▅▆▅▅▃▃▄▃▃▂▃▂▃▃▃▄▂▃▂▂▄▂▂▂▃▂▂▃▂▁▄▃▂▂▁</td></tr><tr><td>gcn_jarvis-ADV-GNN_SAGE/train_RMSE_orig</td><td>█▆▅▆▆▅▄▄▅▂▃▃▃▂▂▂▃▂▃▃▃▂▄▂▂▂▃▂▂▃▂▂▃▁▁▂▂▂▃▁</td></tr></table><br/></div><div class=\"wandb-col\"><h3>Run summary:</h3><br/><table class=\"wandb\"><tr><td>gcn_jarvis-ADV-GNN_SAGE/test_RMSE</td><td>0.7314</td></tr><tr><td>gcn_jarvis-ADV-GNN_SAGE/test_RMSE_orig</td><td>1.6327</td></tr><tr><td>gcn_jarvis-ADV-GNN_SAGE/train_RMSE</td><td>0.57861</td></tr><tr><td>gcn_jarvis-ADV-GNN_SAGE/train_RMSE_orig</td><td>1.41447</td></tr></table><br/></div></div>"
      ],
      "text/plain": [
       "<IPython.core.display.HTML object>"
      ]
     },
     "metadata": {},
     "output_type": "display_data"
    },
    {
     "data": {
      "text/html": [
       " View run <strong style=\"color:#cdcd00\">silver-sweep-30</strong> at: <a href='https://wandb.ai/d-massa/jarvis-node-regression-ADV-GNN_SAGE/runs/musb34ys' target=\"_blank\">https://wandb.ai/d-massa/jarvis-node-regression-ADV-GNN_SAGE/runs/musb34ys</a><br> View project at: <a href='https://wandb.ai/d-massa/jarvis-node-regression-ADV-GNN_SAGE' target=\"_blank\">https://wandb.ai/d-massa/jarvis-node-regression-ADV-GNN_SAGE</a><br>Synced 5 W&B file(s), 0 media file(s), 0 artifact file(s) and 0 other file(s)"
      ],
      "text/plain": [
       "<IPython.core.display.HTML object>"
      ]
     },
     "metadata": {},
     "output_type": "display_data"
    },
    {
     "data": {
      "text/html": [
       "Find logs at: <code>./wandb/run-20250306_072240-musb34ys/logs</code>"
      ],
      "text/plain": [
       "<IPython.core.display.HTML object>"
      ]
     },
     "metadata": {},
     "output_type": "display_data"
    },
    {
     "name": "stderr",
     "output_type": "stream",
     "text": [
      "\u001b[34m\u001b[1mwandb\u001b[0m: Agent Starting Run: zdqjkh3s with config:\n",
      "\u001b[34m\u001b[1mwandb\u001b[0m: \tBatchS: 64\n",
      "\u001b[34m\u001b[1mwandb\u001b[0m: \tTrainS: 0.85\n",
      "\u001b[34m\u001b[1mwandb\u001b[0m: \taggr: min\n",
      "\u001b[34m\u001b[1mwandb\u001b[0m: \thidden_channels: 32\n",
      "\u001b[34m\u001b[1mwandb\u001b[0m: \tlr: 0.001994523357786947\n",
      "\u001b[34m\u001b[1mwandb\u001b[0m: \tmodel: GNN_SAGE\n",
      "\u001b[34m\u001b[1mwandb\u001b[0m: \tnum_layers: 3\n",
      "\u001b[34m\u001b[1mwandb\u001b[0m: \tweight_decay: 0.000412503842687339\n"
     ]
    },
    {
     "data": {
      "text/html": [
       "Tracking run with wandb version 0.19.7"
      ],
      "text/plain": [
       "<IPython.core.display.HTML object>"
      ]
     },
     "metadata": {},
     "output_type": "display_data"
    },
    {
     "data": {
      "text/html": [
       "Run data is saved locally in <code>/Users/dariomss/Documents/GitHub/Graph_Project/wandb/run-20250306_072306-zdqjkh3s</code>"
      ],
      "text/plain": [
       "<IPython.core.display.HTML object>"
      ]
     },
     "metadata": {},
     "output_type": "display_data"
    },
    {
     "data": {
      "text/html": [
       "Syncing run <strong><a href='https://wandb.ai/d-massa/jarvis-node-regression-ADV-GNN_SAGE/runs/zdqjkh3s' target=\"_blank\">skilled-sweep-31</a></strong> to <a href='https://wandb.ai/d-massa/jarvis-node-regression-ADV-GNN_SAGE' target=\"_blank\">Weights & Biases</a> (<a href='https://wandb.me/developer-guide' target=\"_blank\">docs</a>)<br>Sweep page: <a href='https://wandb.ai/d-massa/jarvis-node-regression-ADV-GNN_SAGE/sweeps/iv8c2hia' target=\"_blank\">https://wandb.ai/d-massa/jarvis-node-regression-ADV-GNN_SAGE/sweeps/iv8c2hia</a>"
      ],
      "text/plain": [
       "<IPython.core.display.HTML object>"
      ]
     },
     "metadata": {},
     "output_type": "display_data"
    },
    {
     "data": {
      "text/html": [
       " View project at <a href='https://wandb.ai/d-massa/jarvis-node-regression-ADV-GNN_SAGE' target=\"_blank\">https://wandb.ai/d-massa/jarvis-node-regression-ADV-GNN_SAGE</a>"
      ],
      "text/plain": [
       "<IPython.core.display.HTML object>"
      ]
     },
     "metadata": {},
     "output_type": "display_data"
    },
    {
     "data": {
      "text/html": [
       " View sweep at <a href='https://wandb.ai/d-massa/jarvis-node-regression-ADV-GNN_SAGE/sweeps/iv8c2hia' target=\"_blank\">https://wandb.ai/d-massa/jarvis-node-regression-ADV-GNN_SAGE/sweeps/iv8c2hia</a>"
      ],
      "text/plain": [
       "<IPython.core.display.HTML object>"
      ]
     },
     "metadata": {},
     "output_type": "display_data"
    },
    {
     "data": {
      "text/html": [
       " View run at <a href='https://wandb.ai/d-massa/jarvis-node-regression-ADV-GNN_SAGE/runs/zdqjkh3s' target=\"_blank\">https://wandb.ai/d-massa/jarvis-node-regression-ADV-GNN_SAGE/runs/zdqjkh3s</a>"
      ],
      "text/plain": [
       "<IPython.core.display.HTML object>"
      ]
     },
     "metadata": {},
     "output_type": "display_data"
    },
    {
     "name": "stderr",
     "output_type": "stream",
     "text": [
      "/Users/dariomss/Documents/GitHub/Graph_Project/PyG/lib/python3.9/site-packages/torch_geometric/deprecation.py:26: UserWarning: 'data.DataLoader' is deprecated, use 'loader.DataLoader' instead\n",
      "  warnings.warn(out)\n",
      "100%|██████████| 60/60 [00:34<00:00,  1.76it/s]\n"
     ]
    },
    {
     "data": {
      "text/html": [],
      "text/plain": [
       "<IPython.core.display.HTML object>"
      ]
     },
     "metadata": {},
     "output_type": "display_data"
    },
    {
     "data": {
      "text/html": [
       "<br>    <style><br>        .wandb-row {<br>            display: flex;<br>            flex-direction: row;<br>            flex-wrap: wrap;<br>            justify-content: flex-start;<br>            width: 100%;<br>        }<br>        .wandb-col {<br>            display: flex;<br>            flex-direction: column;<br>            flex-basis: 100%;<br>            flex: 1;<br>            padding: 10px;<br>        }<br>    </style><br><div class=\"wandb-row\"><div class=\"wandb-col\"><h3>Run history:</h3><br/><table class=\"wandb\"><tr><td>gcn_jarvis-ADV-GNN_SAGE/test_RMSE</td><td>█▆▅▄▄▄▄▄▃▃▄▄▅▄▄▃▅▄▃▃▂▁▃▃▂▂▂▂▂▃▂▂▂▃▃▃▂▂▁▂</td></tr><tr><td>gcn_jarvis-ADV-GNN_SAGE/test_RMSE_orig</td><td>▆█▆▆▄▄▃▄▄▃▃▄▃▄▄▃▄▄▂▃▂▂▁▃▂▃▂▂▂▃▄▁▂▂▃▂▂▁▁▁</td></tr><tr><td>gcn_jarvis-ADV-GNN_SAGE/train_RMSE</td><td>█▆▅▅▄▃▃▅▄▅▁▃▄▄▃▃▂▄▃▄▃▁▁▅▃▅▂▃▁▃▂▁▁▃▂▄▂▂▃▂</td></tr><tr><td>gcn_jarvis-ADV-GNN_SAGE/train_RMSE_orig</td><td>█▅▄▂▃▃▅▁▂▃▄▃▃▂▃▄▂▂▃▂▁▃▃▃▅▄▂▂▁▃▁▁▂▂▂▂▂▂▃▂</td></tr></table><br/></div><div class=\"wandb-col\"><h3>Run summary:</h3><br/><table class=\"wandb\"><tr><td>gcn_jarvis-ADV-GNN_SAGE/test_RMSE</td><td>0.6928</td></tr><tr><td>gcn_jarvis-ADV-GNN_SAGE/test_RMSE_orig</td><td>1.5715</td></tr><tr><td>gcn_jarvis-ADV-GNN_SAGE/train_RMSE</td><td>0.58241</td></tr><tr><td>gcn_jarvis-ADV-GNN_SAGE/train_RMSE_orig</td><td>1.41916</td></tr></table><br/></div></div>"
      ],
      "text/plain": [
       "<IPython.core.display.HTML object>"
      ]
     },
     "metadata": {},
     "output_type": "display_data"
    },
    {
     "data": {
      "text/html": [
       " View run <strong style=\"color:#cdcd00\">skilled-sweep-31</strong> at: <a href='https://wandb.ai/d-massa/jarvis-node-regression-ADV-GNN_SAGE/runs/zdqjkh3s' target=\"_blank\">https://wandb.ai/d-massa/jarvis-node-regression-ADV-GNN_SAGE/runs/zdqjkh3s</a><br> View project at: <a href='https://wandb.ai/d-massa/jarvis-node-regression-ADV-GNN_SAGE' target=\"_blank\">https://wandb.ai/d-massa/jarvis-node-regression-ADV-GNN_SAGE</a><br>Synced 5 W&B file(s), 0 media file(s), 0 artifact file(s) and 0 other file(s)"
      ],
      "text/plain": [
       "<IPython.core.display.HTML object>"
      ]
     },
     "metadata": {},
     "output_type": "display_data"
    },
    {
     "data": {
      "text/html": [
       "Find logs at: <code>./wandb/run-20250306_072306-zdqjkh3s/logs</code>"
      ],
      "text/plain": [
       "<IPython.core.display.HTML object>"
      ]
     },
     "metadata": {},
     "output_type": "display_data"
    },
    {
     "name": "stderr",
     "output_type": "stream",
     "text": [
      "\u001b[34m\u001b[1mwandb\u001b[0m: Agent Starting Run: ouaz9t8p with config:\n",
      "\u001b[34m\u001b[1mwandb\u001b[0m: \tBatchS: 128\n",
      "\u001b[34m\u001b[1mwandb\u001b[0m: \tTrainS: 0.85\n",
      "\u001b[34m\u001b[1mwandb\u001b[0m: \taggr: min\n",
      "\u001b[34m\u001b[1mwandb\u001b[0m: \thidden_channels: 32\n",
      "\u001b[34m\u001b[1mwandb\u001b[0m: \tlr: 0.0037150474645079993\n",
      "\u001b[34m\u001b[1mwandb\u001b[0m: \tmodel: GNN_SAGE\n",
      "\u001b[34m\u001b[1mwandb\u001b[0m: \tnum_layers: 3\n",
      "\u001b[34m\u001b[1mwandb\u001b[0m: \tweight_decay: 0.0005592275587047642\n"
     ]
    },
    {
     "data": {
      "text/html": [
       "Tracking run with wandb version 0.19.7"
      ],
      "text/plain": [
       "<IPython.core.display.HTML object>"
      ]
     },
     "metadata": {},
     "output_type": "display_data"
    },
    {
     "data": {
      "text/html": [
       "Run data is saved locally in <code>/Users/dariomss/Documents/GitHub/Graph_Project/wandb/run-20250306_072349-ouaz9t8p</code>"
      ],
      "text/plain": [
       "<IPython.core.display.HTML object>"
      ]
     },
     "metadata": {},
     "output_type": "display_data"
    },
    {
     "data": {
      "text/html": [
       "Syncing run <strong><a href='https://wandb.ai/d-massa/jarvis-node-regression-ADV-GNN_SAGE/runs/ouaz9t8p' target=\"_blank\">mild-sweep-32</a></strong> to <a href='https://wandb.ai/d-massa/jarvis-node-regression-ADV-GNN_SAGE' target=\"_blank\">Weights & Biases</a> (<a href='https://wandb.me/developer-guide' target=\"_blank\">docs</a>)<br>Sweep page: <a href='https://wandb.ai/d-massa/jarvis-node-regression-ADV-GNN_SAGE/sweeps/iv8c2hia' target=\"_blank\">https://wandb.ai/d-massa/jarvis-node-regression-ADV-GNN_SAGE/sweeps/iv8c2hia</a>"
      ],
      "text/plain": [
       "<IPython.core.display.HTML object>"
      ]
     },
     "metadata": {},
     "output_type": "display_data"
    },
    {
     "data": {
      "text/html": [
       " View project at <a href='https://wandb.ai/d-massa/jarvis-node-regression-ADV-GNN_SAGE' target=\"_blank\">https://wandb.ai/d-massa/jarvis-node-regression-ADV-GNN_SAGE</a>"
      ],
      "text/plain": [
       "<IPython.core.display.HTML object>"
      ]
     },
     "metadata": {},
     "output_type": "display_data"
    },
    {
     "data": {
      "text/html": [
       " View sweep at <a href='https://wandb.ai/d-massa/jarvis-node-regression-ADV-GNN_SAGE/sweeps/iv8c2hia' target=\"_blank\">https://wandb.ai/d-massa/jarvis-node-regression-ADV-GNN_SAGE/sweeps/iv8c2hia</a>"
      ],
      "text/plain": [
       "<IPython.core.display.HTML object>"
      ]
     },
     "metadata": {},
     "output_type": "display_data"
    },
    {
     "data": {
      "text/html": [
       " View run at <a href='https://wandb.ai/d-massa/jarvis-node-regression-ADV-GNN_SAGE/runs/ouaz9t8p' target=\"_blank\">https://wandb.ai/d-massa/jarvis-node-regression-ADV-GNN_SAGE/runs/ouaz9t8p</a>"
      ],
      "text/plain": [
       "<IPython.core.display.HTML object>"
      ]
     },
     "metadata": {},
     "output_type": "display_data"
    },
    {
     "name": "stderr",
     "output_type": "stream",
     "text": [
      "/Users/dariomss/Documents/GitHub/Graph_Project/PyG/lib/python3.9/site-packages/torch_geometric/deprecation.py:26: UserWarning: 'data.DataLoader' is deprecated, use 'loader.DataLoader' instead\n",
      "  warnings.warn(out)\n",
      "100%|██████████| 60/60 [00:29<00:00,  2.01it/s]\n"
     ]
    },
    {
     "data": {
      "text/html": [],
      "text/plain": [
       "<IPython.core.display.HTML object>"
      ]
     },
     "metadata": {},
     "output_type": "display_data"
    },
    {
     "data": {
      "text/html": [
       "<br>    <style><br>        .wandb-row {<br>            display: flex;<br>            flex-direction: row;<br>            flex-wrap: wrap;<br>            justify-content: flex-start;<br>            width: 100%;<br>        }<br>        .wandb-col {<br>            display: flex;<br>            flex-direction: column;<br>            flex-basis: 100%;<br>            flex: 1;<br>            padding: 10px;<br>        }<br>    </style><br><div class=\"wandb-row\"><div class=\"wandb-col\"><h3>Run history:</h3><br/><table class=\"wandb\"><tr><td>gcn_jarvis-ADV-GNN_SAGE/test_RMSE</td><td>█▅▆▄▅▄▅▄▅▅▃▄▄▄▄▆▄▅▄▂▃▃▂▃▃▃▂▃▃▃▁▃▂▂▂▂▃▂▂▃</td></tr><tr><td>gcn_jarvis-ADV-GNN_SAGE/test_RMSE_orig</td><td>█▆▆▄▄▄▄▅▅▄▄▃▃▄▄▄▃▄▄▄▃▃▂▃▃▃▃▂▁▂▂▂▂▂▂▂▃▂▂▃</td></tr><tr><td>gcn_jarvis-ADV-GNN_SAGE/train_RMSE</td><td>█▆▄▄▅▄▄▄▄▂▃▄▃▃▂▁▂▄▃▂▃▃▂▄▂▂▃▁▄▂▂▁▁▂▄▂▂▁▂▁</td></tr><tr><td>gcn_jarvis-ADV-GNN_SAGE/train_RMSE_orig</td><td>█▅▃▄▃▃▃▂▂▂▄▃▃▃▃▂▃▃▂▁▃▃▁▃▂▃▁▁▁▃▂▂▁▁▂▂▂▂▁▁</td></tr></table><br/></div><div class=\"wandb-col\"><h3>Run summary:</h3><br/><table class=\"wandb\"><tr><td>gcn_jarvis-ADV-GNN_SAGE/test_RMSE</td><td>0.71728</td></tr><tr><td>gcn_jarvis-ADV-GNN_SAGE/test_RMSE_orig</td><td>1.6098</td></tr><tr><td>gcn_jarvis-ADV-GNN_SAGE/train_RMSE</td><td>0.56928</td></tr><tr><td>gcn_jarvis-ADV-GNN_SAGE/train_RMSE_orig</td><td>1.40313</td></tr></table><br/></div></div>"
      ],
      "text/plain": [
       "<IPython.core.display.HTML object>"
      ]
     },
     "metadata": {},
     "output_type": "display_data"
    },
    {
     "data": {
      "text/html": [
       " View run <strong style=\"color:#cdcd00\">mild-sweep-32</strong> at: <a href='https://wandb.ai/d-massa/jarvis-node-regression-ADV-GNN_SAGE/runs/ouaz9t8p' target=\"_blank\">https://wandb.ai/d-massa/jarvis-node-regression-ADV-GNN_SAGE/runs/ouaz9t8p</a><br> View project at: <a href='https://wandb.ai/d-massa/jarvis-node-regression-ADV-GNN_SAGE' target=\"_blank\">https://wandb.ai/d-massa/jarvis-node-regression-ADV-GNN_SAGE</a><br>Synced 5 W&B file(s), 0 media file(s), 0 artifact file(s) and 0 other file(s)"
      ],
      "text/plain": [
       "<IPython.core.display.HTML object>"
      ]
     },
     "metadata": {},
     "output_type": "display_data"
    },
    {
     "data": {
      "text/html": [
       "Find logs at: <code>./wandb/run-20250306_072349-ouaz9t8p/logs</code>"
      ],
      "text/plain": [
       "<IPython.core.display.HTML object>"
      ]
     },
     "metadata": {},
     "output_type": "display_data"
    },
    {
     "name": "stderr",
     "output_type": "stream",
     "text": [
      "\u001b[34m\u001b[1mwandb\u001b[0m: Agent Starting Run: u6oe4b7u with config:\n",
      "\u001b[34m\u001b[1mwandb\u001b[0m: \tBatchS: 128\n",
      "\u001b[34m\u001b[1mwandb\u001b[0m: \tTrainS: 0.85\n",
      "\u001b[34m\u001b[1mwandb\u001b[0m: \taggr: min\n",
      "\u001b[34m\u001b[1mwandb\u001b[0m: \thidden_channels: 32\n",
      "\u001b[34m\u001b[1mwandb\u001b[0m: \tlr: 0.003277291954321877\n",
      "\u001b[34m\u001b[1mwandb\u001b[0m: \tmodel: GNN_SAGE\n",
      "\u001b[34m\u001b[1mwandb\u001b[0m: \tnum_layers: 3\n",
      "\u001b[34m\u001b[1mwandb\u001b[0m: \tweight_decay: 0.0005433198057939748\n"
     ]
    },
    {
     "data": {
      "text/html": [
       "Tracking run with wandb version 0.19.7"
      ],
      "text/plain": [
       "<IPython.core.display.HTML object>"
      ]
     },
     "metadata": {},
     "output_type": "display_data"
    },
    {
     "data": {
      "text/html": [
       "Run data is saved locally in <code>/Users/dariomss/Documents/GitHub/Graph_Project/wandb/run-20250306_072428-u6oe4b7u</code>"
      ],
      "text/plain": [
       "<IPython.core.display.HTML object>"
      ]
     },
     "metadata": {},
     "output_type": "display_data"
    },
    {
     "data": {
      "text/html": [
       "Syncing run <strong><a href='https://wandb.ai/d-massa/jarvis-node-regression-ADV-GNN_SAGE/runs/u6oe4b7u' target=\"_blank\">restful-sweep-33</a></strong> to <a href='https://wandb.ai/d-massa/jarvis-node-regression-ADV-GNN_SAGE' target=\"_blank\">Weights & Biases</a> (<a href='https://wandb.me/developer-guide' target=\"_blank\">docs</a>)<br>Sweep page: <a href='https://wandb.ai/d-massa/jarvis-node-regression-ADV-GNN_SAGE/sweeps/iv8c2hia' target=\"_blank\">https://wandb.ai/d-massa/jarvis-node-regression-ADV-GNN_SAGE/sweeps/iv8c2hia</a>"
      ],
      "text/plain": [
       "<IPython.core.display.HTML object>"
      ]
     },
     "metadata": {},
     "output_type": "display_data"
    },
    {
     "data": {
      "text/html": [
       " View project at <a href='https://wandb.ai/d-massa/jarvis-node-regression-ADV-GNN_SAGE' target=\"_blank\">https://wandb.ai/d-massa/jarvis-node-regression-ADV-GNN_SAGE</a>"
      ],
      "text/plain": [
       "<IPython.core.display.HTML object>"
      ]
     },
     "metadata": {},
     "output_type": "display_data"
    },
    {
     "data": {
      "text/html": [
       " View sweep at <a href='https://wandb.ai/d-massa/jarvis-node-regression-ADV-GNN_SAGE/sweeps/iv8c2hia' target=\"_blank\">https://wandb.ai/d-massa/jarvis-node-regression-ADV-GNN_SAGE/sweeps/iv8c2hia</a>"
      ],
      "text/plain": [
       "<IPython.core.display.HTML object>"
      ]
     },
     "metadata": {},
     "output_type": "display_data"
    },
    {
     "data": {
      "text/html": [
       " View run at <a href='https://wandb.ai/d-massa/jarvis-node-regression-ADV-GNN_SAGE/runs/u6oe4b7u' target=\"_blank\">https://wandb.ai/d-massa/jarvis-node-regression-ADV-GNN_SAGE/runs/u6oe4b7u</a>"
      ],
      "text/plain": [
       "<IPython.core.display.HTML object>"
      ]
     },
     "metadata": {},
     "output_type": "display_data"
    },
    {
     "name": "stderr",
     "output_type": "stream",
     "text": [
      "/Users/dariomss/Documents/GitHub/Graph_Project/PyG/lib/python3.9/site-packages/torch_geometric/deprecation.py:26: UserWarning: 'data.DataLoader' is deprecated, use 'loader.DataLoader' instead\n",
      "  warnings.warn(out)\n",
      "100%|██████████| 60/60 [00:29<00:00,  2.06it/s]\n"
     ]
    },
    {
     "data": {
      "text/html": [],
      "text/plain": [
       "<IPython.core.display.HTML object>"
      ]
     },
     "metadata": {},
     "output_type": "display_data"
    },
    {
     "data": {
      "text/html": [
       "<br>    <style><br>        .wandb-row {<br>            display: flex;<br>            flex-direction: row;<br>            flex-wrap: wrap;<br>            justify-content: flex-start;<br>            width: 100%;<br>        }<br>        .wandb-col {<br>            display: flex;<br>            flex-direction: column;<br>            flex-basis: 100%;<br>            flex: 1;<br>            padding: 10px;<br>        }<br>    </style><br><div class=\"wandb-row\"><div class=\"wandb-col\"><h3>Run history:</h3><br/><table class=\"wandb\"><tr><td>gcn_jarvis-ADV-GNN_SAGE/test_RMSE</td><td>█▇▆▅▅▅▅▄▆▃▆▃▄▆▄▃▄▄▄▃▄▄▂▃▁▃▁▄▂▁▁▂▂▁▁▂▂▂▁▁</td></tr><tr><td>gcn_jarvis-ADV-GNN_SAGE/test_RMSE_orig</td><td>█▆▆▄▅▄▃▅▅▄▃▃▃▆▄▅▄▄▄▄▂▃▁▃▂▄▃▁▄▂▁▂▁▃▁▂▂▂▁▁</td></tr><tr><td>gcn_jarvis-ADV-GNN_SAGE/train_RMSE</td><td>██▅▅▆▅▆▆▃▅▇█▅▃▅▆▄▄▅▃▆▅▆▂▆▇▆▅▂▂▅▄▃▁▂▃▄▃▁▂</td></tr><tr><td>gcn_jarvis-ADV-GNN_SAGE/train_RMSE_orig</td><td>▅█▅▅▆▅▅▅▃▄▇▄▆▃▄▆▄▄▅▃▅▅▆▂▄▄▂▂▅▃▂▁▂▁▃▃▃▁▃▂</td></tr></table><br/></div><div class=\"wandb-col\"><h3>Run summary:</h3><br/><table class=\"wandb\"><tr><td>gcn_jarvis-ADV-GNN_SAGE/test_RMSE</td><td>0.69911</td></tr><tr><td>gcn_jarvis-ADV-GNN_SAGE/test_RMSE_orig</td><td>1.58121</td></tr><tr><td>gcn_jarvis-ADV-GNN_SAGE/train_RMSE</td><td>0.56517</td></tr><tr><td>gcn_jarvis-ADV-GNN_SAGE/train_RMSE_orig</td><td>1.3982</td></tr></table><br/></div></div>"
      ],
      "text/plain": [
       "<IPython.core.display.HTML object>"
      ]
     },
     "metadata": {},
     "output_type": "display_data"
    },
    {
     "data": {
      "text/html": [
       " View run <strong style=\"color:#cdcd00\">restful-sweep-33</strong> at: <a href='https://wandb.ai/d-massa/jarvis-node-regression-ADV-GNN_SAGE/runs/u6oe4b7u' target=\"_blank\">https://wandb.ai/d-massa/jarvis-node-regression-ADV-GNN_SAGE/runs/u6oe4b7u</a><br> View project at: <a href='https://wandb.ai/d-massa/jarvis-node-regression-ADV-GNN_SAGE' target=\"_blank\">https://wandb.ai/d-massa/jarvis-node-regression-ADV-GNN_SAGE</a><br>Synced 5 W&B file(s), 0 media file(s), 0 artifact file(s) and 0 other file(s)"
      ],
      "text/plain": [
       "<IPython.core.display.HTML object>"
      ]
     },
     "metadata": {},
     "output_type": "display_data"
    },
    {
     "data": {
      "text/html": [
       "Find logs at: <code>./wandb/run-20250306_072428-u6oe4b7u/logs</code>"
      ],
      "text/plain": [
       "<IPython.core.display.HTML object>"
      ]
     },
     "metadata": {},
     "output_type": "display_data"
    },
    {
     "name": "stderr",
     "output_type": "stream",
     "text": [
      "\u001b[34m\u001b[1mwandb\u001b[0m: Agent Starting Run: goryjv1w with config:\n",
      "\u001b[34m\u001b[1mwandb\u001b[0m: \tBatchS: 32\n",
      "\u001b[34m\u001b[1mwandb\u001b[0m: \tTrainS: 0.75\n",
      "\u001b[34m\u001b[1mwandb\u001b[0m: \taggr: mean\n",
      "\u001b[34m\u001b[1mwandb\u001b[0m: \thidden_channels: 8\n",
      "\u001b[34m\u001b[1mwandb\u001b[0m: \tlr: 0.005994584845892549\n",
      "\u001b[34m\u001b[1mwandb\u001b[0m: \tmodel: GNN_SAGE\n",
      "\u001b[34m\u001b[1mwandb\u001b[0m: \tnum_layers: 1\n",
      "\u001b[34m\u001b[1mwandb\u001b[0m: \tweight_decay: 0.00048784334582637834\n"
     ]
    },
    {
     "data": {
      "text/html": [
       "Tracking run with wandb version 0.19.7"
      ],
      "text/plain": [
       "<IPython.core.display.HTML object>"
      ]
     },
     "metadata": {},
     "output_type": "display_data"
    },
    {
     "data": {
      "text/html": [
       "Run data is saved locally in <code>/Users/dariomss/Documents/GitHub/Graph_Project/wandb/run-20250306_072506-goryjv1w</code>"
      ],
      "text/plain": [
       "<IPython.core.display.HTML object>"
      ]
     },
     "metadata": {},
     "output_type": "display_data"
    },
    {
     "data": {
      "text/html": [
       "Syncing run <strong><a href='https://wandb.ai/d-massa/jarvis-node-regression-ADV-GNN_SAGE/runs/goryjv1w' target=\"_blank\">warm-sweep-34</a></strong> to <a href='https://wandb.ai/d-massa/jarvis-node-regression-ADV-GNN_SAGE' target=\"_blank\">Weights & Biases</a> (<a href='https://wandb.me/developer-guide' target=\"_blank\">docs</a>)<br>Sweep page: <a href='https://wandb.ai/d-massa/jarvis-node-regression-ADV-GNN_SAGE/sweeps/iv8c2hia' target=\"_blank\">https://wandb.ai/d-massa/jarvis-node-regression-ADV-GNN_SAGE/sweeps/iv8c2hia</a>"
      ],
      "text/plain": [
       "<IPython.core.display.HTML object>"
      ]
     },
     "metadata": {},
     "output_type": "display_data"
    },
    {
     "data": {
      "text/html": [
       " View project at <a href='https://wandb.ai/d-massa/jarvis-node-regression-ADV-GNN_SAGE' target=\"_blank\">https://wandb.ai/d-massa/jarvis-node-regression-ADV-GNN_SAGE</a>"
      ],
      "text/plain": [
       "<IPython.core.display.HTML object>"
      ]
     },
     "metadata": {},
     "output_type": "display_data"
    },
    {
     "data": {
      "text/html": [
       " View sweep at <a href='https://wandb.ai/d-massa/jarvis-node-regression-ADV-GNN_SAGE/sweeps/iv8c2hia' target=\"_blank\">https://wandb.ai/d-massa/jarvis-node-regression-ADV-GNN_SAGE/sweeps/iv8c2hia</a>"
      ],
      "text/plain": [
       "<IPython.core.display.HTML object>"
      ]
     },
     "metadata": {},
     "output_type": "display_data"
    },
    {
     "data": {
      "text/html": [
       " View run at <a href='https://wandb.ai/d-massa/jarvis-node-regression-ADV-GNN_SAGE/runs/goryjv1w' target=\"_blank\">https://wandb.ai/d-massa/jarvis-node-regression-ADV-GNN_SAGE/runs/goryjv1w</a>"
      ],
      "text/plain": [
       "<IPython.core.display.HTML object>"
      ]
     },
     "metadata": {},
     "output_type": "display_data"
    },
    {
     "name": "stderr",
     "output_type": "stream",
     "text": [
      "/Users/dariomss/Documents/GitHub/Graph_Project/PyG/lib/python3.9/site-packages/torch_geometric/deprecation.py:26: UserWarning: 'data.DataLoader' is deprecated, use 'loader.DataLoader' instead\n",
      "  warnings.warn(out)\n",
      "100%|██████████| 60/60 [00:16<00:00,  3.67it/s]\n"
     ]
    },
    {
     "data": {
      "text/html": [],
      "text/plain": [
       "<IPython.core.display.HTML object>"
      ]
     },
     "metadata": {},
     "output_type": "display_data"
    },
    {
     "data": {
      "text/html": [
       "<br>    <style><br>        .wandb-row {<br>            display: flex;<br>            flex-direction: row;<br>            flex-wrap: wrap;<br>            justify-content: flex-start;<br>            width: 100%;<br>        }<br>        .wandb-col {<br>            display: flex;<br>            flex-direction: column;<br>            flex-basis: 100%;<br>            flex: 1;<br>            padding: 10px;<br>        }<br>    </style><br><div class=\"wandb-row\"><div class=\"wandb-col\"><h3>Run history:</h3><br/><table class=\"wandb\"><tr><td>gcn_jarvis-ADV-GNN_SAGE/test_RMSE</td><td>▆▄▃▂▂▁▄█▃▄▆▅▄▄▅▄█▂▂▃▃▂▃▃▄▃▃▅▄▂▃▃▃▅▃▃▄▄▃▃</td></tr><tr><td>gcn_jarvis-ADV-GNN_SAGE/test_RMSE_orig</td><td>▆▄▃▂▂▁▅▄▂█▄▆▄▄▇▃▂▃▃▂▅▃▄▄▃▃▃▅▄▂▃▃▄▅▃▄▃▄▄▅</td></tr><tr><td>gcn_jarvis-ADV-GNN_SAGE/train_RMSE</td><td>▃▃▅▃▆▆▅▅▃█▆▃▄▅▃▅▃▃▆▃▂▅▄▃▃▅▄▁▃▃▃▁▂▄▁▄▅▄▂▅</td></tr><tr><td>gcn_jarvis-ADV-GNN_SAGE/train_RMSE_orig</td><td>▆▃▃▅▃▃▅▅▃▃▂▅▃█▅▃▆▃▂▅▃▃▃▃▅▃▅▄▂▃▂▄▁▅▅▄▄▂▁▅</td></tr></table><br/></div><div class=\"wandb-col\"><h3>Run summary:</h3><br/><table class=\"wandb\"><tr><td>gcn_jarvis-ADV-GNN_SAGE/test_RMSE</td><td>0.82249</td></tr><tr><td>gcn_jarvis-ADV-GNN_SAGE/test_RMSE_orig</td><td>1.79529</td></tr><tr><td>gcn_jarvis-ADV-GNN_SAGE/train_RMSE</td><td>0.88016</td></tr><tr><td>gcn_jarvis-ADV-GNN_SAGE/train_RMSE_orig</td><td>1.91279</td></tr></table><br/></div></div>"
      ],
      "text/plain": [
       "<IPython.core.display.HTML object>"
      ]
     },
     "metadata": {},
     "output_type": "display_data"
    },
    {
     "data": {
      "text/html": [
       " View run <strong style=\"color:#cdcd00\">warm-sweep-34</strong> at: <a href='https://wandb.ai/d-massa/jarvis-node-regression-ADV-GNN_SAGE/runs/goryjv1w' target=\"_blank\">https://wandb.ai/d-massa/jarvis-node-regression-ADV-GNN_SAGE/runs/goryjv1w</a><br> View project at: <a href='https://wandb.ai/d-massa/jarvis-node-regression-ADV-GNN_SAGE' target=\"_blank\">https://wandb.ai/d-massa/jarvis-node-regression-ADV-GNN_SAGE</a><br>Synced 5 W&B file(s), 0 media file(s), 0 artifact file(s) and 0 other file(s)"
      ],
      "text/plain": [
       "<IPython.core.display.HTML object>"
      ]
     },
     "metadata": {},
     "output_type": "display_data"
    },
    {
     "data": {
      "text/html": [
       "Find logs at: <code>./wandb/run-20250306_072506-goryjv1w/logs</code>"
      ],
      "text/plain": [
       "<IPython.core.display.HTML object>"
      ]
     },
     "metadata": {},
     "output_type": "display_data"
    },
    {
     "name": "stderr",
     "output_type": "stream",
     "text": [
      "\u001b[34m\u001b[1mwandb\u001b[0m: Agent Starting Run: 20tzutnt with config:\n",
      "\u001b[34m\u001b[1mwandb\u001b[0m: \tBatchS: 128\n",
      "\u001b[34m\u001b[1mwandb\u001b[0m: \tTrainS: 0.85\n",
      "\u001b[34m\u001b[1mwandb\u001b[0m: \taggr: min\n",
      "\u001b[34m\u001b[1mwandb\u001b[0m: \thidden_channels: 32\n",
      "\u001b[34m\u001b[1mwandb\u001b[0m: \tlr: 0.004794301923577717\n",
      "\u001b[34m\u001b[1mwandb\u001b[0m: \tmodel: GNN_SAGE\n",
      "\u001b[34m\u001b[1mwandb\u001b[0m: \tnum_layers: 3\n",
      "\u001b[34m\u001b[1mwandb\u001b[0m: \tweight_decay: 0.0005343334870210328\n"
     ]
    },
    {
     "data": {
      "text/html": [],
      "text/plain": [
       "<IPython.core.display.HTML object>"
      ]
     },
     "metadata": {},
     "output_type": "display_data"
    },
    {
     "data": {
      "text/html": [
       "Tracking run with wandb version 0.19.7"
      ],
      "text/plain": [
       "<IPython.core.display.HTML object>"
      ]
     },
     "metadata": {},
     "output_type": "display_data"
    },
    {
     "data": {
      "text/html": [
       "Run data is saved locally in <code>/Users/dariomss/Documents/GitHub/Graph_Project/wandb/run-20250306_072533-20tzutnt</code>"
      ],
      "text/plain": [
       "<IPython.core.display.HTML object>"
      ]
     },
     "metadata": {},
     "output_type": "display_data"
    },
    {
     "data": {
      "text/html": [
       "Syncing run <strong><a href='https://wandb.ai/d-massa/jarvis-node-regression-ADV-GNN_SAGE/runs/20tzutnt' target=\"_blank\">vital-sweep-35</a></strong> to <a href='https://wandb.ai/d-massa/jarvis-node-regression-ADV-GNN_SAGE' target=\"_blank\">Weights & Biases</a> (<a href='https://wandb.me/developer-guide' target=\"_blank\">docs</a>)<br>Sweep page: <a href='https://wandb.ai/d-massa/jarvis-node-regression-ADV-GNN_SAGE/sweeps/iv8c2hia' target=\"_blank\">https://wandb.ai/d-massa/jarvis-node-regression-ADV-GNN_SAGE/sweeps/iv8c2hia</a>"
      ],
      "text/plain": [
       "<IPython.core.display.HTML object>"
      ]
     },
     "metadata": {},
     "output_type": "display_data"
    },
    {
     "data": {
      "text/html": [
       " View project at <a href='https://wandb.ai/d-massa/jarvis-node-regression-ADV-GNN_SAGE' target=\"_blank\">https://wandb.ai/d-massa/jarvis-node-regression-ADV-GNN_SAGE</a>"
      ],
      "text/plain": [
       "<IPython.core.display.HTML object>"
      ]
     },
     "metadata": {},
     "output_type": "display_data"
    },
    {
     "data": {
      "text/html": [
       " View sweep at <a href='https://wandb.ai/d-massa/jarvis-node-regression-ADV-GNN_SAGE/sweeps/iv8c2hia' target=\"_blank\">https://wandb.ai/d-massa/jarvis-node-regression-ADV-GNN_SAGE/sweeps/iv8c2hia</a>"
      ],
      "text/plain": [
       "<IPython.core.display.HTML object>"
      ]
     },
     "metadata": {},
     "output_type": "display_data"
    },
    {
     "data": {
      "text/html": [
       " View run at <a href='https://wandb.ai/d-massa/jarvis-node-regression-ADV-GNN_SAGE/runs/20tzutnt' target=\"_blank\">https://wandb.ai/d-massa/jarvis-node-regression-ADV-GNN_SAGE/runs/20tzutnt</a>"
      ],
      "text/plain": [
       "<IPython.core.display.HTML object>"
      ]
     },
     "metadata": {},
     "output_type": "display_data"
    },
    {
     "name": "stderr",
     "output_type": "stream",
     "text": [
      "/Users/dariomss/Documents/GitHub/Graph_Project/PyG/lib/python3.9/site-packages/torch_geometric/deprecation.py:26: UserWarning: 'data.DataLoader' is deprecated, use 'loader.DataLoader' instead\n",
      "  warnings.warn(out)\n",
      "100%|██████████| 60/60 [00:29<00:00,  2.00it/s]\n"
     ]
    },
    {
     "data": {
      "text/html": [],
      "text/plain": [
       "<IPython.core.display.HTML object>"
      ]
     },
     "metadata": {},
     "output_type": "display_data"
    },
    {
     "data": {
      "text/html": [
       "<br>    <style><br>        .wandb-row {<br>            display: flex;<br>            flex-direction: row;<br>            flex-wrap: wrap;<br>            justify-content: flex-start;<br>            width: 100%;<br>        }<br>        .wandb-col {<br>            display: flex;<br>            flex-direction: column;<br>            flex-basis: 100%;<br>            flex: 1;<br>            padding: 10px;<br>        }<br>    </style><br><div class=\"wandb-row\"><div class=\"wandb-col\"><h3>Run history:</h3><br/><table class=\"wandb\"><tr><td>gcn_jarvis-ADV-GNN_SAGE/test_RMSE</td><td>█▆▅▆▅▆▆▆▄▆▅▃▄▄▃▃▃▃▄▃▅▃▃▃▃▄▃▃▃▃▃▃▂▃▁▂▃▂▃▂</td></tr><tr><td>gcn_jarvis-ADV-GNN_SAGE/test_RMSE_orig</td><td>█▆▅▇▆▆▅▅▄▅▅▃▄▃▅▅▃▃▃▂▅▃▂▃▃▄▃▃▃▃▃▁▂▁▁▂▂▂▃▂</td></tr><tr><td>gcn_jarvis-ADV-GNN_SAGE/train_RMSE</td><td>█▅▄▆▄▅▄▄▄▄▄▄▃▅▄▂▁▃▂▃▂▂▂▄▁▂▄▂▁▃▂▂▂▁▂▂▂▂▂▁</td></tr><tr><td>gcn_jarvis-ADV-GNN_SAGE/train_RMSE_orig</td><td>█▅▅▄▄▄▄▃▄▃▄▃▄▂▄▃▂▃▃▂▃▃▄▁▃▄▄▂▁▂▂▂▂▁▂▂▂▂▁▂</td></tr></table><br/></div><div class=\"wandb-col\"><h3>Run summary:</h3><br/><table class=\"wandb\"><tr><td>gcn_jarvis-ADV-GNN_SAGE/test_RMSE</td><td>0.67274</td></tr><tr><td>gcn_jarvis-ADV-GNN_SAGE/test_RMSE_orig</td><td>1.54138</td></tr><tr><td>gcn_jarvis-ADV-GNN_SAGE/train_RMSE</td><td>0.56142</td></tr><tr><td>gcn_jarvis-ADV-GNN_SAGE/train_RMSE_orig</td><td>1.39373</td></tr></table><br/></div></div>"
      ],
      "text/plain": [
       "<IPython.core.display.HTML object>"
      ]
     },
     "metadata": {},
     "output_type": "display_data"
    },
    {
     "data": {
      "text/html": [
       " View run <strong style=\"color:#cdcd00\">vital-sweep-35</strong> at: <a href='https://wandb.ai/d-massa/jarvis-node-regression-ADV-GNN_SAGE/runs/20tzutnt' target=\"_blank\">https://wandb.ai/d-massa/jarvis-node-regression-ADV-GNN_SAGE/runs/20tzutnt</a><br> View project at: <a href='https://wandb.ai/d-massa/jarvis-node-regression-ADV-GNN_SAGE' target=\"_blank\">https://wandb.ai/d-massa/jarvis-node-regression-ADV-GNN_SAGE</a><br>Synced 5 W&B file(s), 0 media file(s), 0 artifact file(s) and 0 other file(s)"
      ],
      "text/plain": [
       "<IPython.core.display.HTML object>"
      ]
     },
     "metadata": {},
     "output_type": "display_data"
    },
    {
     "data": {
      "text/html": [
       "Find logs at: <code>./wandb/run-20250306_072533-20tzutnt/logs</code>"
      ],
      "text/plain": [
       "<IPython.core.display.HTML object>"
      ]
     },
     "metadata": {},
     "output_type": "display_data"
    },
    {
     "name": "stderr",
     "output_type": "stream",
     "text": [
      "\u001b[34m\u001b[1mwandb\u001b[0m: Agent Starting Run: gyws8xac with config:\n",
      "\u001b[34m\u001b[1mwandb\u001b[0m: \tBatchS: 128\n",
      "\u001b[34m\u001b[1mwandb\u001b[0m: \tTrainS: 0.75\n",
      "\u001b[34m\u001b[1mwandb\u001b[0m: \taggr: mean\n",
      "\u001b[34m\u001b[1mwandb\u001b[0m: \thidden_channels: 32\n",
      "\u001b[34m\u001b[1mwandb\u001b[0m: \tlr: 0.0008163165206990738\n",
      "\u001b[34m\u001b[1mwandb\u001b[0m: \tmodel: GNN_SAGE\n",
      "\u001b[34m\u001b[1mwandb\u001b[0m: \tnum_layers: 1\n",
      "\u001b[34m\u001b[1mwandb\u001b[0m: \tweight_decay: 0.0004288080830492347\n"
     ]
    },
    {
     "data": {
      "text/html": [],
      "text/plain": [
       "<IPython.core.display.HTML object>"
      ]
     },
     "metadata": {},
     "output_type": "display_data"
    },
    {
     "data": {
      "text/html": [
       "Tracking run with wandb version 0.19.7"
      ],
      "text/plain": [
       "<IPython.core.display.HTML object>"
      ]
     },
     "metadata": {},
     "output_type": "display_data"
    },
    {
     "data": {
      "text/html": [
       "Run data is saved locally in <code>/Users/dariomss/Documents/GitHub/Graph_Project/wandb/run-20250306_072611-gyws8xac</code>"
      ],
      "text/plain": [
       "<IPython.core.display.HTML object>"
      ]
     },
     "metadata": {},
     "output_type": "display_data"
    },
    {
     "data": {
      "text/html": [
       "Syncing run <strong><a href='https://wandb.ai/d-massa/jarvis-node-regression-ADV-GNN_SAGE/runs/gyws8xac' target=\"_blank\">stilted-sweep-36</a></strong> to <a href='https://wandb.ai/d-massa/jarvis-node-regression-ADV-GNN_SAGE' target=\"_blank\">Weights & Biases</a> (<a href='https://wandb.me/developer-guide' target=\"_blank\">docs</a>)<br>Sweep page: <a href='https://wandb.ai/d-massa/jarvis-node-regression-ADV-GNN_SAGE/sweeps/iv8c2hia' target=\"_blank\">https://wandb.ai/d-massa/jarvis-node-regression-ADV-GNN_SAGE/sweeps/iv8c2hia</a>"
      ],
      "text/plain": [
       "<IPython.core.display.HTML object>"
      ]
     },
     "metadata": {},
     "output_type": "display_data"
    },
    {
     "data": {
      "text/html": [
       " View project at <a href='https://wandb.ai/d-massa/jarvis-node-regression-ADV-GNN_SAGE' target=\"_blank\">https://wandb.ai/d-massa/jarvis-node-regression-ADV-GNN_SAGE</a>"
      ],
      "text/plain": [
       "<IPython.core.display.HTML object>"
      ]
     },
     "metadata": {},
     "output_type": "display_data"
    },
    {
     "data": {
      "text/html": [
       " View sweep at <a href='https://wandb.ai/d-massa/jarvis-node-regression-ADV-GNN_SAGE/sweeps/iv8c2hia' target=\"_blank\">https://wandb.ai/d-massa/jarvis-node-regression-ADV-GNN_SAGE/sweeps/iv8c2hia</a>"
      ],
      "text/plain": [
       "<IPython.core.display.HTML object>"
      ]
     },
     "metadata": {},
     "output_type": "display_data"
    },
    {
     "data": {
      "text/html": [
       " View run at <a href='https://wandb.ai/d-massa/jarvis-node-regression-ADV-GNN_SAGE/runs/gyws8xac' target=\"_blank\">https://wandb.ai/d-massa/jarvis-node-regression-ADV-GNN_SAGE/runs/gyws8xac</a>"
      ],
      "text/plain": [
       "<IPython.core.display.HTML object>"
      ]
     },
     "metadata": {},
     "output_type": "display_data"
    },
    {
     "name": "stderr",
     "output_type": "stream",
     "text": [
      "/Users/dariomss/Documents/GitHub/Graph_Project/PyG/lib/python3.9/site-packages/torch_geometric/deprecation.py:26: UserWarning: 'data.DataLoader' is deprecated, use 'loader.DataLoader' instead\n",
      "  warnings.warn(out)\n",
      "100%|██████████| 60/60 [00:14<00:00,  4.02it/s]\n"
     ]
    },
    {
     "data": {
      "text/html": [],
      "text/plain": [
       "<IPython.core.display.HTML object>"
      ]
     },
     "metadata": {},
     "output_type": "display_data"
    },
    {
     "data": {
      "text/html": [
       "<br>    <style><br>        .wandb-row {<br>            display: flex;<br>            flex-direction: row;<br>            flex-wrap: wrap;<br>            justify-content: flex-start;<br>            width: 100%;<br>        }<br>        .wandb-col {<br>            display: flex;<br>            flex-direction: column;<br>            flex-basis: 100%;<br>            flex: 1;<br>            padding: 10px;<br>        }<br>    </style><br><div class=\"wandb-row\"><div class=\"wandb-col\"><h3>Run history:</h3><br/><table class=\"wandb\"><tr><td>gcn_jarvis-ADV-GNN_SAGE/test_RMSE</td><td>█▅▃▂▁▁▁▁▁▁▁▁▁▁▁▁▁▁▁▁▁▁▁▁▁▁▁▁▁▁▁▁▁▁▁▁▁▁▁▁</td></tr><tr><td>gcn_jarvis-ADV-GNN_SAGE/test_RMSE_orig</td><td>█▃▂▁▁▁▁▁▁▁▁▁▁▁▁▁▁▁▁▁▁▁▁▁▁▁▁▁▁▁▁▁▁▁▁▁▁▁▁▁</td></tr><tr><td>gcn_jarvis-ADV-GNN_SAGE/train_RMSE</td><td>█▇▄▂▂▂▁▂▁▁▂▁▁▁▁▁▁▁▁▁▁▁▁▁▁▁▁▁▁▁▁▁▁▁▁▁▁▁▁▁</td></tr><tr><td>gcn_jarvis-ADV-GNN_SAGE/train_RMSE_orig</td><td>█▂▁▁▁▁▁▁▁▁▁▁▁▁▁▁▁▁▁▁▁▁▁▁▁▁▁▁▁▁▁▁▁▁▁▁▁▁▁▁</td></tr></table><br/></div><div class=\"wandb-col\"><h3>Run summary:</h3><br/><table class=\"wandb\"><tr><td>gcn_jarvis-ADV-GNN_SAGE/test_RMSE</td><td>0.83054</td></tr><tr><td>gcn_jarvis-ADV-GNN_SAGE/test_RMSE_orig</td><td>1.81097</td></tr><tr><td>gcn_jarvis-ADV-GNN_SAGE/train_RMSE</td><td>0.76718</td></tr><tr><td>gcn_jarvis-ADV-GNN_SAGE/train_RMSE_orig</td><td>1.6934</td></tr></table><br/></div></div>"
      ],
      "text/plain": [
       "<IPython.core.display.HTML object>"
      ]
     },
     "metadata": {},
     "output_type": "display_data"
    },
    {
     "data": {
      "text/html": [
       " View run <strong style=\"color:#cdcd00\">stilted-sweep-36</strong> at: <a href='https://wandb.ai/d-massa/jarvis-node-regression-ADV-GNN_SAGE/runs/gyws8xac' target=\"_blank\">https://wandb.ai/d-massa/jarvis-node-regression-ADV-GNN_SAGE/runs/gyws8xac</a><br> View project at: <a href='https://wandb.ai/d-massa/jarvis-node-regression-ADV-GNN_SAGE' target=\"_blank\">https://wandb.ai/d-massa/jarvis-node-regression-ADV-GNN_SAGE</a><br>Synced 5 W&B file(s), 0 media file(s), 0 artifact file(s) and 0 other file(s)"
      ],
      "text/plain": [
       "<IPython.core.display.HTML object>"
      ]
     },
     "metadata": {},
     "output_type": "display_data"
    },
    {
     "data": {
      "text/html": [
       "Find logs at: <code>./wandb/run-20250306_072611-gyws8xac/logs</code>"
      ],
      "text/plain": [
       "<IPython.core.display.HTML object>"
      ]
     },
     "metadata": {},
     "output_type": "display_data"
    },
    {
     "name": "stderr",
     "output_type": "stream",
     "text": [
      "\u001b[34m\u001b[1mwandb\u001b[0m: Agent Starting Run: whqiwuvi with config:\n",
      "\u001b[34m\u001b[1mwandb\u001b[0m: \tBatchS: 128\n",
      "\u001b[34m\u001b[1mwandb\u001b[0m: \tTrainS: 0.85\n",
      "\u001b[34m\u001b[1mwandb\u001b[0m: \taggr: min\n",
      "\u001b[34m\u001b[1mwandb\u001b[0m: \thidden_channels: 16\n",
      "\u001b[34m\u001b[1mwandb\u001b[0m: \tlr: 0.00786854381032957\n",
      "\u001b[34m\u001b[1mwandb\u001b[0m: \tmodel: GNN_SAGE\n",
      "\u001b[34m\u001b[1mwandb\u001b[0m: \tnum_layers: 3\n",
      "\u001b[34m\u001b[1mwandb\u001b[0m: \tweight_decay: 0.0005729463943141228\n"
     ]
    },
    {
     "data": {
      "text/html": [
       "Tracking run with wandb version 0.19.7"
      ],
      "text/plain": [
       "<IPython.core.display.HTML object>"
      ]
     },
     "metadata": {},
     "output_type": "display_data"
    },
    {
     "data": {
      "text/html": [
       "Run data is saved locally in <code>/Users/dariomss/Documents/GitHub/Graph_Project/wandb/run-20250306_072633-whqiwuvi</code>"
      ],
      "text/plain": [
       "<IPython.core.display.HTML object>"
      ]
     },
     "metadata": {},
     "output_type": "display_data"
    },
    {
     "data": {
      "text/html": [
       "Syncing run <strong><a href='https://wandb.ai/d-massa/jarvis-node-regression-ADV-GNN_SAGE/runs/whqiwuvi' target=\"_blank\">lively-sweep-37</a></strong> to <a href='https://wandb.ai/d-massa/jarvis-node-regression-ADV-GNN_SAGE' target=\"_blank\">Weights & Biases</a> (<a href='https://wandb.me/developer-guide' target=\"_blank\">docs</a>)<br>Sweep page: <a href='https://wandb.ai/d-massa/jarvis-node-regression-ADV-GNN_SAGE/sweeps/iv8c2hia' target=\"_blank\">https://wandb.ai/d-massa/jarvis-node-regression-ADV-GNN_SAGE/sweeps/iv8c2hia</a>"
      ],
      "text/plain": [
       "<IPython.core.display.HTML object>"
      ]
     },
     "metadata": {},
     "output_type": "display_data"
    },
    {
     "data": {
      "text/html": [
       " View project at <a href='https://wandb.ai/d-massa/jarvis-node-regression-ADV-GNN_SAGE' target=\"_blank\">https://wandb.ai/d-massa/jarvis-node-regression-ADV-GNN_SAGE</a>"
      ],
      "text/plain": [
       "<IPython.core.display.HTML object>"
      ]
     },
     "metadata": {},
     "output_type": "display_data"
    },
    {
     "data": {
      "text/html": [
       " View sweep at <a href='https://wandb.ai/d-massa/jarvis-node-regression-ADV-GNN_SAGE/sweeps/iv8c2hia' target=\"_blank\">https://wandb.ai/d-massa/jarvis-node-regression-ADV-GNN_SAGE/sweeps/iv8c2hia</a>"
      ],
      "text/plain": [
       "<IPython.core.display.HTML object>"
      ]
     },
     "metadata": {},
     "output_type": "display_data"
    },
    {
     "data": {
      "text/html": [
       " View run at <a href='https://wandb.ai/d-massa/jarvis-node-regression-ADV-GNN_SAGE/runs/whqiwuvi' target=\"_blank\">https://wandb.ai/d-massa/jarvis-node-regression-ADV-GNN_SAGE/runs/whqiwuvi</a>"
      ],
      "text/plain": [
       "<IPython.core.display.HTML object>"
      ]
     },
     "metadata": {},
     "output_type": "display_data"
    },
    {
     "name": "stderr",
     "output_type": "stream",
     "text": [
      "/Users/dariomss/Documents/GitHub/Graph_Project/PyG/lib/python3.9/site-packages/torch_geometric/deprecation.py:26: UserWarning: 'data.DataLoader' is deprecated, use 'loader.DataLoader' instead\n",
      "  warnings.warn(out)\n",
      "100%|██████████| 60/60 [00:23<00:00,  2.53it/s]\n"
     ]
    },
    {
     "data": {
      "text/html": [],
      "text/plain": [
       "<IPython.core.display.HTML object>"
      ]
     },
     "metadata": {},
     "output_type": "display_data"
    },
    {
     "data": {
      "text/html": [
       "<br>    <style><br>        .wandb-row {<br>            display: flex;<br>            flex-direction: row;<br>            flex-wrap: wrap;<br>            justify-content: flex-start;<br>            width: 100%;<br>        }<br>        .wandb-col {<br>            display: flex;<br>            flex-direction: column;<br>            flex-basis: 100%;<br>            flex: 1;<br>            padding: 10px;<br>        }<br>    </style><br><div class=\"wandb-row\"><div class=\"wandb-col\"><h3>Run history:</h3><br/><table class=\"wandb\"><tr><td>gcn_jarvis-ADV-GNN_SAGE/test_RMSE</td><td>█▅▄▄▅▂▃▂▁▂▃▂▄▃▅▃▄▃▄▂▃▂▂▃▃▅▂▃▃▆▂▃▃▃▁▃▂▃▂▃</td></tr><tr><td>gcn_jarvis-ADV-GNN_SAGE/test_RMSE_orig</td><td>█▅▄▄▄▂▂▁▂▁▃▂▃▅▂▃▃▄▄▂▃▃▂▂▂▃▄▂▃▃▂▃▃▂▃▃▄▂▂▃</td></tr><tr><td>gcn_jarvis-ADV-GNN_SAGE/train_RMSE</td><td>█▆▆▆▆▅▅▄▄▅▄▃▃▄▂▄▃▂▄▄▂▄▃▅▄▂▅▃▄▃▄▄▄▃▂▄▃▁▄▂</td></tr><tr><td>gcn_jarvis-ADV-GNN_SAGE/train_RMSE_orig</td><td>██▇▇▇▆▆▆▄▅▅▄▃▄▄▄▂▄▅▃▄▄▂▄▂▅▅▃▂▆▄▃▂▄▃▄▄▃▁▂</td></tr></table><br/></div><div class=\"wandb-col\"><h3>Run summary:</h3><br/><table class=\"wandb\"><tr><td>gcn_jarvis-ADV-GNN_SAGE/test_RMSE</td><td>0.74475</td></tr><tr><td>gcn_jarvis-ADV-GNN_SAGE/test_RMSE_orig</td><td>1.65489</td></tr><tr><td>gcn_jarvis-ADV-GNN_SAGE/train_RMSE</td><td>0.64334</td></tr><tr><td>gcn_jarvis-ADV-GNN_SAGE/train_RMSE_orig</td><td>1.49924</td></tr></table><br/></div></div>"
      ],
      "text/plain": [
       "<IPython.core.display.HTML object>"
      ]
     },
     "metadata": {},
     "output_type": "display_data"
    },
    {
     "data": {
      "text/html": [
       " View run <strong style=\"color:#cdcd00\">lively-sweep-37</strong> at: <a href='https://wandb.ai/d-massa/jarvis-node-regression-ADV-GNN_SAGE/runs/whqiwuvi' target=\"_blank\">https://wandb.ai/d-massa/jarvis-node-regression-ADV-GNN_SAGE/runs/whqiwuvi</a><br> View project at: <a href='https://wandb.ai/d-massa/jarvis-node-regression-ADV-GNN_SAGE' target=\"_blank\">https://wandb.ai/d-massa/jarvis-node-regression-ADV-GNN_SAGE</a><br>Synced 5 W&B file(s), 0 media file(s), 0 artifact file(s) and 0 other file(s)"
      ],
      "text/plain": [
       "<IPython.core.display.HTML object>"
      ]
     },
     "metadata": {},
     "output_type": "display_data"
    },
    {
     "data": {
      "text/html": [
       "Find logs at: <code>./wandb/run-20250306_072633-whqiwuvi/logs</code>"
      ],
      "text/plain": [
       "<IPython.core.display.HTML object>"
      ]
     },
     "metadata": {},
     "output_type": "display_data"
    },
    {
     "name": "stderr",
     "output_type": "stream",
     "text": [
      "\u001b[34m\u001b[1mwandb\u001b[0m: Agent Starting Run: nmorct8e with config:\n",
      "\u001b[34m\u001b[1mwandb\u001b[0m: \tBatchS: 64\n",
      "\u001b[34m\u001b[1mwandb\u001b[0m: \tTrainS: 0.75\n",
      "\u001b[34m\u001b[1mwandb\u001b[0m: \taggr: max\n",
      "\u001b[34m\u001b[1mwandb\u001b[0m: \thidden_channels: 8\n",
      "\u001b[34m\u001b[1mwandb\u001b[0m: \tlr: 0.007418672923492185\n",
      "\u001b[34m\u001b[1mwandb\u001b[0m: \tmodel: GNN_SAGE\n",
      "\u001b[34m\u001b[1mwandb\u001b[0m: \tnum_layers: 3\n",
      "\u001b[34m\u001b[1mwandb\u001b[0m: \tweight_decay: 0.000568864238623331\n"
     ]
    },
    {
     "data": {
      "text/html": [
       "Tracking run with wandb version 0.19.7"
      ],
      "text/plain": [
       "<IPython.core.display.HTML object>"
      ]
     },
     "metadata": {},
     "output_type": "display_data"
    },
    {
     "data": {
      "text/html": [
       "Run data is saved locally in <code>/Users/dariomss/Documents/GitHub/Graph_Project/wandb/run-20250306_072706-nmorct8e</code>"
      ],
      "text/plain": [
       "<IPython.core.display.HTML object>"
      ]
     },
     "metadata": {},
     "output_type": "display_data"
    },
    {
     "data": {
      "text/html": [
       "Syncing run <strong><a href='https://wandb.ai/d-massa/jarvis-node-regression-ADV-GNN_SAGE/runs/nmorct8e' target=\"_blank\">resilient-sweep-38</a></strong> to <a href='https://wandb.ai/d-massa/jarvis-node-regression-ADV-GNN_SAGE' target=\"_blank\">Weights & Biases</a> (<a href='https://wandb.me/developer-guide' target=\"_blank\">docs</a>)<br>Sweep page: <a href='https://wandb.ai/d-massa/jarvis-node-regression-ADV-GNN_SAGE/sweeps/iv8c2hia' target=\"_blank\">https://wandb.ai/d-massa/jarvis-node-regression-ADV-GNN_SAGE/sweeps/iv8c2hia</a>"
      ],
      "text/plain": [
       "<IPython.core.display.HTML object>"
      ]
     },
     "metadata": {},
     "output_type": "display_data"
    },
    {
     "data": {
      "text/html": [
       " View project at <a href='https://wandb.ai/d-massa/jarvis-node-regression-ADV-GNN_SAGE' target=\"_blank\">https://wandb.ai/d-massa/jarvis-node-regression-ADV-GNN_SAGE</a>"
      ],
      "text/plain": [
       "<IPython.core.display.HTML object>"
      ]
     },
     "metadata": {},
     "output_type": "display_data"
    },
    {
     "data": {
      "text/html": [
       " View sweep at <a href='https://wandb.ai/d-massa/jarvis-node-regression-ADV-GNN_SAGE/sweeps/iv8c2hia' target=\"_blank\">https://wandb.ai/d-massa/jarvis-node-regression-ADV-GNN_SAGE/sweeps/iv8c2hia</a>"
      ],
      "text/plain": [
       "<IPython.core.display.HTML object>"
      ]
     },
     "metadata": {},
     "output_type": "display_data"
    },
    {
     "data": {
      "text/html": [
       " View run at <a href='https://wandb.ai/d-massa/jarvis-node-regression-ADV-GNN_SAGE/runs/nmorct8e' target=\"_blank\">https://wandb.ai/d-massa/jarvis-node-regression-ADV-GNN_SAGE/runs/nmorct8e</a>"
      ],
      "text/plain": [
       "<IPython.core.display.HTML object>"
      ]
     },
     "metadata": {},
     "output_type": "display_data"
    },
    {
     "name": "stderr",
     "output_type": "stream",
     "text": [
      "/Users/dariomss/Documents/GitHub/Graph_Project/PyG/lib/python3.9/site-packages/torch_geometric/deprecation.py:26: UserWarning: 'data.DataLoader' is deprecated, use 'loader.DataLoader' instead\n",
      "  warnings.warn(out)\n",
      "100%|██████████| 60/60 [00:20<00:00,  2.92it/s]\n"
     ]
    },
    {
     "data": {
      "text/html": [],
      "text/plain": [
       "<IPython.core.display.HTML object>"
      ]
     },
     "metadata": {},
     "output_type": "display_data"
    },
    {
     "data": {
      "text/html": [
       "<br>    <style><br>        .wandb-row {<br>            display: flex;<br>            flex-direction: row;<br>            flex-wrap: wrap;<br>            justify-content: flex-start;<br>            width: 100%;<br>        }<br>        .wandb-col {<br>            display: flex;<br>            flex-direction: column;<br>            flex-basis: 100%;<br>            flex: 1;<br>            padding: 10px;<br>        }<br>    </style><br><div class=\"wandb-row\"><div class=\"wandb-col\"><h3>Run history:</h3><br/><table class=\"wandb\"><tr><td>gcn_jarvis-ADV-GNN_SAGE/test_RMSE</td><td>▆▄▃▅▃█▃▂▅▅▂▁▂▃▁▂▁▁▂▅▄▁▁▁▂▂▁▃█▂▁▂▂▂▃▃▁▁▂▁</td></tr><tr><td>gcn_jarvis-ADV-GNN_SAGE/test_RMSE_orig</td><td>▅▄▆▄▄▃▂▅▅▂▂▂▂▃▃▂▂▅▆▃▂▂▁▂▃▂▃█▃▂▂▃▄▄▅▂▂▃▃▂</td></tr><tr><td>gcn_jarvis-ADV-GNN_SAGE/train_RMSE</td><td>▅▇█▆▆▆▆▅▇▄▅▅▆▃▇▅▅▄▅▅▅▅▅▄▄▁▆▅▅▄▄▄▂▂▂▄▃▅▃▃</td></tr><tr><td>gcn_jarvis-ADV-GNN_SAGE/train_RMSE_orig</td><td>██▇▇▇▇▅▇▆▅▇▅▇█▃▅▆█▇█▆▆▆▄▅▁▇▆▅▅▃▅▅▃▂▃▅▃▃▃</td></tr></table><br/></div><div class=\"wandb-col\"><h3>Run summary:</h3><br/><table class=\"wandb\"><tr><td>gcn_jarvis-ADV-GNN_SAGE/test_RMSE</td><td>0.76907</td></tr><tr><td>gcn_jarvis-ADV-GNN_SAGE/test_RMSE_orig</td><td>1.69672</td></tr><tr><td>gcn_jarvis-ADV-GNN_SAGE/train_RMSE</td><td>0.67141</td></tr><tr><td>gcn_jarvis-ADV-GNN_SAGE/train_RMSE_orig</td><td>1.53942</td></tr></table><br/></div></div>"
      ],
      "text/plain": [
       "<IPython.core.display.HTML object>"
      ]
     },
     "metadata": {},
     "output_type": "display_data"
    },
    {
     "data": {
      "text/html": [
       " View run <strong style=\"color:#cdcd00\">resilient-sweep-38</strong> at: <a href='https://wandb.ai/d-massa/jarvis-node-regression-ADV-GNN_SAGE/runs/nmorct8e' target=\"_blank\">https://wandb.ai/d-massa/jarvis-node-regression-ADV-GNN_SAGE/runs/nmorct8e</a><br> View project at: <a href='https://wandb.ai/d-massa/jarvis-node-regression-ADV-GNN_SAGE' target=\"_blank\">https://wandb.ai/d-massa/jarvis-node-regression-ADV-GNN_SAGE</a><br>Synced 5 W&B file(s), 0 media file(s), 0 artifact file(s) and 0 other file(s)"
      ],
      "text/plain": [
       "<IPython.core.display.HTML object>"
      ]
     },
     "metadata": {},
     "output_type": "display_data"
    },
    {
     "data": {
      "text/html": [
       "Find logs at: <code>./wandb/run-20250306_072706-nmorct8e/logs</code>"
      ],
      "text/plain": [
       "<IPython.core.display.HTML object>"
      ]
     },
     "metadata": {},
     "output_type": "display_data"
    },
    {
     "name": "stderr",
     "output_type": "stream",
     "text": [
      "\u001b[34m\u001b[1mwandb\u001b[0m: Sweep Agent: Waiting for job.\n",
      "\u001b[34m\u001b[1mwandb\u001b[0m: Job received.\n",
      "\u001b[34m\u001b[1mwandb\u001b[0m: Agent Starting Run: tpacuj74 with config:\n",
      "\u001b[34m\u001b[1mwandb\u001b[0m: \tBatchS: 128\n",
      "\u001b[34m\u001b[1mwandb\u001b[0m: \tTrainS: 0.85\n",
      "\u001b[34m\u001b[1mwandb\u001b[0m: \taggr: mean\n",
      "\u001b[34m\u001b[1mwandb\u001b[0m: \thidden_channels: 8\n",
      "\u001b[34m\u001b[1mwandb\u001b[0m: \tlr: 0.007963633342834382\n",
      "\u001b[34m\u001b[1mwandb\u001b[0m: \tmodel: GNN_SAGE\n",
      "\u001b[34m\u001b[1mwandb\u001b[0m: \tnum_layers: 3\n",
      "\u001b[34m\u001b[1mwandb\u001b[0m: \tweight_decay: 0.00043853672086333\n"
     ]
    },
    {
     "data": {
      "text/html": [
       "Tracking run with wandb version 0.19.7"
      ],
      "text/plain": [
       "<IPython.core.display.HTML object>"
      ]
     },
     "metadata": {},
     "output_type": "display_data"
    },
    {
     "data": {
      "text/html": [
       "Run data is saved locally in <code>/Users/dariomss/Documents/GitHub/Graph_Project/wandb/run-20250306_072743-tpacuj74</code>"
      ],
      "text/plain": [
       "<IPython.core.display.HTML object>"
      ]
     },
     "metadata": {},
     "output_type": "display_data"
    },
    {
     "data": {
      "text/html": [
       "Syncing run <strong><a href='https://wandb.ai/d-massa/jarvis-node-regression-ADV-GNN_SAGE/runs/tpacuj74' target=\"_blank\">pious-sweep-39</a></strong> to <a href='https://wandb.ai/d-massa/jarvis-node-regression-ADV-GNN_SAGE' target=\"_blank\">Weights & Biases</a> (<a href='https://wandb.me/developer-guide' target=\"_blank\">docs</a>)<br>Sweep page: <a href='https://wandb.ai/d-massa/jarvis-node-regression-ADV-GNN_SAGE/sweeps/iv8c2hia' target=\"_blank\">https://wandb.ai/d-massa/jarvis-node-regression-ADV-GNN_SAGE/sweeps/iv8c2hia</a>"
      ],
      "text/plain": [
       "<IPython.core.display.HTML object>"
      ]
     },
     "metadata": {},
     "output_type": "display_data"
    },
    {
     "data": {
      "text/html": [
       " View project at <a href='https://wandb.ai/d-massa/jarvis-node-regression-ADV-GNN_SAGE' target=\"_blank\">https://wandb.ai/d-massa/jarvis-node-regression-ADV-GNN_SAGE</a>"
      ],
      "text/plain": [
       "<IPython.core.display.HTML object>"
      ]
     },
     "metadata": {},
     "output_type": "display_data"
    },
    {
     "data": {
      "text/html": [
       " View sweep at <a href='https://wandb.ai/d-massa/jarvis-node-regression-ADV-GNN_SAGE/sweeps/iv8c2hia' target=\"_blank\">https://wandb.ai/d-massa/jarvis-node-regression-ADV-GNN_SAGE/sweeps/iv8c2hia</a>"
      ],
      "text/plain": [
       "<IPython.core.display.HTML object>"
      ]
     },
     "metadata": {},
     "output_type": "display_data"
    },
    {
     "data": {
      "text/html": [
       " View run at <a href='https://wandb.ai/d-massa/jarvis-node-regression-ADV-GNN_SAGE/runs/tpacuj74' target=\"_blank\">https://wandb.ai/d-massa/jarvis-node-regression-ADV-GNN_SAGE/runs/tpacuj74</a>"
      ],
      "text/plain": [
       "<IPython.core.display.HTML object>"
      ]
     },
     "metadata": {},
     "output_type": "display_data"
    },
    {
     "name": "stderr",
     "output_type": "stream",
     "text": [
      "/Users/dariomss/Documents/GitHub/Graph_Project/PyG/lib/python3.9/site-packages/torch_geometric/deprecation.py:26: UserWarning: 'data.DataLoader' is deprecated, use 'loader.DataLoader' instead\n",
      "  warnings.warn(out)\n",
      "100%|██████████| 60/60 [00:19<00:00,  3.08it/s]\n"
     ]
    },
    {
     "data": {
      "text/html": [],
      "text/plain": [
       "<IPython.core.display.HTML object>"
      ]
     },
     "metadata": {},
     "output_type": "display_data"
    },
    {
     "data": {
      "text/html": [
       "<br>    <style><br>        .wandb-row {<br>            display: flex;<br>            flex-direction: row;<br>            flex-wrap: wrap;<br>            justify-content: flex-start;<br>            width: 100%;<br>        }<br>        .wandb-col {<br>            display: flex;<br>            flex-direction: column;<br>            flex-basis: 100%;<br>            flex: 1;<br>            padding: 10px;<br>        }<br>    </style><br><div class=\"wandb-row\"><div class=\"wandb-col\"><h3>Run history:</h3><br/><table class=\"wandb\"><tr><td>gcn_jarvis-ADV-GNN_SAGE/test_RMSE</td><td>█▆▅▅▄▄▄▄▅▅▅▅▅▄▄▄▃▄▃▃▃▁▃▁▂▃▂▃▂▃▂▂▄▃▂▂▁▂▂▂</td></tr><tr><td>gcn_jarvis-ADV-GNN_SAGE/test_RMSE_orig</td><td>█▆▅▅▄▄▃▄▅▄▄▄▅▅▄▄▄▃▄▃▃▁▃▁▂▂▃▂▃▂▃▂▄▂▂▂▁▃▁▂</td></tr><tr><td>gcn_jarvis-ADV-GNN_SAGE/train_RMSE</td><td>▇▆█▄█▃▄▆▄▅▅▄▄▄▄▃▅▄▄▃▅▅▄▄▄▄▄▄▃▄▃▁▃▃▄▃▄▄▄▃</td></tr><tr><td>gcn_jarvis-ADV-GNN_SAGE/train_RMSE_orig</td><td>▆█▄▆▇▆▄▆▄▄▃▅▄▃▃▄▃▄▃▄▄▃▃▄▄▃▂▄▃▄▄▁▃▃▄▂▃▄▄▃</td></tr></table><br/></div><div class=\"wandb-col\"><h3>Run summary:</h3><br/><table class=\"wandb\"><tr><td>gcn_jarvis-ADV-GNN_SAGE/test_RMSE</td><td>0.73737</td></tr><tr><td>gcn_jarvis-ADV-GNN_SAGE/test_RMSE_orig</td><td>1.64255</td></tr><tr><td>gcn_jarvis-ADV-GNN_SAGE/train_RMSE</td><td>0.739</td></tr><tr><td>gcn_jarvis-ADV-GNN_SAGE/train_RMSE_orig</td><td>1.64525</td></tr></table><br/></div></div>"
      ],
      "text/plain": [
       "<IPython.core.display.HTML object>"
      ]
     },
     "metadata": {},
     "output_type": "display_data"
    },
    {
     "data": {
      "text/html": [
       " View run <strong style=\"color:#cdcd00\">pious-sweep-39</strong> at: <a href='https://wandb.ai/d-massa/jarvis-node-regression-ADV-GNN_SAGE/runs/tpacuj74' target=\"_blank\">https://wandb.ai/d-massa/jarvis-node-regression-ADV-GNN_SAGE/runs/tpacuj74</a><br> View project at: <a href='https://wandb.ai/d-massa/jarvis-node-regression-ADV-GNN_SAGE' target=\"_blank\">https://wandb.ai/d-massa/jarvis-node-regression-ADV-GNN_SAGE</a><br>Synced 5 W&B file(s), 0 media file(s), 0 artifact file(s) and 0 other file(s)"
      ],
      "text/plain": [
       "<IPython.core.display.HTML object>"
      ]
     },
     "metadata": {},
     "output_type": "display_data"
    },
    {
     "data": {
      "text/html": [
       "Find logs at: <code>./wandb/run-20250306_072743-tpacuj74/logs</code>"
      ],
      "text/plain": [
       "<IPython.core.display.HTML object>"
      ]
     },
     "metadata": {},
     "output_type": "display_data"
    },
    {
     "name": "stderr",
     "output_type": "stream",
     "text": [
      "\u001b[34m\u001b[1mwandb\u001b[0m: Agent Starting Run: 4nlq474n with config:\n",
      "\u001b[34m\u001b[1mwandb\u001b[0m: \tBatchS: 128\n",
      "\u001b[34m\u001b[1mwandb\u001b[0m: \tTrainS: 0.85\n",
      "\u001b[34m\u001b[1mwandb\u001b[0m: \taggr: min\n",
      "\u001b[34m\u001b[1mwandb\u001b[0m: \thidden_channels: 32\n",
      "\u001b[34m\u001b[1mwandb\u001b[0m: \tlr: 0.006156606410310344\n",
      "\u001b[34m\u001b[1mwandb\u001b[0m: \tmodel: GNN_SAGE\n",
      "\u001b[34m\u001b[1mwandb\u001b[0m: \tnum_layers: 3\n",
      "\u001b[34m\u001b[1mwandb\u001b[0m: \tweight_decay: 0.0004026944402447211\n"
     ]
    },
    {
     "data": {
      "text/html": [
       "Tracking run with wandb version 0.19.7"
      ],
      "text/plain": [
       "<IPython.core.display.HTML object>"
      ]
     },
     "metadata": {},
     "output_type": "display_data"
    },
    {
     "data": {
      "text/html": [
       "Run data is saved locally in <code>/Users/dariomss/Documents/GitHub/Graph_Project/wandb/run-20250306_072812-4nlq474n</code>"
      ],
      "text/plain": [
       "<IPython.core.display.HTML object>"
      ]
     },
     "metadata": {},
     "output_type": "display_data"
    },
    {
     "data": {
      "text/html": [
       "Syncing run <strong><a href='https://wandb.ai/d-massa/jarvis-node-regression-ADV-GNN_SAGE/runs/4nlq474n' target=\"_blank\">rosy-sweep-40</a></strong> to <a href='https://wandb.ai/d-massa/jarvis-node-regression-ADV-GNN_SAGE' target=\"_blank\">Weights & Biases</a> (<a href='https://wandb.me/developer-guide' target=\"_blank\">docs</a>)<br>Sweep page: <a href='https://wandb.ai/d-massa/jarvis-node-regression-ADV-GNN_SAGE/sweeps/iv8c2hia' target=\"_blank\">https://wandb.ai/d-massa/jarvis-node-regression-ADV-GNN_SAGE/sweeps/iv8c2hia</a>"
      ],
      "text/plain": [
       "<IPython.core.display.HTML object>"
      ]
     },
     "metadata": {},
     "output_type": "display_data"
    },
    {
     "data": {
      "text/html": [
       " View project at <a href='https://wandb.ai/d-massa/jarvis-node-regression-ADV-GNN_SAGE' target=\"_blank\">https://wandb.ai/d-massa/jarvis-node-regression-ADV-GNN_SAGE</a>"
      ],
      "text/plain": [
       "<IPython.core.display.HTML object>"
      ]
     },
     "metadata": {},
     "output_type": "display_data"
    },
    {
     "data": {
      "text/html": [
       " View sweep at <a href='https://wandb.ai/d-massa/jarvis-node-regression-ADV-GNN_SAGE/sweeps/iv8c2hia' target=\"_blank\">https://wandb.ai/d-massa/jarvis-node-regression-ADV-GNN_SAGE/sweeps/iv8c2hia</a>"
      ],
      "text/plain": [
       "<IPython.core.display.HTML object>"
      ]
     },
     "metadata": {},
     "output_type": "display_data"
    },
    {
     "data": {
      "text/html": [
       " View run at <a href='https://wandb.ai/d-massa/jarvis-node-regression-ADV-GNN_SAGE/runs/4nlq474n' target=\"_blank\">https://wandb.ai/d-massa/jarvis-node-regression-ADV-GNN_SAGE/runs/4nlq474n</a>"
      ],
      "text/plain": [
       "<IPython.core.display.HTML object>"
      ]
     },
     "metadata": {},
     "output_type": "display_data"
    },
    {
     "name": "stderr",
     "output_type": "stream",
     "text": [
      "/Users/dariomss/Documents/GitHub/Graph_Project/PyG/lib/python3.9/site-packages/torch_geometric/deprecation.py:26: UserWarning: 'data.DataLoader' is deprecated, use 'loader.DataLoader' instead\n",
      "  warnings.warn(out)\n",
      "100%|██████████| 60/60 [00:27<00:00,  2.17it/s]\n"
     ]
    },
    {
     "data": {
      "text/html": [],
      "text/plain": [
       "<IPython.core.display.HTML object>"
      ]
     },
     "metadata": {},
     "output_type": "display_data"
    },
    {
     "data": {
      "text/html": [
       "<br>    <style><br>        .wandb-row {<br>            display: flex;<br>            flex-direction: row;<br>            flex-wrap: wrap;<br>            justify-content: flex-start;<br>            width: 100%;<br>        }<br>        .wandb-col {<br>            display: flex;<br>            flex-direction: column;<br>            flex-basis: 100%;<br>            flex: 1;<br>            padding: 10px;<br>        }<br>    </style><br><div class=\"wandb-row\"><div class=\"wandb-col\"><h3>Run history:</h3><br/><table class=\"wandb\"><tr><td>gcn_jarvis-ADV-GNN_SAGE/test_RMSE</td><td>█▇▅▇▆▅▆▅▄▅▄▆▄▄▃▅▃▂▃▄▃▃▃▄▃▃▃▁▂▂▂▁▃▃▂▂▂▃▄▂</td></tr><tr><td>gcn_jarvis-ADV-GNN_SAGE/test_RMSE_orig</td><td>█▇▅▆▇▆▆▅▄▅▄▅▃▃▅▄▃▄▄▄▃▂▃▂▃▃▁▂▂▂▂▃▂▂▂▂▃▄▁▂</td></tr><tr><td>gcn_jarvis-ADV-GNN_SAGE/train_RMSE</td><td>█▅▄▅▅▄▄▄▄▄▃▅▄▄▂▂▃▃▄▃▃▃▄▄▁▄▂▁▂▂▃▃▂▁▁▄▂▁▃▁</td></tr><tr><td>gcn_jarvis-ADV-GNN_SAGE/train_RMSE_orig</td><td>█▄▅▅▄▄▄▃▄▃▃▄▄▄▂▂▃▃▂▃▂▃▄▁▃▄▃▂▂▂▃▂▂▁▂▂▁▁▂▁</td></tr></table><br/></div><div class=\"wandb-col\"><h3>Run summary:</h3><br/><table class=\"wandb\"><tr><td>gcn_jarvis-ADV-GNN_SAGE/test_RMSE</td><td>0.68659</td></tr><tr><td>gcn_jarvis-ADV-GNN_SAGE/test_RMSE_orig</td><td>1.56205</td></tr><tr><td>gcn_jarvis-ADV-GNN_SAGE/train_RMSE</td><td>0.55784</td></tr><tr><td>gcn_jarvis-ADV-GNN_SAGE/train_RMSE_orig</td><td>1.38951</td></tr></table><br/></div></div>"
      ],
      "text/plain": [
       "<IPython.core.display.HTML object>"
      ]
     },
     "metadata": {},
     "output_type": "display_data"
    },
    {
     "data": {
      "text/html": [
       " View run <strong style=\"color:#cdcd00\">rosy-sweep-40</strong> at: <a href='https://wandb.ai/d-massa/jarvis-node-regression-ADV-GNN_SAGE/runs/4nlq474n' target=\"_blank\">https://wandb.ai/d-massa/jarvis-node-regression-ADV-GNN_SAGE/runs/4nlq474n</a><br> View project at: <a href='https://wandb.ai/d-massa/jarvis-node-regression-ADV-GNN_SAGE' target=\"_blank\">https://wandb.ai/d-massa/jarvis-node-regression-ADV-GNN_SAGE</a><br>Synced 5 W&B file(s), 0 media file(s), 0 artifact file(s) and 0 other file(s)"
      ],
      "text/plain": [
       "<IPython.core.display.HTML object>"
      ]
     },
     "metadata": {},
     "output_type": "display_data"
    },
    {
     "data": {
      "text/html": [
       "Find logs at: <code>./wandb/run-20250306_072812-4nlq474n/logs</code>"
      ],
      "text/plain": [
       "<IPython.core.display.HTML object>"
      ]
     },
     "metadata": {},
     "output_type": "display_data"
    },
    {
     "name": "stderr",
     "output_type": "stream",
     "text": [
      "\u001b[34m\u001b[1mwandb\u001b[0m: Sweep Agent: Waiting for job.\n",
      "\u001b[34m\u001b[1mwandb\u001b[0m: Job received.\n",
      "\u001b[34m\u001b[1mwandb\u001b[0m: Agent Starting Run: gf0rvvoz with config:\n",
      "\u001b[34m\u001b[1mwandb\u001b[0m: \tBatchS: 128\n",
      "\u001b[34m\u001b[1mwandb\u001b[0m: \tTrainS: 0.85\n",
      "\u001b[34m\u001b[1mwandb\u001b[0m: \taggr: min\n",
      "\u001b[34m\u001b[1mwandb\u001b[0m: \thidden_channels: 32\n",
      "\u001b[34m\u001b[1mwandb\u001b[0m: \tlr: 0.0019523226900215976\n",
      "\u001b[34m\u001b[1mwandb\u001b[0m: \tmodel: GNN_SAGE\n",
      "\u001b[34m\u001b[1mwandb\u001b[0m: \tnum_layers: 3\n",
      "\u001b[34m\u001b[1mwandb\u001b[0m: \tweight_decay: 0.0004828617528484648\n"
     ]
    },
    {
     "data": {
      "text/html": [
       "Tracking run with wandb version 0.19.7"
      ],
      "text/plain": [
       "<IPython.core.display.HTML object>"
      ]
     },
     "metadata": {},
     "output_type": "display_data"
    },
    {
     "data": {
      "text/html": [
       "Run data is saved locally in <code>/Users/dariomss/Documents/GitHub/Graph_Project/wandb/run-20250306_072853-gf0rvvoz</code>"
      ],
      "text/plain": [
       "<IPython.core.display.HTML object>"
      ]
     },
     "metadata": {},
     "output_type": "display_data"
    },
    {
     "data": {
      "text/html": [
       "Syncing run <strong><a href='https://wandb.ai/d-massa/jarvis-node-regression-ADV-GNN_SAGE/runs/gf0rvvoz' target=\"_blank\">gentle-sweep-41</a></strong> to <a href='https://wandb.ai/d-massa/jarvis-node-regression-ADV-GNN_SAGE' target=\"_blank\">Weights & Biases</a> (<a href='https://wandb.me/developer-guide' target=\"_blank\">docs</a>)<br>Sweep page: <a href='https://wandb.ai/d-massa/jarvis-node-regression-ADV-GNN_SAGE/sweeps/iv8c2hia' target=\"_blank\">https://wandb.ai/d-massa/jarvis-node-regression-ADV-GNN_SAGE/sweeps/iv8c2hia</a>"
      ],
      "text/plain": [
       "<IPython.core.display.HTML object>"
      ]
     },
     "metadata": {},
     "output_type": "display_data"
    },
    {
     "data": {
      "text/html": [
       " View project at <a href='https://wandb.ai/d-massa/jarvis-node-regression-ADV-GNN_SAGE' target=\"_blank\">https://wandb.ai/d-massa/jarvis-node-regression-ADV-GNN_SAGE</a>"
      ],
      "text/plain": [
       "<IPython.core.display.HTML object>"
      ]
     },
     "metadata": {},
     "output_type": "display_data"
    },
    {
     "data": {
      "text/html": [
       " View sweep at <a href='https://wandb.ai/d-massa/jarvis-node-regression-ADV-GNN_SAGE/sweeps/iv8c2hia' target=\"_blank\">https://wandb.ai/d-massa/jarvis-node-regression-ADV-GNN_SAGE/sweeps/iv8c2hia</a>"
      ],
      "text/plain": [
       "<IPython.core.display.HTML object>"
      ]
     },
     "metadata": {},
     "output_type": "display_data"
    },
    {
     "data": {
      "text/html": [
       " View run at <a href='https://wandb.ai/d-massa/jarvis-node-regression-ADV-GNN_SAGE/runs/gf0rvvoz' target=\"_blank\">https://wandb.ai/d-massa/jarvis-node-regression-ADV-GNN_SAGE/runs/gf0rvvoz</a>"
      ],
      "text/plain": [
       "<IPython.core.display.HTML object>"
      ]
     },
     "metadata": {},
     "output_type": "display_data"
    },
    {
     "name": "stderr",
     "output_type": "stream",
     "text": [
      "/Users/dariomss/Documents/GitHub/Graph_Project/PyG/lib/python3.9/site-packages/torch_geometric/deprecation.py:26: UserWarning: 'data.DataLoader' is deprecated, use 'loader.DataLoader' instead\n",
      "  warnings.warn(out)\n",
      "100%|██████████| 60/60 [00:30<00:00,  1.95it/s]\n"
     ]
    },
    {
     "data": {
      "text/html": [],
      "text/plain": [
       "<IPython.core.display.HTML object>"
      ]
     },
     "metadata": {},
     "output_type": "display_data"
    },
    {
     "data": {
      "text/html": [
       "<br>    <style><br>        .wandb-row {<br>            display: flex;<br>            flex-direction: row;<br>            flex-wrap: wrap;<br>            justify-content: flex-start;<br>            width: 100%;<br>        }<br>        .wandb-col {<br>            display: flex;<br>            flex-direction: column;<br>            flex-basis: 100%;<br>            flex: 1;<br>            padding: 10px;<br>        }<br>    </style><br><div class=\"wandb-row\"><div class=\"wandb-col\"><h3>Run history:</h3><br/><table class=\"wandb\"><tr><td>gcn_jarvis-ADV-GNN_SAGE/test_RMSE</td><td>█▆▆▆▅▄▄▅▄▄▄▃▃▄▄▄▃▄▃▄▃▃▂▃▃▂▃▂▂▂▂▂▂▁▂▁▁▂▂▁</td></tr><tr><td>gcn_jarvis-ADV-GNN_SAGE/test_RMSE_orig</td><td>█▆▆▆▅▄▄▄▃▄▄▃▃▄▃▃▄▃▃▃▂▃▂▂▃▂▂▂▃▂▂▂▁▂▂▁▂▁▁▂</td></tr><tr><td>gcn_jarvis-ADV-GNN_SAGE/train_RMSE</td><td>█▅▃▄▄▄▄▂▄▃▅▃▄▂▃▃▃▂▂▂▃▃▄▂▄▃▃▂▂▃▁▂▁▂▄▃▂▁▂▂</td></tr><tr><td>gcn_jarvis-ADV-GNN_SAGE/train_RMSE_orig</td><td>█▅▃▄▄▃▃▃▃▃▃▃▂▄▄▃▁▃▂▃▂▂▃▃▁▄▃▂▃▁▂▃▂▂▁▄▂▂▁▁</td></tr></table><br/></div><div class=\"wandb-col\"><h3>Run summary:</h3><br/><table class=\"wandb\"><tr><td>gcn_jarvis-ADV-GNN_SAGE/test_RMSE</td><td>0.67008</td></tr><tr><td>gcn_jarvis-ADV-GNN_SAGE/test_RMSE_orig</td><td>1.53748</td></tr><tr><td>gcn_jarvis-ADV-GNN_SAGE/train_RMSE</td><td>0.56522</td></tr><tr><td>gcn_jarvis-ADV-GNN_SAGE/train_RMSE_orig</td><td>1.39827</td></tr></table><br/></div></div>"
      ],
      "text/plain": [
       "<IPython.core.display.HTML object>"
      ]
     },
     "metadata": {},
     "output_type": "display_data"
    },
    {
     "data": {
      "text/html": [
       " View run <strong style=\"color:#cdcd00\">gentle-sweep-41</strong> at: <a href='https://wandb.ai/d-massa/jarvis-node-regression-ADV-GNN_SAGE/runs/gf0rvvoz' target=\"_blank\">https://wandb.ai/d-massa/jarvis-node-regression-ADV-GNN_SAGE/runs/gf0rvvoz</a><br> View project at: <a href='https://wandb.ai/d-massa/jarvis-node-regression-ADV-GNN_SAGE' target=\"_blank\">https://wandb.ai/d-massa/jarvis-node-regression-ADV-GNN_SAGE</a><br>Synced 5 W&B file(s), 0 media file(s), 0 artifact file(s) and 0 other file(s)"
      ],
      "text/plain": [
       "<IPython.core.display.HTML object>"
      ]
     },
     "metadata": {},
     "output_type": "display_data"
    },
    {
     "data": {
      "text/html": [
       "Find logs at: <code>./wandb/run-20250306_072853-gf0rvvoz/logs</code>"
      ],
      "text/plain": [
       "<IPython.core.display.HTML object>"
      ]
     },
     "metadata": {},
     "output_type": "display_data"
    },
    {
     "name": "stderr",
     "output_type": "stream",
     "text": [
      "\u001b[34m\u001b[1mwandb\u001b[0m: Agent Starting Run: zsep46v9 with config:\n",
      "\u001b[34m\u001b[1mwandb\u001b[0m: \tBatchS: 128\n",
      "\u001b[34m\u001b[1mwandb\u001b[0m: \tTrainS: 0.75\n",
      "\u001b[34m\u001b[1mwandb\u001b[0m: \taggr: mean\n",
      "\u001b[34m\u001b[1mwandb\u001b[0m: \thidden_channels: 8\n",
      "\u001b[34m\u001b[1mwandb\u001b[0m: \tlr: 0.0019332809852244583\n",
      "\u001b[34m\u001b[1mwandb\u001b[0m: \tmodel: GNN_SAGE\n",
      "\u001b[34m\u001b[1mwandb\u001b[0m: \tnum_layers: 1\n",
      "\u001b[34m\u001b[1mwandb\u001b[0m: \tweight_decay: 0.00045710896244996176\n"
     ]
    },
    {
     "data": {
      "text/html": [
       "Tracking run with wandb version 0.19.7"
      ],
      "text/plain": [
       "<IPython.core.display.HTML object>"
      ]
     },
     "metadata": {},
     "output_type": "display_data"
    },
    {
     "data": {
      "text/html": [
       "Run data is saved locally in <code>/Users/dariomss/Documents/GitHub/Graph_Project/wandb/run-20250306_072932-zsep46v9</code>"
      ],
      "text/plain": [
       "<IPython.core.display.HTML object>"
      ]
     },
     "metadata": {},
     "output_type": "display_data"
    },
    {
     "data": {
      "text/html": [
       "Syncing run <strong><a href='https://wandb.ai/d-massa/jarvis-node-regression-ADV-GNN_SAGE/runs/zsep46v9' target=\"_blank\">charmed-sweep-42</a></strong> to <a href='https://wandb.ai/d-massa/jarvis-node-regression-ADV-GNN_SAGE' target=\"_blank\">Weights & Biases</a> (<a href='https://wandb.me/developer-guide' target=\"_blank\">docs</a>)<br>Sweep page: <a href='https://wandb.ai/d-massa/jarvis-node-regression-ADV-GNN_SAGE/sweeps/iv8c2hia' target=\"_blank\">https://wandb.ai/d-massa/jarvis-node-regression-ADV-GNN_SAGE/sweeps/iv8c2hia</a>"
      ],
      "text/plain": [
       "<IPython.core.display.HTML object>"
      ]
     },
     "metadata": {},
     "output_type": "display_data"
    },
    {
     "data": {
      "text/html": [
       " View project at <a href='https://wandb.ai/d-massa/jarvis-node-regression-ADV-GNN_SAGE' target=\"_blank\">https://wandb.ai/d-massa/jarvis-node-regression-ADV-GNN_SAGE</a>"
      ],
      "text/plain": [
       "<IPython.core.display.HTML object>"
      ]
     },
     "metadata": {},
     "output_type": "display_data"
    },
    {
     "data": {
      "text/html": [
       " View sweep at <a href='https://wandb.ai/d-massa/jarvis-node-regression-ADV-GNN_SAGE/sweeps/iv8c2hia' target=\"_blank\">https://wandb.ai/d-massa/jarvis-node-regression-ADV-GNN_SAGE/sweeps/iv8c2hia</a>"
      ],
      "text/plain": [
       "<IPython.core.display.HTML object>"
      ]
     },
     "metadata": {},
     "output_type": "display_data"
    },
    {
     "data": {
      "text/html": [
       " View run at <a href='https://wandb.ai/d-massa/jarvis-node-regression-ADV-GNN_SAGE/runs/zsep46v9' target=\"_blank\">https://wandb.ai/d-massa/jarvis-node-regression-ADV-GNN_SAGE/runs/zsep46v9</a>"
      ],
      "text/plain": [
       "<IPython.core.display.HTML object>"
      ]
     },
     "metadata": {},
     "output_type": "display_data"
    },
    {
     "name": "stderr",
     "output_type": "stream",
     "text": [
      "/Users/dariomss/Documents/GitHub/Graph_Project/PyG/lib/python3.9/site-packages/torch_geometric/deprecation.py:26: UserWarning: 'data.DataLoader' is deprecated, use 'loader.DataLoader' instead\n",
      "  warnings.warn(out)\n",
      "100%|██████████| 60/60 [00:12<00:00,  4.90it/s]\n"
     ]
    },
    {
     "data": {
      "text/html": [],
      "text/plain": [
       "<IPython.core.display.HTML object>"
      ]
     },
     "metadata": {},
     "output_type": "display_data"
    },
    {
     "data": {
      "text/html": [
       "<br>    <style><br>        .wandb-row {<br>            display: flex;<br>            flex-direction: row;<br>            flex-wrap: wrap;<br>            justify-content: flex-start;<br>            width: 100%;<br>        }<br>        .wandb-col {<br>            display: flex;<br>            flex-direction: column;<br>            flex-basis: 100%;<br>            flex: 1;<br>            padding: 10px;<br>        }<br>    </style><br><div class=\"wandb-row\"><div class=\"wandb-col\"><h3>Run history:</h3><br/><table class=\"wandb\"><tr><td>gcn_jarvis-ADV-GNN_SAGE/test_RMSE</td><td>█▃▂▁▁▁▁▁▁▁▁▁▁▁▁▁▁▁▁▁▁▁▁▁▁▁▁▁▁▁▁▁▁▁▁▁▁▁▁▁</td></tr><tr><td>gcn_jarvis-ADV-GNN_SAGE/test_RMSE_orig</td><td>█▂▁▁▁▁▁▁▁▁▁▁▁▁▁▁▁▁▁▁▁▁▁▁▁▁▁▁▁▁▁▁▁▁▁▁▁▁▁▁</td></tr><tr><td>gcn_jarvis-ADV-GNN_SAGE/train_RMSE</td><td>█▅▄▃▃▂▂▂▂▂▂▂▂▂▂▁▂▂▂▂▂▂▁▂▂▂▂▁▂▁▁▁▂▁▁▂▂▂▂▂</td></tr><tr><td>gcn_jarvis-ADV-GNN_SAGE/train_RMSE_orig</td><td>█▃▃▂▂▂▂▁▁▁▁▂▂▁▁▁▁▁▁▁▁▁▁▁▂▁▁▁▁▁▁▁▁▁▁▁▁▁▁▁</td></tr></table><br/></div><div class=\"wandb-col\"><h3>Run summary:</h3><br/><table class=\"wandb\"><tr><td>gcn_jarvis-ADV-GNN_SAGE/test_RMSE</td><td>0.81834</td></tr><tr><td>gcn_jarvis-ADV-GNN_SAGE/test_RMSE_orig</td><td>1.78728</td></tr><tr><td>gcn_jarvis-ADV-GNN_SAGE/train_RMSE</td><td>0.85527</td></tr><tr><td>gcn_jarvis-ADV-GNN_SAGE/train_RMSE_orig</td><td>1.86059</td></tr></table><br/></div></div>"
      ],
      "text/plain": [
       "<IPython.core.display.HTML object>"
      ]
     },
     "metadata": {},
     "output_type": "display_data"
    },
    {
     "data": {
      "text/html": [
       " View run <strong style=\"color:#cdcd00\">charmed-sweep-42</strong> at: <a href='https://wandb.ai/d-massa/jarvis-node-regression-ADV-GNN_SAGE/runs/zsep46v9' target=\"_blank\">https://wandb.ai/d-massa/jarvis-node-regression-ADV-GNN_SAGE/runs/zsep46v9</a><br> View project at: <a href='https://wandb.ai/d-massa/jarvis-node-regression-ADV-GNN_SAGE' target=\"_blank\">https://wandb.ai/d-massa/jarvis-node-regression-ADV-GNN_SAGE</a><br>Synced 5 W&B file(s), 0 media file(s), 0 artifact file(s) and 0 other file(s)"
      ],
      "text/plain": [
       "<IPython.core.display.HTML object>"
      ]
     },
     "metadata": {},
     "output_type": "display_data"
    },
    {
     "data": {
      "text/html": [
       "Find logs at: <code>./wandb/run-20250306_072932-zsep46v9/logs</code>"
      ],
      "text/plain": [
       "<IPython.core.display.HTML object>"
      ]
     },
     "metadata": {},
     "output_type": "display_data"
    },
    {
     "name": "stderr",
     "output_type": "stream",
     "text": [
      "\u001b[34m\u001b[1mwandb\u001b[0m: Sweep Agent: Waiting for job.\n",
      "\u001b[34m\u001b[1mwandb\u001b[0m: Job received.\n",
      "\u001b[34m\u001b[1mwandb\u001b[0m: Agent Starting Run: og1skvh0 with config:\n",
      "\u001b[34m\u001b[1mwandb\u001b[0m: \tBatchS: 128\n",
      "\u001b[34m\u001b[1mwandb\u001b[0m: \tTrainS: 0.85\n",
      "\u001b[34m\u001b[1mwandb\u001b[0m: \taggr: min\n",
      "\u001b[34m\u001b[1mwandb\u001b[0m: \thidden_channels: 32\n",
      "\u001b[34m\u001b[1mwandb\u001b[0m: \tlr: 0.006604697964648534\n",
      "\u001b[34m\u001b[1mwandb\u001b[0m: \tmodel: GNN_SAGE\n",
      "\u001b[34m\u001b[1mwandb\u001b[0m: \tnum_layers: 3\n",
      "\u001b[34m\u001b[1mwandb\u001b[0m: \tweight_decay: 0.0004800465179807136\n"
     ]
    },
    {
     "data": {
      "text/html": [
       "Tracking run with wandb version 0.19.7"
      ],
      "text/plain": [
       "<IPython.core.display.HTML object>"
      ]
     },
     "metadata": {},
     "output_type": "display_data"
    },
    {
     "data": {
      "text/html": [
       "Run data is saved locally in <code>/Users/dariomss/Documents/GitHub/Graph_Project/wandb/run-20250306_072959-og1skvh0</code>"
      ],
      "text/plain": [
       "<IPython.core.display.HTML object>"
      ]
     },
     "metadata": {},
     "output_type": "display_data"
    },
    {
     "data": {
      "text/html": [
       "Syncing run <strong><a href='https://wandb.ai/d-massa/jarvis-node-regression-ADV-GNN_SAGE/runs/og1skvh0' target=\"_blank\">vital-sweep-43</a></strong> to <a href='https://wandb.ai/d-massa/jarvis-node-regression-ADV-GNN_SAGE' target=\"_blank\">Weights & Biases</a> (<a href='https://wandb.me/developer-guide' target=\"_blank\">docs</a>)<br>Sweep page: <a href='https://wandb.ai/d-massa/jarvis-node-regression-ADV-GNN_SAGE/sweeps/iv8c2hia' target=\"_blank\">https://wandb.ai/d-massa/jarvis-node-regression-ADV-GNN_SAGE/sweeps/iv8c2hia</a>"
      ],
      "text/plain": [
       "<IPython.core.display.HTML object>"
      ]
     },
     "metadata": {},
     "output_type": "display_data"
    },
    {
     "data": {
      "text/html": [
       " View project at <a href='https://wandb.ai/d-massa/jarvis-node-regression-ADV-GNN_SAGE' target=\"_blank\">https://wandb.ai/d-massa/jarvis-node-regression-ADV-GNN_SAGE</a>"
      ],
      "text/plain": [
       "<IPython.core.display.HTML object>"
      ]
     },
     "metadata": {},
     "output_type": "display_data"
    },
    {
     "data": {
      "text/html": [
       " View sweep at <a href='https://wandb.ai/d-massa/jarvis-node-regression-ADV-GNN_SAGE/sweeps/iv8c2hia' target=\"_blank\">https://wandb.ai/d-massa/jarvis-node-regression-ADV-GNN_SAGE/sweeps/iv8c2hia</a>"
      ],
      "text/plain": [
       "<IPython.core.display.HTML object>"
      ]
     },
     "metadata": {},
     "output_type": "display_data"
    },
    {
     "data": {
      "text/html": [
       " View run at <a href='https://wandb.ai/d-massa/jarvis-node-regression-ADV-GNN_SAGE/runs/og1skvh0' target=\"_blank\">https://wandb.ai/d-massa/jarvis-node-regression-ADV-GNN_SAGE/runs/og1skvh0</a>"
      ],
      "text/plain": [
       "<IPython.core.display.HTML object>"
      ]
     },
     "metadata": {},
     "output_type": "display_data"
    },
    {
     "name": "stderr",
     "output_type": "stream",
     "text": [
      "/Users/dariomss/Documents/GitHub/Graph_Project/PyG/lib/python3.9/site-packages/torch_geometric/deprecation.py:26: UserWarning: 'data.DataLoader' is deprecated, use 'loader.DataLoader' instead\n",
      "  warnings.warn(out)\n",
      "100%|██████████| 60/60 [00:27<00:00,  2.21it/s]\n"
     ]
    },
    {
     "data": {
      "text/html": [],
      "text/plain": [
       "<IPython.core.display.HTML object>"
      ]
     },
     "metadata": {},
     "output_type": "display_data"
    },
    {
     "data": {
      "text/html": [
       "<br>    <style><br>        .wandb-row {<br>            display: flex;<br>            flex-direction: row;<br>            flex-wrap: wrap;<br>            justify-content: flex-start;<br>            width: 100%;<br>        }<br>        .wandb-col {<br>            display: flex;<br>            flex-direction: column;<br>            flex-basis: 100%;<br>            flex: 1;<br>            padding: 10px;<br>        }<br>    </style><br><div class=\"wandb-row\"><div class=\"wandb-col\"><h3>Run history:</h3><br/><table class=\"wandb\"><tr><td>gcn_jarvis-ADV-GNN_SAGE/test_RMSE</td><td>█▆▅▅▅▄▆▄▃▄▄▄▃▄▃▄▃▃▄▃▃▄▃▃▄▄▄▁▃▃▃▂▁▄▃▁▂▃▂▄</td></tr><tr><td>gcn_jarvis-ADV-GNN_SAGE/test_RMSE_orig</td><td>█▆▅▅▃▆▄▃▃▅▄▄▄▃▃▄▃▃▄▃▄▃▃▃▃▂▃▃▃▂▄▃▃▁▁▁▂▃▂▁</td></tr><tr><td>gcn_jarvis-ADV-GNN_SAGE/train_RMSE</td><td>█▅▄▅▅▄▄▄▄▃▄▄▄▄▂▁▃▂▂▄▁▃▃▁▄▄▃▃▁▂▃▂▂▁▂▂▄▂▁▁</td></tr><tr><td>gcn_jarvis-ADV-GNN_SAGE/train_RMSE_orig</td><td>█▅▄▅▄▃▃▄▃▂▃▄▃▂▃▃▂▃▂▂▃▁▃▂▄▂▂▁▂▃▂▂▁▂▁▄▂▂▁▁</td></tr></table><br/></div><div class=\"wandb-col\"><h3>Run summary:</h3><br/><table class=\"wandb\"><tr><td>gcn_jarvis-ADV-GNN_SAGE/test_RMSE</td><td>0.68764</td></tr><tr><td>gcn_jarvis-ADV-GNN_SAGE/test_RMSE_orig</td><td>1.56365</td></tr><tr><td>gcn_jarvis-ADV-GNN_SAGE/train_RMSE</td><td>0.57344</td></tr><tr><td>gcn_jarvis-ADV-GNN_SAGE/train_RMSE_orig</td><td>1.40816</td></tr></table><br/></div></div>"
      ],
      "text/plain": [
       "<IPython.core.display.HTML object>"
      ]
     },
     "metadata": {},
     "output_type": "display_data"
    },
    {
     "data": {
      "text/html": [
       " View run <strong style=\"color:#cdcd00\">vital-sweep-43</strong> at: <a href='https://wandb.ai/d-massa/jarvis-node-regression-ADV-GNN_SAGE/runs/og1skvh0' target=\"_blank\">https://wandb.ai/d-massa/jarvis-node-regression-ADV-GNN_SAGE/runs/og1skvh0</a><br> View project at: <a href='https://wandb.ai/d-massa/jarvis-node-regression-ADV-GNN_SAGE' target=\"_blank\">https://wandb.ai/d-massa/jarvis-node-regression-ADV-GNN_SAGE</a><br>Synced 5 W&B file(s), 0 media file(s), 0 artifact file(s) and 0 other file(s)"
      ],
      "text/plain": [
       "<IPython.core.display.HTML object>"
      ]
     },
     "metadata": {},
     "output_type": "display_data"
    },
    {
     "data": {
      "text/html": [
       "Find logs at: <code>./wandb/run-20250306_072959-og1skvh0/logs</code>"
      ],
      "text/plain": [
       "<IPython.core.display.HTML object>"
      ]
     },
     "metadata": {},
     "output_type": "display_data"
    },
    {
     "name": "stderr",
     "output_type": "stream",
     "text": [
      "\u001b[34m\u001b[1mwandb\u001b[0m: Agent Starting Run: 0uom716w with config:\n",
      "\u001b[34m\u001b[1mwandb\u001b[0m: \tBatchS: 128\n",
      "\u001b[34m\u001b[1mwandb\u001b[0m: \tTrainS: 0.75\n",
      "\u001b[34m\u001b[1mwandb\u001b[0m: \taggr: min\n",
      "\u001b[34m\u001b[1mwandb\u001b[0m: \thidden_channels: 32\n",
      "\u001b[34m\u001b[1mwandb\u001b[0m: \tlr: 0.007275451240100884\n",
      "\u001b[34m\u001b[1mwandb\u001b[0m: \tmodel: GNN_SAGE\n",
      "\u001b[34m\u001b[1mwandb\u001b[0m: \tnum_layers: 3\n",
      "\u001b[34m\u001b[1mwandb\u001b[0m: \tweight_decay: 0.0005668612591106753\n"
     ]
    },
    {
     "data": {
      "text/html": [
       "Tracking run with wandb version 0.19.7"
      ],
      "text/plain": [
       "<IPython.core.display.HTML object>"
      ]
     },
     "metadata": {},
     "output_type": "display_data"
    },
    {
     "data": {
      "text/html": [
       "Run data is saved locally in <code>/Users/dariomss/Documents/GitHub/Graph_Project/wandb/run-20250306_073031-0uom716w</code>"
      ],
      "text/plain": [
       "<IPython.core.display.HTML object>"
      ]
     },
     "metadata": {},
     "output_type": "display_data"
    },
    {
     "data": {
      "text/html": [
       "Syncing run <strong><a href='https://wandb.ai/d-massa/jarvis-node-regression-ADV-GNN_SAGE/runs/0uom716w' target=\"_blank\">prime-sweep-44</a></strong> to <a href='https://wandb.ai/d-massa/jarvis-node-regression-ADV-GNN_SAGE' target=\"_blank\">Weights & Biases</a> (<a href='https://wandb.me/developer-guide' target=\"_blank\">docs</a>)<br>Sweep page: <a href='https://wandb.ai/d-massa/jarvis-node-regression-ADV-GNN_SAGE/sweeps/iv8c2hia' target=\"_blank\">https://wandb.ai/d-massa/jarvis-node-regression-ADV-GNN_SAGE/sweeps/iv8c2hia</a>"
      ],
      "text/plain": [
       "<IPython.core.display.HTML object>"
      ]
     },
     "metadata": {},
     "output_type": "display_data"
    },
    {
     "data": {
      "text/html": [
       " View project at <a href='https://wandb.ai/d-massa/jarvis-node-regression-ADV-GNN_SAGE' target=\"_blank\">https://wandb.ai/d-massa/jarvis-node-regression-ADV-GNN_SAGE</a>"
      ],
      "text/plain": [
       "<IPython.core.display.HTML object>"
      ]
     },
     "metadata": {},
     "output_type": "display_data"
    },
    {
     "data": {
      "text/html": [
       " View sweep at <a href='https://wandb.ai/d-massa/jarvis-node-regression-ADV-GNN_SAGE/sweeps/iv8c2hia' target=\"_blank\">https://wandb.ai/d-massa/jarvis-node-regression-ADV-GNN_SAGE/sweeps/iv8c2hia</a>"
      ],
      "text/plain": [
       "<IPython.core.display.HTML object>"
      ]
     },
     "metadata": {},
     "output_type": "display_data"
    },
    {
     "data": {
      "text/html": [
       " View run at <a href='https://wandb.ai/d-massa/jarvis-node-regression-ADV-GNN_SAGE/runs/0uom716w' target=\"_blank\">https://wandb.ai/d-massa/jarvis-node-regression-ADV-GNN_SAGE/runs/0uom716w</a>"
      ],
      "text/plain": [
       "<IPython.core.display.HTML object>"
      ]
     },
     "metadata": {},
     "output_type": "display_data"
    },
    {
     "name": "stderr",
     "output_type": "stream",
     "text": [
      "/Users/dariomss/Documents/GitHub/Graph_Project/PyG/lib/python3.9/site-packages/torch_geometric/deprecation.py:26: UserWarning: 'data.DataLoader' is deprecated, use 'loader.DataLoader' instead\n",
      "  warnings.warn(out)\n",
      "100%|██████████| 60/60 [00:29<00:00,  2.04it/s]\n"
     ]
    },
    {
     "data": {
      "text/html": [],
      "text/plain": [
       "<IPython.core.display.HTML object>"
      ]
     },
     "metadata": {},
     "output_type": "display_data"
    },
    {
     "data": {
      "text/html": [
       "<br>    <style><br>        .wandb-row {<br>            display: flex;<br>            flex-direction: row;<br>            flex-wrap: wrap;<br>            justify-content: flex-start;<br>            width: 100%;<br>        }<br>        .wandb-col {<br>            display: flex;<br>            flex-direction: column;<br>            flex-basis: 100%;<br>            flex: 1;<br>            padding: 10px;<br>        }<br>    </style><br><div class=\"wandb-row\"><div class=\"wandb-col\"><h3>Run history:</h3><br/><table class=\"wandb\"><tr><td>gcn_jarvis-ADV-GNN_SAGE/test_RMSE</td><td>█▇▅▄▆▄▄▆▄▃▅▃▃▃▃▄▄▂▄▂▁▃▃▂▂▂▁▃▂▄▄▂▃▃▄▄▃▄▁▂</td></tr><tr><td>gcn_jarvis-ADV-GNN_SAGE/test_RMSE_orig</td><td>█▇▄▄▅▅▃▃▃▄▃▃▄▄▁▂▂▁▃▃▂▂▂▁▃▂▄▃▄▂▃▃▄▄▃▁▂▂▃▂</td></tr><tr><td>gcn_jarvis-ADV-GNN_SAGE/train_RMSE</td><td>█▆▆▄▄▅▅▄▂▄▃▂▄▂▂▂▂▂▂▄▅▂▂▃▃▃▃▃▂▃▂▃▄▃▁▄▃▃▂▂</td></tr><tr><td>gcn_jarvis-ADV-GNN_SAGE/train_RMSE_orig</td><td>█▅▆▄▄▄▄▄▄▂▃▃▃▂▃▂▂▂▂▂▃▄▂▂▃▂▁▂▂▂▂▂▂▃▁▃▃▂▂▄</td></tr></table><br/></div><div class=\"wandb-col\"><h3>Run summary:</h3><br/><table class=\"wandb\"><tr><td>gcn_jarvis-ADV-GNN_SAGE/test_RMSE</td><td>0.71076</td></tr><tr><td>gcn_jarvis-ADV-GNN_SAGE/test_RMSE_orig</td><td>1.59944</td></tr><tr><td>gcn_jarvis-ADV-GNN_SAGE/train_RMSE</td><td>0.59603</td></tr><tr><td>gcn_jarvis-ADV-GNN_SAGE/train_RMSE_orig</td><td>1.43624</td></tr></table><br/></div></div>"
      ],
      "text/plain": [
       "<IPython.core.display.HTML object>"
      ]
     },
     "metadata": {},
     "output_type": "display_data"
    },
    {
     "data": {
      "text/html": [
       " View run <strong style=\"color:#cdcd00\">prime-sweep-44</strong> at: <a href='https://wandb.ai/d-massa/jarvis-node-regression-ADV-GNN_SAGE/runs/0uom716w' target=\"_blank\">https://wandb.ai/d-massa/jarvis-node-regression-ADV-GNN_SAGE/runs/0uom716w</a><br> View project at: <a href='https://wandb.ai/d-massa/jarvis-node-regression-ADV-GNN_SAGE' target=\"_blank\">https://wandb.ai/d-massa/jarvis-node-regression-ADV-GNN_SAGE</a><br>Synced 5 W&B file(s), 0 media file(s), 0 artifact file(s) and 0 other file(s)"
      ],
      "text/plain": [
       "<IPython.core.display.HTML object>"
      ]
     },
     "metadata": {},
     "output_type": "display_data"
    },
    {
     "data": {
      "text/html": [
       "Find logs at: <code>./wandb/run-20250306_073031-0uom716w/logs</code>"
      ],
      "text/plain": [
       "<IPython.core.display.HTML object>"
      ]
     },
     "metadata": {},
     "output_type": "display_data"
    },
    {
     "name": "stderr",
     "output_type": "stream",
     "text": [
      "\u001b[34m\u001b[1mwandb\u001b[0m: Agent Starting Run: ghgt67wi with config:\n",
      "\u001b[34m\u001b[1mwandb\u001b[0m: \tBatchS: 128\n",
      "\u001b[34m\u001b[1mwandb\u001b[0m: \tTrainS: 0.85\n",
      "\u001b[34m\u001b[1mwandb\u001b[0m: \taggr: max\n",
      "\u001b[34m\u001b[1mwandb\u001b[0m: \thidden_channels: 32\n",
      "\u001b[34m\u001b[1mwandb\u001b[0m: \tlr: 0.0011872011565564136\n",
      "\u001b[34m\u001b[1mwandb\u001b[0m: \tmodel: GNN_SAGE\n",
      "\u001b[34m\u001b[1mwandb\u001b[0m: \tnum_layers: 3\n",
      "\u001b[34m\u001b[1mwandb\u001b[0m: \tweight_decay: 0.0005922996644072941\n"
     ]
    },
    {
     "data": {
      "text/html": [
       "Tracking run with wandb version 0.19.7"
      ],
      "text/plain": [
       "<IPython.core.display.HTML object>"
      ]
     },
     "metadata": {},
     "output_type": "display_data"
    },
    {
     "data": {
      "text/html": [
       "Run data is saved locally in <code>/Users/dariomss/Documents/GitHub/Graph_Project/wandb/run-20250306_073108-ghgt67wi</code>"
      ],
      "text/plain": [
       "<IPython.core.display.HTML object>"
      ]
     },
     "metadata": {},
     "output_type": "display_data"
    },
    {
     "data": {
      "text/html": [
       "Syncing run <strong><a href='https://wandb.ai/d-massa/jarvis-node-regression-ADV-GNN_SAGE/runs/ghgt67wi' target=\"_blank\">lively-sweep-45</a></strong> to <a href='https://wandb.ai/d-massa/jarvis-node-regression-ADV-GNN_SAGE' target=\"_blank\">Weights & Biases</a> (<a href='https://wandb.me/developer-guide' target=\"_blank\">docs</a>)<br>Sweep page: <a href='https://wandb.ai/d-massa/jarvis-node-regression-ADV-GNN_SAGE/sweeps/iv8c2hia' target=\"_blank\">https://wandb.ai/d-massa/jarvis-node-regression-ADV-GNN_SAGE/sweeps/iv8c2hia</a>"
      ],
      "text/plain": [
       "<IPython.core.display.HTML object>"
      ]
     },
     "metadata": {},
     "output_type": "display_data"
    },
    {
     "data": {
      "text/html": [
       " View project at <a href='https://wandb.ai/d-massa/jarvis-node-regression-ADV-GNN_SAGE' target=\"_blank\">https://wandb.ai/d-massa/jarvis-node-regression-ADV-GNN_SAGE</a>"
      ],
      "text/plain": [
       "<IPython.core.display.HTML object>"
      ]
     },
     "metadata": {},
     "output_type": "display_data"
    },
    {
     "data": {
      "text/html": [
       " View sweep at <a href='https://wandb.ai/d-massa/jarvis-node-regression-ADV-GNN_SAGE/sweeps/iv8c2hia' target=\"_blank\">https://wandb.ai/d-massa/jarvis-node-regression-ADV-GNN_SAGE/sweeps/iv8c2hia</a>"
      ],
      "text/plain": [
       "<IPython.core.display.HTML object>"
      ]
     },
     "metadata": {},
     "output_type": "display_data"
    },
    {
     "data": {
      "text/html": [
       " View run at <a href='https://wandb.ai/d-massa/jarvis-node-regression-ADV-GNN_SAGE/runs/ghgt67wi' target=\"_blank\">https://wandb.ai/d-massa/jarvis-node-regression-ADV-GNN_SAGE/runs/ghgt67wi</a>"
      ],
      "text/plain": [
       "<IPython.core.display.HTML object>"
      ]
     },
     "metadata": {},
     "output_type": "display_data"
    },
    {
     "name": "stderr",
     "output_type": "stream",
     "text": [
      "/Users/dariomss/Documents/GitHub/Graph_Project/PyG/lib/python3.9/site-packages/torch_geometric/deprecation.py:26: UserWarning: 'data.DataLoader' is deprecated, use 'loader.DataLoader' instead\n",
      "  warnings.warn(out)\n",
      "100%|██████████| 60/60 [00:31<00:00,  1.91it/s]\n"
     ]
    },
    {
     "data": {
      "text/html": [],
      "text/plain": [
       "<IPython.core.display.HTML object>"
      ]
     },
     "metadata": {},
     "output_type": "display_data"
    },
    {
     "data": {
      "text/html": [
       "<br>    <style><br>        .wandb-row {<br>            display: flex;<br>            flex-direction: row;<br>            flex-wrap: wrap;<br>            justify-content: flex-start;<br>            width: 100%;<br>        }<br>        .wandb-col {<br>            display: flex;<br>            flex-direction: column;<br>            flex-basis: 100%;<br>            flex: 1;<br>            padding: 10px;<br>        }<br>    </style><br><div class=\"wandb-row\"><div class=\"wandb-col\"><h3>Run history:</h3><br/><table class=\"wandb\"><tr><td>gcn_jarvis-ADV-GNN_SAGE/test_RMSE</td><td>██▇▆▃▄▃▃▂▄▂▃▂▃▂▂▂▂▄▂▁▂▂▃▂▂▂▁▃▂▂▁▁▂▁▂▂▂▂▁</td></tr><tr><td>gcn_jarvis-ADV-GNN_SAGE/test_RMSE_orig</td><td>▇██▆▆▄▃▃▄▃▂▃▂▂▂▃▂▂▂▂▃▂▂▂▂▁▂▂▂▁▂▁▁▁▂▁▂▂▁▂</td></tr><tr><td>gcn_jarvis-ADV-GNN_SAGE/train_RMSE</td><td>█▆▅▄▄▄▄▄▂▃▃▄▄▃▄▃▃▃▃▂▄▃▂▃▄▃▃▁▄▂▂▁▂▁▂▃▂▂▂▁</td></tr><tr><td>gcn_jarvis-ADV-GNN_SAGE/train_RMSE_orig</td><td>█▆▅▄▃▃▃▃▃▁▃▂▃▃▃▂▂▃▃▂▃▃▃▃▂▂▄▃▃▁▃▂▁▁▁▄▃▂▂▂</td></tr></table><br/></div><div class=\"wandb-col\"><h3>Run summary:</h3><br/><table class=\"wandb\"><tr><td>gcn_jarvis-ADV-GNN_SAGE/test_RMSE</td><td>0.70837</td></tr><tr><td>gcn_jarvis-ADV-GNN_SAGE/test_RMSE_orig</td><td>1.59565</td></tr><tr><td>gcn_jarvis-ADV-GNN_SAGE/train_RMSE</td><td>0.56251</td></tr><tr><td>gcn_jarvis-ADV-GNN_SAGE/train_RMSE_orig</td><td>1.39503</td></tr></table><br/></div></div>"
      ],
      "text/plain": [
       "<IPython.core.display.HTML object>"
      ]
     },
     "metadata": {},
     "output_type": "display_data"
    },
    {
     "data": {
      "text/html": [
       " View run <strong style=\"color:#cdcd00\">lively-sweep-45</strong> at: <a href='https://wandb.ai/d-massa/jarvis-node-regression-ADV-GNN_SAGE/runs/ghgt67wi' target=\"_blank\">https://wandb.ai/d-massa/jarvis-node-regression-ADV-GNN_SAGE/runs/ghgt67wi</a><br> View project at: <a href='https://wandb.ai/d-massa/jarvis-node-regression-ADV-GNN_SAGE' target=\"_blank\">https://wandb.ai/d-massa/jarvis-node-regression-ADV-GNN_SAGE</a><br>Synced 5 W&B file(s), 0 media file(s), 0 artifact file(s) and 0 other file(s)"
      ],
      "text/plain": [
       "<IPython.core.display.HTML object>"
      ]
     },
     "metadata": {},
     "output_type": "display_data"
    },
    {
     "data": {
      "text/html": [
       "Find logs at: <code>./wandb/run-20250306_073108-ghgt67wi/logs</code>"
      ],
      "text/plain": [
       "<IPython.core.display.HTML object>"
      ]
     },
     "metadata": {},
     "output_type": "display_data"
    },
    {
     "name": "stderr",
     "output_type": "stream",
     "text": [
      "\u001b[34m\u001b[1mwandb\u001b[0m: Agent Starting Run: xyv9s0mf with config:\n",
      "\u001b[34m\u001b[1mwandb\u001b[0m: \tBatchS: 128\n",
      "\u001b[34m\u001b[1mwandb\u001b[0m: \tTrainS: 0.75\n",
      "\u001b[34m\u001b[1mwandb\u001b[0m: \taggr: min\n",
      "\u001b[34m\u001b[1mwandb\u001b[0m: \thidden_channels: 32\n",
      "\u001b[34m\u001b[1mwandb\u001b[0m: \tlr: 0.006577941819334216\n",
      "\u001b[34m\u001b[1mwandb\u001b[0m: \tmodel: GNN_SAGE\n",
      "\u001b[34m\u001b[1mwandb\u001b[0m: \tnum_layers: 3\n",
      "\u001b[34m\u001b[1mwandb\u001b[0m: \tweight_decay: 0.0004709076255511533\n"
     ]
    },
    {
     "data": {
      "text/html": [
       "Tracking run with wandb version 0.19.7"
      ],
      "text/plain": [
       "<IPython.core.display.HTML object>"
      ]
     },
     "metadata": {},
     "output_type": "display_data"
    },
    {
     "data": {
      "text/html": [
       "Run data is saved locally in <code>/Users/dariomss/Documents/GitHub/Graph_Project/wandb/run-20250306_073146-xyv9s0mf</code>"
      ],
      "text/plain": [
       "<IPython.core.display.HTML object>"
      ]
     },
     "metadata": {},
     "output_type": "display_data"
    },
    {
     "data": {
      "text/html": [
       "Syncing run <strong><a href='https://wandb.ai/d-massa/jarvis-node-regression-ADV-GNN_SAGE/runs/xyv9s0mf' target=\"_blank\">fiery-sweep-46</a></strong> to <a href='https://wandb.ai/d-massa/jarvis-node-regression-ADV-GNN_SAGE' target=\"_blank\">Weights & Biases</a> (<a href='https://wandb.me/developer-guide' target=\"_blank\">docs</a>)<br>Sweep page: <a href='https://wandb.ai/d-massa/jarvis-node-regression-ADV-GNN_SAGE/sweeps/iv8c2hia' target=\"_blank\">https://wandb.ai/d-massa/jarvis-node-regression-ADV-GNN_SAGE/sweeps/iv8c2hia</a>"
      ],
      "text/plain": [
       "<IPython.core.display.HTML object>"
      ]
     },
     "metadata": {},
     "output_type": "display_data"
    },
    {
     "data": {
      "text/html": [
       " View project at <a href='https://wandb.ai/d-massa/jarvis-node-regression-ADV-GNN_SAGE' target=\"_blank\">https://wandb.ai/d-massa/jarvis-node-regression-ADV-GNN_SAGE</a>"
      ],
      "text/plain": [
       "<IPython.core.display.HTML object>"
      ]
     },
     "metadata": {},
     "output_type": "display_data"
    },
    {
     "data": {
      "text/html": [
       " View sweep at <a href='https://wandb.ai/d-massa/jarvis-node-regression-ADV-GNN_SAGE/sweeps/iv8c2hia' target=\"_blank\">https://wandb.ai/d-massa/jarvis-node-regression-ADV-GNN_SAGE/sweeps/iv8c2hia</a>"
      ],
      "text/plain": [
       "<IPython.core.display.HTML object>"
      ]
     },
     "metadata": {},
     "output_type": "display_data"
    },
    {
     "data": {
      "text/html": [
       " View run at <a href='https://wandb.ai/d-massa/jarvis-node-regression-ADV-GNN_SAGE/runs/xyv9s0mf' target=\"_blank\">https://wandb.ai/d-massa/jarvis-node-regression-ADV-GNN_SAGE/runs/xyv9s0mf</a>"
      ],
      "text/plain": [
       "<IPython.core.display.HTML object>"
      ]
     },
     "metadata": {},
     "output_type": "display_data"
    },
    {
     "name": "stderr",
     "output_type": "stream",
     "text": [
      "/Users/dariomss/Documents/GitHub/Graph_Project/PyG/lib/python3.9/site-packages/torch_geometric/deprecation.py:26: UserWarning: 'data.DataLoader' is deprecated, use 'loader.DataLoader' instead\n",
      "  warnings.warn(out)\n",
      "100%|██████████| 60/60 [00:28<00:00,  2.12it/s]\n"
     ]
    },
    {
     "data": {
      "text/html": [],
      "text/plain": [
       "<IPython.core.display.HTML object>"
      ]
     },
     "metadata": {},
     "output_type": "display_data"
    },
    {
     "data": {
      "text/html": [
       "<br>    <style><br>        .wandb-row {<br>            display: flex;<br>            flex-direction: row;<br>            flex-wrap: wrap;<br>            justify-content: flex-start;<br>            width: 100%;<br>        }<br>        .wandb-col {<br>            display: flex;<br>            flex-direction: column;<br>            flex-basis: 100%;<br>            flex: 1;<br>            padding: 10px;<br>        }<br>    </style><br><div class=\"wandb-row\"><div class=\"wandb-col\"><h3>Run history:</h3><br/><table class=\"wandb\"><tr><td>gcn_jarvis-ADV-GNN_SAGE/test_RMSE</td><td>█▅▄▆▆▃▃▄▅▂▂▅▃▃▁▆▅▁▁▃▂▃▁▁▁▂▂▂▂▂▃▂▃▃▂▂▂▂▂▂</td></tr><tr><td>gcn_jarvis-ADV-GNN_SAGE/test_RMSE_orig</td><td>█▆▄▆▅▃▃▃▃▅▃▃▂▃▄▃▁▄▁▃▃▁▁▁▁▂▂▂▂▂▂▂▂▂▃▂▁▂▁▂</td></tr><tr><td>gcn_jarvis-ADV-GNN_SAGE/train_RMSE</td><td>█▅▇▄▃▄▃▃▄▄▃▂▂▂▂▁▂▂▂▄▂▄▂▃▂▂▁▃▂▂▃▂▁▂▃▂▂▁▃▃</td></tr><tr><td>gcn_jarvis-ADV-GNN_SAGE/train_RMSE_orig</td><td>█▅▅▆▄▃▃▃▃▂▃▃▂▂▂▁▁▂▂▂▃▃▂▃▂▂▁▂▂▁▁▂▂▃▁▃▂▂▁▂</td></tr></table><br/></div><div class=\"wandb-col\"><h3>Run summary:</h3><br/><table class=\"wandb\"><tr><td>gcn_jarvis-ADV-GNN_SAGE/test_RMSE</td><td>0.72116</td></tr><tr><td>gcn_jarvis-ADV-GNN_SAGE/test_RMSE_orig</td><td>1.61604</td></tr><tr><td>gcn_jarvis-ADV-GNN_SAGE/train_RMSE</td><td>0.63953</td></tr><tr><td>gcn_jarvis-ADV-GNN_SAGE/train_RMSE_orig</td><td>1.49395</td></tr></table><br/></div></div>"
      ],
      "text/plain": [
       "<IPython.core.display.HTML object>"
      ]
     },
     "metadata": {},
     "output_type": "display_data"
    },
    {
     "data": {
      "text/html": [
       " View run <strong style=\"color:#cdcd00\">fiery-sweep-46</strong> at: <a href='https://wandb.ai/d-massa/jarvis-node-regression-ADV-GNN_SAGE/runs/xyv9s0mf' target=\"_blank\">https://wandb.ai/d-massa/jarvis-node-regression-ADV-GNN_SAGE/runs/xyv9s0mf</a><br> View project at: <a href='https://wandb.ai/d-massa/jarvis-node-regression-ADV-GNN_SAGE' target=\"_blank\">https://wandb.ai/d-massa/jarvis-node-regression-ADV-GNN_SAGE</a><br>Synced 5 W&B file(s), 0 media file(s), 0 artifact file(s) and 0 other file(s)"
      ],
      "text/plain": [
       "<IPython.core.display.HTML object>"
      ]
     },
     "metadata": {},
     "output_type": "display_data"
    },
    {
     "data": {
      "text/html": [
       "Find logs at: <code>./wandb/run-20250306_073146-xyv9s0mf/logs</code>"
      ],
      "text/plain": [
       "<IPython.core.display.HTML object>"
      ]
     },
     "metadata": {},
     "output_type": "display_data"
    },
    {
     "name": "stderr",
     "output_type": "stream",
     "text": [
      "\u001b[34m\u001b[1mwandb\u001b[0m: Agent Starting Run: cufmmn2f with config:\n",
      "\u001b[34m\u001b[1mwandb\u001b[0m: \tBatchS: 128\n",
      "\u001b[34m\u001b[1mwandb\u001b[0m: \tTrainS: 0.75\n",
      "\u001b[34m\u001b[1mwandb\u001b[0m: \taggr: mean\n",
      "\u001b[34m\u001b[1mwandb\u001b[0m: \thidden_channels: 32\n",
      "\u001b[34m\u001b[1mwandb\u001b[0m: \tlr: 0.00790459874692943\n",
      "\u001b[34m\u001b[1mwandb\u001b[0m: \tmodel: GNN_SAGE\n",
      "\u001b[34m\u001b[1mwandb\u001b[0m: \tnum_layers: 3\n",
      "\u001b[34m\u001b[1mwandb\u001b[0m: \tweight_decay: 0.00044300538672562614\n"
     ]
    },
    {
     "data": {
      "text/html": [
       "Tracking run with wandb version 0.19.7"
      ],
      "text/plain": [
       "<IPython.core.display.HTML object>"
      ]
     },
     "metadata": {},
     "output_type": "display_data"
    },
    {
     "data": {
      "text/html": [
       "Run data is saved locally in <code>/Users/dariomss/Documents/GitHub/Graph_Project/wandb/run-20250306_073223-cufmmn2f</code>"
      ],
      "text/plain": [
       "<IPython.core.display.HTML object>"
      ]
     },
     "metadata": {},
     "output_type": "display_data"
    },
    {
     "data": {
      "text/html": [
       "Syncing run <strong><a href='https://wandb.ai/d-massa/jarvis-node-regression-ADV-GNN_SAGE/runs/cufmmn2f' target=\"_blank\">charmed-sweep-47</a></strong> to <a href='https://wandb.ai/d-massa/jarvis-node-regression-ADV-GNN_SAGE' target=\"_blank\">Weights & Biases</a> (<a href='https://wandb.me/developer-guide' target=\"_blank\">docs</a>)<br>Sweep page: <a href='https://wandb.ai/d-massa/jarvis-node-regression-ADV-GNN_SAGE/sweeps/iv8c2hia' target=\"_blank\">https://wandb.ai/d-massa/jarvis-node-regression-ADV-GNN_SAGE/sweeps/iv8c2hia</a>"
      ],
      "text/plain": [
       "<IPython.core.display.HTML object>"
      ]
     },
     "metadata": {},
     "output_type": "display_data"
    },
    {
     "data": {
      "text/html": [
       " View project at <a href='https://wandb.ai/d-massa/jarvis-node-regression-ADV-GNN_SAGE' target=\"_blank\">https://wandb.ai/d-massa/jarvis-node-regression-ADV-GNN_SAGE</a>"
      ],
      "text/plain": [
       "<IPython.core.display.HTML object>"
      ]
     },
     "metadata": {},
     "output_type": "display_data"
    },
    {
     "data": {
      "text/html": [
       " View sweep at <a href='https://wandb.ai/d-massa/jarvis-node-regression-ADV-GNN_SAGE/sweeps/iv8c2hia' target=\"_blank\">https://wandb.ai/d-massa/jarvis-node-regression-ADV-GNN_SAGE/sweeps/iv8c2hia</a>"
      ],
      "text/plain": [
       "<IPython.core.display.HTML object>"
      ]
     },
     "metadata": {},
     "output_type": "display_data"
    },
    {
     "data": {
      "text/html": [
       " View run at <a href='https://wandb.ai/d-massa/jarvis-node-regression-ADV-GNN_SAGE/runs/cufmmn2f' target=\"_blank\">https://wandb.ai/d-massa/jarvis-node-regression-ADV-GNN_SAGE/runs/cufmmn2f</a>"
      ],
      "text/plain": [
       "<IPython.core.display.HTML object>"
      ]
     },
     "metadata": {},
     "output_type": "display_data"
    },
    {
     "name": "stderr",
     "output_type": "stream",
     "text": [
      "/Users/dariomss/Documents/GitHub/Graph_Project/PyG/lib/python3.9/site-packages/torch_geometric/deprecation.py:26: UserWarning: 'data.DataLoader' is deprecated, use 'loader.DataLoader' instead\n",
      "  warnings.warn(out)\n",
      "100%|██████████| 60/60 [00:20<00:00,  2.91it/s]\n"
     ]
    },
    {
     "data": {
      "text/html": [],
      "text/plain": [
       "<IPython.core.display.HTML object>"
      ]
     },
     "metadata": {},
     "output_type": "display_data"
    },
    {
     "data": {
      "text/html": [
       "<br>    <style><br>        .wandb-row {<br>            display: flex;<br>            flex-direction: row;<br>            flex-wrap: wrap;<br>            justify-content: flex-start;<br>            width: 100%;<br>        }<br>        .wandb-col {<br>            display: flex;<br>            flex-direction: column;<br>            flex-basis: 100%;<br>            flex: 1;<br>            padding: 10px;<br>        }<br>    </style><br><div class=\"wandb-row\"><div class=\"wandb-col\"><h3>Run history:</h3><br/><table class=\"wandb\"><tr><td>gcn_jarvis-ADV-GNN_SAGE/test_RMSE</td><td>█▄▃▄▂▂▃▃▄▃▃▄▃▄▂▂▃▃▃▁▅▃▃▂▂▂▂▂▃▂▂▂▃▁▂▂▁▃▂▃</td></tr><tr><td>gcn_jarvis-ADV-GNN_SAGE/test_RMSE_orig</td><td>█▄▄▃▃▄▂▃▂▄▃▂▃▃▃▃▃▃▁▁▅▂▃▂▂▁▄▁▂▂▂▂▁▃▁▁▂▂▂▂</td></tr><tr><td>gcn_jarvis-ADV-GNN_SAGE/train_RMSE</td><td>█▆▆▇▅▃▅▆▅▅▅▃▄▂▃▃▃▃▂▂▄▄▃▃▆▄▁▂▂▂▁▂▃▃▁▂▃▂▁▃</td></tr><tr><td>gcn_jarvis-ADV-GNN_SAGE/train_RMSE_orig</td><td>▇▆█▅▃▆▄▅▃▅▄▂▄▃▂▃▂▂▃▂▄▃▆▂▄▂▂▃▂▂▂▃▃▂▁▃▁▃▂▂</td></tr></table><br/></div><div class=\"wandb-col\"><h3>Run summary:</h3><br/><table class=\"wandb\"><tr><td>gcn_jarvis-ADV-GNN_SAGE/test_RMSE</td><td>0.76858</td></tr><tr><td>gcn_jarvis-ADV-GNN_SAGE/test_RMSE_orig</td><td>1.69586</td></tr><tr><td>gcn_jarvis-ADV-GNN_SAGE/train_RMSE</td><td>0.63059</td></tr><tr><td>gcn_jarvis-ADV-GNN_SAGE/train_RMSE_orig</td><td>1.48168</td></tr></table><br/></div></div>"
      ],
      "text/plain": [
       "<IPython.core.display.HTML object>"
      ]
     },
     "metadata": {},
     "output_type": "display_data"
    },
    {
     "data": {
      "text/html": [
       " View run <strong style=\"color:#cdcd00\">charmed-sweep-47</strong> at: <a href='https://wandb.ai/d-massa/jarvis-node-regression-ADV-GNN_SAGE/runs/cufmmn2f' target=\"_blank\">https://wandb.ai/d-massa/jarvis-node-regression-ADV-GNN_SAGE/runs/cufmmn2f</a><br> View project at: <a href='https://wandb.ai/d-massa/jarvis-node-regression-ADV-GNN_SAGE' target=\"_blank\">https://wandb.ai/d-massa/jarvis-node-regression-ADV-GNN_SAGE</a><br>Synced 5 W&B file(s), 0 media file(s), 0 artifact file(s) and 0 other file(s)"
      ],
      "text/plain": [
       "<IPython.core.display.HTML object>"
      ]
     },
     "metadata": {},
     "output_type": "display_data"
    },
    {
     "data": {
      "text/html": [
       "Find logs at: <code>./wandb/run-20250306_073223-cufmmn2f/logs</code>"
      ],
      "text/plain": [
       "<IPython.core.display.HTML object>"
      ]
     },
     "metadata": {},
     "output_type": "display_data"
    },
    {
     "name": "stderr",
     "output_type": "stream",
     "text": [
      "\u001b[34m\u001b[1mwandb\u001b[0m: Agent Starting Run: 4clnyzcm with config:\n",
      "\u001b[34m\u001b[1mwandb\u001b[0m: \tBatchS: 128\n",
      "\u001b[34m\u001b[1mwandb\u001b[0m: \tTrainS: 0.85\n",
      "\u001b[34m\u001b[1mwandb\u001b[0m: \taggr: min\n",
      "\u001b[34m\u001b[1mwandb\u001b[0m: \thidden_channels: 32\n",
      "\u001b[34m\u001b[1mwandb\u001b[0m: \tlr: 0.0044817375894683105\n",
      "\u001b[34m\u001b[1mwandb\u001b[0m: \tmodel: GNN_SAGE\n",
      "\u001b[34m\u001b[1mwandb\u001b[0m: \tnum_layers: 3\n",
      "\u001b[34m\u001b[1mwandb\u001b[0m: \tweight_decay: 0.0005702724935816788\n"
     ]
    },
    {
     "data": {
      "text/html": [
       "Tracking run with wandb version 0.19.7"
      ],
      "text/plain": [
       "<IPython.core.display.HTML object>"
      ]
     },
     "metadata": {},
     "output_type": "display_data"
    },
    {
     "data": {
      "text/html": [
       "Run data is saved locally in <code>/Users/dariomss/Documents/GitHub/Graph_Project/wandb/run-20250306_073250-4clnyzcm</code>"
      ],
      "text/plain": [
       "<IPython.core.display.HTML object>"
      ]
     },
     "metadata": {},
     "output_type": "display_data"
    },
    {
     "data": {
      "text/html": [
       "Syncing run <strong><a href='https://wandb.ai/d-massa/jarvis-node-regression-ADV-GNN_SAGE/runs/4clnyzcm' target=\"_blank\">efficient-sweep-48</a></strong> to <a href='https://wandb.ai/d-massa/jarvis-node-regression-ADV-GNN_SAGE' target=\"_blank\">Weights & Biases</a> (<a href='https://wandb.me/developer-guide' target=\"_blank\">docs</a>)<br>Sweep page: <a href='https://wandb.ai/d-massa/jarvis-node-regression-ADV-GNN_SAGE/sweeps/iv8c2hia' target=\"_blank\">https://wandb.ai/d-massa/jarvis-node-regression-ADV-GNN_SAGE/sweeps/iv8c2hia</a>"
      ],
      "text/plain": [
       "<IPython.core.display.HTML object>"
      ]
     },
     "metadata": {},
     "output_type": "display_data"
    },
    {
     "data": {
      "text/html": [
       " View project at <a href='https://wandb.ai/d-massa/jarvis-node-regression-ADV-GNN_SAGE' target=\"_blank\">https://wandb.ai/d-massa/jarvis-node-regression-ADV-GNN_SAGE</a>"
      ],
      "text/plain": [
       "<IPython.core.display.HTML object>"
      ]
     },
     "metadata": {},
     "output_type": "display_data"
    },
    {
     "data": {
      "text/html": [
       " View sweep at <a href='https://wandb.ai/d-massa/jarvis-node-regression-ADV-GNN_SAGE/sweeps/iv8c2hia' target=\"_blank\">https://wandb.ai/d-massa/jarvis-node-regression-ADV-GNN_SAGE/sweeps/iv8c2hia</a>"
      ],
      "text/plain": [
       "<IPython.core.display.HTML object>"
      ]
     },
     "metadata": {},
     "output_type": "display_data"
    },
    {
     "data": {
      "text/html": [
       " View run at <a href='https://wandb.ai/d-massa/jarvis-node-regression-ADV-GNN_SAGE/runs/4clnyzcm' target=\"_blank\">https://wandb.ai/d-massa/jarvis-node-regression-ADV-GNN_SAGE/runs/4clnyzcm</a>"
      ],
      "text/plain": [
       "<IPython.core.display.HTML object>"
      ]
     },
     "metadata": {},
     "output_type": "display_data"
    },
    {
     "name": "stderr",
     "output_type": "stream",
     "text": [
      "/Users/dariomss/Documents/GitHub/Graph_Project/PyG/lib/python3.9/site-packages/torch_geometric/deprecation.py:26: UserWarning: 'data.DataLoader' is deprecated, use 'loader.DataLoader' instead\n",
      "  warnings.warn(out)\n",
      "100%|██████████| 60/60 [00:31<00:00,  1.91it/s]\n"
     ]
    },
    {
     "data": {
      "text/html": [],
      "text/plain": [
       "<IPython.core.display.HTML object>"
      ]
     },
     "metadata": {},
     "output_type": "display_data"
    },
    {
     "data": {
      "text/html": [
       "<br>    <style><br>        .wandb-row {<br>            display: flex;<br>            flex-direction: row;<br>            flex-wrap: wrap;<br>            justify-content: flex-start;<br>            width: 100%;<br>        }<br>        .wandb-col {<br>            display: flex;<br>            flex-direction: column;<br>            flex-basis: 100%;<br>            flex: 1;<br>            padding: 10px;<br>        }<br>    </style><br><div class=\"wandb-row\"><div class=\"wandb-col\"><h3>Run history:</h3><br/><table class=\"wandb\"><tr><td>gcn_jarvis-ADV-GNN_SAGE/test_RMSE</td><td>██▇▆▆▆▅▅▅▅▅▆▃▅▄▃▃▅▅▅▃▃▃▄▃▃▄▃▃▄▃▂▂▁▄▂▆▃▁▁</td></tr><tr><td>gcn_jarvis-ADV-GNN_SAGE/test_RMSE_orig</td><td>█▇▆▆▅▅▅▄▅▅▅▄▆▃▅▄▆▄▃▃▄▅▄▂▃▃▄▂▃▃▃▂▂▂▁▁▂▆▃▁</td></tr><tr><td>gcn_jarvis-ADV-GNN_SAGE/train_RMSE</td><td>▇█▇▅▇▆▅▅▅▇▄▆▃▅▁▅▄▅▅▃▆▅▃▃▇▄▅▃▂▅▃▃▂▂▂▇▃▃▁▂</td></tr><tr><td>gcn_jarvis-ADV-GNN_SAGE/train_RMSE_orig</td><td>█▅▄▅▄▄▄▃▃▃▃▃▄▃▄▃▁▃▃▃▃▂▂▃▃▂▄▃▃▁▂▃▂▂▁▂▂▂▁▂</td></tr></table><br/></div><div class=\"wandb-col\"><h3>Run summary:</h3><br/><table class=\"wandb\"><tr><td>gcn_jarvis-ADV-GNN_SAGE/test_RMSE</td><td>0.67479</td></tr><tr><td>gcn_jarvis-ADV-GNN_SAGE/test_RMSE_orig</td><td>1.54441</td></tr><tr><td>gcn_jarvis-ADV-GNN_SAGE/train_RMSE</td><td>0.56688</td></tr><tr><td>gcn_jarvis-ADV-GNN_SAGE/train_RMSE_orig</td><td>1.40025</td></tr></table><br/></div></div>"
      ],
      "text/plain": [
       "<IPython.core.display.HTML object>"
      ]
     },
     "metadata": {},
     "output_type": "display_data"
    },
    {
     "data": {
      "text/html": [
       " View run <strong style=\"color:#cdcd00\">efficient-sweep-48</strong> at: <a href='https://wandb.ai/d-massa/jarvis-node-regression-ADV-GNN_SAGE/runs/4clnyzcm' target=\"_blank\">https://wandb.ai/d-massa/jarvis-node-regression-ADV-GNN_SAGE/runs/4clnyzcm</a><br> View project at: <a href='https://wandb.ai/d-massa/jarvis-node-regression-ADV-GNN_SAGE' target=\"_blank\">https://wandb.ai/d-massa/jarvis-node-regression-ADV-GNN_SAGE</a><br>Synced 5 W&B file(s), 0 media file(s), 0 artifact file(s) and 0 other file(s)"
      ],
      "text/plain": [
       "<IPython.core.display.HTML object>"
      ]
     },
     "metadata": {},
     "output_type": "display_data"
    },
    {
     "data": {
      "text/html": [
       "Find logs at: <code>./wandb/run-20250306_073250-4clnyzcm/logs</code>"
      ],
      "text/plain": [
       "<IPython.core.display.HTML object>"
      ]
     },
     "metadata": {},
     "output_type": "display_data"
    },
    {
     "name": "stderr",
     "output_type": "stream",
     "text": [
      "\u001b[34m\u001b[1mwandb\u001b[0m: Agent Starting Run: kibpfz6r with config:\n",
      "\u001b[34m\u001b[1mwandb\u001b[0m: \tBatchS: 128\n",
      "\u001b[34m\u001b[1mwandb\u001b[0m: \tTrainS: 0.85\n",
      "\u001b[34m\u001b[1mwandb\u001b[0m: \taggr: min\n",
      "\u001b[34m\u001b[1mwandb\u001b[0m: \thidden_channels: 32\n",
      "\u001b[34m\u001b[1mwandb\u001b[0m: \tlr: 0.0032390411894736197\n",
      "\u001b[34m\u001b[1mwandb\u001b[0m: \tmodel: GNN_SAGE\n",
      "\u001b[34m\u001b[1mwandb\u001b[0m: \tnum_layers: 3\n",
      "\u001b[34m\u001b[1mwandb\u001b[0m: \tweight_decay: 0.0004833755277958436\n"
     ]
    },
    {
     "data": {
      "text/html": [
       "Tracking run with wandb version 0.19.7"
      ],
      "text/plain": [
       "<IPython.core.display.HTML object>"
      ]
     },
     "metadata": {},
     "output_type": "display_data"
    },
    {
     "data": {
      "text/html": [
       "Run data is saved locally in <code>/Users/dariomss/Documents/GitHub/Graph_Project/wandb/run-20250306_073327-kibpfz6r</code>"
      ],
      "text/plain": [
       "<IPython.core.display.HTML object>"
      ]
     },
     "metadata": {},
     "output_type": "display_data"
    },
    {
     "data": {
      "text/html": [
       "Syncing run <strong><a href='https://wandb.ai/d-massa/jarvis-node-regression-ADV-GNN_SAGE/runs/kibpfz6r' target=\"_blank\">clean-sweep-49</a></strong> to <a href='https://wandb.ai/d-massa/jarvis-node-regression-ADV-GNN_SAGE' target=\"_blank\">Weights & Biases</a> (<a href='https://wandb.me/developer-guide' target=\"_blank\">docs</a>)<br>Sweep page: <a href='https://wandb.ai/d-massa/jarvis-node-regression-ADV-GNN_SAGE/sweeps/iv8c2hia' target=\"_blank\">https://wandb.ai/d-massa/jarvis-node-regression-ADV-GNN_SAGE/sweeps/iv8c2hia</a>"
      ],
      "text/plain": [
       "<IPython.core.display.HTML object>"
      ]
     },
     "metadata": {},
     "output_type": "display_data"
    },
    {
     "data": {
      "text/html": [
       " View project at <a href='https://wandb.ai/d-massa/jarvis-node-regression-ADV-GNN_SAGE' target=\"_blank\">https://wandb.ai/d-massa/jarvis-node-regression-ADV-GNN_SAGE</a>"
      ],
      "text/plain": [
       "<IPython.core.display.HTML object>"
      ]
     },
     "metadata": {},
     "output_type": "display_data"
    },
    {
     "data": {
      "text/html": [
       " View sweep at <a href='https://wandb.ai/d-massa/jarvis-node-regression-ADV-GNN_SAGE/sweeps/iv8c2hia' target=\"_blank\">https://wandb.ai/d-massa/jarvis-node-regression-ADV-GNN_SAGE/sweeps/iv8c2hia</a>"
      ],
      "text/plain": [
       "<IPython.core.display.HTML object>"
      ]
     },
     "metadata": {},
     "output_type": "display_data"
    },
    {
     "data": {
      "text/html": [
       " View run at <a href='https://wandb.ai/d-massa/jarvis-node-regression-ADV-GNN_SAGE/runs/kibpfz6r' target=\"_blank\">https://wandb.ai/d-massa/jarvis-node-regression-ADV-GNN_SAGE/runs/kibpfz6r</a>"
      ],
      "text/plain": [
       "<IPython.core.display.HTML object>"
      ]
     },
     "metadata": {},
     "output_type": "display_data"
    },
    {
     "name": "stderr",
     "output_type": "stream",
     "text": [
      "/Users/dariomss/Documents/GitHub/Graph_Project/PyG/lib/python3.9/site-packages/torch_geometric/deprecation.py:26: UserWarning: 'data.DataLoader' is deprecated, use 'loader.DataLoader' instead\n",
      "  warnings.warn(out)\n",
      "100%|██████████| 60/60 [00:28<00:00,  2.09it/s]\n"
     ]
    },
    {
     "data": {
      "text/html": [],
      "text/plain": [
       "<IPython.core.display.HTML object>"
      ]
     },
     "metadata": {},
     "output_type": "display_data"
    },
    {
     "data": {
      "text/html": [
       "<br>    <style><br>        .wandb-row {<br>            display: flex;<br>            flex-direction: row;<br>            flex-wrap: wrap;<br>            justify-content: flex-start;<br>            width: 100%;<br>        }<br>        .wandb-col {<br>            display: flex;<br>            flex-direction: column;<br>            flex-basis: 100%;<br>            flex: 1;<br>            padding: 10px;<br>        }<br>    </style><br><div class=\"wandb-row\"><div class=\"wandb-col\"><h3>Run history:</h3><br/><table class=\"wandb\"><tr><td>gcn_jarvis-ADV-GNN_SAGE/test_RMSE</td><td>█▇▅▅▅▅▆▄▅▆▅▄▄▄▄▄▄▅▄▄▄▃▃▂▄▃▂▂▂▁▃▂▂▁▂▃▂▃▁▁</td></tr><tr><td>gcn_jarvis-ADV-GNN_SAGE/test_RMSE_orig</td><td>█▇▅▅▅▆▄▅▅▅▅▄▄▄▄▄▄▄▅▄▃▄▃▄▃▂▄▃▃▂▂▃▂▂▃▁▁▃▁▁</td></tr><tr><td>gcn_jarvis-ADV-GNN_SAGE/train_RMSE</td><td>█▆▄▅▄▄▄▄▂▄▃▄▅▄▃▄▃▄▄▃▄▄▂▃▄▃▃▁▂▃▃▂▁▂▂▃▃▂▁▂</td></tr><tr><td>gcn_jarvis-ADV-GNN_SAGE/train_RMSE_orig</td><td>█▅▃▃▄▃▃▃▃▃▃▂▃▁▃▂▃▃▂▂▃▃▃▁▄▄▃▃▃▁▂▃▂▁▂▄▂▂▁▂</td></tr></table><br/></div><div class=\"wandb-col\"><h3>Run summary:</h3><br/><table class=\"wandb\"><tr><td>gcn_jarvis-ADV-GNN_SAGE/test_RMSE</td><td>0.68204</td></tr><tr><td>gcn_jarvis-ADV-GNN_SAGE/test_RMSE_orig</td><td>1.55521</td></tr><tr><td>gcn_jarvis-ADV-GNN_SAGE/train_RMSE</td><td>0.57847</td></tr><tr><td>gcn_jarvis-ADV-GNN_SAGE/train_RMSE_orig</td><td>1.4143</td></tr></table><br/></div></div>"
      ],
      "text/plain": [
       "<IPython.core.display.HTML object>"
      ]
     },
     "metadata": {},
     "output_type": "display_data"
    },
    {
     "data": {
      "text/html": [
       " View run <strong style=\"color:#cdcd00\">clean-sweep-49</strong> at: <a href='https://wandb.ai/d-massa/jarvis-node-regression-ADV-GNN_SAGE/runs/kibpfz6r' target=\"_blank\">https://wandb.ai/d-massa/jarvis-node-regression-ADV-GNN_SAGE/runs/kibpfz6r</a><br> View project at: <a href='https://wandb.ai/d-massa/jarvis-node-regression-ADV-GNN_SAGE' target=\"_blank\">https://wandb.ai/d-massa/jarvis-node-regression-ADV-GNN_SAGE</a><br>Synced 5 W&B file(s), 0 media file(s), 0 artifact file(s) and 0 other file(s)"
      ],
      "text/plain": [
       "<IPython.core.display.HTML object>"
      ]
     },
     "metadata": {},
     "output_type": "display_data"
    },
    {
     "data": {
      "text/html": [
       "Find logs at: <code>./wandb/run-20250306_073327-kibpfz6r/logs</code>"
      ],
      "text/plain": [
       "<IPython.core.display.HTML object>"
      ]
     },
     "metadata": {},
     "output_type": "display_data"
    },
    {
     "name": "stderr",
     "output_type": "stream",
     "text": [
      "\u001b[34m\u001b[1mwandb\u001b[0m: Agent Starting Run: zqihs73d with config:\n",
      "\u001b[34m\u001b[1mwandb\u001b[0m: \tBatchS: 32\n",
      "\u001b[34m\u001b[1mwandb\u001b[0m: \tTrainS: 0.85\n",
      "\u001b[34m\u001b[1mwandb\u001b[0m: \taggr: min\n",
      "\u001b[34m\u001b[1mwandb\u001b[0m: \thidden_channels: 32\n",
      "\u001b[34m\u001b[1mwandb\u001b[0m: \tlr: 0.0005310005580743014\n",
      "\u001b[34m\u001b[1mwandb\u001b[0m: \tmodel: GNN_SAGE\n",
      "\u001b[34m\u001b[1mwandb\u001b[0m: \tnum_layers: 3\n",
      "\u001b[34m\u001b[1mwandb\u001b[0m: \tweight_decay: 0.0004730889044810579\n"
     ]
    },
    {
     "data": {
      "text/html": [
       "Tracking run with wandb version 0.19.7"
      ],
      "text/plain": [
       "<IPython.core.display.HTML object>"
      ]
     },
     "metadata": {},
     "output_type": "display_data"
    },
    {
     "data": {
      "text/html": [
       "Run data is saved locally in <code>/Users/dariomss/Documents/GitHub/Graph_Project/wandb/run-20250306_073404-zqihs73d</code>"
      ],
      "text/plain": [
       "<IPython.core.display.HTML object>"
      ]
     },
     "metadata": {},
     "output_type": "display_data"
    },
    {
     "data": {
      "text/html": [
       "Syncing run <strong><a href='https://wandb.ai/d-massa/jarvis-node-regression-ADV-GNN_SAGE/runs/zqihs73d' target=\"_blank\">neat-sweep-50</a></strong> to <a href='https://wandb.ai/d-massa/jarvis-node-regression-ADV-GNN_SAGE' target=\"_blank\">Weights & Biases</a> (<a href='https://wandb.me/developer-guide' target=\"_blank\">docs</a>)<br>Sweep page: <a href='https://wandb.ai/d-massa/jarvis-node-regression-ADV-GNN_SAGE/sweeps/iv8c2hia' target=\"_blank\">https://wandb.ai/d-massa/jarvis-node-regression-ADV-GNN_SAGE/sweeps/iv8c2hia</a>"
      ],
      "text/plain": [
       "<IPython.core.display.HTML object>"
      ]
     },
     "metadata": {},
     "output_type": "display_data"
    },
    {
     "data": {
      "text/html": [
       " View project at <a href='https://wandb.ai/d-massa/jarvis-node-regression-ADV-GNN_SAGE' target=\"_blank\">https://wandb.ai/d-massa/jarvis-node-regression-ADV-GNN_SAGE</a>"
      ],
      "text/plain": [
       "<IPython.core.display.HTML object>"
      ]
     },
     "metadata": {},
     "output_type": "display_data"
    },
    {
     "data": {
      "text/html": [
       " View sweep at <a href='https://wandb.ai/d-massa/jarvis-node-regression-ADV-GNN_SAGE/sweeps/iv8c2hia' target=\"_blank\">https://wandb.ai/d-massa/jarvis-node-regression-ADV-GNN_SAGE/sweeps/iv8c2hia</a>"
      ],
      "text/plain": [
       "<IPython.core.display.HTML object>"
      ]
     },
     "metadata": {},
     "output_type": "display_data"
    },
    {
     "data": {
      "text/html": [
       " View run at <a href='https://wandb.ai/d-massa/jarvis-node-regression-ADV-GNN_SAGE/runs/zqihs73d' target=\"_blank\">https://wandb.ai/d-massa/jarvis-node-regression-ADV-GNN_SAGE/runs/zqihs73d</a>"
      ],
      "text/plain": [
       "<IPython.core.display.HTML object>"
      ]
     },
     "metadata": {},
     "output_type": "display_data"
    },
    {
     "name": "stderr",
     "output_type": "stream",
     "text": [
      "/Users/dariomss/Documents/GitHub/Graph_Project/PyG/lib/python3.9/site-packages/torch_geometric/deprecation.py:26: UserWarning: 'data.DataLoader' is deprecated, use 'loader.DataLoader' instead\n",
      "  warnings.warn(out)\n",
      "100%|██████████| 60/60 [00:48<00:00,  1.23it/s]\n"
     ]
    },
    {
     "data": {
      "text/html": [],
      "text/plain": [
       "<IPython.core.display.HTML object>"
      ]
     },
     "metadata": {},
     "output_type": "display_data"
    },
    {
     "data": {
      "text/html": [
       "<br>    <style><br>        .wandb-row {<br>            display: flex;<br>            flex-direction: row;<br>            flex-wrap: wrap;<br>            justify-content: flex-start;<br>            width: 100%;<br>        }<br>        .wandb-col {<br>            display: flex;<br>            flex-direction: column;<br>            flex-basis: 100%;<br>            flex: 1;<br>            padding: 10px;<br>        }<br>    </style><br><div class=\"wandb-row\"><div class=\"wandb-col\"><h3>Run history:</h3><br/><table class=\"wandb\"><tr><td>gcn_jarvis-ADV-GNN_SAGE/test_RMSE</td><td>█▆▅▅▅▅▅▅▃▄▃▃▃▃▂▂▄▃▂▂▃▃▃▃▁▂▁▂▂▂▂▁▂▂▁▃▃▁▁▂</td></tr><tr><td>gcn_jarvis-ADV-GNN_SAGE/test_RMSE_orig</td><td>██▅▅▅▄▅▄▃▄▃▃▃▃▃▂▂▃▂▂▃▂▃▃▂▂▂▂▂▁▂▃▁▂▃▁▂▁▁▂</td></tr><tr><td>gcn_jarvis-ADV-GNN_SAGE/train_RMSE</td><td>█▅▃▃▄▆▅▅▁▅▃▅▃▄▃▃▄▃▄▁▆▄▄▆▃▂▅▃▃▃▁▂▂▃▂▆▅▃▁▃</td></tr><tr><td>gcn_jarvis-ADV-GNN_SAGE/train_RMSE_orig</td><td>█▄▇▄▄▂▃▅▅▄▃▄▃▃▄▃▃▆▃▄▂▃▂▄▅▆▆▂▄▂▄▁▂▃▅▃▃▁▃▂</td></tr></table><br/></div><div class=\"wandb-col\"><h3>Run summary:</h3><br/><table class=\"wandb\"><tr><td>gcn_jarvis-ADV-GNN_SAGE/test_RMSE</td><td>0.71151</td></tr><tr><td>gcn_jarvis-ADV-GNN_SAGE/test_RMSE_orig</td><td>1.60062</td></tr><tr><td>gcn_jarvis-ADV-GNN_SAGE/train_RMSE</td><td>0.58217</td></tr><tr><td>gcn_jarvis-ADV-GNN_SAGE/train_RMSE_orig</td><td>1.41886</td></tr></table><br/></div></div>"
      ],
      "text/plain": [
       "<IPython.core.display.HTML object>"
      ]
     },
     "metadata": {},
     "output_type": "display_data"
    },
    {
     "data": {
      "text/html": [
       " View run <strong style=\"color:#cdcd00\">neat-sweep-50</strong> at: <a href='https://wandb.ai/d-massa/jarvis-node-regression-ADV-GNN_SAGE/runs/zqihs73d' target=\"_blank\">https://wandb.ai/d-massa/jarvis-node-regression-ADV-GNN_SAGE/runs/zqihs73d</a><br> View project at: <a href='https://wandb.ai/d-massa/jarvis-node-regression-ADV-GNN_SAGE' target=\"_blank\">https://wandb.ai/d-massa/jarvis-node-regression-ADV-GNN_SAGE</a><br>Synced 5 W&B file(s), 0 media file(s), 0 artifact file(s) and 0 other file(s)"
      ],
      "text/plain": [
       "<IPython.core.display.HTML object>"
      ]
     },
     "metadata": {},
     "output_type": "display_data"
    },
    {
     "data": {
      "text/html": [
       "Find logs at: <code>./wandb/run-20250306_073404-zqihs73d/logs</code>"
      ],
      "text/plain": [
       "<IPython.core.display.HTML object>"
      ]
     },
     "metadata": {},
     "output_type": "display_data"
    }
   ],
   "source": [
    "# Run the Sweeps agent\n",
    "wandb.agent(sweep_id, project=project_name, function=agent_fn, count=50)"
   ]
  },
  {
   "cell_type": "code",
   "execution_count": null,
   "metadata": {},
   "outputs": [],
   "source": []
  }
 ],
 "metadata": {
  "kernelspec": {
   "display_name": "PyG",
   "language": "python",
   "name": "python3"
  },
  "language_info": {
   "codemirror_mode": {
    "name": "ipython",
    "version": 3
   },
   "file_extension": ".py",
   "mimetype": "text/x-python",
   "name": "python",
   "nbconvert_exporter": "python",
   "pygments_lexer": "ipython3",
   "version": "3.9.13"
  }
 },
 "nbformat": 4,
 "nbformat_minor": 2
}
